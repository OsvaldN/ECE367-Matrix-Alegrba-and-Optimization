{
 "cells": [
  {
   "cell_type": "markdown",
   "metadata": {},
   "source": [
    "* There are two types of cells: Markdown cells (like this one) and code cells\n",
    "* When a cell is selected, pressing `Enter` puts you in editing mode and pressing `Escape` takes you out of editing mode\n",
    "* Pressing `Shift + Enter` runs the cell and proceeds to the next cell, and `Ctrl + Enter` just runs the cell"
   ]
  },
  {
   "cell_type": "markdown",
   "metadata": {},
   "source": [
    "Run the following cell:"
   ]
  },
  {
   "cell_type": "code",
   "execution_count": 1,
   "metadata": {},
   "outputs": [
    {
     "data": {
      "text/plain": [
       "2"
      ]
     },
     "execution_count": 1,
     "metadata": {},
     "output_type": "execute_result"
    }
   ],
   "source": [
    "1 + 1"
   ]
  },
  {
   "cell_type": "markdown",
   "metadata": {},
   "source": [
    "* To change a code cell to a Markdown cell, exit editing mode and press `M`\n",
    "* To change a Markdown cell to a code cell, enter then exit editing mode, and then press `Y`"
   ]
  },
  {
   "cell_type": "markdown",
   "metadata": {},
   "source": [
    "* To create a cell above or below the current cell, use `a` and `b` while outside editing mode\n",
    "* To delete a cell, use `x`"
   ]
  },
  {
   "cell_type": "code",
   "execution_count": 2,
   "metadata": {},
   "outputs": [
    {
     "name": "stdout",
     "output_type": "stream",
     "text": [
      "Hi!\n"
     ]
    }
   ],
   "source": [
    "println(\"Hi!\")"
   ]
  },
  {
   "cell_type": "markdown",
   "metadata": {},
   "source": [
    "## Fill in the following cell (which will be placed at the beginning of future exercises):"
   ]
  },
  {
   "cell_type": "markdown",
   "metadata": {},
   "source": [
    "### Last name: Nitski\n",
    "### First name: Osvald\n",
    "### Student number: 1002456987"
   ]
  },
  {
   "cell_type": "markdown",
   "metadata": {},
   "source": [
    "### Submission instructions for when you're done:\n",
    "Submit your executed notebook as a PDF document according to the instructions in the course syllabus. The most robust way to convert to PDF is as follows:\n",
    "* Go to File -> Download as -> html and download the notebook as HTML\n",
    "* Open the HTML document in your browser and print it as a PDF\n",
    "    * If you don't know how to print to PDF, Google instructions specific to your web browser\n",
    "* Make sure that all of the required output is visible in the PDF"
   ]
  },
  {
   "cell_type": "markdown",
   "metadata": {},
   "source": [
    "To check the documentation of a function, use a ```?```"
   ]
  },
  {
   "cell_type": "markdown",
   "metadata": {},
   "source": [
    "Some initial tips: \n",
    "* Use Kernel -> Interrupt to stop something from running (infinite loop, taking too long, etc.)\n",
    "* Use Kernel -> Restart or Restart & Clear Output to restart the Julia session clearing all variables, function definitions, etc.\n",
    "* Consider using Restart & Run All once you've completed your notebook before exporting for submission (make sure any required output is present though!)\n",
    "* Autosaving isn't continuous so save liberally by pressing `Ctrl` + `S`"
   ]
  },
  {
   "cell_type": "markdown",
   "metadata": {},
   "source": [
    "To check the documentation of a function, use ```?``` as follows:"
   ]
  },
  {
   "cell_type": "code",
   "execution_count": 3,
   "metadata": {},
   "outputs": [
    {
     "name": "stdout",
     "output_type": "stream",
     "text": [
      "search: \u001b[0m\u001b[1mp\u001b[22m\u001b[0m\u001b[1mr\u001b[22m\u001b[0m\u001b[1mi\u001b[22m\u001b[0m\u001b[1mn\u001b[22m\u001b[0m\u001b[1mt\u001b[22m\u001b[0m\u001b[1ml\u001b[22m\u001b[0m\u001b[1mn\u001b[22m \u001b[0m\u001b[1mp\u001b[22m\u001b[0m\u001b[1mr\u001b[22m\u001b[0m\u001b[1mi\u001b[22m\u001b[0m\u001b[1mn\u001b[22m\u001b[0m\u001b[1mt\u001b[22msty\u001b[0m\u001b[1ml\u001b[22med \u001b[0m\u001b[1mp\u001b[22m\u001b[0m\u001b[1mr\u001b[22m\u001b[0m\u001b[1mi\u001b[22m\u001b[0m\u001b[1mn\u001b[22m\u001b[0m\u001b[1mt\u001b[22m s\u001b[0m\u001b[1mp\u001b[22m\u001b[0m\u001b[1mr\u001b[22m\u001b[0m\u001b[1mi\u001b[22m\u001b[0m\u001b[1mn\u001b[22m\u001b[0m\u001b[1mt\u001b[22m is\u001b[0m\u001b[1mp\u001b[22m\u001b[0m\u001b[1mr\u001b[22m\u001b[0m\u001b[1mi\u001b[22m\u001b[0m\u001b[1mn\u001b[22m\u001b[0m\u001b[1mt\u001b[22m\n",
      "\n"
     ]
    },
    {
     "data": {
      "text/latex": [
       "\\begin{verbatim}\n",
       "println([io::IO], xs...)\n",
       "\\end{verbatim}\n",
       "Print (using \\href{@ref}{\\texttt{print}}) \\texttt{xs} followed by a newline. If \\texttt{io} is not supplied, prints to \\href{@ref}{\\texttt{stdout}}.\n",
       "\n",
       "\\section{Examples}\n",
       "\\begin{verbatim}\n",
       "julia> println(\"Hello, world\")\n",
       "Hello, world\n",
       "\n",
       "julia> io = IOBuffer();\n",
       "\n",
       "julia> println(io, \"Hello, world\")\n",
       "\n",
       "julia> String(take!(io))\n",
       "\"Hello, world\\n\"\n",
       "\\end{verbatim}\n"
      ],
      "text/markdown": [
       "```\n",
       "println([io::IO], xs...)\n",
       "```\n",
       "\n",
       "Print (using [`print`](@ref)) `xs` followed by a newline. If `io` is not supplied, prints to [`stdout`](@ref).\n",
       "\n",
       "# Examples\n",
       "\n",
       "```jldoctest\n",
       "julia> println(\"Hello, world\")\n",
       "Hello, world\n",
       "\n",
       "julia> io = IOBuffer();\n",
       "\n",
       "julia> println(io, \"Hello, world\")\n",
       "\n",
       "julia> String(take!(io))\n",
       "\"Hello, world\\n\"\n",
       "```\n"
      ],
      "text/plain": [
       "\u001b[36m  println([io::IO], xs...)\u001b[39m\n",
       "\n",
       "  Print (using \u001b[36mprint\u001b[39m) \u001b[36mxs\u001b[39m followed by a newline. If \u001b[36mio\u001b[39m is not supplied, prints\n",
       "  to \u001b[36mstdout\u001b[39m.\n",
       "\n",
       "\u001b[1m  Examples\u001b[22m\n",
       "\u001b[1m  ≡≡≡≡≡≡≡≡≡≡\u001b[22m\n",
       "\n",
       "\u001b[36m  julia> println(\"Hello, world\")\u001b[39m\n",
       "\u001b[36m  Hello, world\u001b[39m\n",
       "\u001b[36m  \u001b[39m\n",
       "\u001b[36m  julia> io = IOBuffer();\u001b[39m\n",
       "\u001b[36m  \u001b[39m\n",
       "\u001b[36m  julia> println(io, \"Hello, world\")\u001b[39m\n",
       "\u001b[36m  \u001b[39m\n",
       "\u001b[36m  julia> String(take!(io))\u001b[39m\n",
       "\u001b[36m  \"Hello, world\\n\"\u001b[39m"
      ]
     },
     "execution_count": 3,
     "metadata": {},
     "output_type": "execute_result"
    }
   ],
   "source": [
    "?println"
   ]
  },
  {
   "cell_type": "markdown",
   "metadata": {},
   "source": [
    "Run the following cells:"
   ]
  },
  {
   "cell_type": "code",
   "execution_count": 4,
   "metadata": {},
   "outputs": [
    {
     "data": {
      "text/plain": [
       "4"
      ]
     },
     "execution_count": 4,
     "metadata": {},
     "output_type": "execute_result"
    }
   ],
   "source": [
    "x = 2 + 2"
   ]
  },
  {
   "cell_type": "code",
   "execution_count": 5,
   "metadata": {},
   "outputs": [
    {
     "data": {
      "text/plain": [
       "4.5"
      ]
     },
     "execution_count": 5,
     "metadata": {},
     "output_type": "execute_result"
    }
   ],
   "source": [
    "y = 9/2"
   ]
  },
  {
   "cell_type": "code",
   "execution_count": 6,
   "metadata": {},
   "outputs": [
    {
     "data": {
      "text/plain": [
       "16"
      ]
     },
     "execution_count": 6,
     "metadata": {},
     "output_type": "execute_result"
    }
   ],
   "source": [
    "x^2"
   ]
  },
  {
   "cell_type": "code",
   "execution_count": 7,
   "metadata": {},
   "outputs": [
    {
     "data": {
      "text/plain": [
       "0"
      ]
     },
     "execution_count": 7,
     "metadata": {},
     "output_type": "execute_result"
    }
   ],
   "source": [
    "4%2"
   ]
  },
  {
   "cell_type": "code",
   "execution_count": 8,
   "metadata": {},
   "outputs": [
    {
     "data": {
      "text/plain": [
       "1"
      ]
     },
     "execution_count": 8,
     "metadata": {},
     "output_type": "execute_result"
    }
   ],
   "source": [
    "3%2"
   ]
  },
  {
   "cell_type": "code",
   "execution_count": 9,
   "metadata": {},
   "outputs": [
    {
     "data": {
      "text/plain": [
       "Int64"
      ]
     },
     "execution_count": 9,
     "metadata": {},
     "output_type": "execute_result"
    }
   ],
   "source": [
    "typeof(x)"
   ]
  },
  {
   "cell_type": "code",
   "execution_count": 10,
   "metadata": {},
   "outputs": [
    {
     "data": {
      "text/plain": [
       "Float64"
      ]
     },
     "execution_count": 10,
     "metadata": {},
     "output_type": "execute_result"
    }
   ],
   "source": [
    "typeof(y)"
   ]
  },
  {
   "cell_type": "markdown",
   "metadata": {},
   "source": [
    "Unicode variable names are supported:\n",
    "* Use ```\\mu``` followed by a `Tab` to get a $\\mu$\n",
    "* Use ```\\:smi``` follwed by a `Tab`, select the emoji from the list and press `enter`, then press `Tab` followed by `enter`"
   ]
  },
  {
   "cell_type": "code",
   "execution_count": 11,
   "metadata": {},
   "outputs": [
    {
     "data": {
      "text/plain": [
       "15"
      ]
     },
     "execution_count": 11,
     "metadata": {},
     "output_type": "execute_result"
    }
   ],
   "source": [
    "λ = 7\n",
    "1 + 2λ"
   ]
  },
  {
   "cell_type": "code",
   "execution_count": 12,
   "metadata": {},
   "outputs": [
    {
     "data": {
      "text/plain": [
       "14"
      ]
     },
     "execution_count": 12,
     "metadata": {},
     "output_type": "execute_result"
    }
   ],
   "source": [
    "😢 = 14"
   ]
  },
  {
   "cell_type": "code",
   "execution_count": 13,
   "metadata": {},
   "outputs": [
    {
     "data": {
      "text/plain": [
       "15"
      ]
     },
     "execution_count": 13,
     "metadata": {},
     "output_type": "execute_result"
    }
   ],
   "source": [
    "😄 = 15"
   ]
  },
  {
   "cell_type": "code",
   "execution_count": 14,
   "metadata": {},
   "outputs": [
    {
     "data": {
      "text/plain": [
       "true"
      ]
     },
     "execution_count": 14,
     "metadata": {},
     "output_type": "execute_result"
    }
   ],
   "source": [
    "😄 == 😢 + 1 "
   ]
  },
  {
   "cell_type": "markdown",
   "metadata": {},
   "source": [
    "Generic and typed arrays can be created. Run the following cells:"
   ]
  },
  {
   "cell_type": "code",
   "execution_count": 15,
   "metadata": {},
   "outputs": [
    {
     "data": {
      "text/plain": [
       "3-element Array{Int64,1}:\n",
       " 1\n",
       " 2\n",
       " 7"
      ]
     },
     "execution_count": 15,
     "metadata": {},
     "output_type": "execute_result"
    }
   ],
   "source": [
    "A = [1, 2, 7]"
   ]
  },
  {
   "cell_type": "code",
   "execution_count": 16,
   "metadata": {},
   "outputs": [
    {
     "data": {
      "text/plain": [
       "3-element Array{Float64,1}:\n",
       " 1.0\n",
       " 2.0\n",
       " 7.0"
      ]
     },
     "execution_count": 16,
     "metadata": {},
     "output_type": "execute_result"
    }
   ],
   "source": [
    "B = Float64[1, 2, 7]"
   ]
  },
  {
   "cell_type": "code",
   "execution_count": 18,
   "metadata": {},
   "outputs": [
    {
     "data": {
      "text/plain": [
       "3-element Array{Any,1}:\n",
       " 1     \n",
       "  \"Two\"\n",
       " 7     "
      ]
     },
     "execution_count": 18,
     "metadata": {},
     "output_type": "execute_result"
    }
   ],
   "source": [
    "C = [1, \"Two\", 7]"
   ]
  },
  {
   "cell_type": "markdown",
   "metadata": {},
   "source": [
    "Indexing is 1-based"
   ]
  },
  {
   "cell_type": "code",
   "execution_count": 19,
   "metadata": {},
   "outputs": [
    {
     "data": {
      "text/plain": [
       "7"
      ]
     },
     "execution_count": 19,
     "metadata": {},
     "output_type": "execute_result"
    }
   ],
   "source": [
    "C[3]"
   ]
  },
  {
   "cell_type": "markdown",
   "metadata": {},
   "source": [
    "* Copying mutable objects works as in Python\n",
    "* Comments are inserted using ```#```\n",
    "* The shortcut `Ctrl + /` can be used to comment out a line or multiple highlighted lines"
   ]
  },
  {
   "cell_type": "code",
   "execution_count": 20,
   "metadata": {},
   "outputs": [
    {
     "data": {
      "text/plain": [
       "3-element Array{Int64,1}:\n",
       " 1\n",
       " 2\n",
       " 7"
      ]
     },
     "execution_count": 20,
     "metadata": {},
     "output_type": "execute_result"
    }
   ],
   "source": [
    "A"
   ]
  },
  {
   "cell_type": "code",
   "execution_count": 21,
   "metadata": {},
   "outputs": [
    {
     "data": {
      "text/plain": [
       "100"
      ]
     },
     "execution_count": 21,
     "metadata": {},
     "output_type": "execute_result"
    }
   ],
   "source": [
    "D = A # D refers to A\n",
    "D[2] = 100; # ; suppresses output "
   ]
  },
  {
   "cell_type": "code",
   "execution_count": 22,
   "metadata": {},
   "outputs": [
    {
     "data": {
      "text/plain": [
       "3-element Array{Int64,1}:\n",
       "   1\n",
       " 100\n",
       "   7"
      ]
     },
     "execution_count": 22,
     "metadata": {},
     "output_type": "execute_result"
    }
   ],
   "source": [
    "D"
   ]
  },
  {
   "cell_type": "code",
   "execution_count": 23,
   "metadata": {},
   "outputs": [
    {
     "data": {
      "text/plain": [
       "3-element Array{Int64,1}:\n",
       "   1\n",
       " 100\n",
       "   7"
      ]
     },
     "execution_count": 23,
     "metadata": {},
     "output_type": "execute_result"
    }
   ],
   "source": [
    "A"
   ]
  },
  {
   "cell_type": "code",
   "execution_count": 24,
   "metadata": {},
   "outputs": [
    {
     "data": {
      "text/plain": [
       "3-element Array{Int64,1}:\n",
       "   1\n",
       " 100\n",
       "   7"
      ]
     },
     "execution_count": 24,
     "metadata": {},
     "output_type": "execute_result"
    }
   ],
   "source": [
    "E = copy(D)"
   ]
  },
  {
   "cell_type": "code",
   "execution_count": 25,
   "metadata": {},
   "outputs": [
    {
     "data": {
      "text/plain": [
       "3-element Array{Int64,1}:\n",
       "     1\n",
       " 10000\n",
       "    49"
      ]
     },
     "execution_count": 25,
     "metadata": {},
     "output_type": "execute_result"
    }
   ],
   "source": [
    "E = E.*E"
   ]
  },
  {
   "cell_type": "code",
   "execution_count": 26,
   "metadata": {},
   "outputs": [
    {
     "data": {
      "text/plain": [
       "3-element Array{Int64,1}:\n",
       "   1\n",
       " 100\n",
       "   7"
      ]
     },
     "execution_count": 26,
     "metadata": {},
     "output_type": "execute_result"
    }
   ],
   "source": [
    "D"
   ]
  },
  {
   "cell_type": "code",
   "execution_count": 27,
   "metadata": {},
   "outputs": [
    {
     "data": {
      "text/plain": [
       "3-element Array{Int64,1}:\n",
       "     1\n",
       " 10000\n",
       "    49"
      ]
     },
     "execution_count": 27,
     "metadata": {},
     "output_type": "execute_result"
    }
   ],
   "source": [
    "F = E[:] # Equivalent to copy"
   ]
  },
  {
   "cell_type": "code",
   "execution_count": 28,
   "metadata": {},
   "outputs": [
    {
     "data": {
      "text/plain": [
       "3-element Array{Int64,1}:\n",
       "     2\n",
       " 10001\n",
       "    50"
      ]
     },
     "execution_count": 28,
     "metadata": {},
     "output_type": "execute_result"
    }
   ],
   "source": [
    "F = F .+ 1"
   ]
  },
  {
   "cell_type": "code",
   "execution_count": 29,
   "metadata": {},
   "outputs": [
    {
     "data": {
      "text/plain": [
       "3-element Array{Int64,1}:\n",
       "     1\n",
       " 10000\n",
       "    49"
      ]
     },
     "execution_count": 29,
     "metadata": {},
     "output_type": "execute_result"
    }
   ],
   "source": [
    "E"
   ]
  },
  {
   "cell_type": "markdown",
   "metadata": {},
   "source": [
    "* Logical operators are ```&&```, ```||```, ```==```, ```!=```, ```<```, ```<=```, etc.\n",
    "* Spaces/tabs  and colons are not necessary in functions, loops, conditionals, etc."
   ]
  },
  {
   "cell_type": "markdown",
   "metadata": {},
   "source": [
    "Traditional function definition:"
   ]
  },
  {
   "cell_type": "code",
   "execution_count": 30,
   "metadata": {},
   "outputs": [
    {
     "data": {
      "text/plain": [
       "f (generic function with 1 method)"
      ]
     },
     "execution_count": 30,
     "metadata": {},
     "output_type": "execute_result"
    }
   ],
   "source": [
    "function f(x)\n",
    "    return x^2\n",
    "end"
   ]
  },
  {
   "cell_type": "markdown",
   "metadata": {},
   "source": [
    "Fancy function definition:"
   ]
  },
  {
   "cell_type": "code",
   "execution_count": 31,
   "metadata": {},
   "outputs": [
    {
     "data": {
      "text/plain": [
       "g (generic function with 1 method)"
      ]
     },
     "execution_count": 31,
     "metadata": {},
     "output_type": "execute_result"
    }
   ],
   "source": [
    "g(x) = x^3"
   ]
  },
  {
   "cell_type": "code",
   "execution_count": 32,
   "metadata": {},
   "outputs": [
    {
     "data": {
      "text/plain": [
       "25"
      ]
     },
     "execution_count": 32,
     "metadata": {},
     "output_type": "execute_result"
    }
   ],
   "source": [
    "f(5) # 5^2"
   ]
  },
  {
   "cell_type": "code",
   "execution_count": 33,
   "metadata": {},
   "outputs": [
    {
     "data": {
      "text/plain": [
       "8"
      ]
     },
     "execution_count": 33,
     "metadata": {},
     "output_type": "execute_result"
    }
   ],
   "source": [
    "g(2) # 2^3"
   ]
  },
  {
   "cell_type": "markdown",
   "metadata": {},
   "source": [
    "Multiplication concatenates strings"
   ]
  },
  {
   "cell_type": "code",
   "execution_count": 34,
   "metadata": {},
   "outputs": [
    {
     "data": {
      "text/plain": [
       "\"Cheesecake\""
      ]
     },
     "execution_count": 34,
     "metadata": {},
     "output_type": "execute_result"
    }
   ],
   "source": [
    "\"Cheese\"*\"cake\""
   ]
  },
  {
   "cell_type": "code",
   "execution_count": 35,
   "metadata": {},
   "outputs": [
    {
     "data": {
      "text/plain": [
       "2×2 Array{Int64,2}:\n",
       " 1  0\n",
       " 1  1"
      ]
     },
     "execution_count": 35,
     "metadata": {},
     "output_type": "execute_result"
    }
   ],
   "source": [
    "M = [1 0; 1 1]"
   ]
  },
  {
   "cell_type": "code",
   "execution_count": 36,
   "metadata": {},
   "outputs": [
    {
     "data": {
      "text/plain": [
       "2×2 Array{Int64,2}:\n",
       " 1  0\n",
       " 3  1"
      ]
     },
     "execution_count": 36,
     "metadata": {},
     "output_type": "execute_result"
    }
   ],
   "source": [
    "g(M) # M*M*M"
   ]
  },
  {
   "cell_type": "code",
   "execution_count": 37,
   "metadata": {},
   "outputs": [
    {
     "data": {
      "text/plain": [
       "\"YoYoYo\""
      ]
     },
     "execution_count": 37,
     "metadata": {},
     "output_type": "execute_result"
    }
   ],
   "source": [
    "g(\"Yo\")"
   ]
  },
  {
   "cell_type": "markdown",
   "metadata": {},
   "source": [
    "You can also create another variant of the function specific to integers:"
   ]
  },
  {
   "cell_type": "code",
   "execution_count": 38,
   "metadata": {},
   "outputs": [
    {
     "data": {
      "text/plain": [
       "f (generic function with 2 methods)"
      ]
     },
     "execution_count": 38,
     "metadata": {},
     "output_type": "execute_result"
    }
   ],
   "source": [
    "f(x::Int64) = x*x"
   ]
  },
  {
   "cell_type": "code",
   "execution_count": 39,
   "metadata": {},
   "outputs": [
    {
     "data": {
      "text/plain": [
       "25"
      ]
     },
     "execution_count": 39,
     "metadata": {},
     "output_type": "execute_result"
    }
   ],
   "source": [
    "f(5)"
   ]
  },
  {
   "cell_type": "markdown",
   "metadata": {},
   "source": [
    "```@which``` can be used to tell you which variant is called for the argument that you passed"
   ]
  },
  {
   "cell_type": "code",
   "execution_count": 40,
   "metadata": {},
   "outputs": [
    {
     "data": {
      "text/html": [
       "f(x::<b>Int64</b>) in Main at In[38]:1"
      ],
      "text/plain": [
       "f(x::Int64) in Main at In[38]:1"
      ]
     },
     "execution_count": 40,
     "metadata": {},
     "output_type": "execute_result"
    }
   ],
   "source": [
    "@which f(5)"
   ]
  },
  {
   "cell_type": "markdown",
   "metadata": {},
   "source": [
    "* This can be done with different numbers and types of arguments (called multiple dispatch)\n",
    "* The methods that implement some function can be obtained using ```methods()```\n",
    "* Over 100 methods implement ```+```"
   ]
  },
  {
   "cell_type": "code",
   "execution_count": 41,
   "metadata": {},
   "outputs": [
    {
     "data": {
      "text/html": [
       "161 methods for generic function <b>+</b>:<ul><li> +(x::<b>Bool</b>, z::<b>Complex{Bool}</b>) in Base at <a href=\"https://github.com/JuliaLang/julia/tree/c6da87ff4bc7a855e217856757ad3413cf6d1f79/base/complex.jl#L278\" target=\"_blank\">complex.jl:278</a></li> <li> +(x::<b>Bool</b>, y::<b>Bool</b>) in Base at <a href=\"https://github.com/JuliaLang/julia/tree/c6da87ff4bc7a855e217856757ad3413cf6d1f79/base/bool.jl#L96\" target=\"_blank\">bool.jl:96</a></li> <li> +(x::<b>Bool</b>) in Base at <a href=\"https://github.com/JuliaLang/julia/tree/c6da87ff4bc7a855e217856757ad3413cf6d1f79/base/bool.jl#L93\" target=\"_blank\">bool.jl:93</a></li> <li> +(x::<b>Bool</b>, y::<b>T</b>)<i> where T<:AbstractFloat</i> in Base at <a href=\"https://github.com/JuliaLang/julia/tree/c6da87ff4bc7a855e217856757ad3413cf6d1f79/base/bool.jl#L104\" target=\"_blank\">bool.jl:104</a></li> <li> +(x::<b>Bool</b>, z::<b>Complex</b>) in Base at <a href=\"https://github.com/JuliaLang/julia/tree/c6da87ff4bc7a855e217856757ad3413cf6d1f79/base/complex.jl#L285\" target=\"_blank\">complex.jl:285</a></li> <li> +(a::<b>Float16</b>, b::<b>Float16</b>) in Base at <a href=\"https://github.com/JuliaLang/julia/tree/c6da87ff4bc7a855e217856757ad3413cf6d1f79/base/float.jl#L392\" target=\"_blank\">float.jl:392</a></li> <li> +(x::<b>Float32</b>, y::<b>Float32</b>) in Base at <a href=\"https://github.com/JuliaLang/julia/tree/c6da87ff4bc7a855e217856757ad3413cf6d1f79/base/float.jl#L394\" target=\"_blank\">float.jl:394</a></li> <li> +(x::<b>Float64</b>, y::<b>Float64</b>) in Base at <a href=\"https://github.com/JuliaLang/julia/tree/c6da87ff4bc7a855e217856757ad3413cf6d1f79/base/float.jl#L395\" target=\"_blank\">float.jl:395</a></li> <li> +(z::<b>Complex{Bool}</b>, x::<b>Bool</b>) in Base at <a href=\"https://github.com/JuliaLang/julia/tree/c6da87ff4bc7a855e217856757ad3413cf6d1f79/base/complex.jl#L279\" target=\"_blank\">complex.jl:279</a></li> <li> +(z::<b>Complex{Bool}</b>, x::<b>Real</b>) in Base at <a href=\"https://github.com/JuliaLang/julia/tree/c6da87ff4bc7a855e217856757ad3413cf6d1f79/base/complex.jl#L293\" target=\"_blank\">complex.jl:293</a></li> <li> +(::<b>Missing</b>, ::<b>Missing</b>) in Base at <a href=\"https://github.com/JuliaLang/julia/tree/c6da87ff4bc7a855e217856757ad3413cf6d1f79/base/missing.jl#L93\" target=\"_blank\">missing.jl:93</a></li> <li> +(::<b>Missing</b>) in Base at <a href=\"https://github.com/JuliaLang/julia/tree/c6da87ff4bc7a855e217856757ad3413cf6d1f79/base/missing.jl#L79\" target=\"_blank\">missing.jl:79</a></li> <li> +(::<b>Missing</b>, ::<b>Number</b>) in Base at <a href=\"https://github.com/JuliaLang/julia/tree/c6da87ff4bc7a855e217856757ad3413cf6d1f79/base/missing.jl#L94\" target=\"_blank\">missing.jl:94</a></li> <li> +(level::<b>Base.CoreLogging.LogLevel</b>, inc::<b>Integer</b>) in Base.CoreLogging at <a href=\"https://github.com/JuliaLang/julia/tree/c6da87ff4bc7a855e217856757ad3413cf6d1f79/base/logging.jl#L106\" target=\"_blank\">logging.jl:106</a></li> <li> +(c::<b>BigInt</b>, x::<b>BigFloat</b>) in Base.MPFR at <a href=\"https://github.com/JuliaLang/julia/tree/c6da87ff4bc7a855e217856757ad3413cf6d1f79/base/mpfr.jl#L413\" target=\"_blank\">mpfr.jl:413</a></li> <li> +(a::<b>BigInt</b>, b::<b>BigInt</b>, c::<b>BigInt</b>, d::<b>BigInt</b>, e::<b>BigInt</b>) in Base.GMP at <a href=\"https://github.com/JuliaLang/julia/tree/c6da87ff4bc7a855e217856757ad3413cf6d1f79/base/gmp.jl#L455\" target=\"_blank\">gmp.jl:455</a></li> <li> +(a::<b>BigInt</b>, b::<b>BigInt</b>, c::<b>BigInt</b>, d::<b>BigInt</b>) in Base.GMP at <a href=\"https://github.com/JuliaLang/julia/tree/c6da87ff4bc7a855e217856757ad3413cf6d1f79/base/gmp.jl#L454\" target=\"_blank\">gmp.jl:454</a></li> <li> +(a::<b>BigInt</b>, b::<b>BigInt</b>, c::<b>BigInt</b>) in Base.GMP at <a href=\"https://github.com/JuliaLang/julia/tree/c6da87ff4bc7a855e217856757ad3413cf6d1f79/base/gmp.jl#L453\" target=\"_blank\">gmp.jl:453</a></li> <li> +(x::<b>BigInt</b>, y::<b>BigInt</b>) in Base.GMP at <a href=\"https://github.com/JuliaLang/julia/tree/c6da87ff4bc7a855e217856757ad3413cf6d1f79/base/gmp.jl#L424\" target=\"_blank\">gmp.jl:424</a></li> <li> +(x::<b>BigInt</b>, c::<b>Union{UInt16, UInt32, UInt8}</b>) in Base.GMP at <a href=\"https://github.com/JuliaLang/julia/tree/c6da87ff4bc7a855e217856757ad3413cf6d1f79/base/gmp.jl#L461\" target=\"_blank\">gmp.jl:461</a></li> <li> +(x::<b>BigInt</b>, c::<b>Union{Int16, Int32, Int8}</b>) in Base.GMP at <a href=\"https://github.com/JuliaLang/julia/tree/c6da87ff4bc7a855e217856757ad3413cf6d1f79/base/gmp.jl#L467\" target=\"_blank\">gmp.jl:467</a></li> <li> +(a::<b>BigFloat</b>, b::<b>BigFloat</b>, c::<b>BigFloat</b>, d::<b>BigFloat</b>, e::<b>BigFloat</b>) in Base.MPFR at <a href=\"https://github.com/JuliaLang/julia/tree/c6da87ff4bc7a855e217856757ad3413cf6d1f79/base/mpfr.jl#L563\" target=\"_blank\">mpfr.jl:563</a></li> <li> +(a::<b>BigFloat</b>, b::<b>BigFloat</b>, c::<b>BigFloat</b>, d::<b>BigFloat</b>) in Base.MPFR at <a href=\"https://github.com/JuliaLang/julia/tree/c6da87ff4bc7a855e217856757ad3413cf6d1f79/base/mpfr.jl#L556\" target=\"_blank\">mpfr.jl:556</a></li> <li> +(a::<b>BigFloat</b>, b::<b>BigFloat</b>, c::<b>BigFloat</b>) in Base.MPFR at <a href=\"https://github.com/JuliaLang/julia/tree/c6da87ff4bc7a855e217856757ad3413cf6d1f79/base/mpfr.jl#L550\" target=\"_blank\">mpfr.jl:550</a></li> <li> +(x::<b>BigFloat</b>, c::<b>BigInt</b>) in Base.MPFR at <a href=\"https://github.com/JuliaLang/julia/tree/c6da87ff4bc7a855e217856757ad3413cf6d1f79/base/mpfr.jl#L409\" target=\"_blank\">mpfr.jl:409</a></li> <li> +(x::<b>BigFloat</b>, y::<b>BigFloat</b>) in Base.MPFR at <a href=\"https://github.com/JuliaLang/julia/tree/c6da87ff4bc7a855e217856757ad3413cf6d1f79/base/mpfr.jl#L378\" target=\"_blank\">mpfr.jl:378</a></li> <li> +(x::<b>BigFloat</b>, c::<b>Union{UInt16, UInt32, UInt8}</b>) in Base.MPFR at <a href=\"https://github.com/JuliaLang/julia/tree/c6da87ff4bc7a855e217856757ad3413cf6d1f79/base/mpfr.jl#L385\" target=\"_blank\">mpfr.jl:385</a></li> <li> +(x::<b>BigFloat</b>, c::<b>Union{Int16, Int32, Int8}</b>) in Base.MPFR at <a href=\"https://github.com/JuliaLang/julia/tree/c6da87ff4bc7a855e217856757ad3413cf6d1f79/base/mpfr.jl#L393\" target=\"_blank\">mpfr.jl:393</a></li> <li> +(x::<b>BigFloat</b>, c::<b>Union{Float16, Float32, Float64}</b>) in Base.MPFR at <a href=\"https://github.com/JuliaLang/julia/tree/c6da87ff4bc7a855e217856757ad3413cf6d1f79/base/mpfr.jl#L401\" target=\"_blank\">mpfr.jl:401</a></li> <li> +(x::<b>Dates.CompoundPeriod</b>, y::<b>Dates.CompoundPeriod</b>) in Dates at <a href=\"file://C:/cygwin/home/Administrator/buildbot/worker/package_win64/build/usr/share/julia/stdlib/v1.2/Dates/src/periods.jl\" target=\"_blank\">C:\\cygwin\\home\\Administrator\\buildbot\\worker\\package_win64\\build\\usr\\share\\julia\\stdlib\\v1.2\\Dates\\src\\periods.jl:343</a></li> <li> +(x::<b>Dates.CompoundPeriod</b>, y::<b>Dates.Period</b>) in Dates at <a href=\"file://C:/cygwin/home/Administrator/buildbot/worker/package_win64/build/usr/share/julia/stdlib/v1.2/Dates/src/periods.jl\" target=\"_blank\">C:\\cygwin\\home\\Administrator\\buildbot\\worker\\package_win64\\build\\usr\\share\\julia\\stdlib\\v1.2\\Dates\\src\\periods.jl:341</a></li> <li> +(x::<b>Dates.CompoundPeriod</b>, y::<b>Dates.TimeType</b>) in Dates at <a href=\"file://C:/cygwin/home/Administrator/buildbot/worker/package_win64/build/usr/share/julia/stdlib/v1.2/Dates/src/periods.jl\" target=\"_blank\">C:\\cygwin\\home\\Administrator\\buildbot\\worker\\package_win64\\build\\usr\\share\\julia\\stdlib\\v1.2\\Dates\\src\\periods.jl:371</a></li> <li> +(x::<b>Dates.Date</b>, y::<b>Dates.Day</b>) in Dates at <a href=\"file://C:/cygwin/home/Administrator/buildbot/worker/package_win64/build/usr/share/julia/stdlib/v1.2/Dates/src/arithmetic.jl\" target=\"_blank\">C:\\cygwin\\home\\Administrator\\buildbot\\worker\\package_win64\\build\\usr\\share\\julia\\stdlib\\v1.2\\Dates\\src\\arithmetic.jl:74</a></li> <li> +(x::<b>Dates.Date</b>, y::<b>Dates.Week</b>) in Dates at <a href=\"file://C:/cygwin/home/Administrator/buildbot/worker/package_win64/build/usr/share/julia/stdlib/v1.2/Dates/src/arithmetic.jl\" target=\"_blank\">C:\\cygwin\\home\\Administrator\\buildbot\\worker\\package_win64\\build\\usr\\share\\julia\\stdlib\\v1.2\\Dates\\src\\arithmetic.jl:72</a></li> <li> +(dt::<b>Dates.Date</b>, z::<b>Dates.Month</b>) in Dates at <a href=\"file://C:/cygwin/home/Administrator/buildbot/worker/package_win64/build/usr/share/julia/stdlib/v1.2/Dates/src/arithmetic.jl\" target=\"_blank\">C:\\cygwin\\home\\Administrator\\buildbot\\worker\\package_win64\\build\\usr\\share\\julia\\stdlib\\v1.2\\Dates\\src\\arithmetic.jl:55</a></li> <li> +(dt::<b>Dates.Date</b>, y::<b>Dates.Year</b>) in Dates at <a href=\"file://C:/cygwin/home/Administrator/buildbot/worker/package_win64/build/usr/share/julia/stdlib/v1.2/Dates/src/arithmetic.jl\" target=\"_blank\">C:\\cygwin\\home\\Administrator\\buildbot\\worker\\package_win64\\build\\usr\\share\\julia\\stdlib\\v1.2\\Dates\\src\\arithmetic.jl:28</a></li> <li> +(dt::<b>Dates.Date</b>, t::<b>Dates.Time</b>) in Dates at <a href=\"file://C:/cygwin/home/Administrator/buildbot/worker/package_win64/build/usr/share/julia/stdlib/v1.2/Dates/src/arithmetic.jl\" target=\"_blank\">C:\\cygwin\\home\\Administrator\\buildbot\\worker\\package_win64\\build\\usr\\share\\julia\\stdlib\\v1.2\\Dates\\src\\arithmetic.jl:19</a></li> <li> +(t::<b>Dates.Time</b>, dt::<b>Dates.Date</b>) in Dates at <a href=\"file://C:/cygwin/home/Administrator/buildbot/worker/package_win64/build/usr/share/julia/stdlib/v1.2/Dates/src/arithmetic.jl\" target=\"_blank\">C:\\cygwin\\home\\Administrator\\buildbot\\worker\\package_win64\\build\\usr\\share\\julia\\stdlib\\v1.2\\Dates\\src\\arithmetic.jl:20</a></li> <li> +(x::<b>Dates.Time</b>, y::<b>Dates.TimePeriod</b>) in Dates at <a href=\"file://C:/cygwin/home/Administrator/buildbot/worker/package_win64/build/usr/share/julia/stdlib/v1.2/Dates/src/arithmetic.jl\" target=\"_blank\">C:\\cygwin\\home\\Administrator\\buildbot\\worker\\package_win64\\build\\usr\\share\\julia\\stdlib\\v1.2\\Dates\\src\\arithmetic.jl:78</a></li> <li> +(dt::<b>Dates.DateTime</b>, z::<b>Dates.Month</b>) in Dates at <a href=\"file://C:/cygwin/home/Administrator/buildbot/worker/package_win64/build/usr/share/julia/stdlib/v1.2/Dates/src/arithmetic.jl\" target=\"_blank\">C:\\cygwin\\home\\Administrator\\buildbot\\worker\\package_win64\\build\\usr\\share\\julia\\stdlib\\v1.2\\Dates\\src\\arithmetic.jl:48</a></li> <li> +(dt::<b>Dates.DateTime</b>, y::<b>Dates.Year</b>) in Dates at <a href=\"file://C:/cygwin/home/Administrator/buildbot/worker/package_win64/build/usr/share/julia/stdlib/v1.2/Dates/src/arithmetic.jl\" target=\"_blank\">C:\\cygwin\\home\\Administrator\\buildbot\\worker\\package_win64\\build\\usr\\share\\julia\\stdlib\\v1.2\\Dates\\src\\arithmetic.jl:24</a></li> <li> +(x::<b>Dates.DateTime</b>, y::<b>Dates.Period</b>) in Dates at <a href=\"file://C:/cygwin/home/Administrator/buildbot/worker/package_win64/build/usr/share/julia/stdlib/v1.2/Dates/src/arithmetic.jl\" target=\"_blank\">C:\\cygwin\\home\\Administrator\\buildbot\\worker\\package_win64\\build\\usr\\share\\julia\\stdlib\\v1.2\\Dates\\src\\arithmetic.jl:76</a></li> <li> +(B::<b>BitArray{2}</b>, J::<b>LinearAlgebra.UniformScaling</b>) in LinearAlgebra at <a href=\"file://C:/cygwin/home/Administrator/buildbot/worker/package_win64/build/usr/share/julia/stdlib/v1.2/LinearAlgebra/src/uniformscaling.jl\" target=\"_blank\">C:\\cygwin\\home\\Administrator\\buildbot\\worker\\package_win64\\build\\usr\\share\\julia\\stdlib\\v1.2\\LinearAlgebra\\src\\uniformscaling.jl:115</a></li> <li> +(a::<b>Pkg.Resolve.VersionWeights.VersionWeight</b>, b::<b>Pkg.Resolve.VersionWeights.VersionWeight</b>) in Pkg.Resolve.VersionWeights at <a href=\"file://C:/cygwin/home/Administrator/buildbot/worker/package_win64/build/usr/share/julia/stdlib/v1.2/Pkg/src/resolve/VersionWeights.jl\" target=\"_blank\">C:\\cygwin\\home\\Administrator\\buildbot\\worker\\package_win64\\build\\usr\\share\\julia\\stdlib\\v1.2\\Pkg\\src\\resolve\\VersionWeights.jl:26</a></li> <li> +(a::<b>Pkg.Resolve.MaxSum.FieldValues.FieldValue</b>, b::<b>Pkg.Resolve.MaxSum.FieldValues.FieldValue</b>) in Pkg.Resolve.MaxSum.FieldValues at <a href=\"file://C:/cygwin/home/Administrator/buildbot/worker/package_win64/build/usr/share/julia/stdlib/v1.2/Pkg/src/resolve/FieldValues.jl\" target=\"_blank\">C:\\cygwin\\home\\Administrator\\buildbot\\worker\\package_win64\\build\\usr\\share\\julia\\stdlib\\v1.2\\Pkg\\src\\resolve\\FieldValues.jl:49</a></li> <li> +(y::<b>AbstractFloat</b>, x::<b>Bool</b>) in Base at <a href=\"https://github.com/JuliaLang/julia/tree/c6da87ff4bc7a855e217856757ad3413cf6d1f79/base/bool.jl#L106\" target=\"_blank\">bool.jl:106</a></li> <li> +(x::<b>T</b>, y::<b>T</b>)<i> where T<:Union{Int128, Int16, Int32, Int64, Int8, UInt128, UInt16, UInt32, UInt64, UInt8}</i> in Base at <a href=\"https://github.com/JuliaLang/julia/tree/c6da87ff4bc7a855e217856757ad3413cf6d1f79/base/int.jl#L53\" target=\"_blank\">int.jl:53</a></li> <li> +(c::<b>Union{UInt16, UInt32, UInt8}</b>, x::<b>BigInt</b>) in Base.GMP at <a href=\"https://github.com/JuliaLang/julia/tree/c6da87ff4bc7a855e217856757ad3413cf6d1f79/base/gmp.jl#L462\" target=\"_blank\">gmp.jl:462</a></li> <li> +(c::<b>Union{Int16, Int32, Int8}</b>, x::<b>BigInt</b>) in Base.GMP at <a href=\"https://github.com/JuliaLang/julia/tree/c6da87ff4bc7a855e217856757ad3413cf6d1f79/base/gmp.jl#L468\" target=\"_blank\">gmp.jl:468</a></li> <li> +(a::<b>Integer</b>, b::<b>Integer</b>) in Base at <a href=\"https://github.com/JuliaLang/julia/tree/c6da87ff4bc7a855e217856757ad3413cf6d1f79/base/int.jl#L871\" target=\"_blank\">int.jl:871</a></li> <li> +(x::<b>Integer</b>, y::<b>Ptr</b>) in Base at <a href=\"https://github.com/JuliaLang/julia/tree/c6da87ff4bc7a855e217856757ad3413cf6d1f79/base/pointer.jl#L161\" target=\"_blank\">pointer.jl:161</a></li> <li> +(z::<b>Complex</b>) in Base at <a href=\"https://github.com/JuliaLang/julia/tree/c6da87ff4bc7a855e217856757ad3413cf6d1f79/base/complex.jl#L265\" target=\"_blank\">complex.jl:265</a></li> <li> +(z::<b>Complex</b>, w::<b>Complex</b>) in Base at <a href=\"https://github.com/JuliaLang/julia/tree/c6da87ff4bc7a855e217856757ad3413cf6d1f79/base/complex.jl#L267\" target=\"_blank\">complex.jl:267</a></li> <li> +(z::<b>Complex</b>, x::<b>Bool</b>) in Base at <a href=\"https://github.com/JuliaLang/julia/tree/c6da87ff4bc7a855e217856757ad3413cf6d1f79/base/complex.jl#L286\" target=\"_blank\">complex.jl:286</a></li> <li> +(x::<b>Real</b>, z::<b>Complex{Bool}</b>) in Base at <a href=\"https://github.com/JuliaLang/julia/tree/c6da87ff4bc7a855e217856757ad3413cf6d1f79/base/complex.jl#L292\" target=\"_blank\">complex.jl:292</a></li> <li> +(x::<b>Real</b>, z::<b>Complex</b>) in Base at <a href=\"https://github.com/JuliaLang/julia/tree/c6da87ff4bc7a855e217856757ad3413cf6d1f79/base/complex.jl#L304\" target=\"_blank\">complex.jl:304</a></li> <li> +(z::<b>Complex</b>, x::<b>Real</b>) in Base at <a href=\"https://github.com/JuliaLang/julia/tree/c6da87ff4bc7a855e217856757ad3413cf6d1f79/base/complex.jl#L305\" target=\"_blank\">complex.jl:305</a></li> <li> +(x::<b>Rational</b>, y::<b>Rational</b>) in Base at <a href=\"https://github.com/JuliaLang/julia/tree/c6da87ff4bc7a855e217856757ad3413cf6d1f79/base/rational.jl#L254\" target=\"_blank\">rational.jl:254</a></li> <li> +(x::<b>Integer</b>, y::<b>AbstractChar</b>) in Base at <a href=\"https://github.com/JuliaLang/julia/tree/c6da87ff4bc7a855e217856757ad3413cf6d1f79/base/char.jl#L224\" target=\"_blank\">char.jl:224</a></li> <li> +(c::<b>Union{UInt16, UInt32, UInt8}</b>, x::<b>BigFloat</b>) in Base.MPFR at <a href=\"https://github.com/JuliaLang/julia/tree/c6da87ff4bc7a855e217856757ad3413cf6d1f79/base/mpfr.jl#L389\" target=\"_blank\">mpfr.jl:389</a></li> <li> +(c::<b>Union{Int16, Int32, Int8}</b>, x::<b>BigFloat</b>) in Base.MPFR at <a href=\"https://github.com/JuliaLang/julia/tree/c6da87ff4bc7a855e217856757ad3413cf6d1f79/base/mpfr.jl#L397\" target=\"_blank\">mpfr.jl:397</a></li> <li> +(c::<b>Union{Float16, Float32, Float64}</b>, x::<b>BigFloat</b>) in Base.MPFR at <a href=\"https://github.com/JuliaLang/julia/tree/c6da87ff4bc7a855e217856757ad3413cf6d1f79/base/mpfr.jl#L405\" target=\"_blank\">mpfr.jl:405</a></li> <li> +(x::<b>AbstractIrrational</b>, y::<b>AbstractIrrational</b>) in Base at <a href=\"https://github.com/JuliaLang/julia/tree/c6da87ff4bc7a855e217856757ad3413cf6d1f79/base/irrationals.jl#L137\" target=\"_blank\">irrationals.jl:137</a></li> <li> +(x::<b>Number</b>) in Base at <a href=\"https://github.com/JuliaLang/julia/tree/c6da87ff4bc7a855e217856757ad3413cf6d1f79/base/operators.jl#L504\" target=\"_blank\">operators.jl:504</a></li> <li> +(x::<b>T</b>, y::<b>T</b>)<i> where T<:Number</i> in Base at <a href=\"https://github.com/JuliaLang/julia/tree/c6da87ff4bc7a855e217856757ad3413cf6d1f79/base/promotion.jl#L389\" target=\"_blank\">promotion.jl:389</a></li> <li> +(x::<b>Number</b>, y::<b>Number</b>) in Base at <a href=\"https://github.com/JuliaLang/julia/tree/c6da87ff4bc7a855e217856757ad3413cf6d1f79/base/promotion.jl#L313\" target=\"_blank\">promotion.jl:313</a></li> <li> +(r1::<b>OrdinalRange</b>, r2::<b>OrdinalRange</b>) in Base at <a href=\"https://github.com/JuliaLang/julia/tree/c6da87ff4bc7a855e217856757ad3413cf6d1f79/base/range.jl#L1004\" target=\"_blank\">range.jl:1004</a></li> <li> +(r1::<b>LinRange{T}</b>, r2::<b>LinRange{T}</b>)<i> where T</i> in Base at <a href=\"https://github.com/JuliaLang/julia/tree/c6da87ff4bc7a855e217856757ad3413cf6d1f79/base/range.jl#L1011\" target=\"_blank\">range.jl:1011</a></li> <li> +(r1::<b>StepRangeLen{T,R,S} where S</b>, r2::<b>StepRangeLen{T,R,S} where S</b>)<i> where {R<:Base.TwicePrecision, T}</i> in Base at <a href=\"https://github.com/JuliaLang/julia/tree/c6da87ff4bc7a855e217856757ad3413cf6d1f79/base/twiceprecision.jl#L557\" target=\"_blank\">twiceprecision.jl:557</a></li> <li> +(r1::<b>StepRangeLen{T,S,S1} where S1</b>, r2::<b>StepRangeLen{T,S,S1} where S1</b>)<i> where {T, S}</i> in Base at <a href=\"https://github.com/JuliaLang/julia/tree/c6da87ff4bc7a855e217856757ad3413cf6d1f79/base/range.jl#L1027\" target=\"_blank\">range.jl:1027</a></li> <li> +(r1::<b>Union{LinRange, OrdinalRange, StepRangeLen}</b>, r2::<b>Union{LinRange, OrdinalRange, StepRangeLen}</b>) in Base at <a href=\"https://github.com/JuliaLang/julia/tree/c6da87ff4bc7a855e217856757ad3413cf6d1f79/base/range.jl#L1019\" target=\"_blank\">range.jl:1019</a></li> <li> +(x::<b>Ptr</b>, y::<b>Integer</b>) in Base at <a href=\"https://github.com/JuliaLang/julia/tree/c6da87ff4bc7a855e217856757ad3413cf6d1f79/base/pointer.jl#L159\" target=\"_blank\">pointer.jl:159</a></li> <li> +(x::<b>Base.TwicePrecision</b>, y::<b>Number</b>) in Base at <a href=\"https://github.com/JuliaLang/julia/tree/c6da87ff4bc7a855e217856757ad3413cf6d1f79/base/twiceprecision.jl#L265\" target=\"_blank\">twiceprecision.jl:265</a></li> <li> +(x::<b>Number</b>, y::<b>Base.TwicePrecision</b>) in Base at <a href=\"https://github.com/JuliaLang/julia/tree/c6da87ff4bc7a855e217856757ad3413cf6d1f79/base/twiceprecision.jl#L268\" target=\"_blank\">twiceprecision.jl:268</a></li> <li> +(x::<b>Base.TwicePrecision{T}</b>, y::<b>Base.TwicePrecision{T}</b>)<i> where T</i> in Base at <a href=\"https://github.com/JuliaLang/julia/tree/c6da87ff4bc7a855e217856757ad3413cf6d1f79/base/twiceprecision.jl#L271\" target=\"_blank\">twiceprecision.jl:271</a></li> <li> +(x::<b>Base.TwicePrecision</b>, y::<b>Base.TwicePrecision</b>) in Base at <a href=\"https://github.com/JuliaLang/julia/tree/c6da87ff4bc7a855e217856757ad3413cf6d1f79/base/twiceprecision.jl#L275\" target=\"_blank\">twiceprecision.jl:275</a></li> <li> +(A::<b>Array</b>, Bs::<b>Array...</b>) in Base at <a href=\"https://github.com/JuliaLang/julia/tree/c6da87ff4bc7a855e217856757ad3413cf6d1f79/base/arraymath.jl#L44\" target=\"_blank\">arraymath.jl:44</a></li> <li> +(A::<b>BitArray</b>, B::<b>BitArray</b>) in Base at <a href=\"https://github.com/JuliaLang/julia/tree/c6da87ff4bc7a855e217856757ad3413cf6d1f79/base/bitarray.jl#L1084\" target=\"_blank\">bitarray.jl:1084</a></li> <li> +(r::<b>AbstractRange{#s617} where #s617<:Dates.TimeType</b>, x::<b>Dates.Period</b>) in Dates at <a href=\"file://C:/cygwin/home/Administrator/buildbot/worker/package_win64/build/usr/share/julia/stdlib/v1.2/Dates/src/ranges.jl\" target=\"_blank\">C:\\cygwin\\home\\Administrator\\buildbot\\worker\\package_win64\\build\\usr\\share\\julia\\stdlib\\v1.2\\Dates\\src\\ranges.jl:59</a></li> <li> +(A::<b>Array</b>, B::<b>SparseArrays.SparseMatrixCSC</b>) in SparseArrays at <a href=\"file://C:/cygwin/home/Administrator/buildbot/worker/package_win64/build/usr/share/julia/stdlib/v1.2/SparseArrays/src/sparsematrix.jl\" target=\"_blank\">C:\\cygwin\\home\\Administrator\\buildbot\\worker\\package_win64\\build\\usr\\share\\julia\\stdlib\\v1.2\\SparseArrays\\src\\sparsematrix.jl:1519</a></li> <li> +(x::<b>Union{DenseArray{#s617,N}, Base.ReinterpretArray{#s617,N,S,A} where S where A<:Union{SubArray{T,N,A,I,true} where I<:Union{Tuple{Vararg{Real,N} where N}, Tuple{AbstractUnitRange,Vararg{Any,N} where N}} where A<:DenseArray where N where T, DenseArray}, Base.ReshapedArray{#s617,N,A,MI} where MI<:Tuple{Vararg{Base.MultiplicativeInverses.SignedMultiplicativeInverse{Int64},N} where N} where A<:Union{Base.ReinterpretArray{T,N,S,A} where S where A<:Union{SubArray{T,N,A,I,true} where I<:Union{Tuple{Vararg{Real,N} where N}, Tuple{AbstractUnitRange,Vararg{Any,N} where N}} where A<:DenseArray where N where T, DenseArray} where N where T, SubArray{T,N,A,I,true} where I<:Union{Tuple{Vararg{Real,N} where N}, Tuple{AbstractUnitRange,Vararg{Any,N} where N}} where A<:DenseArray where N where T, DenseArray}, SubArray{#s617,N,A,I,L} where L where I<:Tuple{Vararg{Union{Int64, AbstractRange{Int64}, Base.AbstractCartesianIndex},N} where N} where A<:Union{Base.ReinterpretArray{T,N,S,A} where S where A<:Union{SubArray{T,N,A,I,true} where I<:Union{Tuple{Vararg{Real,N} where N}, Tuple{AbstractUnitRange,Vararg{Any,N} where N}} where A<:DenseArray where N where T, DenseArray} where N where T, Base.ReshapedArray{T,N,A,MI} where MI<:Tuple{Vararg{Base.MultiplicativeInverses.SignedMultiplicativeInverse{Int64},N} where N} where A<:Union{Base.ReinterpretArray{T,N,S,A} where S where A<:Union{SubArray{T,N,A,I,true} where I<:Union{Tuple{Vararg{Real,N} where N}, Tuple{AbstractUnitRange,Vararg{Any,N} where N}} where A<:DenseArray where N where T, DenseArray} where N where T, SubArray{T,N,A,I,true} where I<:Union{Tuple{Vararg{Real,N} where N}, Tuple{AbstractUnitRange,Vararg{Any,N} where N}} where A<:DenseArray where N where T, DenseArray} where N where T, DenseArray}} where N where #s617<:Union{Dates.CompoundPeriod, Dates.Period}</b>) in Dates at <a href=\"file://C:/cygwin/home/Administrator/buildbot/worker/package_win64/build/usr/share/julia/stdlib/v1.2/Dates/src/deprecated.jl\" target=\"_blank\">C:\\cygwin\\home\\Administrator\\buildbot\\worker\\package_win64\\build\\usr\\share\\julia\\stdlib\\v1.2\\Dates\\src\\deprecated.jl:57</a></li> <li> +(x::<b>Union{DenseArray{#s617,N}, Base.ReinterpretArray{#s617,N,S,A} where S where A<:Union{SubArray{T,N,A,I,true} where I<:Union{Tuple{Vararg{Real,N} where N}, Tuple{AbstractUnitRange,Vararg{Any,N} where N}} where A<:DenseArray where N where T, DenseArray}, Base.ReshapedArray{#s617,N,A,MI} where MI<:Tuple{Vararg{Base.MultiplicativeInverses.SignedMultiplicativeInverse{Int64},N} where N} where A<:Union{Base.ReinterpretArray{T,N,S,A} where S where A<:Union{SubArray{T,N,A,I,true} where I<:Union{Tuple{Vararg{Real,N} where N}, Tuple{AbstractUnitRange,Vararg{Any,N} where N}} where A<:DenseArray where N where T, DenseArray} where N where T, SubArray{T,N,A,I,true} where I<:Union{Tuple{Vararg{Real,N} where N}, Tuple{AbstractUnitRange,Vararg{Any,N} where N}} where A<:DenseArray where N where T, DenseArray}, SubArray{#s617,N,A,I,L} where L where I<:Tuple{Vararg{Union{Int64, AbstractRange{Int64}, Base.AbstractCartesianIndex},N} where N} where A<:Union{Base.ReinterpretArray{T,N,S,A} where S where A<:Union{SubArray{T,N,A,I,true} where I<:Union{Tuple{Vararg{Real,N} where N}, Tuple{AbstractUnitRange,Vararg{Any,N} where N}} where A<:DenseArray where N where T, DenseArray} where N where T, Base.ReshapedArray{T,N,A,MI} where MI<:Tuple{Vararg{Base.MultiplicativeInverses.SignedMultiplicativeInverse{Int64},N} where N} where A<:Union{Base.ReinterpretArray{T,N,S,A} where S where A<:Union{SubArray{T,N,A,I,true} where I<:Union{Tuple{Vararg{Real,N} where N}, Tuple{AbstractUnitRange,Vararg{Any,N} where N}} where A<:DenseArray where N where T, DenseArray} where N where T, SubArray{T,N,A,I,true} where I<:Union{Tuple{Vararg{Real,N} where N}, Tuple{AbstractUnitRange,Vararg{Any,N} where N}} where A<:DenseArray where N where T, DenseArray} where N where T, DenseArray}} where N where #s617<:Union{Dates.CompoundPeriod, Dates.Period}</b>, y::<b>Dates.TimeType</b>) in Dates at <a href=\"file://C:/cygwin/home/Administrator/buildbot/worker/package_win64/build/usr/share/julia/stdlib/v1.2/Dates/src/deprecated.jl\" target=\"_blank\">C:\\cygwin\\home\\Administrator\\buildbot\\worker\\package_win64\\build\\usr\\share\\julia\\stdlib\\v1.2\\Dates\\src\\deprecated.jl:12</a></li> <li> +(X::<b>Union{DenseArray{#s617,N}, Base.ReinterpretArray{#s617,N,S,A} where S where A<:Union{SubArray{T,N,A,I,true} where I<:Union{Tuple{Vararg{Real,N} where N}, Tuple{AbstractUnitRange,Vararg{Any,N} where N}} where A<:DenseArray where N where T, DenseArray}, Base.ReshapedArray{#s617,N,A,MI} where MI<:Tuple{Vararg{Base.MultiplicativeInverses.SignedMultiplicativeInverse{Int64},N} where N} where A<:Union{Base.ReinterpretArray{T,N,S,A} where S where A<:Union{SubArray{T,N,A,I,true} where I<:Union{Tuple{Vararg{Real,N} where N}, Tuple{AbstractUnitRange,Vararg{Any,N} where N}} where A<:DenseArray where N where T, DenseArray} where N where T, SubArray{T,N,A,I,true} where I<:Union{Tuple{Vararg{Real,N} where N}, Tuple{AbstractUnitRange,Vararg{Any,N} where N}} where A<:DenseArray where N where T, DenseArray}, SubArray{#s617,N,A,I,L} where L where I<:Tuple{Vararg{Union{Int64, AbstractRange{Int64}, Base.AbstractCartesianIndex},N} where N} where A<:Union{Base.ReinterpretArray{T,N,S,A} where S where A<:Union{SubArray{T,N,A,I,true} where I<:Union{Tuple{Vararg{Real,N} where N}, Tuple{AbstractUnitRange,Vararg{Any,N} where N}} where A<:DenseArray where N where T, DenseArray} where N where T, Base.ReshapedArray{T,N,A,MI} where MI<:Tuple{Vararg{Base.MultiplicativeInverses.SignedMultiplicativeInverse{Int64},N} where N} where A<:Union{Base.ReinterpretArray{T,N,S,A} where S where A<:Union{SubArray{T,N,A,I,true} where I<:Union{Tuple{Vararg{Real,N} where N}, Tuple{AbstractUnitRange,Vararg{Any,N} where N}} where A<:DenseArray where N where T, DenseArray} where N where T, SubArray{T,N,A,I,true} where I<:Union{Tuple{Vararg{Real,N} where N}, Tuple{AbstractUnitRange,Vararg{Any,N} where N}} where A<:DenseArray where N where T, DenseArray} where N where T, DenseArray}} where N where #s617<:Union{Dates.CompoundPeriod, Dates.Period}</b>, Y::<b>Union{DenseArray{#s616,N}, Base.ReinterpretArray{#s616,N,S,A} where S where A<:Union{SubArray{T,N,A,I,true} where I<:Union{Tuple{Vararg{Real,N} where N}, Tuple{AbstractUnitRange,Vararg{Any,N} where N}} where A<:DenseArray where N where T, DenseArray}, Base.ReshapedArray{#s616,N,A,MI} where MI<:Tuple{Vararg{Base.MultiplicativeInverses.SignedMultiplicativeInverse{Int64},N} where N} where A<:Union{Base.ReinterpretArray{T,N,S,A} where S where A<:Union{SubArray{T,N,A,I,true} where I<:Union{Tuple{Vararg{Real,N} where N}, Tuple{AbstractUnitRange,Vararg{Any,N} where N}} where A<:DenseArray where N where T, DenseArray} where N where T, SubArray{T,N,A,I,true} where I<:Union{Tuple{Vararg{Real,N} where N}, Tuple{AbstractUnitRange,Vararg{Any,N} where N}} where A<:DenseArray where N where T, DenseArray}, SubArray{#s616,N,A,I,L} where L where I<:Tuple{Vararg{Union{Int64, AbstractRange{Int64}, Base.AbstractCartesianIndex},N} where N} where A<:Union{Base.ReinterpretArray{T,N,S,A} where S where A<:Union{SubArray{T,N,A,I,true} where I<:Union{Tuple{Vararg{Real,N} where N}, Tuple{AbstractUnitRange,Vararg{Any,N} where N}} where A<:DenseArray where N where T, DenseArray} where N where T, Base.ReshapedArray{T,N,A,MI} where MI<:Tuple{Vararg{Base.MultiplicativeInverses.SignedMultiplicativeInverse{Int64},N} where N} where A<:Union{Base.ReinterpretArray{T,N,S,A} where S where A<:Union{SubArray{T,N,A,I,true} where I<:Union{Tuple{Vararg{Real,N} where N}, Tuple{AbstractUnitRange,Vararg{Any,N} where N}} where A<:DenseArray where N where T, DenseArray} where N where T, SubArray{T,N,A,I,true} where I<:Union{Tuple{Vararg{Real,N} where N}, Tuple{AbstractUnitRange,Vararg{Any,N} where N}} where A<:DenseArray where N where T, DenseArray} where N where T, DenseArray}} where N where #s616<:Union{Dates.CompoundPeriod, Dates.Period}</b>) in Dates at <a href=\"file://C:/cygwin/home/Administrator/buildbot/worker/package_win64/build/usr/share/julia/stdlib/v1.2/Dates/src/deprecated.jl\" target=\"_blank\">C:\\cygwin\\home\\Administrator\\buildbot\\worker\\package_win64\\build\\usr\\share\\julia\\stdlib\\v1.2\\Dates\\src\\deprecated.jl:64</a></li> <li> +(A::<b>LinearAlgebra.SymTridiagonal</b>, B::<b>LinearAlgebra.SymTridiagonal</b>) in LinearAlgebra at <a href=\"file://C:/cygwin/home/Administrator/buildbot/worker/package_win64/build/usr/share/julia/stdlib/v1.2/LinearAlgebra/src/tridiag.jl\" target=\"_blank\">C:\\cygwin\\home\\Administrator\\buildbot\\worker\\package_win64\\build\\usr\\share\\julia\\stdlib\\v1.2\\LinearAlgebra\\src\\tridiag.jl:158</a></li> <li> +(A::<b>LinearAlgebra.Tridiagonal</b>, B::<b>LinearAlgebra.Tridiagonal</b>) in LinearAlgebra at <a href=\"file://C:/cygwin/home/Administrator/buildbot/worker/package_win64/build/usr/share/julia/stdlib/v1.2/LinearAlgebra/src/tridiag.jl\" target=\"_blank\">C:\\cygwin\\home\\Administrator\\buildbot\\worker\\package_win64\\build\\usr\\share\\julia\\stdlib\\v1.2\\LinearAlgebra\\src\\tridiag.jl:617</a></li> <li> +(A::<b>LinearAlgebra.UpperTriangular</b>, B::<b>LinearAlgebra.UpperTriangular</b>) in LinearAlgebra at <a href=\"file://C:/cygwin/home/Administrator/buildbot/worker/package_win64/build/usr/share/julia/stdlib/v1.2/LinearAlgebra/src/triangular.jl\" target=\"_blank\">C:\\cygwin\\home\\Administrator\\buildbot\\worker\\package_win64\\build\\usr\\share\\julia\\stdlib\\v1.2\\LinearAlgebra\\src\\triangular.jl:533</a></li> <li> +(A::<b>LinearAlgebra.LowerTriangular</b>, B::<b>LinearAlgebra.LowerTriangular</b>) in LinearAlgebra at <a href=\"file://C:/cygwin/home/Administrator/buildbot/worker/package_win64/build/usr/share/julia/stdlib/v1.2/LinearAlgebra/src/triangular.jl\" target=\"_blank\">C:\\cygwin\\home\\Administrator\\buildbot\\worker\\package_win64\\build\\usr\\share\\julia\\stdlib\\v1.2\\LinearAlgebra\\src\\triangular.jl:534</a></li> <li> +(A::<b>LinearAlgebra.UpperTriangular</b>, B::<b>LinearAlgebra.UnitUpperTriangular</b>) in LinearAlgebra at <a href=\"file://C:/cygwin/home/Administrator/buildbot/worker/package_win64/build/usr/share/julia/stdlib/v1.2/LinearAlgebra/src/triangular.jl\" target=\"_blank\">C:\\cygwin\\home\\Administrator\\buildbot\\worker\\package_win64\\build\\usr\\share\\julia\\stdlib\\v1.2\\LinearAlgebra\\src\\triangular.jl:535</a></li> <li> +(A::<b>LinearAlgebra.LowerTriangular</b>, B::<b>LinearAlgebra.UnitLowerTriangular</b>) in LinearAlgebra at <a href=\"file://C:/cygwin/home/Administrator/buildbot/worker/package_win64/build/usr/share/julia/stdlib/v1.2/LinearAlgebra/src/triangular.jl\" target=\"_blank\">C:\\cygwin\\home\\Administrator\\buildbot\\worker\\package_win64\\build\\usr\\share\\julia\\stdlib\\v1.2\\LinearAlgebra\\src\\triangular.jl:536</a></li> <li> +(A::<b>LinearAlgebra.UnitUpperTriangular</b>, B::<b>LinearAlgebra.UpperTriangular</b>) in LinearAlgebra at <a href=\"file://C:/cygwin/home/Administrator/buildbot/worker/package_win64/build/usr/share/julia/stdlib/v1.2/LinearAlgebra/src/triangular.jl\" target=\"_blank\">C:\\cygwin\\home\\Administrator\\buildbot\\worker\\package_win64\\build\\usr\\share\\julia\\stdlib\\v1.2\\LinearAlgebra\\src\\triangular.jl:537</a></li> <li> +(A::<b>LinearAlgebra.UnitLowerTriangular</b>, B::<b>LinearAlgebra.LowerTriangular</b>) in LinearAlgebra at <a href=\"file://C:/cygwin/home/Administrator/buildbot/worker/package_win64/build/usr/share/julia/stdlib/v1.2/LinearAlgebra/src/triangular.jl\" target=\"_blank\">C:\\cygwin\\home\\Administrator\\buildbot\\worker\\package_win64\\build\\usr\\share\\julia\\stdlib\\v1.2\\LinearAlgebra\\src\\triangular.jl:538</a></li> <li> +(A::<b>LinearAlgebra.UnitUpperTriangular</b>, B::<b>LinearAlgebra.UnitUpperTriangular</b>) in LinearAlgebra at <a href=\"file://C:/cygwin/home/Administrator/buildbot/worker/package_win64/build/usr/share/julia/stdlib/v1.2/LinearAlgebra/src/triangular.jl\" target=\"_blank\">C:\\cygwin\\home\\Administrator\\buildbot\\worker\\package_win64\\build\\usr\\share\\julia\\stdlib\\v1.2\\LinearAlgebra\\src\\triangular.jl:539</a></li> <li> +(A::<b>LinearAlgebra.UnitLowerTriangular</b>, B::<b>LinearAlgebra.UnitLowerTriangular</b>) in LinearAlgebra at <a href=\"file://C:/cygwin/home/Administrator/buildbot/worker/package_win64/build/usr/share/julia/stdlib/v1.2/LinearAlgebra/src/triangular.jl\" target=\"_blank\">C:\\cygwin\\home\\Administrator\\buildbot\\worker\\package_win64\\build\\usr\\share\\julia\\stdlib\\v1.2\\LinearAlgebra\\src\\triangular.jl:540</a></li> <li> +(A::<b>LinearAlgebra.AbstractTriangular</b>, B::<b>LinearAlgebra.AbstractTriangular</b>) in LinearAlgebra at <a href=\"file://C:/cygwin/home/Administrator/buildbot/worker/package_win64/build/usr/share/julia/stdlib/v1.2/LinearAlgebra/src/triangular.jl\" target=\"_blank\">C:\\cygwin\\home\\Administrator\\buildbot\\worker\\package_win64\\build\\usr\\share\\julia\\stdlib\\v1.2\\LinearAlgebra\\src\\triangular.jl:541</a></li> <li> +(A::<b>LinearAlgebra.Symmetric</b>, B::<b>LinearAlgebra.Symmetric</b>) in LinearAlgebra at <a href=\"file://C:/cygwin/home/Administrator/buildbot/worker/package_win64/build/usr/share/julia/stdlib/v1.2/LinearAlgebra/src/symmetric.jl\" target=\"_blank\">C:\\cygwin\\home\\Administrator\\buildbot\\worker\\package_win64\\build\\usr\\share\\julia\\stdlib\\v1.2\\LinearAlgebra\\src\\symmetric.jl:422</a></li> <li> +(A::<b>LinearAlgebra.Hermitian</b>, B::<b>LinearAlgebra.Hermitian</b>) in LinearAlgebra at <a href=\"file://C:/cygwin/home/Administrator/buildbot/worker/package_win64/build/usr/share/julia/stdlib/v1.2/LinearAlgebra/src/symmetric.jl\" target=\"_blank\">C:\\cygwin\\home\\Administrator\\buildbot\\worker\\package_win64\\build\\usr\\share\\julia\\stdlib\\v1.2\\LinearAlgebra\\src\\symmetric.jl:423</a></li> <li> +(A::<b>LinearAlgebra.Hermitian</b>, B::<b>LinearAlgebra.Symmetric{#s617,S} where S<:(AbstractArray{#s6171,2} where #s6171<:#s617) where #s617<:Real</b>) in LinearAlgebra at <a href=\"file://C:/cygwin/home/Administrator/buildbot/worker/package_win64/build/usr/share/julia/stdlib/v1.2/LinearAlgebra/src/symmetric.jl\" target=\"_blank\">C:\\cygwin\\home\\Administrator\\buildbot\\worker\\package_win64\\build\\usr\\share\\julia\\stdlib\\v1.2\\LinearAlgebra\\src\\symmetric.jl:424</a></li> <li> +(A::<b>LinearAlgebra.Symmetric{#s617,S} where S<:(AbstractArray{#s6171,2} where #s6171<:#s617) where #s617<:Real</b>, B::<b>LinearAlgebra.Hermitian</b>) in LinearAlgebra at <a href=\"file://C:/cygwin/home/Administrator/buildbot/worker/package_win64/build/usr/share/julia/stdlib/v1.2/LinearAlgebra/src/symmetric.jl\" target=\"_blank\">C:\\cygwin\\home\\Administrator\\buildbot\\worker\\package_win64\\build\\usr\\share\\julia\\stdlib\\v1.2\\LinearAlgebra\\src\\symmetric.jl:425</a></li> <li> +(Da::<b>LinearAlgebra.Diagonal</b>, Db::<b>LinearAlgebra.Diagonal</b>) in LinearAlgebra at <a href=\"file://C:/cygwin/home/Administrator/buildbot/worker/package_win64/build/usr/share/julia/stdlib/v1.2/LinearAlgebra/src/diagonal.jl\" target=\"_blank\">C:\\cygwin\\home\\Administrator\\buildbot\\worker\\package_win64\\build\\usr\\share\\julia\\stdlib\\v1.2\\LinearAlgebra\\src\\diagonal.jl:156</a></li> <li> +(A::<b>LinearAlgebra.Bidiagonal</b>, B::<b>LinearAlgebra.Bidiagonal</b>) in LinearAlgebra at <a href=\"file://C:/cygwin/home/Administrator/buildbot/worker/package_win64/build/usr/share/julia/stdlib/v1.2/LinearAlgebra/src/bidiag.jl\" target=\"_blank\">C:\\cygwin\\home\\Administrator\\buildbot\\worker\\package_win64\\build\\usr\\share\\julia\\stdlib\\v1.2\\LinearAlgebra\\src\\bidiag.jl:307</a></li> <li> +(UL::<b>LinearAlgebra.UnitUpperTriangular</b>, J::<b>LinearAlgebra.UniformScaling</b>) in LinearAlgebra at <a href=\"file://C:/cygwin/home/Administrator/buildbot/worker/package_win64/build/usr/share/julia/stdlib/v1.2/LinearAlgebra/src/uniformscaling.jl\" target=\"_blank\">C:\\cygwin\\home\\Administrator\\buildbot\\worker\\package_win64\\build\\usr\\share\\julia\\stdlib\\v1.2\\LinearAlgebra\\src\\uniformscaling.jl:131</a></li> <li> +(UL::<b>LinearAlgebra.UnitLowerTriangular</b>, J::<b>LinearAlgebra.UniformScaling</b>) in LinearAlgebra at <a href=\"file://C:/cygwin/home/Administrator/buildbot/worker/package_win64/build/usr/share/julia/stdlib/v1.2/LinearAlgebra/src/uniformscaling.jl\" target=\"_blank\">C:\\cygwin\\home\\Administrator\\buildbot\\worker\\package_win64\\build\\usr\\share\\julia\\stdlib\\v1.2\\LinearAlgebra\\src\\uniformscaling.jl:131</a></li> <li> +(A::<b>LinearAlgebra.Hermitian</b>, J::<b>LinearAlgebra.UniformScaling{#s617} where #s617<:Complex</b>) in LinearAlgebra at <a href=\"file://C:/cygwin/home/Administrator/buildbot/worker/package_win64/build/usr/share/julia/stdlib/v1.2/LinearAlgebra/src/uniformscaling.jl\" target=\"_blank\">C:\\cygwin\\home\\Administrator\\buildbot\\worker\\package_win64\\build\\usr\\share\\julia\\stdlib\\v1.2\\LinearAlgebra\\src\\uniformscaling.jl:145</a></li> <li> +(A::<b>LinearAlgebra.Tridiagonal{#s617,V} where V<:AbstractArray{#s617,1} where #s617<:Number</b>, B::<b>LinearAlgebra.UniformScaling</b>) in LinearAlgebra at <a href=\"file://C:/cygwin/home/Administrator/buildbot/worker/package_win64/build/usr/share/julia/stdlib/v1.2/LinearAlgebra/src/special.jl\" target=\"_blank\">C:\\cygwin\\home\\Administrator\\buildbot\\worker\\package_win64\\build\\usr\\share\\julia\\stdlib\\v1.2\\LinearAlgebra\\src\\special.jl:238</a></li> <li> +(A::<b>LinearAlgebra.SymTridiagonal{#s617,V} where V<:AbstractArray{#s617,1} where #s617<:Number</b>, B::<b>LinearAlgebra.UniformScaling</b>) in LinearAlgebra at <a href=\"file://C:/cygwin/home/Administrator/buildbot/worker/package_win64/build/usr/share/julia/stdlib/v1.2/LinearAlgebra/src/special.jl\" target=\"_blank\">C:\\cygwin\\home\\Administrator\\buildbot\\worker\\package_win64\\build\\usr\\share\\julia\\stdlib\\v1.2\\LinearAlgebra\\src\\special.jl:243</a></li> <li> +(A::<b>LinearAlgebra.Bidiagonal{#s617,V} where V<:AbstractArray{#s617,1} where #s617<:Number</b>, B::<b>LinearAlgebra.UniformScaling</b>) in LinearAlgebra at <a href=\"file://C:/cygwin/home/Administrator/buildbot/worker/package_win64/build/usr/share/julia/stdlib/v1.2/LinearAlgebra/src/special.jl\" target=\"_blank\">C:\\cygwin\\home\\Administrator\\buildbot\\worker\\package_win64\\build\\usr\\share\\julia\\stdlib\\v1.2\\LinearAlgebra\\src\\special.jl:248</a></li> <li> +(A::<b>LinearAlgebra.Diagonal{#s617,V} where V<:AbstractArray{#s617,1} where #s617<:Number</b>, B::<b>LinearAlgebra.UniformScaling</b>) in LinearAlgebra at <a href=\"file://C:/cygwin/home/Administrator/buildbot/worker/package_win64/build/usr/share/julia/stdlib/v1.2/LinearAlgebra/src/special.jl\" target=\"_blank\">C:\\cygwin\\home\\Administrator\\buildbot\\worker\\package_win64\\build\\usr\\share\\julia\\stdlib\\v1.2\\LinearAlgebra\\src\\special.jl:253</a></li> <li> +(A::<b>SparseArrays.SparseMatrixCSC</b>, J::<b>LinearAlgebra.UniformScaling</b>) in SparseArrays at <a href=\"file://C:/cygwin/home/Administrator/buildbot/worker/package_win64/build/usr/share/julia/stdlib/v1.2/SparseArrays/src/sparsematrix.jl\" target=\"_blank\">C:\\cygwin\\home\\Administrator\\buildbot\\worker\\package_win64\\build\\usr\\share\\julia\\stdlib\\v1.2\\SparseArrays\\src\\sparsematrix.jl:3451</a></li> <li> +(A::<b>AbstractArray{T,2} where T</b>, J::<b>LinearAlgebra.UniformScaling</b>) in LinearAlgebra at <a href=\"file://C:/cygwin/home/Administrator/buildbot/worker/package_win64/build/usr/share/julia/stdlib/v1.2/LinearAlgebra/src/uniformscaling.jl\" target=\"_blank\">C:\\cygwin\\home\\Administrator\\buildbot\\worker\\package_win64\\build\\usr\\share\\julia\\stdlib\\v1.2\\LinearAlgebra\\src\\uniformscaling.jl:164</a></li> <li> +(A::<b>LinearAlgebra.UpperTriangular</b>, B::<b>LinearAlgebra.Bidiagonal</b>) in LinearAlgebra at <a href=\"file://C:/cygwin/home/Administrator/buildbot/worker/package_win64/build/usr/share/julia/stdlib/v1.2/LinearAlgebra/src/special.jl\" target=\"_blank\">C:\\cygwin\\home\\Administrator\\buildbot\\worker\\package_win64\\build\\usr\\share\\julia\\stdlib\\v1.2\\LinearAlgebra\\src\\special.jl:98</a></li> <li> +(A::<b>LinearAlgebra.Bidiagonal</b>, B::<b>LinearAlgebra.UpperTriangular</b>) in LinearAlgebra at <a href=\"file://C:/cygwin/home/Administrator/buildbot/worker/package_win64/build/usr/share/julia/stdlib/v1.2/LinearAlgebra/src/special.jl\" target=\"_blank\">C:\\cygwin\\home\\Administrator\\buildbot\\worker\\package_win64\\build\\usr\\share\\julia\\stdlib\\v1.2\\LinearAlgebra\\src\\special.jl:106</a></li> <li> +(A::<b>LinearAlgebra.UnitUpperTriangular</b>, B::<b>LinearAlgebra.Bidiagonal</b>) in LinearAlgebra at <a href=\"file://C:/cygwin/home/Administrator/buildbot/worker/package_win64/build/usr/share/julia/stdlib/v1.2/LinearAlgebra/src/special.jl\" target=\"_blank\">C:\\cygwin\\home\\Administrator\\buildbot\\worker\\package_win64\\build\\usr\\share\\julia\\stdlib\\v1.2\\LinearAlgebra\\src\\special.jl:98</a></li> <li> +(A::<b>LinearAlgebra.Bidiagonal</b>, B::<b>LinearAlgebra.UnitUpperTriangular</b>) in LinearAlgebra at <a href=\"file://C:/cygwin/home/Administrator/buildbot/worker/package_win64/build/usr/share/julia/stdlib/v1.2/LinearAlgebra/src/special.jl\" target=\"_blank\">C:\\cygwin\\home\\Administrator\\buildbot\\worker\\package_win64\\build\\usr\\share\\julia\\stdlib\\v1.2\\LinearAlgebra\\src\\special.jl:106</a></li> <li> +(A::<b>LinearAlgebra.LowerTriangular</b>, B::<b>LinearAlgebra.Bidiagonal</b>) in LinearAlgebra at <a href=\"file://C:/cygwin/home/Administrator/buildbot/worker/package_win64/build/usr/share/julia/stdlib/v1.2/LinearAlgebra/src/special.jl\" target=\"_blank\">C:\\cygwin\\home\\Administrator\\buildbot\\worker\\package_win64\\build\\usr\\share\\julia\\stdlib\\v1.2\\LinearAlgebra\\src\\special.jl:98</a></li> <li> +(A::<b>LinearAlgebra.Bidiagonal</b>, B::<b>LinearAlgebra.LowerTriangular</b>) in LinearAlgebra at <a href=\"file://C:/cygwin/home/Administrator/buildbot/worker/package_win64/build/usr/share/julia/stdlib/v1.2/LinearAlgebra/src/special.jl\" target=\"_blank\">C:\\cygwin\\home\\Administrator\\buildbot\\worker\\package_win64\\build\\usr\\share\\julia\\stdlib\\v1.2\\LinearAlgebra\\src\\special.jl:106</a></li> <li> +(A::<b>LinearAlgebra.UnitLowerTriangular</b>, B::<b>LinearAlgebra.Bidiagonal</b>) in LinearAlgebra at <a href=\"file://C:/cygwin/home/Administrator/buildbot/worker/package_win64/build/usr/share/julia/stdlib/v1.2/LinearAlgebra/src/special.jl\" target=\"_blank\">C:\\cygwin\\home\\Administrator\\buildbot\\worker\\package_win64\\build\\usr\\share\\julia\\stdlib\\v1.2\\LinearAlgebra\\src\\special.jl:98</a></li> <li> +(A::<b>LinearAlgebra.Bidiagonal</b>, B::<b>LinearAlgebra.UnitLowerTriangular</b>) in LinearAlgebra at <a href=\"file://C:/cygwin/home/Administrator/buildbot/worker/package_win64/build/usr/share/julia/stdlib/v1.2/LinearAlgebra/src/special.jl\" target=\"_blank\">C:\\cygwin\\home\\Administrator\\buildbot\\worker\\package_win64\\build\\usr\\share\\julia\\stdlib\\v1.2\\LinearAlgebra\\src\\special.jl:106</a></li> <li> +(A::<b>LinearAlgebra.Bidiagonal</b>, B::<b>LinearAlgebra.Diagonal</b>) in LinearAlgebra at <a href=\"file://C:/cygwin/home/Administrator/buildbot/worker/package_win64/build/usr/share/julia/stdlib/v1.2/LinearAlgebra/src/special.jl\" target=\"_blank\">C:\\cygwin\\home\\Administrator\\buildbot\\worker\\package_win64\\build\\usr\\share\\julia\\stdlib\\v1.2\\LinearAlgebra\\src\\special.jl:127</a></li> <li> +(A::<b>LinearAlgebra.Diagonal</b>, B::<b>LinearAlgebra.Bidiagonal</b>) in LinearAlgebra at <a href=\"file://C:/cygwin/home/Administrator/buildbot/worker/package_win64/build/usr/share/julia/stdlib/v1.2/LinearAlgebra/src/special.jl\" target=\"_blank\">C:\\cygwin\\home\\Administrator\\buildbot\\worker\\package_win64\\build\\usr\\share\\julia\\stdlib\\v1.2\\LinearAlgebra\\src\\special.jl:137</a></li> <li> +(A::<b>LinearAlgebra.Diagonal</b>, B::<b>LinearAlgebra.SymTridiagonal</b>) in LinearAlgebra at <a href=\"file://C:/cygwin/home/Administrator/buildbot/worker/package_win64/build/usr/share/julia/stdlib/v1.2/LinearAlgebra/src/special.jl\" target=\"_blank\">C:\\cygwin\\home\\Administrator\\buildbot\\worker\\package_win64\\build\\usr\\share\\julia\\stdlib\\v1.2\\LinearAlgebra\\src\\special.jl:147</a></li> <li> +(A::<b>LinearAlgebra.SymTridiagonal</b>, B::<b>LinearAlgebra.Diagonal</b>) in LinearAlgebra at <a href=\"file://C:/cygwin/home/Administrator/buildbot/worker/package_win64/build/usr/share/julia/stdlib/v1.2/LinearAlgebra/src/special.jl\" target=\"_blank\">C:\\cygwin\\home\\Administrator\\buildbot\\worker\\package_win64\\build\\usr\\share\\julia\\stdlib\\v1.2\\LinearAlgebra\\src\\special.jl:157</a></li> <li> +(A::<b>LinearAlgebra.Tridiagonal</b>, B::<b>LinearAlgebra.SymTridiagonal</b>) in LinearAlgebra at <a href=\"file://C:/cygwin/home/Administrator/buildbot/worker/package_win64/build/usr/share/julia/stdlib/v1.2/LinearAlgebra/src/special.jl\" target=\"_blank\">C:\\cygwin\\home\\Administrator\\buildbot\\worker\\package_win64\\build\\usr\\share\\julia\\stdlib\\v1.2\\LinearAlgebra\\src\\special.jl:168</a></li> <li> +(A::<b>LinearAlgebra.SymTridiagonal</b>, B::<b>LinearAlgebra.Tridiagonal</b>) in LinearAlgebra at <a href=\"file://C:/cygwin/home/Administrator/buildbot/worker/package_win64/build/usr/share/julia/stdlib/v1.2/LinearAlgebra/src/special.jl\" target=\"_blank\">C:\\cygwin\\home\\Administrator\\buildbot\\worker\\package_win64\\build\\usr\\share\\julia\\stdlib\\v1.2\\LinearAlgebra\\src\\special.jl:170</a></li> <li> +(A::<b>LinearAlgebra.Diagonal</b>, B::<b>LinearAlgebra.Tridiagonal</b>) in LinearAlgebra at <a href=\"file://C:/cygwin/home/Administrator/buildbot/worker/package_win64/build/usr/share/julia/stdlib/v1.2/LinearAlgebra/src/special.jl\" target=\"_blank\">C:\\cygwin\\home\\Administrator\\buildbot\\worker\\package_win64\\build\\usr\\share\\julia\\stdlib\\v1.2\\LinearAlgebra\\src\\special.jl:175</a></li> <li> +(A::<b>LinearAlgebra.Tridiagonal</b>, B::<b>LinearAlgebra.Diagonal</b>) in LinearAlgebra at <a href=\"file://C:/cygwin/home/Administrator/buildbot/worker/package_win64/build/usr/share/julia/stdlib/v1.2/LinearAlgebra/src/special.jl\" target=\"_blank\">C:\\cygwin\\home\\Administrator\\buildbot\\worker\\package_win64\\build\\usr\\share\\julia\\stdlib\\v1.2\\LinearAlgebra\\src\\special.jl:185</a></li> <li> +(A::<b>LinearAlgebra.Bidiagonal</b>, B::<b>LinearAlgebra.Tridiagonal</b>) in LinearAlgebra at <a href=\"file://C:/cygwin/home/Administrator/buildbot/worker/package_win64/build/usr/share/julia/stdlib/v1.2/LinearAlgebra/src/special.jl\" target=\"_blank\">C:\\cygwin\\home\\Administrator\\buildbot\\worker\\package_win64\\build\\usr\\share\\julia\\stdlib\\v1.2\\LinearAlgebra\\src\\special.jl:195</a></li> <li> +(A::<b>LinearAlgebra.Tridiagonal</b>, B::<b>LinearAlgebra.Bidiagonal</b>) in LinearAlgebra at <a href=\"file://C:/cygwin/home/Administrator/buildbot/worker/package_win64/build/usr/share/julia/stdlib/v1.2/LinearAlgebra/src/special.jl\" target=\"_blank\">C:\\cygwin\\home\\Administrator\\buildbot\\worker\\package_win64\\build\\usr\\share\\julia\\stdlib\\v1.2\\LinearAlgebra\\src\\special.jl:205</a></li> <li> +(A::<b>LinearAlgebra.Bidiagonal</b>, B::<b>LinearAlgebra.SymTridiagonal</b>) in LinearAlgebra at <a href=\"file://C:/cygwin/home/Administrator/buildbot/worker/package_win64/build/usr/share/julia/stdlib/v1.2/LinearAlgebra/src/special.jl\" target=\"_blank\">C:\\cygwin\\home\\Administrator\\buildbot\\worker\\package_win64\\build\\usr\\share\\julia\\stdlib\\v1.2\\LinearAlgebra\\src\\special.jl:215</a></li> <li> +(A::<b>LinearAlgebra.SymTridiagonal</b>, B::<b>LinearAlgebra.Bidiagonal</b>) in LinearAlgebra at <a href=\"file://C:/cygwin/home/Administrator/buildbot/worker/package_win64/build/usr/share/julia/stdlib/v1.2/LinearAlgebra/src/special.jl\" target=\"_blank\">C:\\cygwin\\home\\Administrator\\buildbot\\worker\\package_win64\\build\\usr\\share\\julia\\stdlib\\v1.2\\LinearAlgebra\\src\\special.jl:225</a></li> <li> +(A::<b>SparseArrays.SparseMatrixCSC</b>, B::<b>SparseArrays.SparseMatrixCSC</b>) in SparseArrays at <a href=\"file://C:/cygwin/home/Administrator/buildbot/worker/package_win64/build/usr/share/julia/stdlib/v1.2/SparseArrays/src/sparsematrix.jl\" target=\"_blank\">C:\\cygwin\\home\\Administrator\\buildbot\\worker\\package_win64\\build\\usr\\share\\julia\\stdlib\\v1.2\\SparseArrays\\src\\sparsematrix.jl:1515</a></li> <li> +(A::<b>SparseArrays.SparseMatrixCSC</b>, B::<b>Array</b>) in SparseArrays at <a href=\"file://C:/cygwin/home/Administrator/buildbot/worker/package_win64/build/usr/share/julia/stdlib/v1.2/SparseArrays/src/sparsematrix.jl\" target=\"_blank\">C:\\cygwin\\home\\Administrator\\buildbot\\worker\\package_win64\\build\\usr\\share\\julia\\stdlib\\v1.2\\SparseArrays\\src\\sparsematrix.jl:1518</a></li> <li> +(x::<b>SparseArrays.AbstractSparseArray{Tv,Ti,1} where Ti where Tv</b>, y::<b>SparseArrays.AbstractSparseArray{Tv,Ti,1} where Ti where Tv</b>) in SparseArrays at <a href=\"file://C:/cygwin/home/Administrator/buildbot/worker/package_win64/build/usr/share/julia/stdlib/v1.2/SparseArrays/src/sparsevector.jl\" target=\"_blank\">C:\\cygwin\\home\\Administrator\\buildbot\\worker\\package_win64\\build\\usr\\share\\julia\\stdlib\\v1.2\\SparseArrays\\src\\sparsevector.jl:1304</a></li> <li> +(x::<b>AbstractArray{#s75,N} where N where #s75<:Number</b>) in Base at <a href=\"https://github.com/JuliaLang/julia/tree/c6da87ff4bc7a855e217856757ad3413cf6d1f79/base/abstractarraymath.jl#L97\" target=\"_blank\">abstractarraymath.jl:97</a></li> <li> +(A::<b>AbstractArray</b>, B::<b>AbstractArray</b>) in Base at <a href=\"https://github.com/JuliaLang/julia/tree/c6da87ff4bc7a855e217856757ad3413cf6d1f79/base/arraymath.jl#L38\" target=\"_blank\">arraymath.jl:38</a></li> <li> +(x::<b>T</b>, y::<b>Integer</b>)<i> where T<:AbstractChar</i> in Base at <a href=\"https://github.com/JuliaLang/julia/tree/c6da87ff4bc7a855e217856757ad3413cf6d1f79/base/char.jl#L223\" target=\"_blank\">char.jl:223</a></li> <li> +(index1::<b>CartesianIndex{N}</b>, index2::<b>CartesianIndex{N}</b>)<i> where N</i> in Base.IteratorsMD at <a href=\"https://github.com/JuliaLang/julia/tree/c6da87ff4bc7a855e217856757ad3413cf6d1f79/base/multidimensional.jl#L110\" target=\"_blank\">multidimensional.jl:110</a></li> <li> +(::<b>Number</b>, ::<b>Missing</b>) in Base at <a href=\"https://github.com/JuliaLang/julia/tree/c6da87ff4bc7a855e217856757ad3413cf6d1f79/base/missing.jl#L95\" target=\"_blank\">missing.jl:95</a></li> <li> +(x::<b>P</b>, y::<b>P</b>)<i> where P<:Dates.Period</i> in Dates at <a href=\"file://C:/cygwin/home/Administrator/buildbot/worker/package_win64/build/usr/share/julia/stdlib/v1.2/Dates/src/periods.jl\" target=\"_blank\">C:\\cygwin\\home\\Administrator\\buildbot\\worker\\package_win64\\build\\usr\\share\\julia\\stdlib\\v1.2\\Dates\\src\\periods.jl:75</a></li> <li> +(x::<b>Dates.Period</b>, y::<b>Dates.Period</b>) in Dates at <a href=\"file://C:/cygwin/home/Administrator/buildbot/worker/package_win64/build/usr/share/julia/stdlib/v1.2/Dates/src/periods.jl\" target=\"_blank\">C:\\cygwin\\home\\Administrator\\buildbot\\worker\\package_win64\\build\\usr\\share\\julia\\stdlib\\v1.2\\Dates\\src\\periods.jl:340</a></li> <li> +(y::<b>Dates.Period</b>, x::<b>Dates.CompoundPeriod</b>) in Dates at <a href=\"file://C:/cygwin/home/Administrator/buildbot/worker/package_win64/build/usr/share/julia/stdlib/v1.2/Dates/src/periods.jl\" target=\"_blank\">C:\\cygwin\\home\\Administrator\\buildbot\\worker\\package_win64\\build\\usr\\share\\julia\\stdlib\\v1.2\\Dates\\src\\periods.jl:342</a></li> <li> +(x::<b>Union{Dates.CompoundPeriod, Dates.Period}</b>) in Dates at <a href=\"file://C:/cygwin/home/Administrator/buildbot/worker/package_win64/build/usr/share/julia/stdlib/v1.2/Dates/src/periods.jl\" target=\"_blank\">C:\\cygwin\\home\\Administrator\\buildbot\\worker\\package_win64\\build\\usr\\share\\julia\\stdlib\\v1.2\\Dates\\src\\periods.jl:351</a></li> <li> +(x::<b>Dates.TimeType</b>) in Dates at <a href=\"file://C:/cygwin/home/Administrator/buildbot/worker/package_win64/build/usr/share/julia/stdlib/v1.2/Dates/src/arithmetic.jl\" target=\"_blank\">C:\\cygwin\\home\\Administrator\\buildbot\\worker\\package_win64\\build\\usr\\share\\julia\\stdlib\\v1.2\\Dates\\src\\arithmetic.jl:8</a></li> <li> +(a::<b>Dates.TimeType</b>, b::<b>Dates.Period</b>, c::<b>Dates.Period</b>) in Dates at <a href=\"file://C:/cygwin/home/Administrator/buildbot/worker/package_win64/build/usr/share/julia/stdlib/v1.2/Dates/src/periods.jl\" target=\"_blank\">C:\\cygwin\\home\\Administrator\\buildbot\\worker\\package_win64\\build\\usr\\share\\julia\\stdlib\\v1.2\\Dates\\src\\periods.jl:362</a></li> <li> +(a::<b>Dates.TimeType</b>, b::<b>Dates.Period</b>, c::<b>Dates.Period</b>, d::<b>Dates.Period...</b>) in Dates at <a href=\"file://C:/cygwin/home/Administrator/buildbot/worker/package_win64/build/usr/share/julia/stdlib/v1.2/Dates/src/periods.jl\" target=\"_blank\">C:\\cygwin\\home\\Administrator\\buildbot\\worker\\package_win64\\build\\usr\\share\\julia\\stdlib\\v1.2\\Dates\\src\\periods.jl:363</a></li> <li> +(x::<b>Dates.TimeType</b>, y::<b>Dates.CompoundPeriod</b>) in Dates at <a href=\"file://C:/cygwin/home/Administrator/buildbot/worker/package_win64/build/usr/share/julia/stdlib/v1.2/Dates/src/periods.jl\" target=\"_blank\">C:\\cygwin\\home\\Administrator\\buildbot\\worker\\package_win64\\build\\usr\\share\\julia\\stdlib\\v1.2\\Dates\\src\\periods.jl:366</a></li> <li> +(x::<b>Dates.Instant</b>) in Dates at <a href=\"file://C:/cygwin/home/Administrator/buildbot/worker/package_win64/build/usr/share/julia/stdlib/v1.2/Dates/src/arithmetic.jl\" target=\"_blank\">C:\\cygwin\\home\\Administrator\\buildbot\\worker\\package_win64\\build\\usr\\share\\julia\\stdlib\\v1.2\\Dates\\src\\arithmetic.jl:4</a></li> <li> +(y::<b>Dates.Period</b>, x::<b>Dates.TimeType</b>) in Dates at <a href=\"file://C:/cygwin/home/Administrator/buildbot/worker/package_win64/build/usr/share/julia/stdlib/v1.2/Dates/src/arithmetic.jl\" target=\"_blank\">C:\\cygwin\\home\\Administrator\\buildbot\\worker\\package_win64\\build\\usr\\share\\julia\\stdlib\\v1.2\\Dates\\src\\arithmetic.jl:80</a></li> <li> +(x::<b>Dates.Period</b>, r::<b>AbstractRange{#s617} where #s617<:Dates.TimeType</b>) in Dates at <a href=\"file://C:/cygwin/home/Administrator/buildbot/worker/package_win64/build/usr/share/julia/stdlib/v1.2/Dates/src/ranges.jl\" target=\"_blank\">C:\\cygwin\\home\\Administrator\\buildbot\\worker\\package_win64\\build\\usr\\share\\julia\\stdlib\\v1.2\\Dates\\src\\ranges.jl:58</a></li> <li> +(x::<b>AbstractArray{#s617,N} where N where #s617<:Dates.TimeType</b>, y::<b>Union{Dates.CompoundPeriod, Dates.Period}</b>) in Dates at <a href=\"file://C:/cygwin/home/Administrator/buildbot/worker/package_win64/build/usr/share/julia/stdlib/v1.2/Dates/src/deprecated.jl\" target=\"_blank\">C:\\cygwin\\home\\Administrator\\buildbot\\worker\\package_win64\\build\\usr\\share\\julia\\stdlib\\v1.2\\Dates\\src\\deprecated.jl:8</a></li> <li> +(y::<b>Union{Dates.CompoundPeriod, Dates.Period}</b>, x::<b>AbstractArray{#s617,N} where N where #s617<:Dates.TimeType</b>) in Dates at <a href=\"file://C:/cygwin/home/Administrator/buildbot/worker/package_win64/build/usr/share/julia/stdlib/v1.2/Dates/src/deprecated.jl\" target=\"_blank\">C:\\cygwin\\home\\Administrator\\buildbot\\worker\\package_win64\\build\\usr\\share\\julia\\stdlib\\v1.2\\Dates\\src\\deprecated.jl:16</a></li> <li> +(y::<b>Dates.TimeType</b>, x::<b>Union{DenseArray{#s617,N}, Base.ReinterpretArray{#s617,N,S,A} where S where A<:Union{SubArray{T,N,A,I,true} where I<:Union{Tuple{Vararg{Real,N} where N}, Tuple{AbstractUnitRange,Vararg{Any,N} where N}} where A<:DenseArray where N where T, DenseArray}, Base.ReshapedArray{#s617,N,A,MI} where MI<:Tuple{Vararg{Base.MultiplicativeInverses.SignedMultiplicativeInverse{Int64},N} where N} where A<:Union{Base.ReinterpretArray{T,N,S,A} where S where A<:Union{SubArray{T,N,A,I,true} where I<:Union{Tuple{Vararg{Real,N} where N}, Tuple{AbstractUnitRange,Vararg{Any,N} where N}} where A<:DenseArray where N where T, DenseArray} where N where T, SubArray{T,N,A,I,true} where I<:Union{Tuple{Vararg{Real,N} where N}, Tuple{AbstractUnitRange,Vararg{Any,N} where N}} where A<:DenseArray where N where T, DenseArray}, SubArray{#s617,N,A,I,L} where L where I<:Tuple{Vararg{Union{Int64, AbstractRange{Int64}, Base.AbstractCartesianIndex},N} where N} where A<:Union{Base.ReinterpretArray{T,N,S,A} where S where A<:Union{SubArray{T,N,A,I,true} where I<:Union{Tuple{Vararg{Real,N} where N}, Tuple{AbstractUnitRange,Vararg{Any,N} where N}} where A<:DenseArray where N where T, DenseArray} where N where T, Base.ReshapedArray{T,N,A,MI} where MI<:Tuple{Vararg{Base.MultiplicativeInverses.SignedMultiplicativeInverse{Int64},N} where N} where A<:Union{Base.ReinterpretArray{T,N,S,A} where S where A<:Union{SubArray{T,N,A,I,true} where I<:Union{Tuple{Vararg{Real,N} where N}, Tuple{AbstractUnitRange,Vararg{Any,N} where N}} where A<:DenseArray where N where T, DenseArray} where N where T, SubArray{T,N,A,I,true} where I<:Union{Tuple{Vararg{Real,N} where N}, Tuple{AbstractUnitRange,Vararg{Any,N} where N}} where A<:DenseArray where N where T, DenseArray} where N where T, DenseArray}} where N where #s617<:Union{Dates.CompoundPeriod, Dates.Period}</b>) in Dates at <a href=\"file://C:/cygwin/home/Administrator/buildbot/worker/package_win64/build/usr/share/julia/stdlib/v1.2/Dates/src/deprecated.jl\" target=\"_blank\">C:\\cygwin\\home\\Administrator\\buildbot\\worker\\package_win64\\build\\usr\\share\\julia\\stdlib\\v1.2\\Dates\\src\\deprecated.jl:20</a></li> <li> +(J::<b>LinearAlgebra.UniformScaling</b>, x::<b>Number</b>) in LinearAlgebra at <a href=\"file://C:/cygwin/home/Administrator/buildbot/worker/package_win64/build/usr/share/julia/stdlib/v1.2/LinearAlgebra/src/uniformscaling.jl\" target=\"_blank\">C:\\cygwin\\home\\Administrator\\buildbot\\worker\\package_win64\\build\\usr\\share\\julia\\stdlib\\v1.2\\LinearAlgebra\\src\\uniformscaling.jl:109</a></li> <li> +(x::<b>Number</b>, J::<b>LinearAlgebra.UniformScaling</b>) in LinearAlgebra at <a href=\"file://C:/cygwin/home/Administrator/buildbot/worker/package_win64/build/usr/share/julia/stdlib/v1.2/LinearAlgebra/src/uniformscaling.jl\" target=\"_blank\">C:\\cygwin\\home\\Administrator\\buildbot\\worker\\package_win64\\build\\usr\\share\\julia\\stdlib\\v1.2\\LinearAlgebra\\src\\uniformscaling.jl:110</a></li> <li> +(J1::<b>LinearAlgebra.UniformScaling</b>, J2::<b>LinearAlgebra.UniformScaling</b>) in LinearAlgebra at <a href=\"file://C:/cygwin/home/Administrator/buildbot/worker/package_win64/build/usr/share/julia/stdlib/v1.2/LinearAlgebra/src/uniformscaling.jl\" target=\"_blank\">C:\\cygwin\\home\\Administrator\\buildbot\\worker\\package_win64\\build\\usr\\share\\julia\\stdlib\\v1.2\\LinearAlgebra\\src\\uniformscaling.jl:114</a></li> <li> +(J::<b>LinearAlgebra.UniformScaling</b>, B::<b>BitArray{2}</b>) in LinearAlgebra at <a href=\"file://C:/cygwin/home/Administrator/buildbot/worker/package_win64/build/usr/share/julia/stdlib/v1.2/LinearAlgebra/src/uniformscaling.jl\" target=\"_blank\">C:\\cygwin\\home\\Administrator\\buildbot\\worker\\package_win64\\build\\usr\\share\\julia\\stdlib\\v1.2\\LinearAlgebra\\src\\uniformscaling.jl:116</a></li> <li> +(A::<b>LinearAlgebra.UniformScaling</b>, B::<b>LinearAlgebra.Tridiagonal{#s617,V} where V<:AbstractArray{#s617,1} where #s617<:Number</b>) in LinearAlgebra at <a href=\"file://C:/cygwin/home/Administrator/buildbot/worker/package_win64/build/usr/share/julia/stdlib/v1.2/LinearAlgebra/src/special.jl\" target=\"_blank\">C:\\cygwin\\home\\Administrator\\buildbot\\worker\\package_win64\\build\\usr\\share\\julia\\stdlib\\v1.2\\LinearAlgebra\\src\\special.jl:257</a></li> <li> +(A::<b>LinearAlgebra.UniformScaling</b>, B::<b>LinearAlgebra.SymTridiagonal{#s617,V} where V<:AbstractArray{#s617,1} where #s617<:Number</b>) in LinearAlgebra at <a href=\"file://C:/cygwin/home/Administrator/buildbot/worker/package_win64/build/usr/share/julia/stdlib/v1.2/LinearAlgebra/src/special.jl\" target=\"_blank\">C:\\cygwin\\home\\Administrator\\buildbot\\worker\\package_win64\\build\\usr\\share\\julia\\stdlib\\v1.2\\LinearAlgebra\\src\\special.jl:262</a></li> <li> +(A::<b>LinearAlgebra.UniformScaling</b>, B::<b>LinearAlgebra.Bidiagonal{#s617,V} where V<:AbstractArray{#s617,1} where #s617<:Number</b>) in LinearAlgebra at <a href=\"file://C:/cygwin/home/Administrator/buildbot/worker/package_win64/build/usr/share/julia/stdlib/v1.2/LinearAlgebra/src/special.jl\" target=\"_blank\">C:\\cygwin\\home\\Administrator\\buildbot\\worker\\package_win64\\build\\usr\\share\\julia\\stdlib\\v1.2\\LinearAlgebra\\src\\special.jl:267</a></li> <li> +(A::<b>LinearAlgebra.UniformScaling</b>, B::<b>LinearAlgebra.Diagonal{#s617,V} where V<:AbstractArray{#s617,1} where #s617<:Number</b>) in LinearAlgebra at <a href=\"file://C:/cygwin/home/Administrator/buildbot/worker/package_win64/build/usr/share/julia/stdlib/v1.2/LinearAlgebra/src/special.jl\" target=\"_blank\">C:\\cygwin\\home\\Administrator\\buildbot\\worker\\package_win64\\build\\usr\\share\\julia\\stdlib\\v1.2\\LinearAlgebra\\src\\special.jl:272</a></li> <li> +(J::<b>LinearAlgebra.UniformScaling</b>, A::<b>AbstractArray{T,2} where T</b>) in LinearAlgebra at <a href=\"file://C:/cygwin/home/Administrator/buildbot/worker/package_win64/build/usr/share/julia/stdlib/v1.2/LinearAlgebra/src/uniformscaling.jl\" target=\"_blank\">C:\\cygwin\\home\\Administrator\\buildbot\\worker\\package_win64\\build\\usr\\share\\julia\\stdlib\\v1.2\\LinearAlgebra\\src\\uniformscaling.jl:117</a></li> <li> +(a, b, c, xs...) in Base at <a href=\"https://github.com/JuliaLang/julia/tree/c6da87ff4bc7a855e217856757ad3413cf6d1f79/base/operators.jl#L529\" target=\"_blank\">operators.jl:529</a></li> </ul>"
      ],
      "text/plain": [
       "# 161 methods for generic function \"+\":\n",
       "[1] +(x::Bool, z::Complex{Bool}) in Base at complex.jl:278\n",
       "[2] +(x::Bool, y::Bool) in Base at bool.jl:96\n",
       "[3] +(x::Bool) in Base at bool.jl:93\n",
       "[4] +(x::Bool, y::T) where T<:AbstractFloat in Base at bool.jl:104\n",
       "[5] +(x::Bool, z::Complex) in Base at complex.jl:285\n",
       "[6] +(a::Float16, b::Float16) in Base at float.jl:392\n",
       "[7] +(x::Float32, y::Float32) in Base at float.jl:394\n",
       "[8] +(x::Float64, y::Float64) in Base at float.jl:395\n",
       "[9] +(z::Complex{Bool}, x::Bool) in Base at complex.jl:279\n",
       "[10] +(z::Complex{Bool}, x::Real) in Base at complex.jl:293\n",
       "[11] +(::Missing, ::Missing) in Base at missing.jl:93\n",
       "[12] +(::Missing) in Base at missing.jl:79\n",
       "[13] +(::Missing, ::Number) in Base at missing.jl:94\n",
       "[14] +(level::Base.CoreLogging.LogLevel, inc::Integer) in Base.CoreLogging at logging.jl:106\n",
       "[15] +(c::BigInt, x::BigFloat) in Base.MPFR at mpfr.jl:413\n",
       "[16] +(a::BigInt, b::BigInt, c::BigInt, d::BigInt, e::BigInt) in Base.GMP at gmp.jl:455\n",
       "[17] +(a::BigInt, b::BigInt, c::BigInt, d::BigInt) in Base.GMP at gmp.jl:454\n",
       "[18] +(a::BigInt, b::BigInt, c::BigInt) in Base.GMP at gmp.jl:453\n",
       "[19] +(x::BigInt, y::BigInt) in Base.GMP at gmp.jl:424\n",
       "[20] +(x::BigInt, c::Union{UInt16, UInt32, UInt8}) in Base.GMP at gmp.jl:461\n",
       "[21] +(x::BigInt, c::Union{Int16, Int32, Int8}) in Base.GMP at gmp.jl:467\n",
       "[22] +(a::BigFloat, b::BigFloat, c::BigFloat, d::BigFloat, e::BigFloat) in Base.MPFR at mpfr.jl:563\n",
       "[23] +(a::BigFloat, b::BigFloat, c::BigFloat, d::BigFloat) in Base.MPFR at mpfr.jl:556\n",
       "[24] +(a::BigFloat, b::BigFloat, c::BigFloat) in Base.MPFR at mpfr.jl:550\n",
       "[25] +(x::BigFloat, c::BigInt) in Base.MPFR at mpfr.jl:409\n",
       "[26] +(x::BigFloat, y::BigFloat) in Base.MPFR at mpfr.jl:378\n",
       "[27] +(x::BigFloat, c::Union{UInt16, UInt32, UInt8}) in Base.MPFR at mpfr.jl:385\n",
       "[28] +(x::BigFloat, c::Union{Int16, Int32, Int8}) in Base.MPFR at mpfr.jl:393\n",
       "[29] +(x::BigFloat, c::Union{Float16, Float32, Float64}) in Base.MPFR at mpfr.jl:401\n",
       "[30] +(x::Dates.CompoundPeriod, y::Dates.CompoundPeriod) in Dates at C:\\cygwin\\home\\Administrator\\buildbot\\worker\\package_win64\\build\\usr\\share\\julia\\stdlib\\v1.2\\Dates\\src\\periods.jl:343\n",
       "[31] +(x::Dates.CompoundPeriod, y::Dates.Period) in Dates at C:\\cygwin\\home\\Administrator\\buildbot\\worker\\package_win64\\build\\usr\\share\\julia\\stdlib\\v1.2\\Dates\\src\\periods.jl:341\n",
       "[32] +(x::Dates.CompoundPeriod, y::Dates.TimeType) in Dates at C:\\cygwin\\home\\Administrator\\buildbot\\worker\\package_win64\\build\\usr\\share\\julia\\stdlib\\v1.2\\Dates\\src\\periods.jl:371\n",
       "[33] +(x::Dates.Date, y::Dates.Day) in Dates at C:\\cygwin\\home\\Administrator\\buildbot\\worker\\package_win64\\build\\usr\\share\\julia\\stdlib\\v1.2\\Dates\\src\\arithmetic.jl:74\n",
       "[34] +(x::Dates.Date, y::Dates.Week) in Dates at C:\\cygwin\\home\\Administrator\\buildbot\\worker\\package_win64\\build\\usr\\share\\julia\\stdlib\\v1.2\\Dates\\src\\arithmetic.jl:72\n",
       "[35] +(dt::Dates.Date, z::Dates.Month) in Dates at C:\\cygwin\\home\\Administrator\\buildbot\\worker\\package_win64\\build\\usr\\share\\julia\\stdlib\\v1.2\\Dates\\src\\arithmetic.jl:55\n",
       "[36] +(dt::Dates.Date, y::Dates.Year) in Dates at C:\\cygwin\\home\\Administrator\\buildbot\\worker\\package_win64\\build\\usr\\share\\julia\\stdlib\\v1.2\\Dates\\src\\arithmetic.jl:28\n",
       "[37] +(dt::Dates.Date, t::Dates.Time) in Dates at C:\\cygwin\\home\\Administrator\\buildbot\\worker\\package_win64\\build\\usr\\share\\julia\\stdlib\\v1.2\\Dates\\src\\arithmetic.jl:19\n",
       "[38] +(t::Dates.Time, dt::Dates.Date) in Dates at C:\\cygwin\\home\\Administrator\\buildbot\\worker\\package_win64\\build\\usr\\share\\julia\\stdlib\\v1.2\\Dates\\src\\arithmetic.jl:20\n",
       "[39] +(x::Dates.Time, y::Dates.TimePeriod) in Dates at C:\\cygwin\\home\\Administrator\\buildbot\\worker\\package_win64\\build\\usr\\share\\julia\\stdlib\\v1.2\\Dates\\src\\arithmetic.jl:78\n",
       "[40] +(dt::Dates.DateTime, z::Dates.Month) in Dates at C:\\cygwin\\home\\Administrator\\buildbot\\worker\\package_win64\\build\\usr\\share\\julia\\stdlib\\v1.2\\Dates\\src\\arithmetic.jl:48\n",
       "[41] +(dt::Dates.DateTime, y::Dates.Year) in Dates at C:\\cygwin\\home\\Administrator\\buildbot\\worker\\package_win64\\build\\usr\\share\\julia\\stdlib\\v1.2\\Dates\\src\\arithmetic.jl:24\n",
       "[42] +(x::Dates.DateTime, y::Dates.Period) in Dates at C:\\cygwin\\home\\Administrator\\buildbot\\worker\\package_win64\\build\\usr\\share\\julia\\stdlib\\v1.2\\Dates\\src\\arithmetic.jl:76\n",
       "[43] +(B::BitArray{2}, J::LinearAlgebra.UniformScaling) in LinearAlgebra at C:\\cygwin\\home\\Administrator\\buildbot\\worker\\package_win64\\build\\usr\\share\\julia\\stdlib\\v1.2\\LinearAlgebra\\src\\uniformscaling.jl:115\n",
       "[44] +(a::Pkg.Resolve.VersionWeights.VersionWeight, b::Pkg.Resolve.VersionWeights.VersionWeight) in Pkg.Resolve.VersionWeights at C:\\cygwin\\home\\Administrator\\buildbot\\worker\\package_win64\\build\\usr\\share\\julia\\stdlib\\v1.2\\Pkg\\src\\resolve\\VersionWeights.jl:26\n",
       "[45] +(a::Pkg.Resolve.MaxSum.FieldValues.FieldValue, b::Pkg.Resolve.MaxSum.FieldValues.FieldValue) in Pkg.Resolve.MaxSum.FieldValues at C:\\cygwin\\home\\Administrator\\buildbot\\worker\\package_win64\\build\\usr\\share\\julia\\stdlib\\v1.2\\Pkg\\src\\resolve\\FieldValues.jl:49\n",
       "[46] +(y::AbstractFloat, x::Bool) in Base at bool.jl:106\n",
       "[47] +(x::T, y::T) where T<:Union{Int128, Int16, Int32, Int64, Int8, UInt128, UInt16, UInt32, UInt64, UInt8} in Base at int.jl:53\n",
       "[48] +(c::Union{UInt16, UInt32, UInt8}, x::BigInt) in Base.GMP at gmp.jl:462\n",
       "[49] +(c::Union{Int16, Int32, Int8}, x::BigInt) in Base.GMP at gmp.jl:468\n",
       "[50] +(a::Integer, b::Integer) in Base at int.jl:871\n",
       "[51] +(x::Integer, y::Ptr) in Base at pointer.jl:161\n",
       "[52] +(z::Complex) in Base at complex.jl:265\n",
       "[53] +(z::Complex, w::Complex) in Base at complex.jl:267\n",
       "[54] +(z::Complex, x::Bool) in Base at complex.jl:286\n",
       "[55] +(x::Real, z::Complex{Bool}) in Base at complex.jl:292\n",
       "[56] +(x::Real, z::Complex) in Base at complex.jl:304\n",
       "[57] +(z::Complex, x::Real) in Base at complex.jl:305\n",
       "[58] +(x::Rational, y::Rational) in Base at rational.jl:254\n",
       "[59] +(x::Integer, y::AbstractChar) in Base at char.jl:224\n",
       "[60] +(c::Union{UInt16, UInt32, UInt8}, x::BigFloat) in Base.MPFR at mpfr.jl:389\n",
       "[61] +(c::Union{Int16, Int32, Int8}, x::BigFloat) in Base.MPFR at mpfr.jl:397\n",
       "[62] +(c::Union{Float16, Float32, Float64}, x::BigFloat) in Base.MPFR at mpfr.jl:405\n",
       "[63] +(x::AbstractIrrational, y::AbstractIrrational) in Base at irrationals.jl:137\n",
       "[64] +(x::Number) in Base at operators.jl:504\n",
       "[65] +(x::T, y::T) where T<:Number in Base at promotion.jl:389\n",
       "[66] +(x::Number, y::Number) in Base at promotion.jl:313\n",
       "[67] +(r1::OrdinalRange, r2::OrdinalRange) in Base at range.jl:1004\n",
       "[68] +(r1::LinRange{T}, r2::LinRange{T}) where T in Base at range.jl:1011\n",
       "[69] +(r1::StepRangeLen{T,R,S} where S, r2::StepRangeLen{T,R,S} where S) where {R<:Base.TwicePrecision, T} in Base at twiceprecision.jl:557\n",
       "[70] +(r1::StepRangeLen{T,S,S1} where S1, r2::StepRangeLen{T,S,S1} where S1) where {T, S} in Base at range.jl:1027\n",
       "[71] +(r1::Union{LinRange, OrdinalRange, StepRangeLen}, r2::Union{LinRange, OrdinalRange, StepRangeLen}) in Base at range.jl:1019\n",
       "[72] +(x::Ptr, y::Integer) in Base at pointer.jl:159\n",
       "[73] +(x::Base.TwicePrecision, y::Number) in Base at twiceprecision.jl:265\n",
       "[74] +(x::Number, y::Base.TwicePrecision) in Base at twiceprecision.jl:268\n",
       "[75] +(x::Base.TwicePrecision{T}, y::Base.TwicePrecision{T}) where T in Base at twiceprecision.jl:271\n",
       "[76] +(x::Base.TwicePrecision, y::Base.TwicePrecision) in Base at twiceprecision.jl:275\n",
       "[77] +(A::Array, Bs::Array...) in Base at arraymath.jl:44\n",
       "[78] +(A::BitArray, B::BitArray) in Base at bitarray.jl:1084\n",
       "[79] +(r::AbstractRange{#s617} where #s617<:Dates.TimeType, x::Dates.Period) in Dates at C:\\cygwin\\home\\Administrator\\buildbot\\worker\\package_win64\\build\\usr\\share\\julia\\stdlib\\v1.2\\Dates\\src\\ranges.jl:59\n",
       "[80] +(A::Array, B::SparseArrays.SparseMatrixCSC) in SparseArrays at C:\\cygwin\\home\\Administrator\\buildbot\\worker\\package_win64\\build\\usr\\share\\julia\\stdlib\\v1.2\\SparseArrays\\src\\sparsematrix.jl:1519\n",
       "[81] +(x::Union{DenseArray{#s617,N}, Base.ReinterpretArray{#s617,N,S,A} where S where A<:Union{SubArray{T,N,A,I,true} where I<:Union{Tuple{Vararg{Real,N} where N}, Tuple{AbstractUnitRange,Vararg{Any,N} where N}} where A<:DenseArray where N where T, DenseArray}, Base.ReshapedArray{#s617,N,A,MI} where MI<:Tuple{Vararg{Base.MultiplicativeInverses.SignedMultiplicativeInverse{Int64},N} where N} where A<:Union{Base.ReinterpretArray{T,N,S,A} where S where A<:Union{SubArray{T,N,A,I,true} where I<:Union{Tuple{Vararg{Real,N} where N}, Tuple{AbstractUnitRange,Vararg{Any,N} where N}} where A<:DenseArray where N where T, DenseArray} where N where T, SubArray{T,N,A,I,true} where I<:Union{Tuple{Vararg{Real,N} where N}, Tuple{AbstractUnitRange,Vararg{Any,N} where N}} where A<:DenseArray where N where T, DenseArray}, SubArray{#s617,N,A,I,L} where L where I<:Tuple{Vararg{Union{Int64, AbstractRange{Int64}, Base.AbstractCartesianIndex},N} where N} where A<:Union{Base.ReinterpretArray{T,N,S,A} where S where A<:Union{SubArray{T,N,A,I,true} where I<:Union{Tuple{Vararg{Real,N} where N}, Tuple{AbstractUnitRange,Vararg{Any,N} where N}} where A<:DenseArray where N where T, DenseArray} where N where T, Base.ReshapedArray{T,N,A,MI} where MI<:Tuple{Vararg{Base.MultiplicativeInverses.SignedMultiplicativeInverse{Int64},N} where N} where A<:Union{Base.ReinterpretArray{T,N,S,A} where S where A<:Union{SubArray{T,N,A,I,true} where I<:Union{Tuple{Vararg{Real,N} where N}, Tuple{AbstractUnitRange,Vararg{Any,N} where N}} where A<:DenseArray where N where T, DenseArray} where N where T, SubArray{T,N,A,I,true} where I<:Union{Tuple{Vararg{Real,N} where N}, Tuple{AbstractUnitRange,Vararg{Any,N} where N}} where A<:DenseArray where N where T, DenseArray} where N where T, DenseArray}} where N where #s617<:Union{Dates.CompoundPeriod, Dates.Period}) in Dates at C:\\cygwin\\home\\Administrator\\buildbot\\worker\\package_win64\\build\\usr\\share\\julia\\stdlib\\v1.2\\Dates\\src\\deprecated.jl:57\n",
       "[82] +(x::Union{DenseArray{#s617,N}, Base.ReinterpretArray{#s617,N,S,A} where S where A<:Union{SubArray{T,N,A,I,true} where I<:Union{Tuple{Vararg{Real,N} where N}, Tuple{AbstractUnitRange,Vararg{Any,N} where N}} where A<:DenseArray where N where T, DenseArray}, Base.ReshapedArray{#s617,N,A,MI} where MI<:Tuple{Vararg{Base.MultiplicativeInverses.SignedMultiplicativeInverse{Int64},N} where N} where A<:Union{Base.ReinterpretArray{T,N,S,A} where S where A<:Union{SubArray{T,N,A,I,true} where I<:Union{Tuple{Vararg{Real,N} where N}, Tuple{AbstractUnitRange,Vararg{Any,N} where N}} where A<:DenseArray where N where T, DenseArray} where N where T, SubArray{T,N,A,I,true} where I<:Union{Tuple{Vararg{Real,N} where N}, Tuple{AbstractUnitRange,Vararg{Any,N} where N}} where A<:DenseArray where N where T, DenseArray}, SubArray{#s617,N,A,I,L} where L where I<:Tuple{Vararg{Union{Int64, AbstractRange{Int64}, Base.AbstractCartesianIndex},N} where N} where A<:Union{Base.ReinterpretArray{T,N,S,A} where S where A<:Union{SubArray{T,N,A,I,true} where I<:Union{Tuple{Vararg{Real,N} where N}, Tuple{AbstractUnitRange,Vararg{Any,N} where N}} where A<:DenseArray where N where T, DenseArray} where N where T, Base.ReshapedArray{T,N,A,MI} where MI<:Tuple{Vararg{Base.MultiplicativeInverses.SignedMultiplicativeInverse{Int64},N} where N} where A<:Union{Base.ReinterpretArray{T,N,S,A} where S where A<:Union{SubArray{T,N,A,I,true} where I<:Union{Tuple{Vararg{Real,N} where N}, Tuple{AbstractUnitRange,Vararg{Any,N} where N}} where A<:DenseArray where N where T, DenseArray} where N where T, SubArray{T,N,A,I,true} where I<:Union{Tuple{Vararg{Real,N} where N}, Tuple{AbstractUnitRange,Vararg{Any,N} where N}} where A<:DenseArray where N where T, DenseArray} where N where T, DenseArray}} where N where #s617<:Union{Dates.CompoundPeriod, Dates.Period}, y::Dates.TimeType) in Dates at C:\\cygwin\\home\\Administrator\\buildbot\\worker\\package_win64\\build\\usr\\share\\julia\\stdlib\\v1.2\\Dates\\src\\deprecated.jl:12\n",
       "[83] +(X::Union{DenseArray{#s617,N}, Base.ReinterpretArray{#s617,N,S,A} where S where A<:Union{SubArray{T,N,A,I,true} where I<:Union{Tuple{Vararg{Real,N} where N}, Tuple{AbstractUnitRange,Vararg{Any,N} where N}} where A<:DenseArray where N where T, DenseArray}, Base.ReshapedArray{#s617,N,A,MI} where MI<:Tuple{Vararg{Base.MultiplicativeInverses.SignedMultiplicativeInverse{Int64},N} where N} where A<:Union{Base.ReinterpretArray{T,N,S,A} where S where A<:Union{SubArray{T,N,A,I,true} where I<:Union{Tuple{Vararg{Real,N} where N}, Tuple{AbstractUnitRange,Vararg{Any,N} where N}} where A<:DenseArray where N where T, DenseArray} where N where T, SubArray{T,N,A,I,true} where I<:Union{Tuple{Vararg{Real,N} where N}, Tuple{AbstractUnitRange,Vararg{Any,N} where N}} where A<:DenseArray where N where T, DenseArray}, SubArray{#s617,N,A,I,L} where L where I<:Tuple{Vararg{Union{Int64, AbstractRange{Int64}, Base.AbstractCartesianIndex},N} where N} where A<:Union{Base.ReinterpretArray{T,N,S,A} where S where A<:Union{SubArray{T,N,A,I,true} where I<:Union{Tuple{Vararg{Real,N} where N}, Tuple{AbstractUnitRange,Vararg{Any,N} where N}} where A<:DenseArray where N where T, DenseArray} where N where T, Base.ReshapedArray{T,N,A,MI} where MI<:Tuple{Vararg{Base.MultiplicativeInverses.SignedMultiplicativeInverse{Int64},N} where N} where A<:Union{Base.ReinterpretArray{T,N,S,A} where S where A<:Union{SubArray{T,N,A,I,true} where I<:Union{Tuple{Vararg{Real,N} where N}, Tuple{AbstractUnitRange,Vararg{Any,N} where N}} where A<:DenseArray where N where T, DenseArray} where N where T, SubArray{T,N,A,I,true} where I<:Union{Tuple{Vararg{Real,N} where N}, Tuple{AbstractUnitRange,Vararg{Any,N} where N}} where A<:DenseArray where N where T, DenseArray} where N where T, DenseArray}} where N where #s617<:Union{Dates.CompoundPeriod, Dates.Period}, Y::Union{DenseArray{#s616,N}, Base.ReinterpretArray{#s616,N,S,A} where S where A<:Union{SubArray{T,N,A,I,true} where I<:Union{Tuple{Vararg{Real,N} where N}, Tuple{AbstractUnitRange,Vararg{Any,N} where N}} where A<:DenseArray where N where T, DenseArray}, Base.ReshapedArray{#s616,N,A,MI} where MI<:Tuple{Vararg{Base.MultiplicativeInverses.SignedMultiplicativeInverse{Int64},N} where N} where A<:Union{Base.ReinterpretArray{T,N,S,A} where S where A<:Union{SubArray{T,N,A,I,true} where I<:Union{Tuple{Vararg{Real,N} where N}, Tuple{AbstractUnitRange,Vararg{Any,N} where N}} where A<:DenseArray where N where T, DenseArray} where N where T, SubArray{T,N,A,I,true} where I<:Union{Tuple{Vararg{Real,N} where N}, Tuple{AbstractUnitRange,Vararg{Any,N} where N}} where A<:DenseArray where N where T, DenseArray}, SubArray{#s616,N,A,I,L} where L where I<:Tuple{Vararg{Union{Int64, AbstractRange{Int64}, Base.AbstractCartesianIndex},N} where N} where A<:Union{Base.ReinterpretArray{T,N,S,A} where S where A<:Union{SubArray{T,N,A,I,true} where I<:Union{Tuple{Vararg{Real,N} where N}, Tuple{AbstractUnitRange,Vararg{Any,N} where N}} where A<:DenseArray where N where T, DenseArray} where N where T, Base.ReshapedArray{T,N,A,MI} where MI<:Tuple{Vararg{Base.MultiplicativeInverses.SignedMultiplicativeInverse{Int64},N} where N} where A<:Union{Base.ReinterpretArray{T,N,S,A} where S where A<:Union{SubArray{T,N,A,I,true} where I<:Union{Tuple{Vararg{Real,N} where N}, Tuple{AbstractUnitRange,Vararg{Any,N} where N}} where A<:DenseArray where N where T, DenseArray} where N where T, SubArray{T,N,A,I,true} where I<:Union{Tuple{Vararg{Real,N} where N}, Tuple{AbstractUnitRange,Vararg{Any,N} where N}} where A<:DenseArray where N where T, DenseArray} where N where T, DenseArray}} where N where #s616<:Union{Dates.CompoundPeriod, Dates.Period}) in Dates at C:\\cygwin\\home\\Administrator\\buildbot\\worker\\package_win64\\build\\usr\\share\\julia\\stdlib\\v1.2\\Dates\\src\\deprecated.jl:64\n",
       "[84] +(A::LinearAlgebra.SymTridiagonal, B::LinearAlgebra.SymTridiagonal) in LinearAlgebra at C:\\cygwin\\home\\Administrator\\buildbot\\worker\\package_win64\\build\\usr\\share\\julia\\stdlib\\v1.2\\LinearAlgebra\\src\\tridiag.jl:158\n",
       "[85] +(A::LinearAlgebra.Tridiagonal, B::LinearAlgebra.Tridiagonal) in LinearAlgebra at C:\\cygwin\\home\\Administrator\\buildbot\\worker\\package_win64\\build\\usr\\share\\julia\\stdlib\\v1.2\\LinearAlgebra\\src\\tridiag.jl:617\n",
       "[86] +(A::LinearAlgebra.UpperTriangular, B::LinearAlgebra.UpperTriangular) in LinearAlgebra at C:\\cygwin\\home\\Administrator\\buildbot\\worker\\package_win64\\build\\usr\\share\\julia\\stdlib\\v1.2\\LinearAlgebra\\src\\triangular.jl:533\n",
       "[87] +(A::LinearAlgebra.LowerTriangular, B::LinearAlgebra.LowerTriangular) in LinearAlgebra at C:\\cygwin\\home\\Administrator\\buildbot\\worker\\package_win64\\build\\usr\\share\\julia\\stdlib\\v1.2\\LinearAlgebra\\src\\triangular.jl:534\n",
       "[88] +(A::LinearAlgebra.UpperTriangular, B::LinearAlgebra.UnitUpperTriangular) in LinearAlgebra at C:\\cygwin\\home\\Administrator\\buildbot\\worker\\package_win64\\build\\usr\\share\\julia\\stdlib\\v1.2\\LinearAlgebra\\src\\triangular.jl:535\n",
       "[89] +(A::LinearAlgebra.LowerTriangular, B::LinearAlgebra.UnitLowerTriangular) in LinearAlgebra at C:\\cygwin\\home\\Administrator\\buildbot\\worker\\package_win64\\build\\usr\\share\\julia\\stdlib\\v1.2\\LinearAlgebra\\src\\triangular.jl:536\n",
       "[90] +(A::LinearAlgebra.UnitUpperTriangular, B::LinearAlgebra.UpperTriangular) in LinearAlgebra at C:\\cygwin\\home\\Administrator\\buildbot\\worker\\package_win64\\build\\usr\\share\\julia\\stdlib\\v1.2\\LinearAlgebra\\src\\triangular.jl:537\n",
       "[91] +(A::LinearAlgebra.UnitLowerTriangular, B::LinearAlgebra.LowerTriangular) in LinearAlgebra at C:\\cygwin\\home\\Administrator\\buildbot\\worker\\package_win64\\build\\usr\\share\\julia\\stdlib\\v1.2\\LinearAlgebra\\src\\triangular.jl:538\n",
       "[92] +(A::LinearAlgebra.UnitUpperTriangular, B::LinearAlgebra.UnitUpperTriangular) in LinearAlgebra at C:\\cygwin\\home\\Administrator\\buildbot\\worker\\package_win64\\build\\usr\\share\\julia\\stdlib\\v1.2\\LinearAlgebra\\src\\triangular.jl:539\n",
       "[93] +(A::LinearAlgebra.UnitLowerTriangular, B::LinearAlgebra.UnitLowerTriangular) in LinearAlgebra at C:\\cygwin\\home\\Administrator\\buildbot\\worker\\package_win64\\build\\usr\\share\\julia\\stdlib\\v1.2\\LinearAlgebra\\src\\triangular.jl:540\n",
       "[94] +(A::LinearAlgebra.AbstractTriangular, B::LinearAlgebra.AbstractTriangular) in LinearAlgebra at C:\\cygwin\\home\\Administrator\\buildbot\\worker\\package_win64\\build\\usr\\share\\julia\\stdlib\\v1.2\\LinearAlgebra\\src\\triangular.jl:541\n",
       "[95] +(A::LinearAlgebra.Symmetric, B::LinearAlgebra.Symmetric) in LinearAlgebra at C:\\cygwin\\home\\Administrator\\buildbot\\worker\\package_win64\\build\\usr\\share\\julia\\stdlib\\v1.2\\LinearAlgebra\\src\\symmetric.jl:422\n",
       "[96] +(A::LinearAlgebra.Hermitian, B::LinearAlgebra.Hermitian) in LinearAlgebra at C:\\cygwin\\home\\Administrator\\buildbot\\worker\\package_win64\\build\\usr\\share\\julia\\stdlib\\v1.2\\LinearAlgebra\\src\\symmetric.jl:423\n",
       "[97] +(A::LinearAlgebra.Hermitian, B::LinearAlgebra.Symmetric{#s617,S} where S<:(AbstractArray{#s6171,2} where #s6171<:#s617) where #s617<:Real) in LinearAlgebra at C:\\cygwin\\home\\Administrator\\buildbot\\worker\\package_win64\\build\\usr\\share\\julia\\stdlib\\v1.2\\LinearAlgebra\\src\\symmetric.jl:424\n",
       "[98] +(A::LinearAlgebra.Symmetric{#s617,S} where S<:(AbstractArray{#s6171,2} where #s6171<:#s617) where #s617<:Real, B::LinearAlgebra.Hermitian) in LinearAlgebra at C:\\cygwin\\home\\Administrator\\buildbot\\worker\\package_win64\\build\\usr\\share\\julia\\stdlib\\v1.2\\LinearAlgebra\\src\\symmetric.jl:425\n",
       "[99] +(Da::LinearAlgebra.Diagonal, Db::LinearAlgebra.Diagonal) in LinearAlgebra at C:\\cygwin\\home\\Administrator\\buildbot\\worker\\package_win64\\build\\usr\\share\\julia\\stdlib\\v1.2\\LinearAlgebra\\src\\diagonal.jl:156\n",
       "[100] +(A::LinearAlgebra.Bidiagonal, B::LinearAlgebra.Bidiagonal) in LinearAlgebra at C:\\cygwin\\home\\Administrator\\buildbot\\worker\\package_win64\\build\\usr\\share\\julia\\stdlib\\v1.2\\LinearAlgebra\\src\\bidiag.jl:307\n",
       "[101] +(UL::LinearAlgebra.UnitUpperTriangular, J::LinearAlgebra.UniformScaling) in LinearAlgebra at C:\\cygwin\\home\\Administrator\\buildbot\\worker\\package_win64\\build\\usr\\share\\julia\\stdlib\\v1.2\\LinearAlgebra\\src\\uniformscaling.jl:131\n",
       "[102] +(UL::LinearAlgebra.UnitLowerTriangular, J::LinearAlgebra.UniformScaling) in LinearAlgebra at C:\\cygwin\\home\\Administrator\\buildbot\\worker\\package_win64\\build\\usr\\share\\julia\\stdlib\\v1.2\\LinearAlgebra\\src\\uniformscaling.jl:131\n",
       "[103] +(A::LinearAlgebra.Hermitian, J::LinearAlgebra.UniformScaling{#s617} where #s617<:Complex) in LinearAlgebra at C:\\cygwin\\home\\Administrator\\buildbot\\worker\\package_win64\\build\\usr\\share\\julia\\stdlib\\v1.2\\LinearAlgebra\\src\\uniformscaling.jl:145\n",
       "[104] +(A::LinearAlgebra.Tridiagonal{#s617,V} where V<:AbstractArray{#s617,1} where #s617<:Number, B::LinearAlgebra.UniformScaling) in LinearAlgebra at C:\\cygwin\\home\\Administrator\\buildbot\\worker\\package_win64\\build\\usr\\share\\julia\\stdlib\\v1.2\\LinearAlgebra\\src\\special.jl:238\n",
       "[105] +(A::LinearAlgebra.SymTridiagonal{#s617,V} where V<:AbstractArray{#s617,1} where #s617<:Number, B::LinearAlgebra.UniformScaling) in LinearAlgebra at C:\\cygwin\\home\\Administrator\\buildbot\\worker\\package_win64\\build\\usr\\share\\julia\\stdlib\\v1.2\\LinearAlgebra\\src\\special.jl:243\n",
       "[106] +(A::LinearAlgebra.Bidiagonal{#s617,V} where V<:AbstractArray{#s617,1} where #s617<:Number, B::LinearAlgebra.UniformScaling) in LinearAlgebra at C:\\cygwin\\home\\Administrator\\buildbot\\worker\\package_win64\\build\\usr\\share\\julia\\stdlib\\v1.2\\LinearAlgebra\\src\\special.jl:248\n",
       "[107] +(A::LinearAlgebra.Diagonal{#s617,V} where V<:AbstractArray{#s617,1} where #s617<:Number, B::LinearAlgebra.UniformScaling) in LinearAlgebra at C:\\cygwin\\home\\Administrator\\buildbot\\worker\\package_win64\\build\\usr\\share\\julia\\stdlib\\v1.2\\LinearAlgebra\\src\\special.jl:253\n",
       "[108] +(A::SparseArrays.SparseMatrixCSC, J::LinearAlgebra.UniformScaling) in SparseArrays at C:\\cygwin\\home\\Administrator\\buildbot\\worker\\package_win64\\build\\usr\\share\\julia\\stdlib\\v1.2\\SparseArrays\\src\\sparsematrix.jl:3451\n",
       "[109] +(A::AbstractArray{T,2} where T, J::LinearAlgebra.UniformScaling) in LinearAlgebra at C:\\cygwin\\home\\Administrator\\buildbot\\worker\\package_win64\\build\\usr\\share\\julia\\stdlib\\v1.2\\LinearAlgebra\\src\\uniformscaling.jl:164\n",
       "[110] +(A::LinearAlgebra.UpperTriangular, B::LinearAlgebra.Bidiagonal) in LinearAlgebra at C:\\cygwin\\home\\Administrator\\buildbot\\worker\\package_win64\\build\\usr\\share\\julia\\stdlib\\v1.2\\LinearAlgebra\\src\\special.jl:98\n",
       "[111] +(A::LinearAlgebra.Bidiagonal, B::LinearAlgebra.UpperTriangular) in LinearAlgebra at C:\\cygwin\\home\\Administrator\\buildbot\\worker\\package_win64\\build\\usr\\share\\julia\\stdlib\\v1.2\\LinearAlgebra\\src\\special.jl:106\n",
       "[112] +(A::LinearAlgebra.UnitUpperTriangular, B::LinearAlgebra.Bidiagonal) in LinearAlgebra at C:\\cygwin\\home\\Administrator\\buildbot\\worker\\package_win64\\build\\usr\\share\\julia\\stdlib\\v1.2\\LinearAlgebra\\src\\special.jl:98\n",
       "[113] +(A::LinearAlgebra.Bidiagonal, B::LinearAlgebra.UnitUpperTriangular) in LinearAlgebra at C:\\cygwin\\home\\Administrator\\buildbot\\worker\\package_win64\\build\\usr\\share\\julia\\stdlib\\v1.2\\LinearAlgebra\\src\\special.jl:106\n",
       "[114] +(A::LinearAlgebra.LowerTriangular, B::LinearAlgebra.Bidiagonal) in LinearAlgebra at C:\\cygwin\\home\\Administrator\\buildbot\\worker\\package_win64\\build\\usr\\share\\julia\\stdlib\\v1.2\\LinearAlgebra\\src\\special.jl:98\n",
       "[115] +(A::LinearAlgebra.Bidiagonal, B::LinearAlgebra.LowerTriangular) in LinearAlgebra at C:\\cygwin\\home\\Administrator\\buildbot\\worker\\package_win64\\build\\usr\\share\\julia\\stdlib\\v1.2\\LinearAlgebra\\src\\special.jl:106\n",
       "[116] +(A::LinearAlgebra.UnitLowerTriangular, B::LinearAlgebra.Bidiagonal) in LinearAlgebra at C:\\cygwin\\home\\Administrator\\buildbot\\worker\\package_win64\\build\\usr\\share\\julia\\stdlib\\v1.2\\LinearAlgebra\\src\\special.jl:98\n",
       "[117] +(A::LinearAlgebra.Bidiagonal, B::LinearAlgebra.UnitLowerTriangular) in LinearAlgebra at C:\\cygwin\\home\\Administrator\\buildbot\\worker\\package_win64\\build\\usr\\share\\julia\\stdlib\\v1.2\\LinearAlgebra\\src\\special.jl:106\n",
       "[118] +(A::LinearAlgebra.Bidiagonal, B::LinearAlgebra.Diagonal) in LinearAlgebra at C:\\cygwin\\home\\Administrator\\buildbot\\worker\\package_win64\\build\\usr\\share\\julia\\stdlib\\v1.2\\LinearAlgebra\\src\\special.jl:127\n",
       "[119] +(A::LinearAlgebra.Diagonal, B::LinearAlgebra.Bidiagonal) in LinearAlgebra at C:\\cygwin\\home\\Administrator\\buildbot\\worker\\package_win64\\build\\usr\\share\\julia\\stdlib\\v1.2\\LinearAlgebra\\src\\special.jl:137\n",
       "[120] +(A::LinearAlgebra.Diagonal, B::LinearAlgebra.SymTridiagonal) in LinearAlgebra at C:\\cygwin\\home\\Administrator\\buildbot\\worker\\package_win64\\build\\usr\\share\\julia\\stdlib\\v1.2\\LinearAlgebra\\src\\special.jl:147\n",
       "[121] +(A::LinearAlgebra.SymTridiagonal, B::LinearAlgebra.Diagonal) in LinearAlgebra at C:\\cygwin\\home\\Administrator\\buildbot\\worker\\package_win64\\build\\usr\\share\\julia\\stdlib\\v1.2\\LinearAlgebra\\src\\special.jl:157\n",
       "[122] +(A::LinearAlgebra.Tridiagonal, B::LinearAlgebra.SymTridiagonal) in LinearAlgebra at C:\\cygwin\\home\\Administrator\\buildbot\\worker\\package_win64\\build\\usr\\share\\julia\\stdlib\\v1.2\\LinearAlgebra\\src\\special.jl:168\n",
       "[123] +(A::LinearAlgebra.SymTridiagonal, B::LinearAlgebra.Tridiagonal) in LinearAlgebra at C:\\cygwin\\home\\Administrator\\buildbot\\worker\\package_win64\\build\\usr\\share\\julia\\stdlib\\v1.2\\LinearAlgebra\\src\\special.jl:170\n",
       "[124] +(A::LinearAlgebra.Diagonal, B::LinearAlgebra.Tridiagonal) in LinearAlgebra at C:\\cygwin\\home\\Administrator\\buildbot\\worker\\package_win64\\build\\usr\\share\\julia\\stdlib\\v1.2\\LinearAlgebra\\src\\special.jl:175\n",
       "[125] +(A::LinearAlgebra.Tridiagonal, B::LinearAlgebra.Diagonal) in LinearAlgebra at C:\\cygwin\\home\\Administrator\\buildbot\\worker\\package_win64\\build\\usr\\share\\julia\\stdlib\\v1.2\\LinearAlgebra\\src\\special.jl:185\n",
       "[126] +(A::LinearAlgebra.Bidiagonal, B::LinearAlgebra.Tridiagonal) in LinearAlgebra at C:\\cygwin\\home\\Administrator\\buildbot\\worker\\package_win64\\build\\usr\\share\\julia\\stdlib\\v1.2\\LinearAlgebra\\src\\special.jl:195\n",
       "[127] +(A::LinearAlgebra.Tridiagonal, B::LinearAlgebra.Bidiagonal) in LinearAlgebra at C:\\cygwin\\home\\Administrator\\buildbot\\worker\\package_win64\\build\\usr\\share\\julia\\stdlib\\v1.2\\LinearAlgebra\\src\\special.jl:205\n",
       "[128] +(A::LinearAlgebra.Bidiagonal, B::LinearAlgebra.SymTridiagonal) in LinearAlgebra at C:\\cygwin\\home\\Administrator\\buildbot\\worker\\package_win64\\build\\usr\\share\\julia\\stdlib\\v1.2\\LinearAlgebra\\src\\special.jl:215\n",
       "[129] +(A::LinearAlgebra.SymTridiagonal, B::LinearAlgebra.Bidiagonal) in LinearAlgebra at C:\\cygwin\\home\\Administrator\\buildbot\\worker\\package_win64\\build\\usr\\share\\julia\\stdlib\\v1.2\\LinearAlgebra\\src\\special.jl:225\n",
       "[130] +(A::SparseArrays.SparseMatrixCSC, B::SparseArrays.SparseMatrixCSC) in SparseArrays at C:\\cygwin\\home\\Administrator\\buildbot\\worker\\package_win64\\build\\usr\\share\\julia\\stdlib\\v1.2\\SparseArrays\\src\\sparsematrix.jl:1515\n",
       "[131] +(A::SparseArrays.SparseMatrixCSC, B::Array) in SparseArrays at C:\\cygwin\\home\\Administrator\\buildbot\\worker\\package_win64\\build\\usr\\share\\julia\\stdlib\\v1.2\\SparseArrays\\src\\sparsematrix.jl:1518\n",
       "[132] +(x::SparseArrays.AbstractSparseArray{Tv,Ti,1} where Ti where Tv, y::SparseArrays.AbstractSparseArray{Tv,Ti,1} where Ti where Tv) in SparseArrays at C:\\cygwin\\home\\Administrator\\buildbot\\worker\\package_win64\\build\\usr\\share\\julia\\stdlib\\v1.2\\SparseArrays\\src\\sparsevector.jl:1304\n",
       "[133] +(x::AbstractArray{#s75,N} where N where #s75<:Number) in Base at abstractarraymath.jl:97\n",
       "[134] +(A::AbstractArray, B::AbstractArray) in Base at arraymath.jl:38\n",
       "[135] +(x::T, y::Integer) where T<:AbstractChar in Base at char.jl:223\n",
       "[136] +(index1::CartesianIndex{N}, index2::CartesianIndex{N}) where N in Base.IteratorsMD at multidimensional.jl:110\n",
       "[137] +(::Number, ::Missing) in Base at missing.jl:95\n",
       "[138] +(x::P, y::P) where P<:Dates.Period in Dates at C:\\cygwin\\home\\Administrator\\buildbot\\worker\\package_win64\\build\\usr\\share\\julia\\stdlib\\v1.2\\Dates\\src\\periods.jl:75\n",
       "[139] +(x::Dates.Period, y::Dates.Period) in Dates at C:\\cygwin\\home\\Administrator\\buildbot\\worker\\package_win64\\build\\usr\\share\\julia\\stdlib\\v1.2\\Dates\\src\\periods.jl:340\n",
       "[140] +(y::Dates.Period, x::Dates.CompoundPeriod) in Dates at C:\\cygwin\\home\\Administrator\\buildbot\\worker\\package_win64\\build\\usr\\share\\julia\\stdlib\\v1.2\\Dates\\src\\periods.jl:342\n",
       "[141] +(x::Union{Dates.CompoundPeriod, Dates.Period}) in Dates at C:\\cygwin\\home\\Administrator\\buildbot\\worker\\package_win64\\build\\usr\\share\\julia\\stdlib\\v1.2\\Dates\\src\\periods.jl:351\n",
       "[142] +(x::Dates.TimeType) in Dates at C:\\cygwin\\home\\Administrator\\buildbot\\worker\\package_win64\\build\\usr\\share\\julia\\stdlib\\v1.2\\Dates\\src\\arithmetic.jl:8\n",
       "[143] +(a::Dates.TimeType, b::Dates.Period, c::Dates.Period) in Dates at C:\\cygwin\\home\\Administrator\\buildbot\\worker\\package_win64\\build\\usr\\share\\julia\\stdlib\\v1.2\\Dates\\src\\periods.jl:362\n",
       "[144] +(a::Dates.TimeType, b::Dates.Period, c::Dates.Period, d::Dates.Period...) in Dates at C:\\cygwin\\home\\Administrator\\buildbot\\worker\\package_win64\\build\\usr\\share\\julia\\stdlib\\v1.2\\Dates\\src\\periods.jl:363\n",
       "[145] +(x::Dates.TimeType, y::Dates.CompoundPeriod) in Dates at C:\\cygwin\\home\\Administrator\\buildbot\\worker\\package_win64\\build\\usr\\share\\julia\\stdlib\\v1.2\\Dates\\src\\periods.jl:366\n",
       "[146] +(x::Dates.Instant) in Dates at C:\\cygwin\\home\\Administrator\\buildbot\\worker\\package_win64\\build\\usr\\share\\julia\\stdlib\\v1.2\\Dates\\src\\arithmetic.jl:4\n",
       "[147] +(y::Dates.Period, x::Dates.TimeType) in Dates at C:\\cygwin\\home\\Administrator\\buildbot\\worker\\package_win64\\build\\usr\\share\\julia\\stdlib\\v1.2\\Dates\\src\\arithmetic.jl:80\n",
       "[148] +(x::Dates.Period, r::AbstractRange{#s617} where #s617<:Dates.TimeType) in Dates at C:\\cygwin\\home\\Administrator\\buildbot\\worker\\package_win64\\build\\usr\\share\\julia\\stdlib\\v1.2\\Dates\\src\\ranges.jl:58\n",
       "[149] +(x::AbstractArray{#s617,N} where N where #s617<:Dates.TimeType, y::Union{Dates.CompoundPeriod, Dates.Period}) in Dates at C:\\cygwin\\home\\Administrator\\buildbot\\worker\\package_win64\\build\\usr\\share\\julia\\stdlib\\v1.2\\Dates\\src\\deprecated.jl:8\n",
       "[150] +(y::Union{Dates.CompoundPeriod, Dates.Period}, x::AbstractArray{#s617,N} where N where #s617<:Dates.TimeType) in Dates at C:\\cygwin\\home\\Administrator\\buildbot\\worker\\package_win64\\build\\usr\\share\\julia\\stdlib\\v1.2\\Dates\\src\\deprecated.jl:16\n",
       "[151] +(y::Dates.TimeType, x::Union{DenseArray{#s617,N}, Base.ReinterpretArray{#s617,N,S,A} where S where A<:Union{SubArray{T,N,A,I,true} where I<:Union{Tuple{Vararg{Real,N} where N}, Tuple{AbstractUnitRange,Vararg{Any,N} where N}} where A<:DenseArray where N where T, DenseArray}, Base.ReshapedArray{#s617,N,A,MI} where MI<:Tuple{Vararg{Base.MultiplicativeInverses.SignedMultiplicativeInverse{Int64},N} where N} where A<:Union{Base.ReinterpretArray{T,N,S,A} where S where A<:Union{SubArray{T,N,A,I,true} where I<:Union{Tuple{Vararg{Real,N} where N}, Tuple{AbstractUnitRange,Vararg{Any,N} where N}} where A<:DenseArray where N where T, DenseArray} where N where T, SubArray{T,N,A,I,true} where I<:Union{Tuple{Vararg{Real,N} where N}, Tuple{AbstractUnitRange,Vararg{Any,N} where N}} where A<:DenseArray where N where T, DenseArray}, SubArray{#s617,N,A,I,L} where L where I<:Tuple{Vararg{Union{Int64, AbstractRange{Int64}, Base.AbstractCartesianIndex},N} where N} where A<:Union{Base.ReinterpretArray{T,N,S,A} where S where A<:Union{SubArray{T,N,A,I,true} where I<:Union{Tuple{Vararg{Real,N} where N}, Tuple{AbstractUnitRange,Vararg{Any,N} where N}} where A<:DenseArray where N where T, DenseArray} where N where T, Base.ReshapedArray{T,N,A,MI} where MI<:Tuple{Vararg{Base.MultiplicativeInverses.SignedMultiplicativeInverse{Int64},N} where N} where A<:Union{Base.ReinterpretArray{T,N,S,A} where S where A<:Union{SubArray{T,N,A,I,true} where I<:Union{Tuple{Vararg{Real,N} where N}, Tuple{AbstractUnitRange,Vararg{Any,N} where N}} where A<:DenseArray where N where T, DenseArray} where N where T, SubArray{T,N,A,I,true} where I<:Union{Tuple{Vararg{Real,N} where N}, Tuple{AbstractUnitRange,Vararg{Any,N} where N}} where A<:DenseArray where N where T, DenseArray} where N where T, DenseArray}} where N where #s617<:Union{Dates.CompoundPeriod, Dates.Period}) in Dates at C:\\cygwin\\home\\Administrator\\buildbot\\worker\\package_win64\\build\\usr\\share\\julia\\stdlib\\v1.2\\Dates\\src\\deprecated.jl:20\n",
       "[152] +(J::LinearAlgebra.UniformScaling, x::Number) in LinearAlgebra at C:\\cygwin\\home\\Administrator\\buildbot\\worker\\package_win64\\build\\usr\\share\\julia\\stdlib\\v1.2\\LinearAlgebra\\src\\uniformscaling.jl:109\n",
       "[153] +(x::Number, J::LinearAlgebra.UniformScaling) in LinearAlgebra at C:\\cygwin\\home\\Administrator\\buildbot\\worker\\package_win64\\build\\usr\\share\\julia\\stdlib\\v1.2\\LinearAlgebra\\src\\uniformscaling.jl:110\n",
       "[154] +(J1::LinearAlgebra.UniformScaling, J2::LinearAlgebra.UniformScaling) in LinearAlgebra at C:\\cygwin\\home\\Administrator\\buildbot\\worker\\package_win64\\build\\usr\\share\\julia\\stdlib\\v1.2\\LinearAlgebra\\src\\uniformscaling.jl:114\n",
       "[155] +(J::LinearAlgebra.UniformScaling, B::BitArray{2}) in LinearAlgebra at C:\\cygwin\\home\\Administrator\\buildbot\\worker\\package_win64\\build\\usr\\share\\julia\\stdlib\\v1.2\\LinearAlgebra\\src\\uniformscaling.jl:116\n",
       "[156] +(A::LinearAlgebra.UniformScaling, B::LinearAlgebra.Tridiagonal{#s617,V} where V<:AbstractArray{#s617,1} where #s617<:Number) in LinearAlgebra at C:\\cygwin\\home\\Administrator\\buildbot\\worker\\package_win64\\build\\usr\\share\\julia\\stdlib\\v1.2\\LinearAlgebra\\src\\special.jl:257\n",
       "[157] +(A::LinearAlgebra.UniformScaling, B::LinearAlgebra.SymTridiagonal{#s617,V} where V<:AbstractArray{#s617,1} where #s617<:Number) in LinearAlgebra at C:\\cygwin\\home\\Administrator\\buildbot\\worker\\package_win64\\build\\usr\\share\\julia\\stdlib\\v1.2\\LinearAlgebra\\src\\special.jl:262\n",
       "[158] +(A::LinearAlgebra.UniformScaling, B::LinearAlgebra.Bidiagonal{#s617,V} where V<:AbstractArray{#s617,1} where #s617<:Number) in LinearAlgebra at C:\\cygwin\\home\\Administrator\\buildbot\\worker\\package_win64\\build\\usr\\share\\julia\\stdlib\\v1.2\\LinearAlgebra\\src\\special.jl:267\n",
       "[159] +(A::LinearAlgebra.UniformScaling, B::LinearAlgebra.Diagonal{#s617,V} where V<:AbstractArray{#s617,1} where #s617<:Number) in LinearAlgebra at C:\\cygwin\\home\\Administrator\\buildbot\\worker\\package_win64\\build\\usr\\share\\julia\\stdlib\\v1.2\\LinearAlgebra\\src\\special.jl:272\n",
       "[160] +(J::LinearAlgebra.UniformScaling, A::AbstractArray{T,2} where T) in LinearAlgebra at C:\\cygwin\\home\\Administrator\\buildbot\\worker\\package_win64\\build\\usr\\share\\julia\\stdlib\\v1.2\\LinearAlgebra\\src\\uniformscaling.jl:117\n",
       "[161] +(a, b, c, xs...) in Base at operators.jl:529"
      ]
     },
     "execution_count": 41,
     "metadata": {},
     "output_type": "execute_result"
    }
   ],
   "source": [
    "methods(+)"
   ]
  },
  {
   "cell_type": "markdown",
   "metadata": {},
   "source": [
    "Array comprehension:"
   ]
  },
  {
   "cell_type": "code",
   "execution_count": 42,
   "metadata": {},
   "outputs": [
    {
     "data": {
      "text/plain": [
       "3×3 Array{Int64,2}:\n",
       " 2  3  4\n",
       " 3  4  5\n",
       " 4  5  6"
      ]
     },
     "execution_count": 42,
     "metadata": {},
     "output_type": "execute_result"
    }
   ],
   "source": [
    "A = [i + j for i in 1:3, j in 1:3]"
   ]
  },
  {
   "cell_type": "markdown",
   "metadata": {},
   "source": [
    "Counting the number of positive elements in a vector:"
   ]
  },
  {
   "cell_type": "code",
   "execution_count": 43,
   "metadata": {},
   "outputs": [
    {
     "data": {
      "text/plain": [
       "10×1 Array{Float64,2}:\n",
       " -0.3775267186433242 \n",
       " -0.1397990412058392 \n",
       "  0.44032802226371515\n",
       " -0.2387886276898965 \n",
       " -0.4864233741480277 \n",
       "  0.19701265237143772\n",
       "  0.13965870149601267\n",
       "  0.32547604272615205\n",
       "  0.2025642991970733 \n",
       " -0.04757721968463691"
      ]
     },
     "execution_count": 43,
     "metadata": {},
     "output_type": "execute_result"
    }
   ],
   "source": [
    "u = rand(10,1) .- 0.5 # Vector of 10 random numbers between -0.5 and 0.5"
   ]
  },
  {
   "cell_type": "code",
   "execution_count": 44,
   "metadata": {},
   "outputs": [
    {
     "data": {
      "text/plain": [
       "10×1 BitArray{2}:\n",
       " 0\n",
       " 0\n",
       " 1\n",
       " 0\n",
       " 0\n",
       " 1\n",
       " 1\n",
       " 1\n",
       " 1\n",
       " 0"
      ]
     },
     "execution_count": 44,
     "metadata": {},
     "output_type": "execute_result"
    }
   ],
   "source": [
    "u .> 0 # Elementwise logical "
   ]
  },
  {
   "cell_type": "code",
   "execution_count": 45,
   "metadata": {},
   "outputs": [
    {
     "data": {
      "text/plain": [
       "5"
      ]
     },
     "execution_count": 45,
     "metadata": {},
     "output_type": "execute_result"
    }
   ],
   "source": [
    "sum(u .> 0) # Number of positive elements"
   ]
  },
  {
   "cell_type": "code",
   "execution_count": 46,
   "metadata": {},
   "outputs": [
    {
     "data": {
      "text/plain": [
       "5-element Array{Int64,1}:\n",
       " 1\n",
       " 2\n",
       " 3\n",
       " 4\n",
       " 5"
      ]
     },
     "execution_count": 46,
     "metadata": {},
     "output_type": "execute_result"
    }
   ],
   "source": [
    "v = [i for i in 1:5]"
   ]
  },
  {
   "cell_type": "markdown",
   "metadata": {},
   "source": [
    "Functions are applied elementwise with a dot as well:"
   ]
  },
  {
   "cell_type": "code",
   "execution_count": 47,
   "metadata": {},
   "outputs": [
    {
     "data": {
      "text/plain": [
       "5-element Array{Int64,1}:\n",
       "  1\n",
       "  4\n",
       "  9\n",
       " 16\n",
       " 25"
      ]
     },
     "execution_count": 47,
     "metadata": {},
     "output_type": "execute_result"
    }
   ],
   "source": [
    "f.(v)"
   ]
  },
  {
   "cell_type": "markdown",
   "metadata": {},
   "source": [
    "Conditionals:"
   ]
  },
  {
   "cell_type": "code",
   "execution_count": 48,
   "metadata": {},
   "outputs": [
    {
     "data": {
      "text/plain": [
       "lousyMax (generic function with 1 method)"
      ]
     },
     "execution_count": 48,
     "metadata": {},
     "output_type": "execute_result"
    }
   ],
   "source": [
    "function lousyMax(a, b, c)\n",
    "    if a >= b\n",
    "        if a >= c\n",
    "            return a\n",
    "        else\n",
    "            return c\n",
    "        end\n",
    "    elseif b >= c\n",
    "        return b\n",
    "    else\n",
    "        return c\n",
    "    end\n",
    "end"
   ]
  },
  {
   "cell_type": "code",
   "execution_count": 49,
   "metadata": {},
   "outputs": [
    {
     "name": "stdout",
     "output_type": "stream",
     "text": [
      "7\n",
      "9\n"
     ]
    }
   ],
   "source": [
    "println(lousyMax(3,7,2))\n",
    "println(lousyMax(1,6,9))"
   ]
  },
  {
   "cell_type": "markdown",
   "metadata": {},
   "source": [
    "Using ```$``` in a string evaluates the expression that follows and converts it into a string "
   ]
  },
  {
   "cell_type": "code",
   "execution_count": 50,
   "metadata": {},
   "outputs": [
    {
     "name": "stdout",
     "output_type": "stream",
     "text": [
      "1 squared is 1\n",
      "2 squared is 4\n",
      "3 squared is 9\n",
      "4 squared is 16\n",
      "5 squared is 25\n"
     ]
    }
   ],
   "source": [
    "N = 1\n",
    "while N <= 5\n",
    "    println(\"$N squared is $(f(N))\")\n",
    "    N = N + 1\n",
    "end"
   ]
  },
  {
   "cell_type": "markdown",
   "metadata": {},
   "source": [
    "Exercise (Project Euler Problem 2): consider the Fibonacci numbers $F(n)$ which are $1,2,3,5,8,13,21,\\dots$, specifically, $$F(1) = 1,\\,F(2) = 2,\\, F(n) = F(n-1) + F(n-2)\\quad \\forall n \\geq 2$$\n",
    "Compute the sum of the even Fibonacci numbers strictly smaller than four million and store the result in a variable named ```fibsum```. Write the code in between this cell and the cell with the ```@assert``` which verfies your result. Recall that you can use `x`, `a`, and `b` to create and delete cells (after pressing `Escape` to exit edit mode)."
   ]
  },
  {
   "cell_type": "code",
   "execution_count": 54,
   "metadata": {},
   "outputs": [
    {
     "data": {
      "text/plain": [
       "F_even_sum (generic function with 1 method)"
      ]
     },
     "execution_count": 54,
     "metadata": {},
     "output_type": "execute_result"
    }
   ],
   "source": [
    "function F_even_sum(n)\n",
    "    one_back = 1\n",
    "    current = 2\n",
    "    f_sum = 0\n",
    "    while current < n\n",
    "        if (current % 2) == 0\n",
    "            f_sum += current\n",
    "        end\n",
    "        two_back = one_back\n",
    "        one_back = current\n",
    "        current = one_back + two_back\n",
    "    end\n",
    "    return f_sum\n",
    "end"
   ]
  },
  {
   "cell_type": "code",
   "execution_count": 55,
   "metadata": {},
   "outputs": [
    {
     "data": {
      "text/plain": [
       "10"
      ]
     },
     "execution_count": 55,
     "metadata": {},
     "output_type": "execute_result"
    }
   ],
   "source": [
    "F_even_sum(20)"
   ]
  },
  {
   "cell_type": "code",
   "execution_count": 56,
   "metadata": {},
   "outputs": [
    {
     "data": {
      "text/plain": [
       "4613732"
      ]
     },
     "execution_count": 56,
     "metadata": {},
     "output_type": "execute_result"
    }
   ],
   "source": [
    "fibsum = F_even_sum(4000000)"
   ]
  },
  {
   "cell_type": "code",
   "execution_count": 57,
   "metadata": {},
   "outputs": [],
   "source": [
    "@assert fibsum == 4613732 # Throws an error if your answer is wrong"
   ]
  },
  {
   "cell_type": "markdown",
   "metadata": {},
   "source": [
    "Matrices (2-dimensional arrays):"
   ]
  },
  {
   "cell_type": "code",
   "execution_count": 58,
   "metadata": {},
   "outputs": [
    {
     "data": {
      "text/plain": [
       "3×3 Array{Int64,2}:\n",
       " 1  2  3\n",
       " 4  5  6\n",
       " 7  8  9"
      ]
     },
     "execution_count": 58,
     "metadata": {},
     "output_type": "execute_result"
    }
   ],
   "source": [
    "A = [1 2 3; 4 5 6; 7 8 9]"
   ]
  },
  {
   "cell_type": "code",
   "execution_count": 59,
   "metadata": {},
   "outputs": [
    {
     "data": {
      "text/plain": [
       "(3, 3)"
      ]
     },
     "execution_count": 59,
     "metadata": {},
     "output_type": "execute_result"
    }
   ],
   "source": [
    "size(A)"
   ]
  },
  {
   "cell_type": "markdown",
   "metadata": {},
   "source": [
    "Every one-dimensional array will by default be a \"column\" vector"
   ]
  },
  {
   "cell_type": "code",
   "execution_count": 60,
   "metadata": {},
   "outputs": [
    {
     "data": {
      "text/plain": [
       "3-element Array{Int64,1}:\n",
       " 4\n",
       " 5\n",
       " 6"
      ]
     },
     "execution_count": 60,
     "metadata": {},
     "output_type": "execute_result"
    }
   ],
   "source": [
    "A[2,:] # Second ROW of A"
   ]
  },
  {
   "cell_type": "code",
   "execution_count": 61,
   "metadata": {},
   "outputs": [
    {
     "data": {
      "text/plain": [
       "3-element Array{Int64,1}:\n",
       " 3\n",
       " 6\n",
       " 9"
      ]
     },
     "execution_count": 61,
     "metadata": {},
     "output_type": "execute_result"
    }
   ],
   "source": [
    "A[:,3] # Third COLUMN of A"
   ]
  },
  {
   "cell_type": "code",
   "execution_count": 62,
   "metadata": {},
   "outputs": [
    {
     "data": {
      "text/plain": [
       "2×2 Array{Int64,2}:\n",
       " 5  6\n",
       " 8  9"
      ]
     },
     "execution_count": 62,
     "metadata": {},
     "output_type": "execute_result"
    }
   ],
   "source": [
    "A[2:3,2:3]"
   ]
  },
  {
   "cell_type": "code",
   "execution_count": 63,
   "metadata": {},
   "outputs": [
    {
     "data": {
      "text/plain": [
       "6×6 Array{Int64,2}:\n",
       "  1   2   3   2   4   6\n",
       "  4   5   6   8  10  12\n",
       "  7   8   9  14  16  18\n",
       "  3   6   9   4   8  12\n",
       " 12  15  18  16  20  24\n",
       " 21  24  27  28  32  36"
      ]
     },
     "execution_count": 63,
     "metadata": {},
     "output_type": "execute_result"
    }
   ],
   "source": [
    "B = [A 2A; 3A 4A] # You can construct matrices from other matrices"
   ]
  },
  {
   "cell_type": "code",
   "execution_count": 64,
   "metadata": {},
   "outputs": [
    {
     "data": {
      "text/plain": [
       "0-element Array{Float64,1}"
      ]
     },
     "execution_count": 64,
     "metadata": {},
     "output_type": "execute_result"
    }
   ],
   "source": [
    "a = Float64[] # Create empty array of floats"
   ]
  },
  {
   "cell_type": "code",
   "execution_count": 65,
   "metadata": {},
   "outputs": [
    {
     "data": {
      "text/plain": [
       "3-element Array{Float64,1}:\n",
       " 21.0\n",
       " 23.0\n",
       " 29.0"
      ]
     },
     "execution_count": 65,
     "metadata": {},
     "output_type": "execute_result"
    }
   ],
   "source": [
    "push!(a, 21)\n",
    "push!(a, 23)\n",
    "push!(a, 29)"
   ]
  },
  {
   "cell_type": "code",
   "execution_count": 66,
   "metadata": {},
   "outputs": [
    {
     "data": {
      "text/plain": [
       "3-element Array{Float64,1}:\n",
       " 21.0\n",
       " 23.0\n",
       " 29.0"
      ]
     },
     "execution_count": 66,
     "metadata": {},
     "output_type": "execute_result"
    }
   ],
   "source": [
    "a"
   ]
  },
  {
   "cell_type": "code",
   "execution_count": 67,
   "metadata": {},
   "outputs": [
    {
     "data": {
      "text/plain": [
       "29.0"
      ]
     },
     "execution_count": 67,
     "metadata": {},
     "output_type": "execute_result"
    }
   ],
   "source": [
    "pop!(a)"
   ]
  },
  {
   "cell_type": "code",
   "execution_count": 68,
   "metadata": {},
   "outputs": [
    {
     "data": {
      "text/plain": [
       "2-element Array{Float64,1}:\n",
       " 21.0\n",
       " 23.0"
      ]
     },
     "execution_count": 68,
     "metadata": {},
     "output_type": "execute_result"
    }
   ],
   "source": [
    "a"
   ]
  },
  {
   "cell_type": "code",
   "execution_count": 69,
   "metadata": {},
   "outputs": [
    {
     "data": {
      "text/plain": [
       "21.0"
      ]
     },
     "execution_count": 69,
     "metadata": {},
     "output_type": "execute_result"
    }
   ],
   "source": [
    "popfirst!(a)"
   ]
  },
  {
   "cell_type": "code",
   "execution_count": 70,
   "metadata": {},
   "outputs": [
    {
     "data": {
      "text/plain": [
       "1-element Array{Float64,1}:\n",
       " 23.0"
      ]
     },
     "execution_count": 70,
     "metadata": {},
     "output_type": "execute_result"
    }
   ],
   "source": [
    "a"
   ]
  },
  {
   "cell_type": "markdown",
   "metadata": {},
   "source": [
    "Some useful functions:"
   ]
  },
  {
   "cell_type": "code",
   "execution_count": 71,
   "metadata": {},
   "outputs": [],
   "source": [
    "using LinearAlgebra"
   ]
  },
  {
   "cell_type": "code",
   "execution_count": 72,
   "metadata": {},
   "outputs": [
    {
     "data": {
      "text/plain": [
       "3×3 Diagonal{Bool,Array{Bool,1}}:\n",
       " 1  ⋅  ⋅\n",
       " ⋅  1  ⋅\n",
       " ⋅  ⋅  1"
      ]
     },
     "execution_count": 72,
     "metadata": {},
     "output_type": "execute_result"
    }
   ],
   "source": [
    "I(3) # Identity matrix"
   ]
  },
  {
   "cell_type": "code",
   "execution_count": 73,
   "metadata": {},
   "outputs": [
    {
     "data": {
      "text/plain": [
       "3×3 Array{Int64,2}:\n",
       " 2  2   3\n",
       " 4  6   6\n",
       " 7  8  10"
      ]
     },
     "execution_count": 73,
     "metadata": {},
     "output_type": "execute_result"
    }
   ],
   "source": [
    "A + I(3)"
   ]
  },
  {
   "cell_type": "code",
   "execution_count": 74,
   "metadata": {},
   "outputs": [
    {
     "data": {
      "text/plain": [
       "3×3 Array{Float64,2}:\n",
       " 1.0  1.0  1.0\n",
       " 1.0  1.0  1.0\n",
       " 1.0  1.0  1.0"
      ]
     },
     "execution_count": 74,
     "metadata": {},
     "output_type": "execute_result"
    }
   ],
   "source": [
    "ones(3,3)"
   ]
  },
  {
   "cell_type": "code",
   "execution_count": 75,
   "metadata": {},
   "outputs": [
    {
     "data": {
      "text/plain": [
       "3×3 Array{Int64,2}:\n",
       " 2  3   4\n",
       " 5  6   7\n",
       " 8  9  10"
      ]
     },
     "execution_count": 75,
     "metadata": {},
     "output_type": "execute_result"
    }
   ],
   "source": [
    "A + ones(Int64, 3, 3)"
   ]
  },
  {
   "cell_type": "code",
   "execution_count": 76,
   "metadata": {},
   "outputs": [
    {
     "data": {
      "text/plain": [
       "3×3 Array{Float64,2}:\n",
       " 0.796795  0.699497  0.504204\n",
       " 0.641303  0.915737  0.67238 \n",
       " 0.347107  0.63302   0.525021"
      ]
     },
     "execution_count": 76,
     "metadata": {},
     "output_type": "execute_result"
    }
   ],
   "source": [
    "A = rand(3,3)"
   ]
  },
  {
   "cell_type": "code",
   "execution_count": 77,
   "metadata": {},
   "outputs": [
    {
     "data": {
      "text/plain": [
       "3-element Array{Float64,1}:\n",
       " 0.796794669956221 \n",
       " 0.9157366833391978\n",
       " 0.525020604542175 "
      ]
     },
     "execution_count": 77,
     "metadata": {},
     "output_type": "execute_result"
    }
   ],
   "source": [
    "diag(A)"
   ]
  },
  {
   "cell_type": "code",
   "execution_count": 78,
   "metadata": {},
   "outputs": [
    {
     "data": {
      "text/plain": [
       "3×3 Array{Float64,2}:\n",
       " 0.796795  0.0       0.0     \n",
       " 0.0       0.915737  0.0     \n",
       " 0.0       0.0       0.525021"
      ]
     },
     "execution_count": 78,
     "metadata": {},
     "output_type": "execute_result"
    }
   ],
   "source": [
    "diagm(diag(A))"
   ]
  },
  {
   "cell_type": "code",
   "execution_count": 79,
   "metadata": {},
   "outputs": [
    {
     "data": {
      "text/plain": [
       "3×3 Array{Float64,2}:\n",
       "  1.0          -5.55112e-16  -1.66533e-16\n",
       " -8.88178e-16   1.0           0.0        \n",
       "  8.88178e-16   0.0           1.0        "
      ]
     },
     "execution_count": 79,
     "metadata": {},
     "output_type": "execute_result"
    }
   ],
   "source": [
    "inv(A)*A"
   ]
  },
  {
   "cell_type": "markdown",
   "metadata": {},
   "source": [
    "```transpose()``` gives the transpose and ```'``` gives the conjugate tranpose (adjoint, or complex conjugate of transpose) "
   ]
  },
  {
   "cell_type": "code",
   "execution_count": 80,
   "metadata": {},
   "outputs": [
    {
     "data": {
      "text/plain": [
       "3-element Array{Float64,1}:\n",
       " 0.6970364028329228\n",
       " 0.6674618543450423\n",
       " 0.6559808544942687"
      ]
     },
     "execution_count": 80,
     "metadata": {},
     "output_type": "execute_result"
    }
   ],
   "source": [
    "u = rand(3)\n",
    "v = rand(3)"
   ]
  },
  {
   "cell_type": "code",
   "execution_count": 81,
   "metadata": {},
   "outputs": [
    {
     "data": {
      "text/plain": [
       "0.7148760963869712"
      ]
     },
     "execution_count": 81,
     "metadata": {},
     "output_type": "execute_result"
    }
   ],
   "source": [
    "transpose(u)*v # inner product"
   ]
  },
  {
   "cell_type": "code",
   "execution_count": 82,
   "metadata": {},
   "outputs": [
    {
     "data": {
      "text/plain": [
       "0.7148760963869712"
      ]
     },
     "execution_count": 82,
     "metadata": {},
     "output_type": "execute_result"
    }
   ],
   "source": [
    "u'*v"
   ]
  },
  {
   "cell_type": "code",
   "execution_count": 83,
   "metadata": {},
   "outputs": [
    {
     "data": {
      "text/plain": [
       "0.7148760963869712"
      ]
     },
     "execution_count": 83,
     "metadata": {},
     "output_type": "execute_result"
    }
   ],
   "source": [
    "u'v"
   ]
  },
  {
   "cell_type": "code",
   "execution_count": 84,
   "metadata": {},
   "outputs": [
    {
     "data": {
      "text/plain": [
       "0.7148760963869712"
      ]
     },
     "execution_count": 84,
     "metadata": {},
     "output_type": "execute_result"
    }
   ],
   "source": [
    "dot(u,v)"
   ]
  },
  {
   "cell_type": "markdown",
   "metadata": {},
   "source": [
    "A two-dimensional rotation matrix is given by:\n",
    "\\begin{equation}\n",
    "    R(\\theta) = \n",
    "    \\begin{bmatrix}\n",
    "    cos(\\theta) & -sin(\\theta) \\\\\n",
    "    sin(\\theta) & cos(\\theta)\n",
    "    \\end{bmatrix}\n",
    "\\end{equation}"
   ]
  },
  {
   "cell_type": "markdown",
   "metadata": {},
   "source": [
    "We can define a function that produces it as follows: "
   ]
  },
  {
   "cell_type": "code",
   "execution_count": 85,
   "metadata": {},
   "outputs": [
    {
     "data": {
      "text/plain": [
       "R (generic function with 1 method)"
      ]
     },
     "execution_count": 85,
     "metadata": {},
     "output_type": "execute_result"
    }
   ],
   "source": [
    "R(θ) = [cos(θ) -sin(θ); sin(θ) cos(θ)]"
   ]
  },
  {
   "cell_type": "code",
   "execution_count": 86,
   "metadata": {},
   "outputs": [
    {
     "data": {
      "text/plain": [
       "2×2 Array{Float64,2}:\n",
       " 0.707107  -0.707107\n",
       " 0.707107   0.707107"
      ]
     },
     "execution_count": 86,
     "metadata": {},
     "output_type": "execute_result"
    }
   ],
   "source": [
    "R(pi/4)"
   ]
  },
  {
   "cell_type": "markdown",
   "metadata": {},
   "source": [
    "A two-dimensional shear matrix is given by:\n",
    "\\begin{equation}\n",
    "    S(\\lambda) = \n",
    "    \\begin{bmatrix}\n",
    "    1 & \\lambda \\\\\n",
    "    0 & 1\n",
    "    \\end{bmatrix}\n",
    "\\end{equation}"
   ]
  },
  {
   "cell_type": "markdown",
   "metadata": {},
   "source": [
    "Exercise: Define a function which computes the shear matrix as a function of $\\lambda$:"
   ]
  },
  {
   "cell_type": "code",
   "execution_count": 87,
   "metadata": {},
   "outputs": [
    {
     "data": {
      "text/plain": [
       "S (generic function with 1 method)"
      ]
     },
     "execution_count": 87,
     "metadata": {},
     "output_type": "execute_result"
    }
   ],
   "source": [
    "S(λ) = [1 λ; 0 1]"
   ]
  },
  {
   "cell_type": "code",
   "execution_count": 88,
   "metadata": {},
   "outputs": [
    {
     "data": {
      "text/plain": [
       "2×2 Array{Int64,2}:\n",
       " 1  4\n",
       " 0  1"
      ]
     },
     "execution_count": 88,
     "metadata": {},
     "output_type": "execute_result"
    }
   ],
   "source": [
    "S(4)"
   ]
  },
  {
   "cell_type": "code",
   "execution_count": 89,
   "metadata": {},
   "outputs": [],
   "source": [
    "@assert S(4) ==  [1 4; 0 1]"
   ]
  },
  {
   "cell_type": "markdown",
   "metadata": {},
   "source": [
    "Install the standard plotting package by running the following cell:"
   ]
  },
  {
   "cell_type": "code",
   "execution_count": 90,
   "metadata": {},
   "outputs": [
    {
     "name": "stdout",
     "output_type": "stream",
     "text": [
      "\u001b[32m\u001b[1m  Updating\u001b[22m\u001b[39m registry at `C:\\Users\\osval\\.julia\\registries\\General`\n",
      "\u001b[32m\u001b[1m  Updating\u001b[22m\u001b[39m git-repo `https://github.com/JuliaRegistries/General.git`\n",
      "\u001b[2K\u001b[?25h[1mFetching:\u001b[22m\u001b[39m [========================================>]  99.9 %0.0 % %3.7 %>                                    ]  8.3 %\u001b[36m\u001b[1mFetching:\u001b[22m\u001b[39m [====>                                    ]  9.8 %>                                   ]  12.3 %                                  ]  13.9 %7 %]  17.9 %                               ]  20.3 %                               ]  22.4 %23.5 %>                             ]  26.0 %5 %\u001b[36m\u001b[1mFetching:\u001b[22m\u001b[39m [=============>                           ]  31.1 %33.3 %===============>                         ]  35.3 %]  37.3 %                       ]  40.4 %]  42.5 %>                      ]  44.6 %>                     ]  47.0 %.9 %53.6 % [=======================>                 ]  55.7 % [========================>                ]  57.6 %.7 %8 %>              ]  64.1 % [===========================>             ]  66.0 % % %=============================>           ]  71.3 % [==============================>          ]  73.3 %.2 %76.9 %.1 %=================================>       ]  81.2 %3 %.5 % [====================================>    ]  87.6 %]  89.5 % %\u001b[36m\u001b[1mFetching:\u001b[22m\u001b[39m [=======================================> ]  95.1 %]  98.4 %\u001b[32m\u001b[1m Resolving\u001b[22m\u001b[39m package versions...\n",
      "\u001b[32m\u001b[1m Installed\u001b[22m\u001b[39m SortingAlgorithms ── v0.3.1\n",
      "\u001b[32m\u001b[1m Installed\u001b[22m\u001b[39m Requires ─────────── v0.5.2\n",
      "\u001b[32m\u001b[1m Installed\u001b[22m\u001b[39m Missings ─────────── v0.4.2\n",
      "\u001b[32m\u001b[1m Installed\u001b[22m\u001b[39m FFMPEG ───────────── v0.2.3\n",
      "\u001b[32m\u001b[1m Installed\u001b[22m\u001b[39m Plots ────────────── v0.26.3\n",
      "\u001b[32m\u001b[1m Installed\u001b[22m\u001b[39m StaticArrays ─────── v0.11.0\n",
      "\u001b[32m\u001b[1m Installed\u001b[22m\u001b[39m Colors ───────────── v0.9.6\n",
      "\u001b[32m\u001b[1m Installed\u001b[22m\u001b[39m NaNMath ──────────── v0.3.2\n",
      "\u001b[32m\u001b[1m Installed\u001b[22m\u001b[39m RecipesBase ──────── v0.7.0\n",
      "\u001b[32m\u001b[1m Installed\u001b[22m\u001b[39m Reexport ─────────── v0.2.0\n",
      "\u001b[32m\u001b[1m Installed\u001b[22m\u001b[39m PlotThemes ───────── v0.3.0\n",
      "\u001b[32m\u001b[1m Installed\u001b[22m\u001b[39m ColorTypes ───────── v0.8.0\n",
      "\u001b[32m\u001b[1m Installed\u001b[22m\u001b[39m StatsBase ────────── v0.32.0\n",
      "\u001b[32m\u001b[1m Installed\u001b[22m\u001b[39m OrderedCollections ─ v1.1.0\n",
      "\u001b[32m\u001b[1m Installed\u001b[22m\u001b[39m Showoff ──────────── v0.3.1\n",
      "\u001b[32m\u001b[1m Installed\u001b[22m\u001b[39m Measures ─────────── v0.3.0\n",
      "\u001b[32m\u001b[1m Installed\u001b[22m\u001b[39m FixedPointNumbers ── v0.6.1\n",
      "\u001b[32m\u001b[1m Installed\u001b[22m\u001b[39m IterTools ────────── v1.2.0\n",
      "\u001b[32m\u001b[1m Installed\u001b[22m\u001b[39m PlotUtils ────────── v0.5.8\n",
      "\u001b[32m\u001b[1m Installed\u001b[22m\u001b[39m Contour ──────────── v0.5.1\n",
      "\u001b[32m\u001b[1m Installed\u001b[22m\u001b[39m DataStructures ───── v0.17.0\n",
      "\u001b[32m\u001b[1m Installed\u001b[22m\u001b[39m GR ───────────────── v0.41.0\n",
      "\u001b[32m\u001b[1m Installed\u001b[22m\u001b[39m DataAPI ──────────── v1.0.1\n",
      "\u001b[32m\u001b[1m Installed\u001b[22m\u001b[39m GeometryTypes ────── v0.7.6\n",
      "\u001b[32m\u001b[1m  Updating\u001b[22m\u001b[39m `C:\\Users\\osval\\.julia\\environments\\v1.2\\Project.toml`\n",
      " \u001b[90m [91a5bcdd]\u001b[39m\u001b[92m + Plots v0.26.3\u001b[39m\n",
      "\u001b[32m\u001b[1m  Updating\u001b[22m\u001b[39m `C:\\Users\\osval\\.julia\\environments\\v1.2\\Manifest.toml`\n",
      " \u001b[90m [3da002f7]\u001b[39m\u001b[92m + ColorTypes v0.8.0\u001b[39m\n",
      " \u001b[90m [5ae59095]\u001b[39m\u001b[92m + Colors v0.9.6\u001b[39m\n",
      " \u001b[90m [d38c429a]\u001b[39m\u001b[92m + Contour v0.5.1\u001b[39m\n",
      " \u001b[90m [9a962f9c]\u001b[39m\u001b[92m + DataAPI v1.0.1\u001b[39m\n",
      " \u001b[90m [864edb3b]\u001b[39m\u001b[92m + DataStructures v0.17.0\u001b[39m\n",
      " \u001b[90m [c87230d0]\u001b[39m\u001b[92m + FFMPEG v0.2.3\u001b[39m\n",
      " \u001b[90m [53c48c17]\u001b[39m\u001b[92m + FixedPointNumbers v0.6.1\u001b[39m\n",
      " \u001b[90m [28b8d3ca]\u001b[39m\u001b[92m + GR v0.41.0\u001b[39m\n",
      " \u001b[90m [4d00f742]\u001b[39m\u001b[92m + GeometryTypes v0.7.6\u001b[39m\n",
      " \u001b[90m [c8e1da08]\u001b[39m\u001b[92m + IterTools v1.2.0\u001b[39m\n",
      " \u001b[90m [442fdcdd]\u001b[39m\u001b[92m + Measures v0.3.0\u001b[39m\n",
      " \u001b[90m [e1d29d7a]\u001b[39m\u001b[92m + Missings v0.4.2\u001b[39m\n",
      " \u001b[90m [77ba4419]\u001b[39m\u001b[92m + NaNMath v0.3.2\u001b[39m\n",
      " \u001b[90m [bac558e1]\u001b[39m\u001b[92m + OrderedCollections v1.1.0\u001b[39m\n",
      " \u001b[90m [ccf2f8ad]\u001b[39m\u001b[92m + PlotThemes v0.3.0\u001b[39m\n",
      " \u001b[90m [995b91a9]\u001b[39m\u001b[92m + PlotUtils v0.5.8\u001b[39m\n",
      " \u001b[90m [91a5bcdd]\u001b[39m\u001b[92m + Plots v0.26.3\u001b[39m\n",
      " \u001b[90m [3cdcf5f2]\u001b[39m\u001b[92m + RecipesBase v0.7.0\u001b[39m\n",
      " \u001b[90m [189a3867]\u001b[39m\u001b[92m + Reexport v0.2.0\u001b[39m\n",
      " \u001b[90m [ae029012]\u001b[39m\u001b[92m + Requires v0.5.2\u001b[39m\n",
      " \u001b[90m [992d4aef]\u001b[39m\u001b[92m + Showoff v0.3.1\u001b[39m\n",
      " \u001b[90m [a2af1166]\u001b[39m\u001b[92m + SortingAlgorithms v0.3.1\u001b[39m\n",
      " \u001b[90m [90137ffa]\u001b[39m\u001b[92m + StaticArrays v0.11.0\u001b[39m\n",
      " \u001b[90m [2913bbd2]\u001b[39m\u001b[92m + StatsBase v0.32.0\u001b[39m\n",
      "\u001b[32m\u001b[1m  Building\u001b[22m\u001b[39m GR ────→ `C:\\Users\\osval\\.julia\\packages\\GR\\ZI5OE\\deps\\build.log`\n",
      "\u001b[32m\u001b[1m  Building\u001b[22m\u001b[39m FFMPEG → `C:\\Users\\osval\\.julia\\packages\\FFMPEG\\bkWgb\\deps\\build.log`\n",
      "\u001b[32m\u001b[1m  Building\u001b[22m\u001b[39m Plots ─→ `C:\\Users\\osval\\.julia\\packages\\Plots\\h3o4c\\deps\\build.log`\n"
     ]
    }
   ],
   "source": [
    "using Pkg;\n",
    "Pkg.add(\"Plots\")"
   ]
  },
  {
   "cell_type": "code",
   "execution_count": 91,
   "metadata": {},
   "outputs": [
    {
     "name": "stderr",
     "output_type": "stream",
     "text": [
      "┌ Info: Precompiling Plots [91a5bcdd-55d7-5caf-9e0b-520d859cae80]\n",
      "└ @ Base loading.jl:1242\n"
     ]
    }
   ],
   "source": [
    "using Plots; # using is the \"import\" "
   ]
  },
  {
   "cell_type": "code",
   "execution_count": 92,
   "metadata": {},
   "outputs": [
    {
     "data": {
      "image/svg+xml": [
       "<?xml version=\"1.0\" encoding=\"utf-8\"?>\n",
       "<svg xmlns=\"http://www.w3.org/2000/svg\" xmlns:xlink=\"http://www.w3.org/1999/xlink\" width=\"600\" height=\"400\" viewBox=\"0 0 2400 1600\">\n",
       "<defs>\n",
       "  <clipPath id=\"clip9900\">\n",
       "    <rect x=\"0\" y=\"0\" width=\"2400\" height=\"1600\"/>\n",
       "  </clipPath>\n",
       "</defs>\n",
       "<polygon clip-path=\"url(#clip9900)\" points=\"\n",
       "0,1600 2400,1600 2400,0 0,0 \n",
       "  \" fill=\"#ffffff\" fill-rule=\"evenodd\" fill-opacity=\"1\"/>\n",
       "<defs>\n",
       "  <clipPath id=\"clip9901\">\n",
       "    <rect x=\"480\" y=\"0\" width=\"1681\" height=\"1600\"/>\n",
       "  </clipPath>\n",
       "</defs>\n",
       "<polygon clip-path=\"url(#clip9900)\" points=\"\n",
       "180.66,1487.47 2352.76,1487.47 2352.76,47.2441 180.66,47.2441 \n",
       "  \" fill=\"#ffffff\" fill-rule=\"evenodd\" fill-opacity=\"1\"/>\n",
       "<defs>\n",
       "  <clipPath id=\"clip9902\">\n",
       "    <rect x=\"180\" y=\"47\" width=\"2173\" height=\"1441\"/>\n",
       "  </clipPath>\n",
       "</defs>\n",
       "<polyline clip-path=\"url(#clip9902)\" style=\"stroke:#000000; stroke-width:2; stroke-opacity:0.1; fill:none\" points=\"\n",
       "  242.135,1487.47 242.135,47.2441 \n",
       "  \"/>\n",
       "<polyline clip-path=\"url(#clip9902)\" style=\"stroke:#000000; stroke-width:2; stroke-opacity:0.1; fill:none\" points=\"\n",
       "  754.421,1487.47 754.421,47.2441 \n",
       "  \"/>\n",
       "<polyline clip-path=\"url(#clip9902)\" style=\"stroke:#000000; stroke-width:2; stroke-opacity:0.1; fill:none\" points=\"\n",
       "  1266.71,1487.47 1266.71,47.2441 \n",
       "  \"/>\n",
       "<polyline clip-path=\"url(#clip9902)\" style=\"stroke:#000000; stroke-width:2; stroke-opacity:0.1; fill:none\" points=\"\n",
       "  1778.99,1487.47 1778.99,47.2441 \n",
       "  \"/>\n",
       "<polyline clip-path=\"url(#clip9902)\" style=\"stroke:#000000; stroke-width:2; stroke-opacity:0.1; fill:none\" points=\"\n",
       "  2291.28,1487.47 2291.28,47.2441 \n",
       "  \"/>\n",
       "<polyline clip-path=\"url(#clip9902)\" style=\"stroke:#000000; stroke-width:2; stroke-opacity:0.1; fill:none\" points=\"\n",
       "  180.66,1279.65 2352.76,1279.65 \n",
       "  \"/>\n",
       "<polyline clip-path=\"url(#clip9902)\" style=\"stroke:#000000; stroke-width:2; stroke-opacity:0.1; fill:none\" points=\"\n",
       "  180.66,1023.5 2352.76,1023.5 \n",
       "  \"/>\n",
       "<polyline clip-path=\"url(#clip9902)\" style=\"stroke:#000000; stroke-width:2; stroke-opacity:0.1; fill:none\" points=\"\n",
       "  180.66,767.359 2352.76,767.359 \n",
       "  \"/>\n",
       "<polyline clip-path=\"url(#clip9902)\" style=\"stroke:#000000; stroke-width:2; stroke-opacity:0.1; fill:none\" points=\"\n",
       "  180.66,511.216 2352.76,511.216 \n",
       "  \"/>\n",
       "<polyline clip-path=\"url(#clip9902)\" style=\"stroke:#000000; stroke-width:2; stroke-opacity:0.1; fill:none\" points=\"\n",
       "  180.66,255.073 2352.76,255.073 \n",
       "  \"/>\n",
       "<polyline clip-path=\"url(#clip9900)\" style=\"stroke:#000000; stroke-width:4; stroke-opacity:1; fill:none\" points=\"\n",
       "  180.66,1487.47 2352.76,1487.47 \n",
       "  \"/>\n",
       "<polyline clip-path=\"url(#clip9900)\" style=\"stroke:#000000; stroke-width:4; stroke-opacity:1; fill:none\" points=\"\n",
       "  180.66,1487.47 180.66,47.2441 \n",
       "  \"/>\n",
       "<polyline clip-path=\"url(#clip9900)\" style=\"stroke:#000000; stroke-width:4; stroke-opacity:1; fill:none\" points=\"\n",
       "  242.135,1487.47 242.135,1465.87 \n",
       "  \"/>\n",
       "<polyline clip-path=\"url(#clip9900)\" style=\"stroke:#000000; stroke-width:4; stroke-opacity:1; fill:none\" points=\"\n",
       "  754.421,1487.47 754.421,1465.87 \n",
       "  \"/>\n",
       "<polyline clip-path=\"url(#clip9900)\" style=\"stroke:#000000; stroke-width:4; stroke-opacity:1; fill:none\" points=\"\n",
       "  1266.71,1487.47 1266.71,1465.87 \n",
       "  \"/>\n",
       "<polyline clip-path=\"url(#clip9900)\" style=\"stroke:#000000; stroke-width:4; stroke-opacity:1; fill:none\" points=\"\n",
       "  1778.99,1487.47 1778.99,1465.87 \n",
       "  \"/>\n",
       "<polyline clip-path=\"url(#clip9900)\" style=\"stroke:#000000; stroke-width:4; stroke-opacity:1; fill:none\" points=\"\n",
       "  2291.28,1487.47 2291.28,1465.87 \n",
       "  \"/>\n",
       "<polyline clip-path=\"url(#clip9900)\" style=\"stroke:#000000; stroke-width:4; stroke-opacity:1; fill:none\" points=\"\n",
       "  180.66,1279.65 213.242,1279.65 \n",
       "  \"/>\n",
       "<polyline clip-path=\"url(#clip9900)\" style=\"stroke:#000000; stroke-width:4; stroke-opacity:1; fill:none\" points=\"\n",
       "  180.66,1023.5 213.242,1023.5 \n",
       "  \"/>\n",
       "<polyline clip-path=\"url(#clip9900)\" style=\"stroke:#000000; stroke-width:4; stroke-opacity:1; fill:none\" points=\"\n",
       "  180.66,767.359 213.242,767.359 \n",
       "  \"/>\n",
       "<polyline clip-path=\"url(#clip9900)\" style=\"stroke:#000000; stroke-width:4; stroke-opacity:1; fill:none\" points=\"\n",
       "  180.66,511.216 213.242,511.216 \n",
       "  \"/>\n",
       "<polyline clip-path=\"url(#clip9900)\" style=\"stroke:#000000; stroke-width:4; stroke-opacity:1; fill:none\" points=\"\n",
       "  180.66,255.073 213.242,255.073 \n",
       "  \"/>\n",
       "<g clip-path=\"url(#clip9900)\">\n",
       "<text style=\"fill:#000000; fill-opacity:1; font-family:Arial,Helvetica Neue,Helvetica,sans-serif; font-size:48px; text-anchor:middle;\" transform=\"rotate(0, 242.135, 1541.47)\" x=\"242.135\" y=\"1541.47\">-1.0</text>\n",
       "</g>\n",
       "<g clip-path=\"url(#clip9900)\">\n",
       "<text style=\"fill:#000000; fill-opacity:1; font-family:Arial,Helvetica Neue,Helvetica,sans-serif; font-size:48px; text-anchor:middle;\" transform=\"rotate(0, 754.421, 1541.47)\" x=\"754.421\" y=\"1541.47\">-0.5</text>\n",
       "</g>\n",
       "<g clip-path=\"url(#clip9900)\">\n",
       "<text style=\"fill:#000000; fill-opacity:1; font-family:Arial,Helvetica Neue,Helvetica,sans-serif; font-size:48px; text-anchor:middle;\" transform=\"rotate(0, 1266.71, 1541.47)\" x=\"1266.71\" y=\"1541.47\">0.0</text>\n",
       "</g>\n",
       "<g clip-path=\"url(#clip9900)\">\n",
       "<text style=\"fill:#000000; fill-opacity:1; font-family:Arial,Helvetica Neue,Helvetica,sans-serif; font-size:48px; text-anchor:middle;\" transform=\"rotate(0, 1778.99, 1541.47)\" x=\"1778.99\" y=\"1541.47\">0.5</text>\n",
       "</g>\n",
       "<g clip-path=\"url(#clip9900)\">\n",
       "<text style=\"fill:#000000; fill-opacity:1; font-family:Arial,Helvetica Neue,Helvetica,sans-serif; font-size:48px; text-anchor:middle;\" transform=\"rotate(0, 2291.28, 1541.47)\" x=\"2291.28\" y=\"1541.47\">1.0</text>\n",
       "</g>\n",
       "<g clip-path=\"url(#clip9900)\">\n",
       "<text style=\"fill:#000000; fill-opacity:1; font-family:Arial,Helvetica Neue,Helvetica,sans-serif; font-size:48px; text-anchor:end;\" transform=\"rotate(0, 156.66, 1297.15)\" x=\"156.66\" y=\"1297.15\">0.00</text>\n",
       "</g>\n",
       "<g clip-path=\"url(#clip9900)\">\n",
       "<text style=\"fill:#000000; fill-opacity:1; font-family:Arial,Helvetica Neue,Helvetica,sans-serif; font-size:48px; text-anchor:end;\" transform=\"rotate(0, 156.66, 1041)\" x=\"156.66\" y=\"1041\">0.25</text>\n",
       "</g>\n",
       "<g clip-path=\"url(#clip9900)\">\n",
       "<text style=\"fill:#000000; fill-opacity:1; font-family:Arial,Helvetica Neue,Helvetica,sans-serif; font-size:48px; text-anchor:end;\" transform=\"rotate(0, 156.66, 784.859)\" x=\"156.66\" y=\"784.859\">0.50</text>\n",
       "</g>\n",
       "<g clip-path=\"url(#clip9900)\">\n",
       "<text style=\"fill:#000000; fill-opacity:1; font-family:Arial,Helvetica Neue,Helvetica,sans-serif; font-size:48px; text-anchor:end;\" transform=\"rotate(0, 156.66, 528.716)\" x=\"156.66\" y=\"528.716\">0.75</text>\n",
       "</g>\n",
       "<g clip-path=\"url(#clip9900)\">\n",
       "<text style=\"fill:#000000; fill-opacity:1; font-family:Arial,Helvetica Neue,Helvetica,sans-serif; font-size:48px; text-anchor:end;\" transform=\"rotate(0, 156.66, 272.573)\" x=\"156.66\" y=\"272.573\">1.00</text>\n",
       "</g>\n",
       "<polyline clip-path=\"url(#clip9902)\" style=\"stroke:#009af9; stroke-width:4; stroke-opacity:1; fill:none\" points=\"\n",
       "  242.135,255.073 252.38,275.462 262.626,295.646 272.872,315.625 283.118,335.399 293.363,354.969 303.609,374.333 313.855,393.493 324.101,412.447 334.346,431.197 \n",
       "  344.592,449.742 354.838,468.082 365.084,486.216 375.329,504.147 385.575,521.872 395.821,539.392 406.066,556.707 416.312,573.817 426.558,590.723 436.804,607.424 \n",
       "  447.049,623.919 457.295,640.21 467.541,656.296 477.787,672.177 488.032,687.853 498.278,703.324 508.524,718.59 518.77,733.651 529.015,748.507 539.261,763.159 \n",
       "  549.507,777.605 559.752,791.847 569.998,805.883 580.244,819.715 590.49,833.342 600.735,846.764 610.981,859.981 621.227,872.993 631.473,885.8 641.718,898.402 \n",
       "  651.964,910.8 662.21,922.992 672.456,934.98 682.701,946.762 692.947,958.34 703.193,969.713 713.438,980.881 723.684,991.843 733.93,1002.6 744.176,1013.15 \n",
       "  754.421,1023.5 764.667,1033.65 774.913,1043.58 785.159,1053.32 795.404,1062.85 805.65,1072.17 815.896,1081.29 826.142,1090.2 836.387,1098.91 846.633,1107.42 \n",
       "  856.879,1115.71 867.124,1123.81 877.37,1131.7 887.616,1139.38 897.862,1146.86 908.107,1154.14 918.353,1161.21 928.599,1168.07 938.845,1174.73 949.09,1181.18 \n",
       "  959.336,1187.43 969.582,1193.48 979.828,1199.32 990.073,1204.95 1000.32,1210.38 1010.56,1215.61 1020.81,1220.63 1031.06,1225.45 1041.3,1230.06 1051.55,1234.46 \n",
       "  1061.79,1238.66 1072.04,1242.66 1082.28,1246.45 1092.53,1250.04 1102.78,1253.42 1113.02,1256.59 1123.27,1259.56 1133.51,1262.33 1143.76,1264.89 1154.01,1267.25 \n",
       "  1164.25,1269.4 1174.5,1271.35 1184.74,1273.09 1194.99,1274.63 1205.23,1275.96 1215.48,1277.08 1225.73,1278.01 1235.97,1278.72 1246.22,1279.24 1256.46,1279.54 \n",
       "  1266.71,1279.65 1276.95,1279.54 1287.2,1279.24 1297.45,1278.72 1307.69,1278.01 1317.94,1277.08 1328.18,1275.96 1338.43,1274.63 1348.67,1273.09 1358.92,1271.35 \n",
       "  1369.17,1269.4 1379.41,1267.25 1389.66,1264.89 1399.9,1262.33 1410.15,1259.56 1420.39,1256.59 1430.64,1253.42 1440.89,1250.04 1451.13,1246.45 1461.38,1242.66 \n",
       "  1471.62,1238.66 1481.87,1234.46 1492.11,1230.06 1502.36,1225.45 1512.61,1220.63 1522.85,1215.61 1533.1,1210.38 1543.34,1204.95 1553.59,1199.32 1563.83,1193.48 \n",
       "  1574.08,1187.43 1584.33,1181.18 1594.57,1174.73 1604.82,1168.07 1615.06,1161.21 1625.31,1154.14 1635.55,1146.86 1645.8,1139.38 1656.05,1131.7 1666.29,1123.81 \n",
       "  1676.54,1115.71 1686.78,1107.42 1697.03,1098.91 1707.27,1090.2 1717.52,1081.29 1727.77,1072.17 1738.01,1062.85 1748.26,1053.32 1758.5,1043.58 1768.75,1033.65 \n",
       "  1778.99,1023.5 1789.24,1013.15 1799.49,1002.6 1809.73,991.843 1819.98,980.881 1830.22,969.713 1840.47,958.34 1850.71,946.762 1860.96,934.98 1871.21,922.992 \n",
       "  1881.45,910.8 1891.7,898.402 1901.94,885.8 1912.19,872.993 1922.44,859.981 1932.68,846.764 1942.93,833.342 1953.17,819.715 1963.42,805.883 1973.66,791.847 \n",
       "  1983.91,777.605 1994.16,763.159 2004.4,748.507 2014.65,733.651 2024.89,718.59 2035.14,703.324 2045.38,687.853 2055.63,672.177 2065.88,656.296 2076.12,640.21 \n",
       "  2086.37,623.919 2096.61,607.424 2106.86,590.723 2117.1,573.817 2127.35,556.707 2137.6,539.392 2147.84,521.872 2158.09,504.147 2168.33,486.216 2178.58,468.082 \n",
       "  2188.82,449.742 2199.07,431.197 2209.32,412.447 2219.56,393.493 2229.81,374.333 2240.05,354.969 2250.3,335.399 2260.54,315.625 2270.79,295.646 2281.04,275.462 \n",
       "  2291.28,255.073 \n",
       "  \"/>\n",
       "<polygon clip-path=\"url(#clip9900)\" points=\"\n",
       "1989.93,251.724 2280.76,251.724 2280.76,130.764 1989.93,130.764 \n",
       "  \" fill=\"#ffffff\" fill-rule=\"evenodd\" fill-opacity=\"1\"/>\n",
       "<polyline clip-path=\"url(#clip9900)\" style=\"stroke:#000000; stroke-width:4; stroke-opacity:1; fill:none\" points=\"\n",
       "  1989.93,251.724 2280.76,251.724 2280.76,130.764 1989.93,130.764 1989.93,251.724 \n",
       "  \"/>\n",
       "<polyline clip-path=\"url(#clip9900)\" style=\"stroke:#009af9; stroke-width:4; stroke-opacity:1; fill:none\" points=\"\n",
       "  2013.93,191.244 2157.93,191.244 \n",
       "  \"/>\n",
       "<g clip-path=\"url(#clip9900)\">\n",
       "<text style=\"fill:#000000; fill-opacity:1; font-family:Arial,Helvetica Neue,Helvetica,sans-serif; font-size:48px; text-anchor:start;\" transform=\"rotate(0, 2181.93, 208.744)\" x=\"2181.93\" y=\"208.744\">y1</text>\n",
       "</g>\n",
       "</svg>\n"
      ]
     },
     "execution_count": 92,
     "metadata": {},
     "output_type": "execute_result"
    }
   ],
   "source": [
    "x = [i for i = -1:0.01:1];\n",
    "plot(x, x.^2,aspect_ratio=:equal)"
   ]
  },
  {
   "cell_type": "markdown",
   "metadata": {},
   "source": [
    "By convention, ```!``` indicates that a function will change the mutable object that it's acting on"
   ]
  },
  {
   "cell_type": "code",
   "execution_count": 93,
   "metadata": {},
   "outputs": [
    {
     "data": {
      "image/svg+xml": [
       "<?xml version=\"1.0\" encoding=\"utf-8\"?>\n",
       "<svg xmlns=\"http://www.w3.org/2000/svg\" xmlns:xlink=\"http://www.w3.org/1999/xlink\" width=\"600\" height=\"400\" viewBox=\"0 0 2400 1600\">\n",
       "<defs>\n",
       "  <clipPath id=\"clip0300\">\n",
       "    <rect x=\"0\" y=\"0\" width=\"2400\" height=\"1600\"/>\n",
       "  </clipPath>\n",
       "</defs>\n",
       "<polygon clip-path=\"url(#clip0300)\" points=\"\n",
       "0,1600 2400,1600 2400,0 0,0 \n",
       "  \" fill=\"#ffffff\" fill-rule=\"evenodd\" fill-opacity=\"1\"/>\n",
       "<defs>\n",
       "  <clipPath id=\"clip0301\">\n",
       "    <rect x=\"480\" y=\"0\" width=\"1681\" height=\"1600\"/>\n",
       "  </clipPath>\n",
       "</defs>\n",
       "<polygon clip-path=\"url(#clip0300)\" points=\"\n",
       "180.66,1487.47 2352.76,1487.47 2352.76,47.2441 180.66,47.2441 \n",
       "  \" fill=\"#ffffff\" fill-rule=\"evenodd\" fill-opacity=\"1\"/>\n",
       "<defs>\n",
       "  <clipPath id=\"clip0302\">\n",
       "    <rect x=\"180\" y=\"47\" width=\"2173\" height=\"1441\"/>\n",
       "  </clipPath>\n",
       "</defs>\n",
       "<polyline clip-path=\"url(#clip0302)\" style=\"stroke:#000000; stroke-width:2; stroke-opacity:0.1; fill:none\" points=\"\n",
       "  242.135,1487.47 242.135,47.2441 \n",
       "  \"/>\n",
       "<polyline clip-path=\"url(#clip0302)\" style=\"stroke:#000000; stroke-width:2; stroke-opacity:0.1; fill:none\" points=\"\n",
       "  754.421,1487.47 754.421,47.2441 \n",
       "  \"/>\n",
       "<polyline clip-path=\"url(#clip0302)\" style=\"stroke:#000000; stroke-width:2; stroke-opacity:0.1; fill:none\" points=\"\n",
       "  1266.71,1487.47 1266.71,47.2441 \n",
       "  \"/>\n",
       "<polyline clip-path=\"url(#clip0302)\" style=\"stroke:#000000; stroke-width:2; stroke-opacity:0.1; fill:none\" points=\"\n",
       "  1778.99,1487.47 1778.99,47.2441 \n",
       "  \"/>\n",
       "<polyline clip-path=\"url(#clip0302)\" style=\"stroke:#000000; stroke-width:2; stroke-opacity:0.1; fill:none\" points=\"\n",
       "  2291.28,1487.47 2291.28,47.2441 \n",
       "  \"/>\n",
       "<polyline clip-path=\"url(#clip0302)\" style=\"stroke:#000000; stroke-width:2; stroke-opacity:0.1; fill:none\" points=\"\n",
       "  180.66,1279.65 2352.76,1279.65 \n",
       "  \"/>\n",
       "<polyline clip-path=\"url(#clip0302)\" style=\"stroke:#000000; stroke-width:2; stroke-opacity:0.1; fill:none\" points=\"\n",
       "  180.66,1023.5 2352.76,1023.5 \n",
       "  \"/>\n",
       "<polyline clip-path=\"url(#clip0302)\" style=\"stroke:#000000; stroke-width:2; stroke-opacity:0.1; fill:none\" points=\"\n",
       "  180.66,767.359 2352.76,767.359 \n",
       "  \"/>\n",
       "<polyline clip-path=\"url(#clip0302)\" style=\"stroke:#000000; stroke-width:2; stroke-opacity:0.1; fill:none\" points=\"\n",
       "  180.66,511.216 2352.76,511.216 \n",
       "  \"/>\n",
       "<polyline clip-path=\"url(#clip0302)\" style=\"stroke:#000000; stroke-width:2; stroke-opacity:0.1; fill:none\" points=\"\n",
       "  180.66,255.073 2352.76,255.073 \n",
       "  \"/>\n",
       "<polyline clip-path=\"url(#clip0300)\" style=\"stroke:#000000; stroke-width:4; stroke-opacity:1; fill:none\" points=\"\n",
       "  180.66,1487.47 2352.76,1487.47 \n",
       "  \"/>\n",
       "<polyline clip-path=\"url(#clip0300)\" style=\"stroke:#000000; stroke-width:4; stroke-opacity:1; fill:none\" points=\"\n",
       "  180.66,1487.47 180.66,47.2441 \n",
       "  \"/>\n",
       "<polyline clip-path=\"url(#clip0300)\" style=\"stroke:#000000; stroke-width:4; stroke-opacity:1; fill:none\" points=\"\n",
       "  242.135,1487.47 242.135,1465.87 \n",
       "  \"/>\n",
       "<polyline clip-path=\"url(#clip0300)\" style=\"stroke:#000000; stroke-width:4; stroke-opacity:1; fill:none\" points=\"\n",
       "  754.421,1487.47 754.421,1465.87 \n",
       "  \"/>\n",
       "<polyline clip-path=\"url(#clip0300)\" style=\"stroke:#000000; stroke-width:4; stroke-opacity:1; fill:none\" points=\"\n",
       "  1266.71,1487.47 1266.71,1465.87 \n",
       "  \"/>\n",
       "<polyline clip-path=\"url(#clip0300)\" style=\"stroke:#000000; stroke-width:4; stroke-opacity:1; fill:none\" points=\"\n",
       "  1778.99,1487.47 1778.99,1465.87 \n",
       "  \"/>\n",
       "<polyline clip-path=\"url(#clip0300)\" style=\"stroke:#000000; stroke-width:4; stroke-opacity:1; fill:none\" points=\"\n",
       "  2291.28,1487.47 2291.28,1465.87 \n",
       "  \"/>\n",
       "<polyline clip-path=\"url(#clip0300)\" style=\"stroke:#000000; stroke-width:4; stroke-opacity:1; fill:none\" points=\"\n",
       "  180.66,1279.65 213.242,1279.65 \n",
       "  \"/>\n",
       "<polyline clip-path=\"url(#clip0300)\" style=\"stroke:#000000; stroke-width:4; stroke-opacity:1; fill:none\" points=\"\n",
       "  180.66,1023.5 213.242,1023.5 \n",
       "  \"/>\n",
       "<polyline clip-path=\"url(#clip0300)\" style=\"stroke:#000000; stroke-width:4; stroke-opacity:1; fill:none\" points=\"\n",
       "  180.66,767.359 213.242,767.359 \n",
       "  \"/>\n",
       "<polyline clip-path=\"url(#clip0300)\" style=\"stroke:#000000; stroke-width:4; stroke-opacity:1; fill:none\" points=\"\n",
       "  180.66,511.216 213.242,511.216 \n",
       "  \"/>\n",
       "<polyline clip-path=\"url(#clip0300)\" style=\"stroke:#000000; stroke-width:4; stroke-opacity:1; fill:none\" points=\"\n",
       "  180.66,255.073 213.242,255.073 \n",
       "  \"/>\n",
       "<g clip-path=\"url(#clip0300)\">\n",
       "<text style=\"fill:#000000; fill-opacity:1; font-family:Arial,Helvetica Neue,Helvetica,sans-serif; font-size:48px; text-anchor:middle;\" transform=\"rotate(0, 242.135, 1541.47)\" x=\"242.135\" y=\"1541.47\">-1.0</text>\n",
       "</g>\n",
       "<g clip-path=\"url(#clip0300)\">\n",
       "<text style=\"fill:#000000; fill-opacity:1; font-family:Arial,Helvetica Neue,Helvetica,sans-serif; font-size:48px; text-anchor:middle;\" transform=\"rotate(0, 754.421, 1541.47)\" x=\"754.421\" y=\"1541.47\">-0.5</text>\n",
       "</g>\n",
       "<g clip-path=\"url(#clip0300)\">\n",
       "<text style=\"fill:#000000; fill-opacity:1; font-family:Arial,Helvetica Neue,Helvetica,sans-serif; font-size:48px; text-anchor:middle;\" transform=\"rotate(0, 1266.71, 1541.47)\" x=\"1266.71\" y=\"1541.47\">0.0</text>\n",
       "</g>\n",
       "<g clip-path=\"url(#clip0300)\">\n",
       "<text style=\"fill:#000000; fill-opacity:1; font-family:Arial,Helvetica Neue,Helvetica,sans-serif; font-size:48px; text-anchor:middle;\" transform=\"rotate(0, 1778.99, 1541.47)\" x=\"1778.99\" y=\"1541.47\">0.5</text>\n",
       "</g>\n",
       "<g clip-path=\"url(#clip0300)\">\n",
       "<text style=\"fill:#000000; fill-opacity:1; font-family:Arial,Helvetica Neue,Helvetica,sans-serif; font-size:48px; text-anchor:middle;\" transform=\"rotate(0, 2291.28, 1541.47)\" x=\"2291.28\" y=\"1541.47\">1.0</text>\n",
       "</g>\n",
       "<g clip-path=\"url(#clip0300)\">\n",
       "<text style=\"fill:#000000; fill-opacity:1; font-family:Arial,Helvetica Neue,Helvetica,sans-serif; font-size:48px; text-anchor:end;\" transform=\"rotate(0, 156.66, 1297.15)\" x=\"156.66\" y=\"1297.15\">0.00</text>\n",
       "</g>\n",
       "<g clip-path=\"url(#clip0300)\">\n",
       "<text style=\"fill:#000000; fill-opacity:1; font-family:Arial,Helvetica Neue,Helvetica,sans-serif; font-size:48px; text-anchor:end;\" transform=\"rotate(0, 156.66, 1041)\" x=\"156.66\" y=\"1041\">0.25</text>\n",
       "</g>\n",
       "<g clip-path=\"url(#clip0300)\">\n",
       "<text style=\"fill:#000000; fill-opacity:1; font-family:Arial,Helvetica Neue,Helvetica,sans-serif; font-size:48px; text-anchor:end;\" transform=\"rotate(0, 156.66, 784.859)\" x=\"156.66\" y=\"784.859\">0.50</text>\n",
       "</g>\n",
       "<g clip-path=\"url(#clip0300)\">\n",
       "<text style=\"fill:#000000; fill-opacity:1; font-family:Arial,Helvetica Neue,Helvetica,sans-serif; font-size:48px; text-anchor:end;\" transform=\"rotate(0, 156.66, 528.716)\" x=\"156.66\" y=\"528.716\">0.75</text>\n",
       "</g>\n",
       "<g clip-path=\"url(#clip0300)\">\n",
       "<text style=\"fill:#000000; fill-opacity:1; font-family:Arial,Helvetica Neue,Helvetica,sans-serif; font-size:48px; text-anchor:end;\" transform=\"rotate(0, 156.66, 272.573)\" x=\"156.66\" y=\"272.573\">1.00</text>\n",
       "</g>\n",
       "<polyline clip-path=\"url(#clip0302)\" style=\"stroke:#009af9; stroke-width:4; stroke-opacity:1; fill:none\" points=\"\n",
       "  242.135,255.073 252.38,275.462 262.626,295.646 272.872,315.625 283.118,335.399 293.363,354.969 303.609,374.333 313.855,393.493 324.101,412.447 334.346,431.197 \n",
       "  344.592,449.742 354.838,468.082 365.084,486.216 375.329,504.147 385.575,521.872 395.821,539.392 406.066,556.707 416.312,573.817 426.558,590.723 436.804,607.424 \n",
       "  447.049,623.919 457.295,640.21 467.541,656.296 477.787,672.177 488.032,687.853 498.278,703.324 508.524,718.59 518.77,733.651 529.015,748.507 539.261,763.159 \n",
       "  549.507,777.605 559.752,791.847 569.998,805.883 580.244,819.715 590.49,833.342 600.735,846.764 610.981,859.981 621.227,872.993 631.473,885.8 641.718,898.402 \n",
       "  651.964,910.8 662.21,922.992 672.456,934.98 682.701,946.762 692.947,958.34 703.193,969.713 713.438,980.881 723.684,991.843 733.93,1002.6 744.176,1013.15 \n",
       "  754.421,1023.5 764.667,1033.65 774.913,1043.58 785.159,1053.32 795.404,1062.85 805.65,1072.17 815.896,1081.29 826.142,1090.2 836.387,1098.91 846.633,1107.42 \n",
       "  856.879,1115.71 867.124,1123.81 877.37,1131.7 887.616,1139.38 897.862,1146.86 908.107,1154.14 918.353,1161.21 928.599,1168.07 938.845,1174.73 949.09,1181.18 \n",
       "  959.336,1187.43 969.582,1193.48 979.828,1199.32 990.073,1204.95 1000.32,1210.38 1010.56,1215.61 1020.81,1220.63 1031.06,1225.45 1041.3,1230.06 1051.55,1234.46 \n",
       "  1061.79,1238.66 1072.04,1242.66 1082.28,1246.45 1092.53,1250.04 1102.78,1253.42 1113.02,1256.59 1123.27,1259.56 1133.51,1262.33 1143.76,1264.89 1154.01,1267.25 \n",
       "  1164.25,1269.4 1174.5,1271.35 1184.74,1273.09 1194.99,1274.63 1205.23,1275.96 1215.48,1277.08 1225.73,1278.01 1235.97,1278.72 1246.22,1279.24 1256.46,1279.54 \n",
       "  1266.71,1279.65 1276.95,1279.54 1287.2,1279.24 1297.45,1278.72 1307.69,1278.01 1317.94,1277.08 1328.18,1275.96 1338.43,1274.63 1348.67,1273.09 1358.92,1271.35 \n",
       "  1369.17,1269.4 1379.41,1267.25 1389.66,1264.89 1399.9,1262.33 1410.15,1259.56 1420.39,1256.59 1430.64,1253.42 1440.89,1250.04 1451.13,1246.45 1461.38,1242.66 \n",
       "  1471.62,1238.66 1481.87,1234.46 1492.11,1230.06 1502.36,1225.45 1512.61,1220.63 1522.85,1215.61 1533.1,1210.38 1543.34,1204.95 1553.59,1199.32 1563.83,1193.48 \n",
       "  1574.08,1187.43 1584.33,1181.18 1594.57,1174.73 1604.82,1168.07 1615.06,1161.21 1625.31,1154.14 1635.55,1146.86 1645.8,1139.38 1656.05,1131.7 1666.29,1123.81 \n",
       "  1676.54,1115.71 1686.78,1107.42 1697.03,1098.91 1707.27,1090.2 1717.52,1081.29 1727.77,1072.17 1738.01,1062.85 1748.26,1053.32 1758.5,1043.58 1768.75,1033.65 \n",
       "  1778.99,1023.5 1789.24,1013.15 1799.49,1002.6 1809.73,991.843 1819.98,980.881 1830.22,969.713 1840.47,958.34 1850.71,946.762 1860.96,934.98 1871.21,922.992 \n",
       "  1881.45,910.8 1891.7,898.402 1901.94,885.8 1912.19,872.993 1922.44,859.981 1932.68,846.764 1942.93,833.342 1953.17,819.715 1963.42,805.883 1973.66,791.847 \n",
       "  1983.91,777.605 1994.16,763.159 2004.4,748.507 2014.65,733.651 2024.89,718.59 2035.14,703.324 2045.38,687.853 2055.63,672.177 2065.88,656.296 2076.12,640.21 \n",
       "  2086.37,623.919 2096.61,607.424 2106.86,590.723 2117.1,573.817 2127.35,556.707 2137.6,539.392 2147.84,521.872 2158.09,504.147 2168.33,486.216 2178.58,468.082 \n",
       "  2188.82,449.742 2199.07,431.197 2209.32,412.447 2219.56,393.493 2229.81,374.333 2240.05,354.969 2250.3,335.399 2260.54,315.625 2270.79,295.646 2281.04,275.462 \n",
       "  2291.28,255.073 \n",
       "  \"/>\n",
       "<polyline clip-path=\"url(#clip0302)\" style=\"stroke:#e26f46; stroke-width:4; stroke-opacity:1; fill:none\" points=\"\n",
       "  242.135,255.073 252.38,295.445 262.626,334.612 272.872,372.599 283.118,409.428 293.363,445.125 303.609,479.711 313.855,513.212 324.101,545.649 334.346,577.045 \n",
       "  344.592,607.424 354.838,636.806 365.084,665.214 375.329,692.67 385.575,719.196 395.821,744.812 406.066,769.54 416.312,793.401 426.558,816.414 436.804,838.601 \n",
       "  447.049,859.981 457.295,880.574 467.541,900.4 477.787,919.477 488.032,937.826 498.278,955.465 508.524,972.412 518.77,988.685 529.015,1004.3 539.261,1019.28 \n",
       "  549.507,1033.65 559.752,1047.4 569.998,1060.58 580.244,1073.18 590.49,1085.24 600.735,1096.75 610.981,1107.75 621.227,1118.25 631.473,1128.25 641.718,1137.79 \n",
       "  651.964,1146.86 662.21,1155.49 672.456,1163.7 682.701,1171.49 692.947,1178.88 703.193,1185.89 713.438,1192.53 723.684,1198.8 733.93,1204.73 744.176,1210.33 \n",
       "  754.421,1215.61 764.667,1220.58 774.913,1225.26 785.159,1229.65 795.404,1233.77 805.65,1237.63 815.896,1241.24 826.142,1244.62 836.387,1247.76 846.633,1250.69 \n",
       "  856.879,1253.42 867.124,1255.94 877.37,1258.28 887.616,1260.44 897.862,1262.44 908.107,1264.27 918.353,1265.95 928.599,1267.5 938.845,1268.9 949.09,1270.18 \n",
       "  959.336,1271.35 969.582,1272.4 979.828,1273.35 990.073,1274.2 1000.32,1274.96 1010.56,1275.64 1020.81,1276.25 1031.06,1276.78 1041.3,1277.25 1051.55,1277.65 \n",
       "  1061.79,1278.01 1072.04,1278.31 1082.28,1278.57 1092.53,1278.79 1102.78,1278.97 1113.02,1279.13 1123.27,1279.25 1133.51,1279.35 1143.76,1279.43 1154.01,1279.5 \n",
       "  1164.25,1279.54 1174.5,1279.58 1184.74,1279.6 1194.99,1279.62 1205.23,1279.63 1215.48,1279.64 1225.73,1279.64 1235.97,1279.65 1246.22,1279.65 1256.46,1279.65 \n",
       "  1266.71,1279.65 1276.95,1279.65 1287.2,1279.65 1297.45,1279.65 1307.69,1279.64 1317.94,1279.64 1328.18,1279.63 1338.43,1279.62 1348.67,1279.6 1358.92,1279.58 \n",
       "  1369.17,1279.54 1379.41,1279.5 1389.66,1279.43 1399.9,1279.35 1410.15,1279.25 1420.39,1279.13 1430.64,1278.97 1440.89,1278.79 1451.13,1278.57 1461.38,1278.31 \n",
       "  1471.62,1278.01 1481.87,1277.65 1492.11,1277.25 1502.36,1276.78 1512.61,1276.25 1522.85,1275.64 1533.1,1274.96 1543.34,1274.2 1553.59,1273.35 1563.83,1272.4 \n",
       "  1574.08,1271.35 1584.33,1270.18 1594.57,1268.9 1604.82,1267.5 1615.06,1265.95 1625.31,1264.27 1635.55,1262.44 1645.8,1260.44 1656.05,1258.28 1666.29,1255.94 \n",
       "  1676.54,1253.42 1686.78,1250.69 1697.03,1247.76 1707.27,1244.62 1717.52,1241.24 1727.77,1237.63 1738.01,1233.77 1748.26,1229.65 1758.5,1225.26 1768.75,1220.58 \n",
       "  1778.99,1215.61 1789.24,1210.33 1799.49,1204.73 1809.73,1198.8 1819.98,1192.53 1830.22,1185.89 1840.47,1178.88 1850.71,1171.49 1860.96,1163.7 1871.21,1155.49 \n",
       "  1881.45,1146.86 1891.7,1137.79 1901.94,1128.25 1912.19,1118.25 1922.44,1107.75 1932.68,1096.75 1942.93,1085.24 1953.17,1073.18 1963.42,1060.58 1973.66,1047.4 \n",
       "  1983.91,1033.65 1994.16,1019.28 2004.4,1004.3 2014.65,988.685 2024.89,972.412 2035.14,955.465 2045.38,937.826 2055.63,919.477 2065.88,900.4 2076.12,880.574 \n",
       "  2086.37,859.981 2096.61,838.601 2106.86,816.414 2117.1,793.401 2127.35,769.54 2137.6,744.812 2147.84,719.196 2158.09,692.67 2168.33,665.214 2178.58,636.806 \n",
       "  2188.82,607.424 2199.07,577.045 2209.32,545.649 2219.56,513.212 2229.81,479.711 2240.05,445.125 2250.3,409.428 2260.54,372.599 2270.79,334.612 2281.04,295.445 \n",
       "  2291.28,255.073 \n",
       "  \"/>\n",
       "<polygon clip-path=\"url(#clip0300)\" points=\"\n",
       "1989.93,312.204 2280.76,312.204 2280.76,130.764 1989.93,130.764 \n",
       "  \" fill=\"#ffffff\" fill-rule=\"evenodd\" fill-opacity=\"1\"/>\n",
       "<polyline clip-path=\"url(#clip0300)\" style=\"stroke:#000000; stroke-width:4; stroke-opacity:1; fill:none\" points=\"\n",
       "  1989.93,312.204 2280.76,312.204 2280.76,130.764 1989.93,130.764 1989.93,312.204 \n",
       "  \"/>\n",
       "<polyline clip-path=\"url(#clip0300)\" style=\"stroke:#009af9; stroke-width:4; stroke-opacity:1; fill:none\" points=\"\n",
       "  2013.93,191.244 2157.93,191.244 \n",
       "  \"/>\n",
       "<g clip-path=\"url(#clip0300)\">\n",
       "<text style=\"fill:#000000; fill-opacity:1; font-family:Arial,Helvetica Neue,Helvetica,sans-serif; font-size:48px; text-anchor:start;\" transform=\"rotate(0, 2181.93, 208.744)\" x=\"2181.93\" y=\"208.744\">y1</text>\n",
       "</g>\n",
       "<polyline clip-path=\"url(#clip0300)\" style=\"stroke:#e26f46; stroke-width:4; stroke-opacity:1; fill:none\" points=\"\n",
       "  2013.93,251.724 2157.93,251.724 \n",
       "  \"/>\n",
       "<g clip-path=\"url(#clip0300)\">\n",
       "<text style=\"fill:#000000; fill-opacity:1; font-family:Arial,Helvetica Neue,Helvetica,sans-serif; font-size:48px; text-anchor:start;\" transform=\"rotate(0, 2181.93, 269.224)\" x=\"2181.93\" y=\"269.224\">y2</text>\n",
       "</g>\n",
       "</svg>\n"
      ]
     },
     "execution_count": 93,
     "metadata": {},
     "output_type": "execute_result"
    }
   ],
   "source": [
    "plot!(x, x.^4,aspect_ratio=:equal) # the \"!\" makes it modify the existing plot rather than replace it"
   ]
  },
  {
   "cell_type": "code",
   "execution_count": 94,
   "metadata": {},
   "outputs": [
    {
     "data": {
      "image/svg+xml": [
       "<?xml version=\"1.0\" encoding=\"utf-8\"?>\n",
       "<svg xmlns=\"http://www.w3.org/2000/svg\" xmlns:xlink=\"http://www.w3.org/1999/xlink\" width=\"600\" height=\"400\" viewBox=\"0 0 2400 1600\">\n",
       "<defs>\n",
       "  <clipPath id=\"clip0700\">\n",
       "    <rect x=\"0\" y=\"0\" width=\"2400\" height=\"1600\"/>\n",
       "  </clipPath>\n",
       "</defs>\n",
       "<polygon clip-path=\"url(#clip0700)\" points=\"\n",
       "0,1600 2400,1600 2400,0 0,0 \n",
       "  \" fill=\"#ffffff\" fill-rule=\"evenodd\" fill-opacity=\"1\"/>\n",
       "<defs>\n",
       "  <clipPath id=\"clip0701\">\n",
       "    <rect x=\"480\" y=\"0\" width=\"1681\" height=\"1600\"/>\n",
       "  </clipPath>\n",
       "</defs>\n",
       "<polygon clip-path=\"url(#clip0700)\" points=\"\n",
       "141.865,1272.81 1152.76,1272.81 1152.76,261.914 141.865,261.914 \n",
       "  \" fill=\"#ffffff\" fill-rule=\"evenodd\" fill-opacity=\"1\"/>\n",
       "<defs>\n",
       "  <clipPath id=\"clip0702\">\n",
       "    <rect x=\"141\" y=\"261\" width=\"1012\" height=\"1012\"/>\n",
       "  </clipPath>\n",
       "</defs>\n",
       "<polyline clip-path=\"url(#clip0702)\" style=\"stroke:#000000; stroke-width:2; stroke-opacity:0.1; fill:none\" points=\"\n",
       "  141.865,1272.81 141.865,261.914 \n",
       "  \"/>\n",
       "<polyline clip-path=\"url(#clip0702)\" style=\"stroke:#000000; stroke-width:2; stroke-opacity:0.1; fill:none\" points=\"\n",
       "  394.587,1272.81 394.587,261.914 \n",
       "  \"/>\n",
       "<polyline clip-path=\"url(#clip0702)\" style=\"stroke:#000000; stroke-width:2; stroke-opacity:0.1; fill:none\" points=\"\n",
       "  647.31,1272.81 647.31,261.914 \n",
       "  \"/>\n",
       "<polyline clip-path=\"url(#clip0702)\" style=\"stroke:#000000; stroke-width:2; stroke-opacity:0.1; fill:none\" points=\"\n",
       "  900.033,1272.81 900.033,261.914 \n",
       "  \"/>\n",
       "<polyline clip-path=\"url(#clip0702)\" style=\"stroke:#000000; stroke-width:2; stroke-opacity:0.1; fill:none\" points=\"\n",
       "  1152.76,1272.81 1152.76,261.914 \n",
       "  \"/>\n",
       "<polyline clip-path=\"url(#clip0702)\" style=\"stroke:#000000; stroke-width:2; stroke-opacity:0.1; fill:none\" points=\"\n",
       "  141.865,1272.81 1152.76,1272.81 \n",
       "  \"/>\n",
       "<polyline clip-path=\"url(#clip0702)\" style=\"stroke:#000000; stroke-width:2; stroke-opacity:0.1; fill:none\" points=\"\n",
       "  141.865,1020.08 1152.76,1020.08 \n",
       "  \"/>\n",
       "<polyline clip-path=\"url(#clip0702)\" style=\"stroke:#000000; stroke-width:2; stroke-opacity:0.1; fill:none\" points=\"\n",
       "  141.865,767.359 1152.76,767.359 \n",
       "  \"/>\n",
       "<polyline clip-path=\"url(#clip0702)\" style=\"stroke:#000000; stroke-width:2; stroke-opacity:0.1; fill:none\" points=\"\n",
       "  141.865,514.637 1152.76,514.637 \n",
       "  \"/>\n",
       "<polyline clip-path=\"url(#clip0702)\" style=\"stroke:#000000; stroke-width:2; stroke-opacity:0.1; fill:none\" points=\"\n",
       "  141.865,261.914 1152.76,261.914 \n",
       "  \"/>\n",
       "<polyline clip-path=\"url(#clip0700)\" style=\"stroke:#000000; stroke-width:4; stroke-opacity:1; fill:none\" points=\"\n",
       "  141.865,1272.81 1152.76,1272.81 \n",
       "  \"/>\n",
       "<polyline clip-path=\"url(#clip0700)\" style=\"stroke:#000000; stroke-width:4; stroke-opacity:1; fill:none\" points=\"\n",
       "  141.865,1272.81 141.865,261.914 \n",
       "  \"/>\n",
       "<polyline clip-path=\"url(#clip0700)\" style=\"stroke:#000000; stroke-width:4; stroke-opacity:1; fill:none\" points=\"\n",
       "  141.865,1272.81 141.865,1257.64 \n",
       "  \"/>\n",
       "<polyline clip-path=\"url(#clip0700)\" style=\"stroke:#000000; stroke-width:4; stroke-opacity:1; fill:none\" points=\"\n",
       "  394.587,1272.81 394.587,1257.64 \n",
       "  \"/>\n",
       "<polyline clip-path=\"url(#clip0700)\" style=\"stroke:#000000; stroke-width:4; stroke-opacity:1; fill:none\" points=\"\n",
       "  647.31,1272.81 647.31,1257.64 \n",
       "  \"/>\n",
       "<polyline clip-path=\"url(#clip0700)\" style=\"stroke:#000000; stroke-width:4; stroke-opacity:1; fill:none\" points=\"\n",
       "  900.033,1272.81 900.033,1257.64 \n",
       "  \"/>\n",
       "<polyline clip-path=\"url(#clip0700)\" style=\"stroke:#000000; stroke-width:4; stroke-opacity:1; fill:none\" points=\"\n",
       "  1152.76,1272.81 1152.76,1257.64 \n",
       "  \"/>\n",
       "<polyline clip-path=\"url(#clip0700)\" style=\"stroke:#000000; stroke-width:4; stroke-opacity:1; fill:none\" points=\"\n",
       "  141.865,1272.81 157.028,1272.81 \n",
       "  \"/>\n",
       "<polyline clip-path=\"url(#clip0700)\" style=\"stroke:#000000; stroke-width:4; stroke-opacity:1; fill:none\" points=\"\n",
       "  141.865,1020.08 157.028,1020.08 \n",
       "  \"/>\n",
       "<polyline clip-path=\"url(#clip0700)\" style=\"stroke:#000000; stroke-width:4; stroke-opacity:1; fill:none\" points=\"\n",
       "  141.865,767.359 157.028,767.359 \n",
       "  \"/>\n",
       "<polyline clip-path=\"url(#clip0700)\" style=\"stroke:#000000; stroke-width:4; stroke-opacity:1; fill:none\" points=\"\n",
       "  141.865,514.637 157.028,514.637 \n",
       "  \"/>\n",
       "<polyline clip-path=\"url(#clip0700)\" style=\"stroke:#000000; stroke-width:4; stroke-opacity:1; fill:none\" points=\"\n",
       "  141.865,261.914 157.028,261.914 \n",
       "  \"/>\n",
       "<g clip-path=\"url(#clip0700)\">\n",
       "<text style=\"fill:#000000; fill-opacity:1; font-family:Arial,Helvetica Neue,Helvetica,sans-serif; font-size:48px; text-anchor:middle;\" transform=\"rotate(0, 141.865, 1326.81)\" x=\"141.865\" y=\"1326.81\">-2</text>\n",
       "</g>\n",
       "<g clip-path=\"url(#clip0700)\">\n",
       "<text style=\"fill:#000000; fill-opacity:1; font-family:Arial,Helvetica Neue,Helvetica,sans-serif; font-size:48px; text-anchor:middle;\" transform=\"rotate(0, 394.587, 1326.81)\" x=\"394.587\" y=\"1326.81\">-1</text>\n",
       "</g>\n",
       "<g clip-path=\"url(#clip0700)\">\n",
       "<text style=\"fill:#000000; fill-opacity:1; font-family:Arial,Helvetica Neue,Helvetica,sans-serif; font-size:48px; text-anchor:middle;\" transform=\"rotate(0, 647.31, 1326.81)\" x=\"647.31\" y=\"1326.81\">0</text>\n",
       "</g>\n",
       "<g clip-path=\"url(#clip0700)\">\n",
       "<text style=\"fill:#000000; fill-opacity:1; font-family:Arial,Helvetica Neue,Helvetica,sans-serif; font-size:48px; text-anchor:middle;\" transform=\"rotate(0, 900.033, 1326.81)\" x=\"900.033\" y=\"1326.81\">1</text>\n",
       "</g>\n",
       "<g clip-path=\"url(#clip0700)\">\n",
       "<text style=\"fill:#000000; fill-opacity:1; font-family:Arial,Helvetica Neue,Helvetica,sans-serif; font-size:48px; text-anchor:middle;\" transform=\"rotate(0, 1152.76, 1326.81)\" x=\"1152.76\" y=\"1326.81\">2</text>\n",
       "</g>\n",
       "<g clip-path=\"url(#clip0700)\">\n",
       "<text style=\"fill:#000000; fill-opacity:1; font-family:Arial,Helvetica Neue,Helvetica,sans-serif; font-size:48px; text-anchor:end;\" transform=\"rotate(0, 117.865, 1290.31)\" x=\"117.865\" y=\"1290.31\">-2</text>\n",
       "</g>\n",
       "<g clip-path=\"url(#clip0700)\">\n",
       "<text style=\"fill:#000000; fill-opacity:1; font-family:Arial,Helvetica Neue,Helvetica,sans-serif; font-size:48px; text-anchor:end;\" transform=\"rotate(0, 117.865, 1037.58)\" x=\"117.865\" y=\"1037.58\">-1</text>\n",
       "</g>\n",
       "<g clip-path=\"url(#clip0700)\">\n",
       "<text style=\"fill:#000000; fill-opacity:1; font-family:Arial,Helvetica Neue,Helvetica,sans-serif; font-size:48px; text-anchor:end;\" transform=\"rotate(0, 117.865, 784.859)\" x=\"117.865\" y=\"784.859\">0</text>\n",
       "</g>\n",
       "<g clip-path=\"url(#clip0700)\">\n",
       "<text style=\"fill:#000000; fill-opacity:1; font-family:Arial,Helvetica Neue,Helvetica,sans-serif; font-size:48px; text-anchor:end;\" transform=\"rotate(0, 117.865, 532.137)\" x=\"117.865\" y=\"532.137\">1</text>\n",
       "</g>\n",
       "<g clip-path=\"url(#clip0700)\">\n",
       "<text style=\"fill:#000000; fill-opacity:1; font-family:Arial,Helvetica Neue,Helvetica,sans-serif; font-size:48px; text-anchor:end;\" transform=\"rotate(0, 117.865, 279.414)\" x=\"117.865\" y=\"279.414\">2</text>\n",
       "</g>\n",
       "<polyline clip-path=\"url(#clip0702)\" style=\"stroke:#009af9; stroke-width:4; stroke-opacity:1; fill:none\" points=\"\n",
       "  896.922,727.825 887.664,689.264 872.488,652.626 851.767,618.813 826.012,588.657 795.857,562.902 762.044,542.182 725.406,527.006 686.845,517.748 647.31,514.637 \n",
       "  607.776,517.748 569.215,527.006 532.576,542.182 498.763,562.902 468.608,588.657 442.853,618.813 422.133,652.626 406.957,689.264 397.699,727.825 394.587,767.359 \n",
       "  397.699,806.894 406.957,845.455 422.133,882.093 442.853,915.906 468.608,946.061 498.763,971.816 532.576,992.537 569.215,1007.71 607.776,1016.97 647.31,1020.08 \n",
       "  686.845,1016.97 725.406,1007.71 762.044,992.537 795.857,971.816 826.012,946.061 851.767,915.906 872.488,882.093 887.664,845.455 896.922,806.894 900.033,767.359 \n",
       "  \n",
       "  \"/>\n",
       "<circle clip-path=\"url(#clip0702)\" style=\"fill:#000000; stroke:none; fill-opacity:1\" cx=\"896.922\" cy=\"727.825\" r=\"14\"/>\n",
       "<circle clip-path=\"url(#clip0702)\" style=\"fill:#009af9; stroke:none; fill-opacity:1\" cx=\"896.922\" cy=\"727.825\" r=\"10\"/>\n",
       "<circle clip-path=\"url(#clip0702)\" style=\"fill:#000000; stroke:none; fill-opacity:1\" cx=\"887.664\" cy=\"689.264\" r=\"14\"/>\n",
       "<circle clip-path=\"url(#clip0702)\" style=\"fill:#009af9; stroke:none; fill-opacity:1\" cx=\"887.664\" cy=\"689.264\" r=\"10\"/>\n",
       "<circle clip-path=\"url(#clip0702)\" style=\"fill:#000000; stroke:none; fill-opacity:1\" cx=\"872.488\" cy=\"652.626\" r=\"14\"/>\n",
       "<circle clip-path=\"url(#clip0702)\" style=\"fill:#009af9; stroke:none; fill-opacity:1\" cx=\"872.488\" cy=\"652.626\" r=\"10\"/>\n",
       "<circle clip-path=\"url(#clip0702)\" style=\"fill:#000000; stroke:none; fill-opacity:1\" cx=\"851.767\" cy=\"618.813\" r=\"14\"/>\n",
       "<circle clip-path=\"url(#clip0702)\" style=\"fill:#009af9; stroke:none; fill-opacity:1\" cx=\"851.767\" cy=\"618.813\" r=\"10\"/>\n",
       "<circle clip-path=\"url(#clip0702)\" style=\"fill:#000000; stroke:none; fill-opacity:1\" cx=\"826.012\" cy=\"588.657\" r=\"14\"/>\n",
       "<circle clip-path=\"url(#clip0702)\" style=\"fill:#009af9; stroke:none; fill-opacity:1\" cx=\"826.012\" cy=\"588.657\" r=\"10\"/>\n",
       "<circle clip-path=\"url(#clip0702)\" style=\"fill:#000000; stroke:none; fill-opacity:1\" cx=\"795.857\" cy=\"562.902\" r=\"14\"/>\n",
       "<circle clip-path=\"url(#clip0702)\" style=\"fill:#009af9; stroke:none; fill-opacity:1\" cx=\"795.857\" cy=\"562.902\" r=\"10\"/>\n",
       "<circle clip-path=\"url(#clip0702)\" style=\"fill:#000000; stroke:none; fill-opacity:1\" cx=\"762.044\" cy=\"542.182\" r=\"14\"/>\n",
       "<circle clip-path=\"url(#clip0702)\" style=\"fill:#009af9; stroke:none; fill-opacity:1\" cx=\"762.044\" cy=\"542.182\" r=\"10\"/>\n",
       "<circle clip-path=\"url(#clip0702)\" style=\"fill:#000000; stroke:none; fill-opacity:1\" cx=\"725.406\" cy=\"527.006\" r=\"14\"/>\n",
       "<circle clip-path=\"url(#clip0702)\" style=\"fill:#009af9; stroke:none; fill-opacity:1\" cx=\"725.406\" cy=\"527.006\" r=\"10\"/>\n",
       "<circle clip-path=\"url(#clip0702)\" style=\"fill:#000000; stroke:none; fill-opacity:1\" cx=\"686.845\" cy=\"517.748\" r=\"14\"/>\n",
       "<circle clip-path=\"url(#clip0702)\" style=\"fill:#009af9; stroke:none; fill-opacity:1\" cx=\"686.845\" cy=\"517.748\" r=\"10\"/>\n",
       "<circle clip-path=\"url(#clip0702)\" style=\"fill:#000000; stroke:none; fill-opacity:1\" cx=\"647.31\" cy=\"514.637\" r=\"14\"/>\n",
       "<circle clip-path=\"url(#clip0702)\" style=\"fill:#009af9; stroke:none; fill-opacity:1\" cx=\"647.31\" cy=\"514.637\" r=\"10\"/>\n",
       "<circle clip-path=\"url(#clip0702)\" style=\"fill:#000000; stroke:none; fill-opacity:1\" cx=\"607.776\" cy=\"517.748\" r=\"14\"/>\n",
       "<circle clip-path=\"url(#clip0702)\" style=\"fill:#009af9; stroke:none; fill-opacity:1\" cx=\"607.776\" cy=\"517.748\" r=\"10\"/>\n",
       "<circle clip-path=\"url(#clip0702)\" style=\"fill:#000000; stroke:none; fill-opacity:1\" cx=\"569.215\" cy=\"527.006\" r=\"14\"/>\n",
       "<circle clip-path=\"url(#clip0702)\" style=\"fill:#009af9; stroke:none; fill-opacity:1\" cx=\"569.215\" cy=\"527.006\" r=\"10\"/>\n",
       "<circle clip-path=\"url(#clip0702)\" style=\"fill:#000000; stroke:none; fill-opacity:1\" cx=\"532.576\" cy=\"542.182\" r=\"14\"/>\n",
       "<circle clip-path=\"url(#clip0702)\" style=\"fill:#009af9; stroke:none; fill-opacity:1\" cx=\"532.576\" cy=\"542.182\" r=\"10\"/>\n",
       "<circle clip-path=\"url(#clip0702)\" style=\"fill:#000000; stroke:none; fill-opacity:1\" cx=\"498.763\" cy=\"562.902\" r=\"14\"/>\n",
       "<circle clip-path=\"url(#clip0702)\" style=\"fill:#009af9; stroke:none; fill-opacity:1\" cx=\"498.763\" cy=\"562.902\" r=\"10\"/>\n",
       "<circle clip-path=\"url(#clip0702)\" style=\"fill:#000000; stroke:none; fill-opacity:1\" cx=\"468.608\" cy=\"588.657\" r=\"14\"/>\n",
       "<circle clip-path=\"url(#clip0702)\" style=\"fill:#009af9; stroke:none; fill-opacity:1\" cx=\"468.608\" cy=\"588.657\" r=\"10\"/>\n",
       "<circle clip-path=\"url(#clip0702)\" style=\"fill:#000000; stroke:none; fill-opacity:1\" cx=\"442.853\" cy=\"618.813\" r=\"14\"/>\n",
       "<circle clip-path=\"url(#clip0702)\" style=\"fill:#009af9; stroke:none; fill-opacity:1\" cx=\"442.853\" cy=\"618.813\" r=\"10\"/>\n",
       "<circle clip-path=\"url(#clip0702)\" style=\"fill:#000000; stroke:none; fill-opacity:1\" cx=\"422.133\" cy=\"652.626\" r=\"14\"/>\n",
       "<circle clip-path=\"url(#clip0702)\" style=\"fill:#009af9; stroke:none; fill-opacity:1\" cx=\"422.133\" cy=\"652.626\" r=\"10\"/>\n",
       "<circle clip-path=\"url(#clip0702)\" style=\"fill:#000000; stroke:none; fill-opacity:1\" cx=\"406.957\" cy=\"689.264\" r=\"14\"/>\n",
       "<circle clip-path=\"url(#clip0702)\" style=\"fill:#009af9; stroke:none; fill-opacity:1\" cx=\"406.957\" cy=\"689.264\" r=\"10\"/>\n",
       "<circle clip-path=\"url(#clip0702)\" style=\"fill:#000000; stroke:none; fill-opacity:1\" cx=\"397.699\" cy=\"727.825\" r=\"14\"/>\n",
       "<circle clip-path=\"url(#clip0702)\" style=\"fill:#009af9; stroke:none; fill-opacity:1\" cx=\"397.699\" cy=\"727.825\" r=\"10\"/>\n",
       "<circle clip-path=\"url(#clip0702)\" style=\"fill:#000000; stroke:none; fill-opacity:1\" cx=\"394.587\" cy=\"767.359\" r=\"14\"/>\n",
       "<circle clip-path=\"url(#clip0702)\" style=\"fill:#009af9; stroke:none; fill-opacity:1\" cx=\"394.587\" cy=\"767.359\" r=\"10\"/>\n",
       "<circle clip-path=\"url(#clip0702)\" style=\"fill:#000000; stroke:none; fill-opacity:1\" cx=\"397.699\" cy=\"806.894\" r=\"14\"/>\n",
       "<circle clip-path=\"url(#clip0702)\" style=\"fill:#009af9; stroke:none; fill-opacity:1\" cx=\"397.699\" cy=\"806.894\" r=\"10\"/>\n",
       "<circle clip-path=\"url(#clip0702)\" style=\"fill:#000000; stroke:none; fill-opacity:1\" cx=\"406.957\" cy=\"845.455\" r=\"14\"/>\n",
       "<circle clip-path=\"url(#clip0702)\" style=\"fill:#009af9; stroke:none; fill-opacity:1\" cx=\"406.957\" cy=\"845.455\" r=\"10\"/>\n",
       "<circle clip-path=\"url(#clip0702)\" style=\"fill:#000000; stroke:none; fill-opacity:1\" cx=\"422.133\" cy=\"882.093\" r=\"14\"/>\n",
       "<circle clip-path=\"url(#clip0702)\" style=\"fill:#009af9; stroke:none; fill-opacity:1\" cx=\"422.133\" cy=\"882.093\" r=\"10\"/>\n",
       "<circle clip-path=\"url(#clip0702)\" style=\"fill:#000000; stroke:none; fill-opacity:1\" cx=\"442.853\" cy=\"915.906\" r=\"14\"/>\n",
       "<circle clip-path=\"url(#clip0702)\" style=\"fill:#009af9; stroke:none; fill-opacity:1\" cx=\"442.853\" cy=\"915.906\" r=\"10\"/>\n",
       "<circle clip-path=\"url(#clip0702)\" style=\"fill:#000000; stroke:none; fill-opacity:1\" cx=\"468.608\" cy=\"946.061\" r=\"14\"/>\n",
       "<circle clip-path=\"url(#clip0702)\" style=\"fill:#009af9; stroke:none; fill-opacity:1\" cx=\"468.608\" cy=\"946.061\" r=\"10\"/>\n",
       "<circle clip-path=\"url(#clip0702)\" style=\"fill:#000000; stroke:none; fill-opacity:1\" cx=\"498.763\" cy=\"971.816\" r=\"14\"/>\n",
       "<circle clip-path=\"url(#clip0702)\" style=\"fill:#009af9; stroke:none; fill-opacity:1\" cx=\"498.763\" cy=\"971.816\" r=\"10\"/>\n",
       "<circle clip-path=\"url(#clip0702)\" style=\"fill:#000000; stroke:none; fill-opacity:1\" cx=\"532.576\" cy=\"992.537\" r=\"14\"/>\n",
       "<circle clip-path=\"url(#clip0702)\" style=\"fill:#009af9; stroke:none; fill-opacity:1\" cx=\"532.576\" cy=\"992.537\" r=\"10\"/>\n",
       "<circle clip-path=\"url(#clip0702)\" style=\"fill:#000000; stroke:none; fill-opacity:1\" cx=\"569.215\" cy=\"1007.71\" r=\"14\"/>\n",
       "<circle clip-path=\"url(#clip0702)\" style=\"fill:#009af9; stroke:none; fill-opacity:1\" cx=\"569.215\" cy=\"1007.71\" r=\"10\"/>\n",
       "<circle clip-path=\"url(#clip0702)\" style=\"fill:#000000; stroke:none; fill-opacity:1\" cx=\"607.776\" cy=\"1016.97\" r=\"14\"/>\n",
       "<circle clip-path=\"url(#clip0702)\" style=\"fill:#009af9; stroke:none; fill-opacity:1\" cx=\"607.776\" cy=\"1016.97\" r=\"10\"/>\n",
       "<circle clip-path=\"url(#clip0702)\" style=\"fill:#000000; stroke:none; fill-opacity:1\" cx=\"647.31\" cy=\"1020.08\" r=\"14\"/>\n",
       "<circle clip-path=\"url(#clip0702)\" style=\"fill:#009af9; stroke:none; fill-opacity:1\" cx=\"647.31\" cy=\"1020.08\" r=\"10\"/>\n",
       "<circle clip-path=\"url(#clip0702)\" style=\"fill:#000000; stroke:none; fill-opacity:1\" cx=\"686.845\" cy=\"1016.97\" r=\"14\"/>\n",
       "<circle clip-path=\"url(#clip0702)\" style=\"fill:#009af9; stroke:none; fill-opacity:1\" cx=\"686.845\" cy=\"1016.97\" r=\"10\"/>\n",
       "<circle clip-path=\"url(#clip0702)\" style=\"fill:#000000; stroke:none; fill-opacity:1\" cx=\"725.406\" cy=\"1007.71\" r=\"14\"/>\n",
       "<circle clip-path=\"url(#clip0702)\" style=\"fill:#009af9; stroke:none; fill-opacity:1\" cx=\"725.406\" cy=\"1007.71\" r=\"10\"/>\n",
       "<circle clip-path=\"url(#clip0702)\" style=\"fill:#000000; stroke:none; fill-opacity:1\" cx=\"762.044\" cy=\"992.537\" r=\"14\"/>\n",
       "<circle clip-path=\"url(#clip0702)\" style=\"fill:#009af9; stroke:none; fill-opacity:1\" cx=\"762.044\" cy=\"992.537\" r=\"10\"/>\n",
       "<circle clip-path=\"url(#clip0702)\" style=\"fill:#000000; stroke:none; fill-opacity:1\" cx=\"795.857\" cy=\"971.816\" r=\"14\"/>\n",
       "<circle clip-path=\"url(#clip0702)\" style=\"fill:#009af9; stroke:none; fill-opacity:1\" cx=\"795.857\" cy=\"971.816\" r=\"10\"/>\n",
       "<circle clip-path=\"url(#clip0702)\" style=\"fill:#000000; stroke:none; fill-opacity:1\" cx=\"826.012\" cy=\"946.061\" r=\"14\"/>\n",
       "<circle clip-path=\"url(#clip0702)\" style=\"fill:#009af9; stroke:none; fill-opacity:1\" cx=\"826.012\" cy=\"946.061\" r=\"10\"/>\n",
       "<circle clip-path=\"url(#clip0702)\" style=\"fill:#000000; stroke:none; fill-opacity:1\" cx=\"851.767\" cy=\"915.906\" r=\"14\"/>\n",
       "<circle clip-path=\"url(#clip0702)\" style=\"fill:#009af9; stroke:none; fill-opacity:1\" cx=\"851.767\" cy=\"915.906\" r=\"10\"/>\n",
       "<circle clip-path=\"url(#clip0702)\" style=\"fill:#000000; stroke:none; fill-opacity:1\" cx=\"872.488\" cy=\"882.093\" r=\"14\"/>\n",
       "<circle clip-path=\"url(#clip0702)\" style=\"fill:#009af9; stroke:none; fill-opacity:1\" cx=\"872.488\" cy=\"882.093\" r=\"10\"/>\n",
       "<circle clip-path=\"url(#clip0702)\" style=\"fill:#000000; stroke:none; fill-opacity:1\" cx=\"887.664\" cy=\"845.455\" r=\"14\"/>\n",
       "<circle clip-path=\"url(#clip0702)\" style=\"fill:#009af9; stroke:none; fill-opacity:1\" cx=\"887.664\" cy=\"845.455\" r=\"10\"/>\n",
       "<circle clip-path=\"url(#clip0702)\" style=\"fill:#000000; stroke:none; fill-opacity:1\" cx=\"896.922\" cy=\"806.894\" r=\"14\"/>\n",
       "<circle clip-path=\"url(#clip0702)\" style=\"fill:#009af9; stroke:none; fill-opacity:1\" cx=\"896.922\" cy=\"806.894\" r=\"10\"/>\n",
       "<circle clip-path=\"url(#clip0702)\" style=\"fill:#000000; stroke:none; fill-opacity:1\" cx=\"900.033\" cy=\"767.359\" r=\"14\"/>\n",
       "<circle clip-path=\"url(#clip0702)\" style=\"fill:#009af9; stroke:none; fill-opacity:1\" cx=\"900.033\" cy=\"767.359\" r=\"10\"/>\n",
       "<polygon clip-path=\"url(#clip0700)\" points=\"\n",
       "1341.86,1272.81 2352.76,1272.81 2352.76,261.914 1341.86,261.914 \n",
       "  \" fill=\"#ffffff\" fill-rule=\"evenodd\" fill-opacity=\"1\"/>\n",
       "<defs>\n",
       "  <clipPath id=\"clip0703\">\n",
       "    <rect x=\"1341\" y=\"261\" width=\"1012\" height=\"1012\"/>\n",
       "  </clipPath>\n",
       "</defs>\n",
       "<polyline clip-path=\"url(#clip0703)\" style=\"stroke:#000000; stroke-width:2; stroke-opacity:0.1; fill:none\" points=\"\n",
       "  1341.86,1272.81 1341.86,261.914 \n",
       "  \"/>\n",
       "<polyline clip-path=\"url(#clip0703)\" style=\"stroke:#000000; stroke-width:2; stroke-opacity:0.1; fill:none\" points=\"\n",
       "  1594.59,1272.81 1594.59,261.914 \n",
       "  \"/>\n",
       "<polyline clip-path=\"url(#clip0703)\" style=\"stroke:#000000; stroke-width:2; stroke-opacity:0.1; fill:none\" points=\"\n",
       "  1847.31,1272.81 1847.31,261.914 \n",
       "  \"/>\n",
       "<polyline clip-path=\"url(#clip0703)\" style=\"stroke:#000000; stroke-width:2; stroke-opacity:0.1; fill:none\" points=\"\n",
       "  2100.03,1272.81 2100.03,261.914 \n",
       "  \"/>\n",
       "<polyline clip-path=\"url(#clip0703)\" style=\"stroke:#000000; stroke-width:2; stroke-opacity:0.1; fill:none\" points=\"\n",
       "  2352.76,1272.81 2352.76,261.914 \n",
       "  \"/>\n",
       "<polyline clip-path=\"url(#clip0703)\" style=\"stroke:#000000; stroke-width:2; stroke-opacity:0.1; fill:none\" points=\"\n",
       "  1341.86,1272.81 2352.76,1272.81 \n",
       "  \"/>\n",
       "<polyline clip-path=\"url(#clip0703)\" style=\"stroke:#000000; stroke-width:2; stroke-opacity:0.1; fill:none\" points=\"\n",
       "  1341.86,1020.08 2352.76,1020.08 \n",
       "  \"/>\n",
       "<polyline clip-path=\"url(#clip0703)\" style=\"stroke:#000000; stroke-width:2; stroke-opacity:0.1; fill:none\" points=\"\n",
       "  1341.86,767.359 2352.76,767.359 \n",
       "  \"/>\n",
       "<polyline clip-path=\"url(#clip0703)\" style=\"stroke:#000000; stroke-width:2; stroke-opacity:0.1; fill:none\" points=\"\n",
       "  1341.86,514.637 2352.76,514.637 \n",
       "  \"/>\n",
       "<polyline clip-path=\"url(#clip0703)\" style=\"stroke:#000000; stroke-width:2; stroke-opacity:0.1; fill:none\" points=\"\n",
       "  1341.86,261.914 2352.76,261.914 \n",
       "  \"/>\n",
       "<polyline clip-path=\"url(#clip0700)\" style=\"stroke:#000000; stroke-width:4; stroke-opacity:1; fill:none\" points=\"\n",
       "  1341.86,1272.81 2352.76,1272.81 \n",
       "  \"/>\n",
       "<polyline clip-path=\"url(#clip0700)\" style=\"stroke:#000000; stroke-width:4; stroke-opacity:1; fill:none\" points=\"\n",
       "  1341.86,1272.81 1341.86,261.914 \n",
       "  \"/>\n",
       "<polyline clip-path=\"url(#clip0700)\" style=\"stroke:#000000; stroke-width:4; stroke-opacity:1; fill:none\" points=\"\n",
       "  1341.86,1272.81 1341.86,1257.64 \n",
       "  \"/>\n",
       "<polyline clip-path=\"url(#clip0700)\" style=\"stroke:#000000; stroke-width:4; stroke-opacity:1; fill:none\" points=\"\n",
       "  1594.59,1272.81 1594.59,1257.64 \n",
       "  \"/>\n",
       "<polyline clip-path=\"url(#clip0700)\" style=\"stroke:#000000; stroke-width:4; stroke-opacity:1; fill:none\" points=\"\n",
       "  1847.31,1272.81 1847.31,1257.64 \n",
       "  \"/>\n",
       "<polyline clip-path=\"url(#clip0700)\" style=\"stroke:#000000; stroke-width:4; stroke-opacity:1; fill:none\" points=\"\n",
       "  2100.03,1272.81 2100.03,1257.64 \n",
       "  \"/>\n",
       "<polyline clip-path=\"url(#clip0700)\" style=\"stroke:#000000; stroke-width:4; stroke-opacity:1; fill:none\" points=\"\n",
       "  2352.76,1272.81 2352.76,1257.64 \n",
       "  \"/>\n",
       "<polyline clip-path=\"url(#clip0700)\" style=\"stroke:#000000; stroke-width:4; stroke-opacity:1; fill:none\" points=\"\n",
       "  1341.86,1272.81 1357.03,1272.81 \n",
       "  \"/>\n",
       "<polyline clip-path=\"url(#clip0700)\" style=\"stroke:#000000; stroke-width:4; stroke-opacity:1; fill:none\" points=\"\n",
       "  1341.86,1020.08 1357.03,1020.08 \n",
       "  \"/>\n",
       "<polyline clip-path=\"url(#clip0700)\" style=\"stroke:#000000; stroke-width:4; stroke-opacity:1; fill:none\" points=\"\n",
       "  1341.86,767.359 1357.03,767.359 \n",
       "  \"/>\n",
       "<polyline clip-path=\"url(#clip0700)\" style=\"stroke:#000000; stroke-width:4; stroke-opacity:1; fill:none\" points=\"\n",
       "  1341.86,514.637 1357.03,514.637 \n",
       "  \"/>\n",
       "<polyline clip-path=\"url(#clip0700)\" style=\"stroke:#000000; stroke-width:4; stroke-opacity:1; fill:none\" points=\"\n",
       "  1341.86,261.914 1357.03,261.914 \n",
       "  \"/>\n",
       "<g clip-path=\"url(#clip0700)\">\n",
       "<text style=\"fill:#000000; fill-opacity:1; font-family:Arial,Helvetica Neue,Helvetica,sans-serif; font-size:48px; text-anchor:middle;\" transform=\"rotate(0, 1341.86, 1326.81)\" x=\"1341.86\" y=\"1326.81\">-2</text>\n",
       "</g>\n",
       "<g clip-path=\"url(#clip0700)\">\n",
       "<text style=\"fill:#000000; fill-opacity:1; font-family:Arial,Helvetica Neue,Helvetica,sans-serif; font-size:48px; text-anchor:middle;\" transform=\"rotate(0, 1594.59, 1326.81)\" x=\"1594.59\" y=\"1326.81\">-1</text>\n",
       "</g>\n",
       "<g clip-path=\"url(#clip0700)\">\n",
       "<text style=\"fill:#000000; fill-opacity:1; font-family:Arial,Helvetica Neue,Helvetica,sans-serif; font-size:48px; text-anchor:middle;\" transform=\"rotate(0, 1847.31, 1326.81)\" x=\"1847.31\" y=\"1326.81\">0</text>\n",
       "</g>\n",
       "<g clip-path=\"url(#clip0700)\">\n",
       "<text style=\"fill:#000000; fill-opacity:1; font-family:Arial,Helvetica Neue,Helvetica,sans-serif; font-size:48px; text-anchor:middle;\" transform=\"rotate(0, 2100.03, 1326.81)\" x=\"2100.03\" y=\"1326.81\">1</text>\n",
       "</g>\n",
       "<g clip-path=\"url(#clip0700)\">\n",
       "<text style=\"fill:#000000; fill-opacity:1; font-family:Arial,Helvetica Neue,Helvetica,sans-serif; font-size:48px; text-anchor:middle;\" transform=\"rotate(0, 2352.76, 1326.81)\" x=\"2352.76\" y=\"1326.81\">2</text>\n",
       "</g>\n",
       "<g clip-path=\"url(#clip0700)\">\n",
       "<text style=\"fill:#000000; fill-opacity:1; font-family:Arial,Helvetica Neue,Helvetica,sans-serif; font-size:48px; text-anchor:end;\" transform=\"rotate(0, 1317.86, 1290.31)\" x=\"1317.86\" y=\"1290.31\">-2</text>\n",
       "</g>\n",
       "<g clip-path=\"url(#clip0700)\">\n",
       "<text style=\"fill:#000000; fill-opacity:1; font-family:Arial,Helvetica Neue,Helvetica,sans-serif; font-size:48px; text-anchor:end;\" transform=\"rotate(0, 1317.86, 1037.58)\" x=\"1317.86\" y=\"1037.58\">-1</text>\n",
       "</g>\n",
       "<g clip-path=\"url(#clip0700)\">\n",
       "<text style=\"fill:#000000; fill-opacity:1; font-family:Arial,Helvetica Neue,Helvetica,sans-serif; font-size:48px; text-anchor:end;\" transform=\"rotate(0, 1317.86, 784.859)\" x=\"1317.86\" y=\"784.859\">0</text>\n",
       "</g>\n",
       "<g clip-path=\"url(#clip0700)\">\n",
       "<text style=\"fill:#000000; fill-opacity:1; font-family:Arial,Helvetica Neue,Helvetica,sans-serif; font-size:48px; text-anchor:end;\" transform=\"rotate(0, 1317.86, 532.137)\" x=\"1317.86\" y=\"532.137\">1</text>\n",
       "</g>\n",
       "<g clip-path=\"url(#clip0700)\">\n",
       "<text style=\"fill:#000000; fill-opacity:1; font-family:Arial,Helvetica Neue,Helvetica,sans-serif; font-size:48px; text-anchor:end;\" transform=\"rotate(0, 1317.86, 279.414)\" x=\"1317.86\" y=\"279.414\">2</text>\n",
       "</g>\n",
       "<polyline clip-path=\"url(#clip0703)\" style=\"stroke:#009af9; stroke-width:4; stroke-opacity:1; fill:none\" points=\"\n",
       "  2156.22,727.825 2204.81,689.264 2244.59,652.626 2274.59,618.813 2294.07,588.657 2302.54,562.902 2299.81,542.182 2285.94,527.006 2261.26,517.748 2226.39,514.637 \n",
       "  2182.19,517.748 2129.75,527.006 2070.34,542.182 2005.45,562.902 1936.66,588.657 1865.67,618.813 1794.23,652.626 1724.1,689.264 1657,727.825 1594.59,767.359 \n",
       "  1538.4,806.894 1489.81,845.455 1450.03,882.093 1420.03,915.906 1400.56,946.061 1392.08,971.816 1394.81,992.537 1408.68,1007.71 1433.36,1016.97 1468.23,1020.08 \n",
       "  1512.43,1016.97 1564.88,1007.71 1624.28,992.537 1689.17,971.816 1757.96,946.061 1828.95,915.906 1900.39,882.093 1970.52,845.455 2037.62,806.894 2100.03,767.359 \n",
       "  \n",
       "  \"/>\n",
       "<circle clip-path=\"url(#clip0703)\" style=\"fill:#000000; stroke:none; fill-opacity:1\" cx=\"2156.22\" cy=\"727.825\" r=\"14\"/>\n",
       "<circle clip-path=\"url(#clip0703)\" style=\"fill:#009af9; stroke:none; fill-opacity:1\" cx=\"2156.22\" cy=\"727.825\" r=\"10\"/>\n",
       "<circle clip-path=\"url(#clip0703)\" style=\"fill:#000000; stroke:none; fill-opacity:1\" cx=\"2204.81\" cy=\"689.264\" r=\"14\"/>\n",
       "<circle clip-path=\"url(#clip0703)\" style=\"fill:#009af9; stroke:none; fill-opacity:1\" cx=\"2204.81\" cy=\"689.264\" r=\"10\"/>\n",
       "<circle clip-path=\"url(#clip0703)\" style=\"fill:#000000; stroke:none; fill-opacity:1\" cx=\"2244.59\" cy=\"652.626\" r=\"14\"/>\n",
       "<circle clip-path=\"url(#clip0703)\" style=\"fill:#009af9; stroke:none; fill-opacity:1\" cx=\"2244.59\" cy=\"652.626\" r=\"10\"/>\n",
       "<circle clip-path=\"url(#clip0703)\" style=\"fill:#000000; stroke:none; fill-opacity:1\" cx=\"2274.59\" cy=\"618.813\" r=\"14\"/>\n",
       "<circle clip-path=\"url(#clip0703)\" style=\"fill:#009af9; stroke:none; fill-opacity:1\" cx=\"2274.59\" cy=\"618.813\" r=\"10\"/>\n",
       "<circle clip-path=\"url(#clip0703)\" style=\"fill:#000000; stroke:none; fill-opacity:1\" cx=\"2294.07\" cy=\"588.657\" r=\"14\"/>\n",
       "<circle clip-path=\"url(#clip0703)\" style=\"fill:#009af9; stroke:none; fill-opacity:1\" cx=\"2294.07\" cy=\"588.657\" r=\"10\"/>\n",
       "<circle clip-path=\"url(#clip0703)\" style=\"fill:#000000; stroke:none; fill-opacity:1\" cx=\"2302.54\" cy=\"562.902\" r=\"14\"/>\n",
       "<circle clip-path=\"url(#clip0703)\" style=\"fill:#009af9; stroke:none; fill-opacity:1\" cx=\"2302.54\" cy=\"562.902\" r=\"10\"/>\n",
       "<circle clip-path=\"url(#clip0703)\" style=\"fill:#000000; stroke:none; fill-opacity:1\" cx=\"2299.81\" cy=\"542.182\" r=\"14\"/>\n",
       "<circle clip-path=\"url(#clip0703)\" style=\"fill:#009af9; stroke:none; fill-opacity:1\" cx=\"2299.81\" cy=\"542.182\" r=\"10\"/>\n",
       "<circle clip-path=\"url(#clip0703)\" style=\"fill:#000000; stroke:none; fill-opacity:1\" cx=\"2285.94\" cy=\"527.006\" r=\"14\"/>\n",
       "<circle clip-path=\"url(#clip0703)\" style=\"fill:#009af9; stroke:none; fill-opacity:1\" cx=\"2285.94\" cy=\"527.006\" r=\"10\"/>\n",
       "<circle clip-path=\"url(#clip0703)\" style=\"fill:#000000; stroke:none; fill-opacity:1\" cx=\"2261.26\" cy=\"517.748\" r=\"14\"/>\n",
       "<circle clip-path=\"url(#clip0703)\" style=\"fill:#009af9; stroke:none; fill-opacity:1\" cx=\"2261.26\" cy=\"517.748\" r=\"10\"/>\n",
       "<circle clip-path=\"url(#clip0703)\" style=\"fill:#000000; stroke:none; fill-opacity:1\" cx=\"2226.39\" cy=\"514.637\" r=\"14\"/>\n",
       "<circle clip-path=\"url(#clip0703)\" style=\"fill:#009af9; stroke:none; fill-opacity:1\" cx=\"2226.39\" cy=\"514.637\" r=\"10\"/>\n",
       "<circle clip-path=\"url(#clip0703)\" style=\"fill:#000000; stroke:none; fill-opacity:1\" cx=\"2182.19\" cy=\"517.748\" r=\"14\"/>\n",
       "<circle clip-path=\"url(#clip0703)\" style=\"fill:#009af9; stroke:none; fill-opacity:1\" cx=\"2182.19\" cy=\"517.748\" r=\"10\"/>\n",
       "<circle clip-path=\"url(#clip0703)\" style=\"fill:#000000; stroke:none; fill-opacity:1\" cx=\"2129.75\" cy=\"527.006\" r=\"14\"/>\n",
       "<circle clip-path=\"url(#clip0703)\" style=\"fill:#009af9; stroke:none; fill-opacity:1\" cx=\"2129.75\" cy=\"527.006\" r=\"10\"/>\n",
       "<circle clip-path=\"url(#clip0703)\" style=\"fill:#000000; stroke:none; fill-opacity:1\" cx=\"2070.34\" cy=\"542.182\" r=\"14\"/>\n",
       "<circle clip-path=\"url(#clip0703)\" style=\"fill:#009af9; stroke:none; fill-opacity:1\" cx=\"2070.34\" cy=\"542.182\" r=\"10\"/>\n",
       "<circle clip-path=\"url(#clip0703)\" style=\"fill:#000000; stroke:none; fill-opacity:1\" cx=\"2005.45\" cy=\"562.902\" r=\"14\"/>\n",
       "<circle clip-path=\"url(#clip0703)\" style=\"fill:#009af9; stroke:none; fill-opacity:1\" cx=\"2005.45\" cy=\"562.902\" r=\"10\"/>\n",
       "<circle clip-path=\"url(#clip0703)\" style=\"fill:#000000; stroke:none; fill-opacity:1\" cx=\"1936.66\" cy=\"588.657\" r=\"14\"/>\n",
       "<circle clip-path=\"url(#clip0703)\" style=\"fill:#009af9; stroke:none; fill-opacity:1\" cx=\"1936.66\" cy=\"588.657\" r=\"10\"/>\n",
       "<circle clip-path=\"url(#clip0703)\" style=\"fill:#000000; stroke:none; fill-opacity:1\" cx=\"1865.67\" cy=\"618.813\" r=\"14\"/>\n",
       "<circle clip-path=\"url(#clip0703)\" style=\"fill:#009af9; stroke:none; fill-opacity:1\" cx=\"1865.67\" cy=\"618.813\" r=\"10\"/>\n",
       "<circle clip-path=\"url(#clip0703)\" style=\"fill:#000000; stroke:none; fill-opacity:1\" cx=\"1794.23\" cy=\"652.626\" r=\"14\"/>\n",
       "<circle clip-path=\"url(#clip0703)\" style=\"fill:#009af9; stroke:none; fill-opacity:1\" cx=\"1794.23\" cy=\"652.626\" r=\"10\"/>\n",
       "<circle clip-path=\"url(#clip0703)\" style=\"fill:#000000; stroke:none; fill-opacity:1\" cx=\"1724.1\" cy=\"689.264\" r=\"14\"/>\n",
       "<circle clip-path=\"url(#clip0703)\" style=\"fill:#009af9; stroke:none; fill-opacity:1\" cx=\"1724.1\" cy=\"689.264\" r=\"10\"/>\n",
       "<circle clip-path=\"url(#clip0703)\" style=\"fill:#000000; stroke:none; fill-opacity:1\" cx=\"1657\" cy=\"727.825\" r=\"14\"/>\n",
       "<circle clip-path=\"url(#clip0703)\" style=\"fill:#009af9; stroke:none; fill-opacity:1\" cx=\"1657\" cy=\"727.825\" r=\"10\"/>\n",
       "<circle clip-path=\"url(#clip0703)\" style=\"fill:#000000; stroke:none; fill-opacity:1\" cx=\"1594.59\" cy=\"767.359\" r=\"14\"/>\n",
       "<circle clip-path=\"url(#clip0703)\" style=\"fill:#009af9; stroke:none; fill-opacity:1\" cx=\"1594.59\" cy=\"767.359\" r=\"10\"/>\n",
       "<circle clip-path=\"url(#clip0703)\" style=\"fill:#000000; stroke:none; fill-opacity:1\" cx=\"1538.4\" cy=\"806.894\" r=\"14\"/>\n",
       "<circle clip-path=\"url(#clip0703)\" style=\"fill:#009af9; stroke:none; fill-opacity:1\" cx=\"1538.4\" cy=\"806.894\" r=\"10\"/>\n",
       "<circle clip-path=\"url(#clip0703)\" style=\"fill:#000000; stroke:none; fill-opacity:1\" cx=\"1489.81\" cy=\"845.455\" r=\"14\"/>\n",
       "<circle clip-path=\"url(#clip0703)\" style=\"fill:#009af9; stroke:none; fill-opacity:1\" cx=\"1489.81\" cy=\"845.455\" r=\"10\"/>\n",
       "<circle clip-path=\"url(#clip0703)\" style=\"fill:#000000; stroke:none; fill-opacity:1\" cx=\"1450.03\" cy=\"882.093\" r=\"14\"/>\n",
       "<circle clip-path=\"url(#clip0703)\" style=\"fill:#009af9; stroke:none; fill-opacity:1\" cx=\"1450.03\" cy=\"882.093\" r=\"10\"/>\n",
       "<circle clip-path=\"url(#clip0703)\" style=\"fill:#000000; stroke:none; fill-opacity:1\" cx=\"1420.03\" cy=\"915.906\" r=\"14\"/>\n",
       "<circle clip-path=\"url(#clip0703)\" style=\"fill:#009af9; stroke:none; fill-opacity:1\" cx=\"1420.03\" cy=\"915.906\" r=\"10\"/>\n",
       "<circle clip-path=\"url(#clip0703)\" style=\"fill:#000000; stroke:none; fill-opacity:1\" cx=\"1400.56\" cy=\"946.061\" r=\"14\"/>\n",
       "<circle clip-path=\"url(#clip0703)\" style=\"fill:#009af9; stroke:none; fill-opacity:1\" cx=\"1400.56\" cy=\"946.061\" r=\"10\"/>\n",
       "<circle clip-path=\"url(#clip0703)\" style=\"fill:#000000; stroke:none; fill-opacity:1\" cx=\"1392.08\" cy=\"971.816\" r=\"14\"/>\n",
       "<circle clip-path=\"url(#clip0703)\" style=\"fill:#009af9; stroke:none; fill-opacity:1\" cx=\"1392.08\" cy=\"971.816\" r=\"10\"/>\n",
       "<circle clip-path=\"url(#clip0703)\" style=\"fill:#000000; stroke:none; fill-opacity:1\" cx=\"1394.81\" cy=\"992.537\" r=\"14\"/>\n",
       "<circle clip-path=\"url(#clip0703)\" style=\"fill:#009af9; stroke:none; fill-opacity:1\" cx=\"1394.81\" cy=\"992.537\" r=\"10\"/>\n",
       "<circle clip-path=\"url(#clip0703)\" style=\"fill:#000000; stroke:none; fill-opacity:1\" cx=\"1408.68\" cy=\"1007.71\" r=\"14\"/>\n",
       "<circle clip-path=\"url(#clip0703)\" style=\"fill:#009af9; stroke:none; fill-opacity:1\" cx=\"1408.68\" cy=\"1007.71\" r=\"10\"/>\n",
       "<circle clip-path=\"url(#clip0703)\" style=\"fill:#000000; stroke:none; fill-opacity:1\" cx=\"1433.36\" cy=\"1016.97\" r=\"14\"/>\n",
       "<circle clip-path=\"url(#clip0703)\" style=\"fill:#009af9; stroke:none; fill-opacity:1\" cx=\"1433.36\" cy=\"1016.97\" r=\"10\"/>\n",
       "<circle clip-path=\"url(#clip0703)\" style=\"fill:#000000; stroke:none; fill-opacity:1\" cx=\"1468.23\" cy=\"1020.08\" r=\"14\"/>\n",
       "<circle clip-path=\"url(#clip0703)\" style=\"fill:#009af9; stroke:none; fill-opacity:1\" cx=\"1468.23\" cy=\"1020.08\" r=\"10\"/>\n",
       "<circle clip-path=\"url(#clip0703)\" style=\"fill:#000000; stroke:none; fill-opacity:1\" cx=\"1512.43\" cy=\"1016.97\" r=\"14\"/>\n",
       "<circle clip-path=\"url(#clip0703)\" style=\"fill:#009af9; stroke:none; fill-opacity:1\" cx=\"1512.43\" cy=\"1016.97\" r=\"10\"/>\n",
       "<circle clip-path=\"url(#clip0703)\" style=\"fill:#000000; stroke:none; fill-opacity:1\" cx=\"1564.88\" cy=\"1007.71\" r=\"14\"/>\n",
       "<circle clip-path=\"url(#clip0703)\" style=\"fill:#009af9; stroke:none; fill-opacity:1\" cx=\"1564.88\" cy=\"1007.71\" r=\"10\"/>\n",
       "<circle clip-path=\"url(#clip0703)\" style=\"fill:#000000; stroke:none; fill-opacity:1\" cx=\"1624.28\" cy=\"992.537\" r=\"14\"/>\n",
       "<circle clip-path=\"url(#clip0703)\" style=\"fill:#009af9; stroke:none; fill-opacity:1\" cx=\"1624.28\" cy=\"992.537\" r=\"10\"/>\n",
       "<circle clip-path=\"url(#clip0703)\" style=\"fill:#000000; stroke:none; fill-opacity:1\" cx=\"1689.17\" cy=\"971.816\" r=\"14\"/>\n",
       "<circle clip-path=\"url(#clip0703)\" style=\"fill:#009af9; stroke:none; fill-opacity:1\" cx=\"1689.17\" cy=\"971.816\" r=\"10\"/>\n",
       "<circle clip-path=\"url(#clip0703)\" style=\"fill:#000000; stroke:none; fill-opacity:1\" cx=\"1757.96\" cy=\"946.061\" r=\"14\"/>\n",
       "<circle clip-path=\"url(#clip0703)\" style=\"fill:#009af9; stroke:none; fill-opacity:1\" cx=\"1757.96\" cy=\"946.061\" r=\"10\"/>\n",
       "<circle clip-path=\"url(#clip0703)\" style=\"fill:#000000; stroke:none; fill-opacity:1\" cx=\"1828.95\" cy=\"915.906\" r=\"14\"/>\n",
       "<circle clip-path=\"url(#clip0703)\" style=\"fill:#009af9; stroke:none; fill-opacity:1\" cx=\"1828.95\" cy=\"915.906\" r=\"10\"/>\n",
       "<circle clip-path=\"url(#clip0703)\" style=\"fill:#000000; stroke:none; fill-opacity:1\" cx=\"1900.39\" cy=\"882.093\" r=\"14\"/>\n",
       "<circle clip-path=\"url(#clip0703)\" style=\"fill:#009af9; stroke:none; fill-opacity:1\" cx=\"1900.39\" cy=\"882.093\" r=\"10\"/>\n",
       "<circle clip-path=\"url(#clip0703)\" style=\"fill:#000000; stroke:none; fill-opacity:1\" cx=\"1970.52\" cy=\"845.455\" r=\"14\"/>\n",
       "<circle clip-path=\"url(#clip0703)\" style=\"fill:#009af9; stroke:none; fill-opacity:1\" cx=\"1970.52\" cy=\"845.455\" r=\"10\"/>\n",
       "<circle clip-path=\"url(#clip0703)\" style=\"fill:#000000; stroke:none; fill-opacity:1\" cx=\"2037.62\" cy=\"806.894\" r=\"14\"/>\n",
       "<circle clip-path=\"url(#clip0703)\" style=\"fill:#009af9; stroke:none; fill-opacity:1\" cx=\"2037.62\" cy=\"806.894\" r=\"10\"/>\n",
       "<circle clip-path=\"url(#clip0703)\" style=\"fill:#000000; stroke:none; fill-opacity:1\" cx=\"2100.03\" cy=\"767.359\" r=\"14\"/>\n",
       "<circle clip-path=\"url(#clip0703)\" style=\"fill:#009af9; stroke:none; fill-opacity:1\" cx=\"2100.03\" cy=\"767.359\" r=\"10\"/>\n",
       "</svg>\n"
      ]
     },
     "execution_count": 94,
     "metadata": {},
     "output_type": "execute_result"
    }
   ],
   "source": [
    "p1 = plot(1, xlim=(-2,2), ylim=(-2,2), marker = 3, aspect_ratio = :equal)\n",
    "p2 = plot(1, xlim=(-2,2), ylim=(-2,2), marker = 3, aspect_ratio = :equal)\n",
    "\n",
    "for k = 1:40\n",
    "    \n",
    "    θ = 2*pi*k/40\n",
    "    λ = 1.5\n",
    "    \n",
    "    u = R(θ) * [1; 0]\n",
    "    v = S(λ) * u \n",
    "     \n",
    "    push!(p1, u[1], u[2])\n",
    "    push!(p2, v[1], v[2])\n",
    "    \n",
    "end \n",
    "\n",
    "plot(p1,p2,layout=(1,2),legend=false)"
   ]
  },
  {
   "cell_type": "markdown",
   "metadata": {},
   "source": [
    "Notice that in the above code, functions \"act\" on objects and are not \"properties\" of the objects. I.e., rather than having ```obj.method(a, b)```, we have ```method(obj, a, b)```."
   ]
  },
  {
   "cell_type": "markdown",
   "metadata": {},
   "source": [
    "The $L^p$ norm of a vector $\\mathbf{x} \\in \\mathbf{R}^n$ is given by \n",
    "\\begin{equation}\n",
    "    ||\\mathbf{x}||_p = (x_1^p + x_2^p + \\dots + x_n^p)^{1/p}\n",
    "\\end{equation}\n",
    "\n",
    "Let $n = 2$. \n",
    "Exercise: Complete the the following code to plot the $x,y$ pairs corresponding to $||\\mathbf{x}||_p = 1$ for various $p$."
   ]
  },
  {
   "cell_type": "code",
   "execution_count": 121,
   "metadata": {},
   "outputs": [
    {
     "data": {
      "image/svg+xml": [
       "<?xml version=\"1.0\" encoding=\"utf-8\"?>\n",
       "<svg xmlns=\"http://www.w3.org/2000/svg\" xmlns:xlink=\"http://www.w3.org/1999/xlink\" width=\"500\" height=\"500\" viewBox=\"0 0 2000 2000\">\n",
       "<defs>\n",
       "  <clipPath id=\"clip2700\">\n",
       "    <rect x=\"0\" y=\"0\" width=\"2000\" height=\"2000\"/>\n",
       "  </clipPath>\n",
       "</defs>\n",
       "<polygon clip-path=\"url(#clip2700)\" points=\"\n",
       "0,2000 2000,2000 2000,0 0,0 \n",
       "  \" fill=\"#ffffff\" fill-rule=\"evenodd\" fill-opacity=\"1\"/>\n",
       "<defs>\n",
       "  <clipPath id=\"clip2701\">\n",
       "    <rect x=\"400\" y=\"200\" width=\"1401\" height=\"1401\"/>\n",
       "  </clipPath>\n",
       "</defs>\n",
       "<polygon clip-path=\"url(#clip2700)\" points=\"\n",
       "261.57,1591 1952.76,1591 1952.76,238.047 261.57,238.047 \n",
       "  \" fill=\"#ffffff\" fill-rule=\"evenodd\" fill-opacity=\"1\"/>\n",
       "<defs>\n",
       "  <clipPath id=\"clip2702\">\n",
       "    <rect x=\"261\" y=\"238\" width=\"1692\" height=\"1354\"/>\n",
       "  </clipPath>\n",
       "</defs>\n",
       "<polyline clip-path=\"url(#clip2702)\" style=\"stroke:#000000; stroke-width:2; stroke-opacity:0.1; fill:none\" points=\"\n",
       "  261.57,1591 261.57,238.047 \n",
       "  \"/>\n",
       "<polyline clip-path=\"url(#clip2702)\" style=\"stroke:#000000; stroke-width:2; stroke-opacity:0.1; fill:none\" points=\"\n",
       "  825.299,1591 825.299,238.047 \n",
       "  \"/>\n",
       "<polyline clip-path=\"url(#clip2702)\" style=\"stroke:#000000; stroke-width:2; stroke-opacity:0.1; fill:none\" points=\"\n",
       "  1389.03,1591 1389.03,238.047 \n",
       "  \"/>\n",
       "<polyline clip-path=\"url(#clip2702)\" style=\"stroke:#000000; stroke-width:2; stroke-opacity:0.1; fill:none\" points=\"\n",
       "  1952.76,1591 1952.76,238.047 \n",
       "  \"/>\n",
       "<polyline clip-path=\"url(#clip2702)\" style=\"stroke:#000000; stroke-width:2; stroke-opacity:0.1; fill:none\" points=\"\n",
       "  261.57,1591 1952.76,1591 \n",
       "  \"/>\n",
       "<polyline clip-path=\"url(#clip2702)\" style=\"stroke:#000000; stroke-width:2; stroke-opacity:0.1; fill:none\" points=\"\n",
       "  261.57,1309.13 1952.76,1309.13 \n",
       "  \"/>\n",
       "<polyline clip-path=\"url(#clip2702)\" style=\"stroke:#000000; stroke-width:2; stroke-opacity:0.1; fill:none\" points=\"\n",
       "  261.57,1027.27 1952.76,1027.27 \n",
       "  \"/>\n",
       "<polyline clip-path=\"url(#clip2702)\" style=\"stroke:#000000; stroke-width:2; stroke-opacity:0.1; fill:none\" points=\"\n",
       "  261.57,745.403 1952.76,745.403 \n",
       "  \"/>\n",
       "<polyline clip-path=\"url(#clip2702)\" style=\"stroke:#000000; stroke-width:2; stroke-opacity:0.1; fill:none\" points=\"\n",
       "  261.57,463.538 1952.76,463.538 \n",
       "  \"/>\n",
       "<polyline clip-path=\"url(#clip2700)\" style=\"stroke:#000000; stroke-width:4; stroke-opacity:1; fill:none\" points=\"\n",
       "  261.57,1591 1952.76,1591 \n",
       "  \"/>\n",
       "<polyline clip-path=\"url(#clip2700)\" style=\"stroke:#000000; stroke-width:4; stroke-opacity:1; fill:none\" points=\"\n",
       "  261.57,1591 261.57,238.047 \n",
       "  \"/>\n",
       "<polyline clip-path=\"url(#clip2700)\" style=\"stroke:#000000; stroke-width:4; stroke-opacity:1; fill:none\" points=\"\n",
       "  261.57,1591 261.57,1570.7 \n",
       "  \"/>\n",
       "<polyline clip-path=\"url(#clip2700)\" style=\"stroke:#000000; stroke-width:4; stroke-opacity:1; fill:none\" points=\"\n",
       "  825.299,1591 825.299,1570.7 \n",
       "  \"/>\n",
       "<polyline clip-path=\"url(#clip2700)\" style=\"stroke:#000000; stroke-width:4; stroke-opacity:1; fill:none\" points=\"\n",
       "  1389.03,1591 1389.03,1570.7 \n",
       "  \"/>\n",
       "<polyline clip-path=\"url(#clip2700)\" style=\"stroke:#000000; stroke-width:4; stroke-opacity:1; fill:none\" points=\"\n",
       "  1952.76,1591 1952.76,1570.7 \n",
       "  \"/>\n",
       "<polyline clip-path=\"url(#clip2700)\" style=\"stroke:#000000; stroke-width:4; stroke-opacity:1; fill:none\" points=\"\n",
       "  261.57,1591 286.938,1591 \n",
       "  \"/>\n",
       "<polyline clip-path=\"url(#clip2700)\" style=\"stroke:#000000; stroke-width:4; stroke-opacity:1; fill:none\" points=\"\n",
       "  261.57,1309.13 286.938,1309.13 \n",
       "  \"/>\n",
       "<polyline clip-path=\"url(#clip2700)\" style=\"stroke:#000000; stroke-width:4; stroke-opacity:1; fill:none\" points=\"\n",
       "  261.57,1027.27 286.938,1027.27 \n",
       "  \"/>\n",
       "<polyline clip-path=\"url(#clip2700)\" style=\"stroke:#000000; stroke-width:4; stroke-opacity:1; fill:none\" points=\"\n",
       "  261.57,745.403 286.938,745.403 \n",
       "  \"/>\n",
       "<polyline clip-path=\"url(#clip2700)\" style=\"stroke:#000000; stroke-width:4; stroke-opacity:1; fill:none\" points=\"\n",
       "  261.57,463.538 286.938,463.538 \n",
       "  \"/>\n",
       "<g clip-path=\"url(#clip2700)\">\n",
       "<text style=\"fill:#000000; fill-opacity:1; font-family:Arial,Helvetica Neue,Helvetica,sans-serif; font-size:48px; text-anchor:middle;\" transform=\"rotate(0, 261.57, 1643)\" x=\"261.57\" y=\"1643\">0.0</text>\n",
       "</g>\n",
       "<g clip-path=\"url(#clip2700)\">\n",
       "<text style=\"fill:#000000; fill-opacity:1; font-family:Arial,Helvetica Neue,Helvetica,sans-serif; font-size:48px; text-anchor:middle;\" transform=\"rotate(0, 825.299, 1643)\" x=\"825.299\" y=\"1643\">0.5</text>\n",
       "</g>\n",
       "<g clip-path=\"url(#clip2700)\">\n",
       "<text style=\"fill:#000000; fill-opacity:1; font-family:Arial,Helvetica Neue,Helvetica,sans-serif; font-size:48px; text-anchor:middle;\" transform=\"rotate(0, 1389.03, 1643)\" x=\"1389.03\" y=\"1643\">1.0</text>\n",
       "</g>\n",
       "<g clip-path=\"url(#clip2700)\">\n",
       "<text style=\"fill:#000000; fill-opacity:1; font-family:Arial,Helvetica Neue,Helvetica,sans-serif; font-size:48px; text-anchor:middle;\" transform=\"rotate(0, 1952.76, 1643)\" x=\"1952.76\" y=\"1643\">1.5</text>\n",
       "</g>\n",
       "<g clip-path=\"url(#clip2700)\">\n",
       "<text style=\"fill:#000000; fill-opacity:1; font-family:Arial,Helvetica Neue,Helvetica,sans-serif; font-size:48px; text-anchor:end;\" transform=\"rotate(0, 241.57, 1608.5)\" x=\"241.57\" y=\"1608.5\">0.00</text>\n",
       "</g>\n",
       "<g clip-path=\"url(#clip2700)\">\n",
       "<text style=\"fill:#000000; fill-opacity:1; font-family:Arial,Helvetica Neue,Helvetica,sans-serif; font-size:48px; text-anchor:end;\" transform=\"rotate(0, 241.57, 1326.63)\" x=\"241.57\" y=\"1326.63\">0.25</text>\n",
       "</g>\n",
       "<g clip-path=\"url(#clip2700)\">\n",
       "<text style=\"fill:#000000; fill-opacity:1; font-family:Arial,Helvetica Neue,Helvetica,sans-serif; font-size:48px; text-anchor:end;\" transform=\"rotate(0, 241.57, 1044.77)\" x=\"241.57\" y=\"1044.77\">0.50</text>\n",
       "</g>\n",
       "<g clip-path=\"url(#clip2700)\">\n",
       "<text style=\"fill:#000000; fill-opacity:1; font-family:Arial,Helvetica Neue,Helvetica,sans-serif; font-size:48px; text-anchor:end;\" transform=\"rotate(0, 241.57, 762.903)\" x=\"241.57\" y=\"762.903\">0.75</text>\n",
       "</g>\n",
       "<g clip-path=\"url(#clip2700)\">\n",
       "<text style=\"fill:#000000; fill-opacity:1; font-family:Arial,Helvetica Neue,Helvetica,sans-serif; font-size:48px; text-anchor:end;\" transform=\"rotate(0, 241.57, 481.038)\" x=\"241.57\" y=\"481.038\">1.00</text>\n",
       "</g>\n",
       "<g clip-path=\"url(#clip2700)\">\n",
       "<text style=\"fill:#000000; fill-opacity:1; font-family:Arial,Helvetica Neue,Helvetica,sans-serif; font-size:66px; text-anchor:middle;\" transform=\"rotate(0, 1107.16, 1720.86)\" x=\"1107.16\" y=\"1720.86\">x</text>\n",
       "</g>\n",
       "<g clip-path=\"url(#clip2700)\">\n",
       "<text style=\"fill:#000000; fill-opacity:1; font-family:Arial,Helvetica Neue,Helvetica,sans-serif; font-size:66px; text-anchor:middle;\" transform=\"rotate(-90, 116.34, 914.521)\" x=\"116.34\" y=\"914.521\">y</text>\n",
       "</g>\n",
       "<polyline clip-path=\"url(#clip2702)\" style=\"stroke:#009af9; stroke-width:8; stroke-opacity:1; fill:none\" points=\"\n",
       "  261.57,463.538 262.699,1325.65 263.828,1385.56 264.956,1418.43 266.085,1440.48 267.213,1456.76 268.342,1469.48 269.471,1479.79 270.599,1488.38 271.728,1495.68 \n",
       "  272.856,1501.99 273.985,1507.52 275.113,1512.4 276.242,1516.76 277.371,1520.68 278.499,1524.23 279.628,1527.47 280.756,1530.42 281.885,1533.14 283.014,1535.65 \n",
       "  284.142,1537.97 285.271,1540.12 286.399,1542.13 287.528,1544.01 288.657,1545.76 289.785,1547.41 290.914,1548.96 292.042,1550.42 293.171,1551.8 294.299,1553.11 \n",
       "  295.428,1554.34 296.557,1555.51 297.685,1556.63 298.814,1557.68 299.942,1558.69 301.071,1559.65 302.2,1560.57 303.328,1561.44 304.457,1562.28 305.585,1563.08 \n",
       "  306.714,1563.85 307.842,1564.59 308.971,1565.29 310.1,1565.97 311.228,1566.62 312.357,1567.25 313.485,1567.85 314.614,1568.43 315.743,1568.99 316.871,1569.53 \n",
       "  318,1570.05 319.128,1570.55 320.257,1571.04 321.385,1571.5 322.514,1571.96 323.643,1572.39 324.771,1572.82 325.9,1573.23 327.028,1573.62 328.157,1574.01 \n",
       "  329.286,1574.38 330.414,1574.74 331.543,1575.09 332.671,1575.43 333.8,1575.76 334.929,1576.08 336.057,1576.39 337.186,1576.7 338.314,1576.99 339.443,1577.27 \n",
       "  340.571,1577.55 341.7,1577.82 342.829,1578.08 343.957,1578.34 345.086,1578.59 346.214,1578.83 347.343,1579.07 348.472,1579.3 349.6,1579.52 350.729,1579.74 \n",
       "  351.857,1579.95 352.986,1580.16 354.114,1580.36 355.243,1580.56 356.372,1580.75 357.5,1580.94 358.629,1581.12 359.757,1581.3 360.886,1581.48 362.015,1581.65 \n",
       "  363.143,1581.82 364.272,1581.98 365.4,1582.14 366.529,1582.29 367.658,1582.45 368.786,1582.59 369.915,1582.74 371.043,1582.88 372.172,1583.02 373.3,1583.16 \n",
       "  374.429,1583.29 375.558,1583.42 376.686,1583.55 377.815,1583.67 378.943,1583.8 380.072,1583.92 381.201,1584.03 382.329,1584.15 383.458,1584.26 384.586,1584.37 \n",
       "  385.715,1584.48 386.843,1584.58 387.972,1584.69 389.101,1584.79 390.229,1584.89 391.358,1584.99 392.486,1585.08 393.615,1585.18 394.744,1585.27 395.872,1585.36 \n",
       "  397.001,1585.45 398.129,1585.53 399.258,1585.62 400.386,1585.7 401.515,1585.78 402.644,1585.86 403.772,1585.94 404.901,1586.02 406.029,1586.1 407.158,1586.17 \n",
       "  408.287,1586.24 409.415,1586.32 410.544,1586.39 411.672,1586.46 412.801,1586.52 413.93,1586.59 415.058,1586.66 416.187,1586.72 417.315,1586.78 418.444,1586.85 \n",
       "  419.572,1586.91 420.701,1586.97 421.83,1587.03 422.958,1587.09 424.087,1587.14 425.215,1587.2 426.344,1587.25 427.473,1587.31 428.601,1587.36 429.73,1587.41 \n",
       "  430.858,1587.46 431.987,1587.52 433.115,1587.57 434.244,1587.61 435.373,1587.66 436.501,1587.71 437.63,1587.76 438.758,1587.8 439.887,1587.85 441.016,1587.89 \n",
       "  442.144,1587.93 443.273,1587.98 444.401,1588.02 445.53,1588.06 446.658,1588.1 447.787,1588.14 448.916,1588.18 450.044,1588.22 451.173,1588.26 452.301,1588.3 \n",
       "  453.43,1588.33 454.559,1588.37 455.687,1588.41 456.816,1588.44 457.944,1588.48 459.073,1588.51 460.202,1588.54 461.33,1588.58 462.459,1588.61 463.587,1588.64 \n",
       "  464.716,1588.68 465.844,1588.71 466.973,1588.74 468.102,1588.77 469.23,1588.8 470.359,1588.83 471.487,1588.86 472.616,1588.88 473.745,1588.91 474.873,1588.94 \n",
       "  476.002,1588.97 477.13,1588.99 478.259,1589.02 479.387,1589.05 480.516,1589.07 481.645,1589.1 482.773,1589.12 483.902,1589.15 485.03,1589.17 486.159,1589.2 \n",
       "  487.288,1589.22 488.416,1589.24 489.545,1589.27 490.673,1589.29 491.802,1589.31 492.931,1589.33 494.059,1589.35 495.188,1589.38 496.316,1589.4 497.445,1589.42 \n",
       "  498.573,1589.44 499.702,1589.46 500.831,1589.48 501.959,1589.5 503.088,1589.52 504.216,1589.54 505.345,1589.55 506.474,1589.57 507.602,1589.59 508.731,1589.61 \n",
       "  509.859,1589.63 510.988,1589.64 512.116,1589.66 513.245,1589.68 514.374,1589.69 515.502,1589.71 516.631,1589.73 517.759,1589.74 518.888,1589.76 520.017,1589.78 \n",
       "  521.145,1589.79 522.274,1589.81 523.402,1589.82 524.531,1589.84 525.659,1589.85 526.788,1589.86 527.917,1589.88 529.045,1589.89 530.174,1589.91 531.302,1589.92 \n",
       "  532.431,1589.93 533.56,1589.95 534.688,1589.96 535.817,1589.97 536.945,1589.99 538.074,1590 539.203,1590.01 540.331,1590.02 541.46,1590.04 542.588,1590.05 \n",
       "  543.717,1590.06 544.845,1590.07 545.974,1590.08 547.103,1590.09 548.231,1590.11 549.36,1590.12 550.488,1590.13 551.617,1590.14 552.746,1590.15 553.874,1590.16 \n",
       "  555.003,1590.17 556.131,1590.18 557.26,1590.19 558.388,1590.2 559.517,1590.21 560.646,1590.22 561.774,1590.23 562.903,1590.24 564.031,1590.25 565.16,1590.26 \n",
       "  566.289,1590.27 567.417,1590.27 568.546,1590.28 569.674,1590.29 570.803,1590.3 571.931,1590.31 573.06,1590.32 574.189,1590.33 575.317,1590.33 576.446,1590.34 \n",
       "  577.574,1590.35 578.703,1590.36 579.832,1590.37 580.96,1590.37 582.089,1590.38 583.217,1590.39 584.346,1590.4 585.475,1590.4 586.603,1590.41 587.732,1590.42 \n",
       "  588.86,1590.43 589.989,1590.43 591.117,1590.44 592.246,1590.45 593.375,1590.45 594.503,1590.46 595.632,1590.47 596.76,1590.47 597.889,1590.48 599.018,1590.48 \n",
       "  600.146,1590.49 601.275,1590.5 602.403,1590.5 603.532,1590.51 604.66,1590.52 605.789,1590.52 606.918,1590.53 608.046,1590.53 609.175,1590.54 610.303,1590.54 \n",
       "  611.432,1590.55 612.561,1590.55 613.689,1590.56 614.818,1590.57 615.946,1590.57 617.075,1590.58 618.203,1590.58 619.332,1590.59 620.461,1590.59 621.589,1590.6 \n",
       "  622.718,1590.6 623.846,1590.61 624.975,1590.61 626.104,1590.61 627.232,1590.62 628.361,1590.62 629.489,1590.63 630.618,1590.63 631.747,1590.64 632.875,1590.64 \n",
       "  634.004,1590.65 635.132,1590.65 636.261,1590.65 637.389,1590.66 638.518,1590.66 639.647,1590.67 640.775,1590.67 641.904,1590.67 643.032,1590.68 644.161,1590.68 \n",
       "  645.29,1590.69 646.418,1590.69 647.547,1590.69 648.675,1590.7 649.804,1590.7 650.932,1590.7 652.061,1590.71 653.19,1590.71 654.318,1590.71 655.447,1590.72 \n",
       "  656.575,1590.72 657.704,1590.73 658.833,1590.73 659.961,1590.73 661.09,1590.73 662.218,1590.74 663.347,1590.74 664.476,1590.74 665.604,1590.75 666.733,1590.75 \n",
       "  667.861,1590.75 668.99,1590.76 670.118,1590.76 671.247,1590.76 672.376,1590.76 673.504,1590.77 674.633,1590.77 675.761,1590.77 676.89,1590.78 678.019,1590.78 \n",
       "  679.147,1590.78 680.276,1590.78 681.404,1590.79 682.533,1590.79 683.661,1590.79 684.79,1590.79 685.919,1590.8 687.047,1590.8 688.176,1590.8 689.304,1590.8 \n",
       "  690.433,1590.81 691.562,1590.81 692.69,1590.81 693.819,1590.81 694.947,1590.82 696.076,1590.82 697.204,1590.82 698.333,1590.82 699.462,1590.82 700.59,1590.83 \n",
       "  701.719,1590.83 702.847,1590.83 703.976,1590.83 705.105,1590.83 706.233,1590.84 707.362,1590.84 708.49,1590.84 709.619,1590.84 710.748,1590.84 711.876,1590.85 \n",
       "  713.005,1590.85 714.133,1590.85 715.262,1590.85 716.39,1590.85 717.519,1590.85 718.648,1590.86 719.776,1590.86 720.905,1590.86 722.033,1590.86 723.162,1590.86 \n",
       "  724.291,1590.86 725.419,1590.87 726.548,1590.87 727.676,1590.87 728.805,1590.87 729.933,1590.87 731.062,1590.87 732.191,1590.88 733.319,1590.88 734.448,1590.88 \n",
       "  735.576,1590.88 736.705,1590.88 737.834,1590.88 738.962,1590.88 740.091,1590.89 741.219,1590.89 742.348,1590.89 743.476,1590.89 744.605,1590.89 745.734,1590.89 \n",
       "  746.862,1590.89 747.991,1590.9 749.119,1590.9 750.248,1590.9 751.377,1590.9 752.505,1590.9 753.634,1590.9 754.762,1590.9 755.891,1590.9 757.02,1590.9 \n",
       "  758.148,1590.91 759.277,1590.91 760.405,1590.91 761.534,1590.91 762.662,1590.91 763.791,1590.91 764.92,1590.91 766.048,1590.91 767.177,1590.91 768.305,1590.92 \n",
       "  769.434,1590.92 770.563,1590.92 771.691,1590.92 772.82,1590.92 773.948,1590.92 775.077,1590.92 776.205,1590.92 777.334,1590.92 778.463,1590.92 779.591,1590.93 \n",
       "  780.72,1590.93 781.848,1590.93 782.977,1590.93 784.106,1590.93 785.234,1590.93 786.363,1590.93 787.491,1590.93 788.62,1590.93 789.748,1590.93 790.877,1590.93 \n",
       "  792.006,1590.93 793.134,1590.94 794.263,1590.94 795.391,1590.94 796.52,1590.94 797.649,1590.94 798.777,1590.94 799.906,1590.94 801.034,1590.94 802.163,1590.94 \n",
       "  803.292,1590.94 804.42,1590.94 805.549,1590.94 806.677,1590.94 807.806,1590.94 808.934,1590.95 810.063,1590.95 811.192,1590.95 812.32,1590.95 813.449,1590.95 \n",
       "  814.577,1590.95 815.706,1590.95 816.835,1590.95 817.963,1590.95 819.092,1590.95 820.22,1590.95 821.349,1590.95 822.477,1590.95 823.606,1590.95 824.735,1590.95 \n",
       "  825.863,1590.95 826.992,1590.96 828.12,1590.96 829.249,1590.96 830.378,1590.96 831.506,1590.96 832.635,1590.96 833.763,1590.96 834.892,1590.96 836.021,1590.96 \n",
       "  837.149,1590.96 838.278,1590.96 839.406,1590.96 840.535,1590.96 841.663,1590.96 842.792,1590.96 843.921,1590.96 845.049,1590.96 846.178,1590.96 847.306,1590.96 \n",
       "  848.435,1590.96 849.564,1590.96 850.692,1590.97 851.821,1590.97 852.949,1590.97 854.078,1590.97 855.206,1590.97 856.335,1590.97 857.464,1590.97 858.592,1590.97 \n",
       "  859.721,1590.97 860.849,1590.97 861.978,1590.97 863.107,1590.97 864.235,1590.97 865.364,1590.97 866.492,1590.97 867.621,1590.97 868.749,1590.97 869.878,1590.97 \n",
       "  871.007,1590.97 872.135,1590.97 873.264,1590.97 874.392,1590.97 875.521,1590.97 876.65,1590.97 877.778,1590.97 878.907,1590.97 880.035,1590.97 881.164,1590.97 \n",
       "  882.293,1590.97 883.421,1590.98 884.55,1590.98 885.678,1590.98 886.807,1590.98 887.935,1590.98 889.064,1590.98 890.193,1590.98 891.321,1590.98 892.45,1590.98 \n",
       "  893.578,1590.98 894.707,1590.98 895.836,1590.98 896.964,1590.98 898.093,1590.98 899.221,1590.98 900.35,1590.98 901.478,1590.98 902.607,1590.98 903.736,1590.98 \n",
       "  904.864,1590.98 905.993,1590.98 907.121,1590.98 908.25,1590.98 909.379,1590.98 910.507,1590.98 911.636,1590.98 912.764,1590.98 913.893,1590.98 915.021,1590.98 \n",
       "  916.15,1590.98 917.279,1590.98 918.407,1590.98 919.536,1590.98 920.664,1590.98 921.793,1590.98 922.922,1590.98 924.05,1590.98 925.179,1590.98 926.307,1590.98 \n",
       "  927.436,1590.98 928.565,1590.98 929.693,1590.98 930.822,1590.98 931.95,1590.98 933.079,1590.98 934.207,1590.98 935.336,1590.99 936.465,1590.99 937.593,1590.99 \n",
       "  938.722,1590.99 939.85,1590.99 940.979,1590.99 942.108,1590.99 943.236,1590.99 944.365,1590.99 945.493,1590.99 946.622,1590.99 947.75,1590.99 948.879,1590.99 \n",
       "  950.008,1590.99 951.136,1590.99 952.265,1590.99 953.393,1590.99 954.522,1590.99 955.651,1590.99 956.779,1590.99 957.908,1590.99 959.036,1590.99 960.165,1590.99 \n",
       "  961.294,1590.99 962.422,1590.99 963.551,1590.99 964.679,1590.99 965.808,1590.99 966.936,1590.99 968.065,1590.99 969.194,1590.99 970.322,1590.99 971.451,1590.99 \n",
       "  972.579,1590.99 973.708,1590.99 974.837,1590.99 975.965,1590.99 977.094,1590.99 978.222,1590.99 979.351,1590.99 980.479,1590.99 981.608,1590.99 982.737,1590.99 \n",
       "  983.865,1590.99 984.994,1590.99 986.122,1590.99 987.251,1590.99 988.38,1590.99 989.508,1590.99 990.637,1590.99 991.765,1590.99 992.894,1590.99 994.022,1590.99 \n",
       "  995.151,1590.99 996.28,1590.99 997.408,1590.99 998.537,1590.99 999.665,1590.99 1000.79,1590.99 1001.92,1590.99 1003.05,1590.99 1004.18,1590.99 1005.31,1590.99 \n",
       "  1006.44,1590.99 1007.57,1590.99 1008.69,1590.99 1009.82,1590.99 1010.95,1590.99 1012.08,1590.99 1013.21,1590.99 1014.34,1590.99 1015.47,1590.99 1016.59,1590.99 \n",
       "  1017.72,1590.99 1018.85,1590.99 1019.98,1590.99 1021.11,1590.99 1022.24,1590.99 1023.37,1590.99 1024.49,1590.99 1025.62,1590.99 1026.75,1590.99 1027.88,1590.99 \n",
       "  1029.01,1590.99 1030.14,1590.99 1031.27,1590.99 1032.39,1590.99 1033.52,1590.99 1034.65,1590.99 1035.78,1590.99 1036.91,1590.99 1038.04,1590.99 1039.17,1590.99 \n",
       "  1040.29,1590.99 1041.42,1590.99 1042.55,1590.99 1043.68,1590.99 1044.81,1590.99 1045.94,1590.99 1047.07,1590.99 1048.19,1590.99 1049.32,1590.99 1050.45,1590.99 \n",
       "  1051.58,1590.99 1052.71,1590.99 1053.84,1590.99 1054.97,1590.99 1056.09,1590.99 1057.22,1590.99 1058.35,1590.99 1059.48,1590.99 1060.61,1590.99 1061.74,1590.99 \n",
       "  1062.87,1590.99 1063.99,1590.99 1065.12,1590.99 1066.25,1590.99 1067.38,1590.99 1068.51,1590.99 1069.64,1590.99 1070.77,1590.99 1071.89,1590.99 1073.02,1590.99 \n",
       "  1074.15,1590.99 1075.28,1590.99 1076.41,1590.99 1077.54,1590.99 1078.67,1590.99 1079.79,1590.99 1080.92,1590.99 1082.05,1590.99 1083.18,1590.99 1084.31,1590.99 \n",
       "  1085.44,1590.99 1086.57,1590.99 1087.7,1590.99 1088.82,1590.99 1089.95,1590.99 1091.08,1590.99 1092.21,1590.99 1093.34,1590.99 1094.47,1590.99 1095.6,1590.99 \n",
       "  1096.72,1590.99 1097.85,1590.99 1098.98,1590.99 1100.11,1590.99 1101.24,1590.99 1102.37,1590.99 1103.5,1590.99 1104.62,1590.99 1105.75,1590.99 1106.88,1590.99 \n",
       "  1108.01,1590.99 1109.14,1590.99 1110.27,1590.99 1111.4,1590.99 1112.52,1590.99 1113.65,1590.99 1114.78,1590.99 1115.91,1590.99 1117.04,1590.99 1118.17,1590.99 \n",
       "  1119.3,1590.99 1120.42,1590.99 1121.55,1590.99 1122.68,1590.99 1123.81,1590.99 1124.94,1590.99 1126.07,1590.99 1127.2,1590.99 1128.32,1590.99 1129.45,1590.99 \n",
       "  1130.58,1590.99 1131.71,1590.99 1132.84,1590.99 1133.97,1590.99 1135.1,1590.99 1136.22,1590.99 1137.35,1590.99 1138.48,1590.99 1139.61,1590.99 1140.74,1590.99 \n",
       "  1141.87,1590.99 1143,1590.99 1144.12,1590.99 1145.25,1590.99 1146.38,1590.99 1147.51,1590.99 1148.64,1590.99 1149.77,1590.99 1150.9,1590.99 1152.02,1590.99 \n",
       "  1153.15,1590.99 1154.28,1591 1155.41,1591 1156.54,1591 1157.67,1591 1158.8,1591 1159.92,1591 1161.05,1591 1162.18,1591 1163.31,1591 \n",
       "  1164.44,1591 1165.57,1591 1166.7,1591 1167.82,1591 1168.95,1591 1170.08,1591 1171.21,1591 1172.34,1591 1173.47,1591 1174.6,1591 \n",
       "  1175.72,1591 1176.85,1591 1177.98,1591 1179.11,1591 1180.24,1591 1181.37,1591 1182.5,1591 1183.62,1591 1184.75,1591 1185.88,1591 \n",
       "  1187.01,1591 1188.14,1591 1189.27,1591 1190.4,1591 1191.52,1591 1192.65,1591 1193.78,1591 1194.91,1591 1196.04,1591 1197.17,1591 \n",
       "  1198.3,1591 1199.43,1591 1200.55,1591 1201.68,1591 1202.81,1591 1203.94,1591 1205.07,1591 1206.2,1591 1207.33,1591 1208.45,1591 \n",
       "  1209.58,1591 1210.71,1591 1211.84,1591 1212.97,1591 1214.1,1591 1215.23,1591 1216.35,1591 1217.48,1591 1218.61,1591 1219.74,1591 \n",
       "  1220.87,1591 1222,1591 1223.13,1591 1224.25,1591 1225.38,1591 1226.51,1591 1227.64,1591 1228.77,1591 1229.9,1591 1231.03,1591 \n",
       "  1232.15,1591 1233.28,1591 1234.41,1591 1235.54,1591 1236.67,1591 1237.8,1591 1238.93,1591 1240.05,1591 1241.18,1591 1242.31,1591 \n",
       "  1243.44,1591 1244.57,1591 1245.7,1591 1246.83,1591 1247.95,1591 1249.08,1591 1250.21,1591 1251.34,1591 1252.47,1591 1253.6,1591 \n",
       "  1254.73,1591 1255.85,1591 1256.98,1591 1258.11,1591 1259.24,1591 1260.37,1591 1261.5,1591 1262.63,1591 1263.75,1591 1264.88,1591 \n",
       "  1266.01,1591 1267.14,1591 1268.27,1591 1269.4,1591 1270.53,1591 1271.65,1591 1272.78,1591 1273.91,1591 1275.04,1591 1276.17,1591 \n",
       "  1277.3,1591 1278.43,1591 1279.55,1591 1280.68,1591 1281.81,1591 1282.94,1591 1284.07,1591 1285.2,1591 1286.33,1591 1287.45,1591 \n",
       "  1288.58,1591 1289.71,1591 1290.84,1591 1291.97,1591 1293.1,1591 1294.23,1591 1295.35,1591 1296.48,1591 1297.61,1591 1298.74,1591 \n",
       "  1299.87,1591 1301,1591 1302.13,1591 1303.25,1591 1304.38,1591 1305.51,1591 1306.64,1591 1307.77,1591 1308.9,1591 1310.03,1591 \n",
       "  1311.16,1591 1312.28,1591 1313.41,1591 1314.54,1591 1315.67,1591 1316.8,1591 1317.93,1591 1319.06,1591 1320.18,1591 1321.31,1591 \n",
       "  1322.44,1591 1323.57,1591 1324.7,1591 1325.83,1591 1326.96,1591 1328.08,1591 1329.21,1591 1330.34,1591 1331.47,1591 1332.6,1591 \n",
       "  1333.73,1591 1334.86,1591 1335.98,1591 1337.11,1591 1338.24,1591 1339.37,1591 1340.5,1591 1341.63,1591 1342.76,1591 1343.88,1591 \n",
       "  1345.01,1591 1346.14,1591 1347.27,1591 1348.4,1591 1349.53,1591 1350.66,1591 1351.78,1591 1352.91,1591 1354.04,1591 1355.17,1591 \n",
       "  1356.3,1591 1357.43,1591 1358.56,1591 1359.68,1591 1360.81,1591 1361.94,1591 1363.07,1591 1364.2,1591 1365.33,1591 1366.46,1591 \n",
       "  1367.58,1591 1368.71,1591 1369.84,1591 1370.97,1591 1372.1,1591 1373.23,1591 1374.36,1591 1375.48,1591 1376.61,1591 1377.74,1591 \n",
       "  1378.87,1591 1380,1591 1381.13,1591 1382.26,1591 1383.38,1591 1384.51,1591 1385.64,1591 1386.77,1591 1387.9,1591 1389.03,1591 \n",
       "  \n",
       "  \"/>\n",
       "<polyline clip-path=\"url(#clip2702)\" style=\"stroke:#e26f46; stroke-width:8; stroke-opacity:1; fill:none\" points=\"\n",
       "  261.57,463.538 262.699,633.12 263.828,683.84 264.956,719.687 266.085,748.249 267.213,772.326 268.342,793.309 269.471,812.002 270.599,828.921 271.728,844.413 \n",
       "  272.856,858.732 273.985,872.063 275.113,884.55 276.242,896.306 277.371,907.42 278.499,917.967 279.628,928.008 280.756,937.593 281.885,946.766 283.014,955.564 \n",
       "  284.142,964.02 285.271,972.16 286.399,980.01 287.528,987.591 288.657,994.923 289.785,1002.02 290.914,1008.9 292.042,1015.58 293.171,1022.06 294.299,1028.37 \n",
       "  295.428,1034.51 296.557,1040.48 297.685,1046.3 298.814,1051.98 299.942,1057.52 301.071,1062.93 302.2,1068.22 303.328,1073.39 304.457,1078.44 305.585,1083.39 \n",
       "  306.714,1088.23 307.842,1092.98 308.971,1097.63 310.1,1102.18 311.228,1106.65 312.357,1111.04 313.485,1115.34 314.614,1119.56 315.743,1123.71 316.871,1127.79 \n",
       "  318,1131.79 319.128,1135.73 320.257,1139.6 321.385,1143.41 322.514,1147.15 323.643,1150.84 324.771,1154.46 325.9,1158.03 327.028,1161.55 328.157,1165.01 \n",
       "  329.286,1168.42 330.414,1171.79 331.543,1175.1 332.671,1178.36 333.8,1181.58 334.929,1184.75 336.057,1187.88 337.186,1190.97 338.314,1194.02 339.443,1197.02 \n",
       "  340.571,1199.99 341.7,1202.92 342.829,1205.81 343.957,1208.66 345.086,1211.47 346.214,1214.26 347.343,1217 348.472,1219.72 349.6,1222.4 350.729,1225.05 \n",
       "  351.857,1227.67 352.986,1230.25 354.114,1232.81 355.243,1235.34 356.372,1237.84 357.5,1240.31 358.629,1242.75 359.757,1245.16 360.886,1247.55 362.015,1249.92 \n",
       "  363.143,1252.25 364.272,1254.57 365.4,1256.85 366.529,1259.12 367.658,1261.36 368.786,1263.57 369.915,1265.77 371.043,1267.94 372.172,1270.09 373.3,1272.22 \n",
       "  374.429,1274.32 375.558,1276.41 376.686,1278.47 377.815,1280.52 378.943,1282.54 380.072,1284.55 381.201,1286.53 382.329,1288.5 383.458,1290.45 384.586,1292.38 \n",
       "  385.715,1294.29 386.843,1296.19 387.972,1298.07 389.101,1299.93 390.229,1301.77 391.358,1303.6 392.486,1305.41 393.615,1307.2 394.744,1308.98 395.872,1310.74 \n",
       "  397.001,1312.49 398.129,1314.22 399.258,1315.94 400.386,1317.64 401.515,1319.33 402.644,1321 403.772,1322.66 404.901,1324.3 406.029,1325.93 407.158,1327.55 \n",
       "  408.287,1329.16 409.415,1330.75 410.544,1332.33 411.672,1333.89 412.801,1335.44 413.93,1336.98 415.058,1338.51 416.187,1340.03 417.315,1341.53 418.444,1343.02 \n",
       "  419.572,1344.5 420.701,1345.97 421.83,1347.42 422.958,1348.87 424.087,1350.3 425.215,1351.73 426.344,1353.14 427.473,1354.54 428.601,1355.93 429.73,1357.31 \n",
       "  430.858,1358.68 431.987,1360.04 433.115,1361.39 434.244,1362.73 435.373,1364.06 436.501,1365.38 437.63,1366.69 438.758,1367.99 439.887,1369.28 441.016,1370.56 \n",
       "  442.144,1371.83 443.273,1373.1 444.401,1374.35 445.53,1375.59 446.658,1376.83 447.787,1378.06 448.916,1379.28 450.044,1380.49 451.173,1381.69 452.301,1382.88 \n",
       "  453.43,1384.07 454.559,1385.24 455.687,1386.41 456.816,1387.57 457.944,1388.73 459.073,1389.87 460.202,1391.01 461.33,1392.14 462.459,1393.26 463.587,1394.37 \n",
       "  464.716,1395.48 465.844,1396.58 466.973,1397.67 468.102,1398.76 469.23,1399.83 470.359,1400.9 471.487,1401.97 472.616,1403.02 473.745,1404.07 474.873,1405.12 \n",
       "  476.002,1406.15 477.13,1407.18 478.259,1408.2 479.387,1409.22 480.516,1410.23 481.645,1411.23 482.773,1412.23 483.902,1413.22 485.03,1414.2 486.159,1415.18 \n",
       "  487.288,1416.15 488.416,1417.11 489.545,1418.07 490.673,1419.03 491.802,1419.97 492.931,1420.92 494.059,1421.85 495.188,1422.78 496.316,1423.7 497.445,1424.62 \n",
       "  498.573,1425.54 499.702,1426.44 500.831,1427.34 501.959,1428.24 503.088,1429.13 504.216,1430.01 505.345,1430.89 506.474,1431.77 507.602,1432.64 508.731,1433.5 \n",
       "  509.859,1434.36 510.988,1435.21 512.116,1436.06 513.245,1436.91 514.374,1437.74 515.502,1438.58 516.631,1439.41 517.759,1440.23 518.888,1441.05 520.017,1441.86 \n",
       "  521.145,1442.67 522.274,1443.47 523.402,1444.27 524.531,1445.07 525.659,1445.86 526.788,1446.65 527.917,1447.43 529.045,1448.2 530.174,1448.98 531.302,1449.74 \n",
       "  532.431,1450.51 533.56,1451.27 534.688,1452.02 535.817,1452.77 536.945,1453.52 538.074,1454.26 539.203,1455 540.331,1455.73 541.46,1456.46 542.588,1457.18 \n",
       "  543.717,1457.9 544.845,1458.62 545.974,1459.33 547.103,1460.04 548.231,1460.75 549.36,1461.45 550.488,1462.15 551.617,1462.84 552.746,1463.53 553.874,1464.22 \n",
       "  555.003,1464.9 556.131,1465.58 557.26,1466.25 558.388,1466.92 559.517,1467.59 560.646,1468.25 561.774,1468.91 562.903,1469.57 564.031,1470.22 565.16,1470.87 \n",
       "  566.289,1471.51 567.417,1472.15 568.546,1472.79 569.674,1473.43 570.803,1474.06 571.931,1474.69 573.06,1475.31 574.189,1475.93 575.317,1476.55 576.446,1477.16 \n",
       "  577.574,1477.78 578.703,1478.38 579.832,1478.99 580.96,1479.59 582.089,1480.19 583.217,1480.78 584.346,1481.38 585.475,1481.96 586.603,1482.55 587.732,1483.13 \n",
       "  588.86,1483.71 589.989,1484.29 591.117,1484.86 592.246,1485.43 593.375,1486 594.503,1486.56 595.632,1487.13 596.76,1487.68 597.889,1488.24 599.018,1488.79 \n",
       "  600.146,1489.34 601.275,1489.89 602.403,1490.43 603.532,1490.97 604.66,1491.51 605.789,1492.05 606.918,1492.58 608.046,1493.11 609.175,1493.64 610.303,1494.16 \n",
       "  611.432,1494.68 612.561,1495.2 613.689,1495.72 614.818,1496.23 615.946,1496.74 617.075,1497.25 618.203,1497.76 619.332,1498.26 620.461,1498.76 621.589,1499.26 \n",
       "  622.718,1499.76 623.846,1500.25 624.975,1500.74 626.104,1501.23 627.232,1501.71 628.361,1502.2 629.489,1502.68 630.618,1503.16 631.747,1503.63 632.875,1504.11 \n",
       "  634.004,1504.58 635.132,1505.04 636.261,1505.51 637.389,1505.97 638.518,1506.44 639.647,1506.9 640.775,1507.35 641.904,1507.81 643.032,1508.26 644.161,1508.71 \n",
       "  645.29,1509.16 646.418,1509.6 647.547,1510.05 648.675,1510.49 649.804,1510.93 650.932,1511.36 652.061,1511.8 653.19,1512.23 654.318,1512.66 655.447,1513.09 \n",
       "  656.575,1513.51 657.704,1513.94 658.833,1514.36 659.961,1514.78 661.09,1515.19 662.218,1515.61 663.347,1516.02 664.476,1516.43 665.604,1516.84 666.733,1517.25 \n",
       "  667.861,1517.66 668.99,1518.06 670.118,1518.46 671.247,1518.86 672.376,1519.26 673.504,1519.65 674.633,1520.04 675.761,1520.43 676.89,1520.82 678.019,1521.21 \n",
       "  679.147,1521.6 680.276,1521.98 681.404,1522.36 682.533,1522.74 683.661,1523.12 684.79,1523.5 685.919,1523.87 687.047,1524.24 688.176,1524.61 689.304,1524.98 \n",
       "  690.433,1525.35 691.562,1525.71 692.69,1526.08 693.819,1526.44 694.947,1526.8 696.076,1527.16 697.204,1527.51 698.333,1527.87 699.462,1528.22 700.59,1528.57 \n",
       "  701.719,1528.92 702.847,1529.27 703.976,1529.61 705.105,1529.96 706.233,1530.3 707.362,1530.64 708.49,1530.98 709.619,1531.32 710.748,1531.65 711.876,1531.99 \n",
       "  713.005,1532.32 714.133,1532.65 715.262,1532.98 716.39,1533.31 717.519,1533.63 718.648,1533.96 719.776,1534.28 720.905,1534.6 722.033,1534.92 723.162,1535.24 \n",
       "  724.291,1535.56 725.419,1535.87 726.548,1536.19 727.676,1536.5 728.805,1536.81 729.933,1537.12 731.062,1537.43 732.191,1537.73 733.319,1538.04 734.448,1538.34 \n",
       "  735.576,1538.64 736.705,1538.94 737.834,1539.24 738.962,1539.54 740.091,1539.83 741.219,1540.13 742.348,1540.42 743.476,1540.71 744.605,1541 745.734,1541.29 \n",
       "  746.862,1541.58 747.991,1541.86 749.119,1542.15 750.248,1542.43 751.377,1542.71 752.505,1542.99 753.634,1543.27 754.762,1543.55 755.891,1543.83 757.02,1544.1 \n",
       "  758.148,1544.38 759.277,1544.65 760.405,1544.92 761.534,1545.19 762.662,1545.46 763.791,1545.72 764.92,1545.99 766.048,1546.25 767.177,1546.52 768.305,1546.78 \n",
       "  769.434,1547.04 770.563,1547.3 771.691,1547.56 772.82,1547.81 773.948,1548.07 775.077,1548.32 776.205,1548.58 777.334,1548.83 778.463,1549.08 779.591,1549.33 \n",
       "  780.72,1549.58 781.848,1549.82 782.977,1550.07 784.106,1550.31 785.234,1550.56 786.363,1550.8 787.491,1551.04 788.62,1551.28 789.748,1551.52 790.877,1551.76 \n",
       "  792.006,1551.99 793.134,1552.23 794.263,1552.46 795.391,1552.7 796.52,1552.93 797.649,1553.16 798.777,1553.39 799.906,1553.62 801.034,1553.84 802.163,1554.07 \n",
       "  803.292,1554.29 804.42,1554.52 805.549,1554.74 806.677,1554.96 807.806,1555.18 808.934,1555.4 810.063,1555.62 811.192,1555.84 812.32,1556.05 813.449,1556.27 \n",
       "  814.577,1556.48 815.706,1556.7 816.835,1556.91 817.963,1557.12 819.092,1557.33 820.22,1557.54 821.349,1557.75 822.477,1557.95 823.606,1558.16 824.735,1558.36 \n",
       "  825.863,1558.57 826.992,1558.77 828.12,1558.97 829.249,1559.17 830.378,1559.37 831.506,1559.57 832.635,1559.77 833.763,1559.97 834.892,1560.16 836.021,1560.36 \n",
       "  837.149,1560.55 838.278,1560.74 839.406,1560.94 840.535,1561.13 841.663,1561.32 842.792,1561.51 843.921,1561.69 845.049,1561.88 846.178,1562.07 847.306,1562.25 \n",
       "  848.435,1562.44 849.564,1562.62 850.692,1562.8 851.821,1562.99 852.949,1563.17 854.078,1563.35 855.206,1563.53 856.335,1563.7 857.464,1563.88 858.592,1564.06 \n",
       "  859.721,1564.23 860.849,1564.41 861.978,1564.58 863.107,1564.75 864.235,1564.93 865.364,1565.1 866.492,1565.27 867.621,1565.44 868.749,1565.6 869.878,1565.77 \n",
       "  871.007,1565.94 872.135,1566.1 873.264,1566.27 874.392,1566.43 875.521,1566.6 876.65,1566.76 877.778,1566.92 878.907,1567.08 880.035,1567.24 881.164,1567.4 \n",
       "  882.293,1567.56 883.421,1567.72 884.55,1567.87 885.678,1568.03 886.807,1568.19 887.935,1568.34 889.064,1568.49 890.193,1568.65 891.321,1568.8 892.45,1568.95 \n",
       "  893.578,1569.1 894.707,1569.25 895.836,1569.4 896.964,1569.55 898.093,1569.69 899.221,1569.84 900.35,1569.99 901.478,1570.13 902.607,1570.28 903.736,1570.42 \n",
       "  904.864,1570.56 905.993,1570.7 907.121,1570.85 908.25,1570.99 909.379,1571.13 910.507,1571.27 911.636,1571.4 912.764,1571.54 913.893,1571.68 915.021,1571.82 \n",
       "  916.15,1571.95 917.279,1572.09 918.407,1572.22 919.536,1572.35 920.664,1572.49 921.793,1572.62 922.922,1572.75 924.05,1572.88 925.179,1573.01 926.307,1573.14 \n",
       "  927.436,1573.27 928.565,1573.39 929.693,1573.52 930.822,1573.65 931.95,1573.77 933.079,1573.9 934.207,1574.02 935.336,1574.15 936.465,1574.27 937.593,1574.39 \n",
       "  938.722,1574.51 939.85,1574.64 940.979,1574.76 942.108,1574.88 943.236,1574.99 944.365,1575.11 945.493,1575.23 946.622,1575.35 947.75,1575.47 948.879,1575.58 \n",
       "  950.008,1575.7 951.136,1575.81 952.265,1575.92 953.393,1576.04 954.522,1576.15 955.651,1576.26 956.779,1576.37 957.908,1576.49 959.036,1576.6 960.165,1576.71 \n",
       "  961.294,1576.81 962.422,1576.92 963.551,1577.03 964.679,1577.14 965.808,1577.25 966.936,1577.35 968.065,1577.46 969.194,1577.56 970.322,1577.67 971.451,1577.77 \n",
       "  972.579,1577.87 973.708,1577.98 974.837,1578.08 975.965,1578.18 977.094,1578.28 978.222,1578.38 979.351,1578.48 980.479,1578.58 981.608,1578.68 982.737,1578.78 \n",
       "  983.865,1578.87 984.994,1578.97 986.122,1579.07 987.251,1579.16 988.38,1579.26 989.508,1579.35 990.637,1579.45 991.765,1579.54 992.894,1579.63 994.022,1579.72 \n",
       "  995.151,1579.82 996.28,1579.91 997.408,1580 998.537,1580.09 999.665,1580.18 1000.79,1580.27 1001.92,1580.36 1003.05,1580.45 1004.18,1580.53 1005.31,1580.62 \n",
       "  1006.44,1580.71 1007.57,1580.79 1008.69,1580.88 1009.82,1580.96 1010.95,1581.05 1012.08,1581.13 1013.21,1581.22 1014.34,1581.3 1015.47,1581.38 1016.59,1581.46 \n",
       "  1017.72,1581.55 1018.85,1581.63 1019.98,1581.71 1021.11,1581.79 1022.24,1581.87 1023.37,1581.95 1024.49,1582.03 1025.62,1582.1 1026.75,1582.18 1027.88,1582.26 \n",
       "  1029.01,1582.34 1030.14,1582.41 1031.27,1582.49 1032.39,1582.56 1033.52,1582.64 1034.65,1582.71 1035.78,1582.79 1036.91,1582.86 1038.04,1582.93 1039.17,1583.01 \n",
       "  1040.29,1583.08 1041.42,1583.15 1042.55,1583.22 1043.68,1583.29 1044.81,1583.36 1045.94,1583.43 1047.07,1583.5 1048.19,1583.57 1049.32,1583.64 1050.45,1583.71 \n",
       "  1051.58,1583.77 1052.71,1583.84 1053.84,1583.91 1054.97,1583.98 1056.09,1584.04 1057.22,1584.11 1058.35,1584.17 1059.48,1584.24 1060.61,1584.3 1061.74,1584.36 \n",
       "  1062.87,1584.43 1063.99,1584.49 1065.12,1584.55 1066.25,1584.62 1067.38,1584.68 1068.51,1584.74 1069.64,1584.8 1070.77,1584.86 1071.89,1584.92 1073.02,1584.98 \n",
       "  1074.15,1585.04 1075.28,1585.1 1076.41,1585.16 1077.54,1585.21 1078.67,1585.27 1079.79,1585.33 1080.92,1585.39 1082.05,1585.44 1083.18,1585.5 1084.31,1585.56 \n",
       "  1085.44,1585.61 1086.57,1585.67 1087.7,1585.72 1088.82,1585.77 1089.95,1585.83 1091.08,1585.88 1092.21,1585.93 1093.34,1585.99 1094.47,1586.04 1095.6,1586.09 \n",
       "  1096.72,1586.14 1097.85,1586.19 1098.98,1586.25 1100.11,1586.3 1101.24,1586.35 1102.37,1586.4 1103.5,1586.45 1104.62,1586.49 1105.75,1586.54 1106.88,1586.59 \n",
       "  1108.01,1586.64 1109.14,1586.69 1110.27,1586.73 1111.4,1586.78 1112.52,1586.83 1113.65,1586.87 1114.78,1586.92 1115.91,1586.97 1117.04,1587.01 1118.17,1587.06 \n",
       "  1119.3,1587.1 1120.42,1587.14 1121.55,1587.19 1122.68,1587.23 1123.81,1587.27 1124.94,1587.32 1126.07,1587.36 1127.2,1587.4 1128.32,1587.44 1129.45,1587.49 \n",
       "  1130.58,1587.53 1131.71,1587.57 1132.84,1587.61 1133.97,1587.65 1135.1,1587.69 1136.22,1587.73 1137.35,1587.77 1138.48,1587.81 1139.61,1587.84 1140.74,1587.88 \n",
       "  1141.87,1587.92 1143,1587.96 1144.12,1588 1145.25,1588.03 1146.38,1588.07 1147.51,1588.11 1148.64,1588.14 1149.77,1588.18 1150.9,1588.21 1152.02,1588.25 \n",
       "  1153.15,1588.28 1154.28,1588.32 1155.41,1588.35 1156.54,1588.39 1157.67,1588.42 1158.8,1588.46 1159.92,1588.49 1161.05,1588.52 1162.18,1588.55 1163.31,1588.59 \n",
       "  1164.44,1588.62 1165.57,1588.65 1166.7,1588.68 1167.82,1588.71 1168.95,1588.74 1170.08,1588.78 1171.21,1588.81 1172.34,1588.84 1173.47,1588.87 1174.6,1588.9 \n",
       "  1175.72,1588.92 1176.85,1588.95 1177.98,1588.98 1179.11,1589.01 1180.24,1589.04 1181.37,1589.07 1182.5,1589.09 1183.62,1589.12 1184.75,1589.15 1185.88,1589.18 \n",
       "  1187.01,1589.2 1188.14,1589.23 1189.27,1589.26 1190.4,1589.28 1191.52,1589.31 1192.65,1589.33 1193.78,1589.36 1194.91,1589.38 1196.04,1589.41 1197.17,1589.43 \n",
       "  1198.3,1589.46 1199.43,1589.48 1200.55,1589.5 1201.68,1589.53 1202.81,1589.55 1203.94,1589.57 1205.07,1589.6 1206.2,1589.62 1207.33,1589.64 1208.45,1589.66 \n",
       "  1209.58,1589.69 1210.71,1589.71 1211.84,1589.73 1212.97,1589.75 1214.1,1589.77 1215.23,1589.79 1216.35,1589.81 1217.48,1589.83 1218.61,1589.85 1219.74,1589.87 \n",
       "  1220.87,1589.89 1222,1589.91 1223.13,1589.93 1224.25,1589.95 1225.38,1589.97 1226.51,1589.99 1227.64,1590 1228.77,1590.02 1229.9,1590.04 1231.03,1590.06 \n",
       "  1232.15,1590.08 1233.28,1590.09 1234.41,1590.11 1235.54,1590.13 1236.67,1590.14 1237.8,1590.16 1238.93,1590.18 1240.05,1590.19 1241.18,1590.21 1242.31,1590.22 \n",
       "  1243.44,1590.24 1244.57,1590.25 1245.7,1590.27 1246.83,1590.28 1247.95,1590.3 1249.08,1590.31 1250.21,1590.33 1251.34,1590.34 1252.47,1590.35 1253.6,1590.37 \n",
       "  1254.73,1590.38 1255.85,1590.39 1256.98,1590.41 1258.11,1590.42 1259.24,1590.43 1260.37,1590.45 1261.5,1590.46 1262.63,1590.47 1263.75,1590.48 1264.88,1590.49 \n",
       "  1266.01,1590.51 1267.14,1590.52 1268.27,1590.53 1269.4,1590.54 1270.53,1590.55 1271.65,1590.56 1272.78,1590.57 1273.91,1590.58 1275.04,1590.59 1276.17,1590.6 \n",
       "  1277.3,1590.61 1278.43,1590.62 1279.55,1590.63 1280.68,1590.64 1281.81,1590.65 1282.94,1590.66 1284.07,1590.67 1285.2,1590.68 1286.33,1590.69 1287.45,1590.7 \n",
       "  1288.58,1590.71 1289.71,1590.71 1290.84,1590.72 1291.97,1590.73 1293.1,1590.74 1294.23,1590.75 1295.35,1590.75 1296.48,1590.76 1297.61,1590.77 1298.74,1590.77 \n",
       "  1299.87,1590.78 1301,1590.79 1302.13,1590.8 1303.25,1590.8 1304.38,1590.81 1305.51,1590.81 1306.64,1590.82 1307.77,1590.83 1308.9,1590.83 1310.03,1590.84 \n",
       "  1311.16,1590.84 1312.28,1590.85 1313.41,1590.86 1314.54,1590.86 1315.67,1590.87 1316.8,1590.87 1317.93,1590.88 1319.06,1590.88 1320.18,1590.89 1321.31,1590.89 \n",
       "  1322.44,1590.89 1323.57,1590.9 1324.7,1590.9 1325.83,1590.91 1326.96,1590.91 1328.08,1590.91 1329.21,1590.92 1330.34,1590.92 1331.47,1590.93 1332.6,1590.93 \n",
       "  1333.73,1590.93 1334.86,1590.94 1335.98,1590.94 1337.11,1590.94 1338.24,1590.94 1339.37,1590.95 1340.5,1590.95 1341.63,1590.95 1342.76,1590.96 1343.88,1590.96 \n",
       "  1345.01,1590.96 1346.14,1590.96 1347.27,1590.96 1348.4,1590.97 1349.53,1590.97 1350.66,1590.97 1351.78,1590.97 1352.91,1590.97 1354.04,1590.98 1355.17,1590.98 \n",
       "  1356.3,1590.98 1357.43,1590.98 1358.56,1590.98 1359.68,1590.98 1360.81,1590.98 1361.94,1590.98 1363.07,1590.99 1364.2,1590.99 1365.33,1590.99 1366.46,1590.99 \n",
       "  1367.58,1590.99 1368.71,1590.99 1369.84,1590.99 1370.97,1590.99 1372.1,1590.99 1373.23,1590.99 1374.36,1590.99 1375.48,1590.99 1376.61,1590.99 1377.74,1590.99 \n",
       "  1378.87,1590.99 1380,1590.99 1381.13,1590.99 1382.26,1590.99 1383.38,1591 1384.51,1591 1385.64,1591 1386.77,1591 1387.9,1591 1389.03,1591 \n",
       "  \n",
       "  \"/>\n",
       "<polyline clip-path=\"url(#clip2702)\" style=\"stroke:#3da44d; stroke-width:8; stroke-opacity:1; fill:none\" points=\"\n",
       "  261.57,463.538 262.699,493.18 263.828,508.343 264.956,520.555 266.085,531.165 267.213,540.716 268.342,549.496 269.471,557.68 270.599,565.384 271.728,572.69 \n",
       "  272.856,579.658 273.985,586.334 275.113,592.754 276.242,598.948 277.371,604.94 278.499,610.748 279.628,616.391 280.756,621.881 281.885,627.232 283.014,632.453 \n",
       "  284.142,637.555 285.271,642.545 286.399,647.431 287.528,652.219 288.657,656.914 289.785,661.523 290.914,666.05 292.042,670.499 293.171,674.874 294.299,679.179 \n",
       "  295.428,683.417 296.557,687.591 297.685,691.704 298.814,695.759 299.942,699.758 301.071,703.702 302.2,707.595 303.328,711.438 304.457,715.234 305.585,718.983 \n",
       "  306.714,722.687 307.842,726.349 308.971,729.968 310.1,733.548 311.228,737.088 312.357,740.591 313.485,744.057 314.614,747.487 315.743,750.883 316.871,754.245 \n",
       "  318,757.574 319.128,760.872 320.257,764.139 321.385,767.375 322.514,770.583 323.643,773.761 324.771,776.912 325.9,780.036 327.028,783.132 328.157,786.203 \n",
       "  329.286,789.249 330.414,792.27 331.543,795.266 332.671,798.239 333.8,801.188 334.929,804.115 336.057,807.019 337.186,809.902 338.314,812.763 339.443,815.604 \n",
       "  340.571,818.424 341.7,821.223 342.829,824.003 343.957,826.764 345.086,829.505 346.214,832.228 347.343,834.932 348.472,837.619 349.6,840.288 350.729,842.939 \n",
       "  351.857,845.573 352.986,848.19 354.114,850.791 355.243,853.376 356.372,855.944 357.5,858.497 358.629,861.034 359.757,863.556 360.886,866.063 362.015,868.555 \n",
       "  363.143,871.032 364.272,873.496 365.4,875.945 366.529,878.38 367.658,880.801 368.786,883.209 369.915,885.603 371.043,887.984 372.172,890.352 373.3,892.708 \n",
       "  374.429,895.05 375.558,897.381 376.686,899.698 377.815,902.004 378.943,904.298 380.072,906.58 381.201,908.85 382.329,911.109 383.458,913.356 384.586,915.592 \n",
       "  385.715,917.817 386.843,920.03 387.972,922.233 389.101,924.426 390.229,926.607 391.358,928.778 392.486,930.939 393.615,933.09 394.744,935.23 395.872,937.36 \n",
       "  397.001,939.481 398.129,941.591 399.258,943.692 400.386,945.784 401.515,947.866 402.644,949.938 403.772,952.001 404.901,954.055 406.029,956.1 407.158,958.136 \n",
       "  408.287,960.163 409.415,962.181 410.544,964.191 411.672,966.192 412.801,968.184 413.93,970.168 415.058,972.143 416.187,974.11 417.315,976.069 418.444,978.02 \n",
       "  419.572,979.962 420.701,981.897 421.83,983.824 422.958,985.743 424.087,987.654 425.215,989.557 426.344,991.453 427.473,993.341 428.601,995.222 429.73,997.095 \n",
       "  430.858,998.961 431.987,1000.82 433.115,1002.67 434.244,1004.51 435.373,1006.35 436.501,1008.18 437.63,1010 438.758,1011.82 439.887,1013.63 441.016,1015.43 \n",
       "  442.144,1017.23 443.273,1019.02 444.401,1020.8 445.53,1022.57 446.658,1024.34 447.787,1026.11 448.916,1027.86 450.044,1029.61 451.173,1031.35 452.301,1033.09 \n",
       "  453.43,1034.82 454.559,1036.55 455.687,1038.26 456.816,1039.98 457.944,1041.68 459.073,1043.38 460.202,1045.08 461.33,1046.76 462.459,1048.45 463.587,1050.12 \n",
       "  464.716,1051.79 465.844,1053.46 466.973,1055.12 468.102,1056.77 469.23,1058.42 470.359,1060.06 471.487,1061.7 472.616,1063.33 473.745,1064.95 474.873,1066.57 \n",
       "  476.002,1068.19 477.13,1069.8 478.259,1071.4 479.387,1073 480.516,1074.59 481.645,1076.18 482.773,1077.76 483.902,1079.34 485.03,1080.92 486.159,1082.48 \n",
       "  487.288,1084.05 488.416,1085.6 489.545,1087.15 490.673,1088.7 491.802,1090.24 492.931,1091.78 494.059,1093.31 495.188,1094.84 496.316,1096.37 497.445,1097.88 \n",
       "  498.573,1099.4 499.702,1100.91 500.831,1102.41 501.959,1103.91 503.088,1105.4 504.216,1106.89 505.345,1108.38 506.474,1109.86 507.602,1111.34 508.731,1112.81 \n",
       "  509.859,1114.28 510.988,1115.74 512.116,1117.2 513.245,1118.65 514.374,1120.1 515.502,1121.55 516.631,1122.99 517.759,1124.42 518.888,1125.86 520.017,1127.28 \n",
       "  521.145,1128.71 522.274,1130.13 523.402,1131.54 524.531,1132.95 525.659,1134.36 526.788,1135.76 527.917,1137.16 529.045,1138.56 530.174,1139.95 531.302,1141.33 \n",
       "  532.431,1142.72 533.56,1144.09 534.688,1145.47 535.817,1146.84 536.945,1148.21 538.074,1149.57 539.203,1150.93 540.331,1152.28 541.46,1153.63 542.588,1154.98 \n",
       "  543.717,1156.33 544.845,1157.67 545.974,1159 547.103,1160.33 548.231,1161.66 549.36,1162.99 550.488,1164.31 551.617,1165.62 552.746,1166.94 553.874,1168.25 \n",
       "  555.003,1169.55 556.131,1170.86 557.26,1172.16 558.388,1173.45 559.517,1174.74 560.646,1176.03 561.774,1177.32 562.903,1178.6 564.031,1179.87 565.16,1181.15 \n",
       "  566.289,1182.42 567.417,1183.69 568.546,1184.95 569.674,1186.21 570.803,1187.47 571.931,1188.72 573.06,1189.97 574.189,1191.22 575.317,1192.46 576.446,1193.7 \n",
       "  577.574,1194.94 578.703,1196.17 579.832,1197.4 580.96,1198.63 582.089,1199.86 583.217,1201.08 584.346,1202.29 585.475,1203.51 586.603,1204.72 587.732,1205.93 \n",
       "  588.86,1207.13 589.989,1208.33 591.117,1209.53 592.246,1210.72 593.375,1211.92 594.503,1213.11 595.632,1214.29 596.76,1215.47 597.889,1216.65 599.018,1217.83 \n",
       "  600.146,1219 601.275,1220.17 602.403,1221.34 603.532,1222.51 604.66,1223.67 605.789,1224.82 606.918,1225.98 608.046,1227.13 609.175,1228.28 610.303,1229.43 \n",
       "  611.432,1230.57 612.561,1231.71 613.689,1232.85 614.818,1233.99 615.946,1235.12 617.075,1236.25 618.203,1237.37 619.332,1238.5 620.461,1239.62 621.589,1240.73 \n",
       "  622.718,1241.85 623.846,1242.96 624.975,1244.07 626.104,1245.18 627.232,1246.28 628.361,1247.38 629.489,1248.48 630.618,1249.57 631.747,1250.67 632.875,1251.76 \n",
       "  634.004,1252.84 635.132,1253.93 636.261,1255.01 637.389,1256.09 638.518,1257.17 639.647,1258.24 640.775,1259.31 641.904,1260.38 643.032,1261.44 644.161,1262.51 \n",
       "  645.29,1263.57 646.418,1264.63 647.547,1265.68 648.675,1266.73 649.804,1267.78 650.932,1268.83 652.061,1269.88 653.19,1270.92 654.318,1271.96 655.447,1273 \n",
       "  656.575,1274.03 657.704,1275.06 658.833,1276.09 659.961,1277.12 661.09,1278.14 662.218,1279.17 663.347,1280.19 664.476,1281.2 665.604,1282.22 666.733,1283.23 \n",
       "  667.861,1284.24 668.99,1285.25 670.118,1286.25 671.247,1287.26 672.376,1288.26 673.504,1289.25 674.633,1290.25 675.761,1291.24 676.89,1292.23 678.019,1293.22 \n",
       "  679.147,1294.21 680.276,1295.19 681.404,1296.17 682.533,1297.15 683.661,1298.12 684.79,1299.1 685.919,1300.07 687.047,1301.04 688.176,1302.01 689.304,1302.97 \n",
       "  690.433,1303.93 691.562,1304.89 692.69,1305.85 693.819,1306.81 694.947,1307.76 696.076,1308.71 697.204,1309.66 698.333,1310.61 699.462,1311.55 700.59,1312.49 \n",
       "  701.719,1313.43 702.847,1314.37 703.976,1315.3 705.105,1316.24 706.233,1317.17 707.362,1318.1 708.49,1319.02 709.619,1319.95 710.748,1320.87 711.876,1321.79 \n",
       "  713.005,1322.71 714.133,1323.62 715.262,1324.53 716.39,1325.45 717.519,1326.35 718.648,1327.26 719.776,1328.17 720.905,1329.07 722.033,1329.97 723.162,1330.87 \n",
       "  724.291,1331.76 725.419,1332.66 726.548,1333.55 727.676,1334.44 728.805,1335.33 729.933,1336.21 731.062,1337.1 732.191,1337.98 733.319,1338.86 734.448,1339.73 \n",
       "  735.576,1340.61 736.705,1341.48 737.834,1342.35 738.962,1343.22 740.091,1344.09 741.219,1344.96 742.348,1345.82 743.476,1346.68 744.605,1347.54 745.734,1348.4 \n",
       "  746.862,1349.25 747.991,1350.1 749.119,1350.96 750.248,1351.8 751.377,1352.65 752.505,1353.5 753.634,1354.34 754.762,1355.18 755.891,1356.02 757.02,1356.86 \n",
       "  758.148,1357.69 759.277,1358.53 760.405,1359.36 761.534,1360.19 762.662,1361.01 763.791,1361.84 764.92,1362.66 766.048,1363.48 767.177,1364.3 768.305,1365.12 \n",
       "  769.434,1365.94 770.563,1366.75 771.691,1367.56 772.82,1368.37 773.948,1369.18 775.077,1369.99 776.205,1370.79 777.334,1371.6 778.463,1372.4 779.591,1373.2 \n",
       "  780.72,1373.99 781.848,1374.79 782.977,1375.58 784.106,1376.37 785.234,1377.16 786.363,1377.95 787.491,1378.74 788.62,1379.52 789.748,1380.3 790.877,1381.08 \n",
       "  792.006,1381.86 793.134,1382.64 794.263,1383.41 795.391,1384.19 796.52,1384.96 797.649,1385.73 798.777,1386.5 799.906,1387.26 801.034,1388.03 802.163,1388.79 \n",
       "  803.292,1389.55 804.42,1390.31 805.549,1391.07 806.677,1391.82 807.806,1392.58 808.934,1393.33 810.063,1394.08 811.192,1394.83 812.32,1395.57 813.449,1396.32 \n",
       "  814.577,1397.06 815.706,1397.8 816.835,1398.54 817.963,1399.28 819.092,1400.01 820.22,1400.75 821.349,1401.48 822.477,1402.21 823.606,1402.94 824.735,1403.67 \n",
       "  825.863,1404.4 826.992,1405.12 828.12,1405.84 829.249,1406.56 830.378,1407.28 831.506,1408 832.635,1408.71 833.763,1409.43 834.892,1410.14 836.021,1410.85 \n",
       "  837.149,1411.56 838.278,1412.27 839.406,1412.97 840.535,1413.68 841.663,1414.38 842.792,1415.08 843.921,1415.78 845.049,1416.48 846.178,1417.17 847.306,1417.86 \n",
       "  848.435,1418.56 849.564,1419.25 850.692,1419.94 851.821,1420.62 852.949,1421.31 854.078,1421.99 855.206,1422.68 856.335,1423.36 857.464,1424.04 858.592,1424.71 \n",
       "  859.721,1425.39 860.849,1426.06 861.978,1426.74 863.107,1427.41 864.235,1428.08 865.364,1428.75 866.492,1429.41 867.621,1430.08 868.749,1430.74 869.878,1431.4 \n",
       "  871.007,1432.06 872.135,1432.72 873.264,1433.38 874.392,1434.03 875.521,1434.69 876.65,1435.34 877.778,1435.99 878.907,1436.64 880.035,1437.29 881.164,1437.93 \n",
       "  882.293,1438.58 883.421,1439.22 884.55,1439.86 885.678,1440.5 886.807,1441.14 887.935,1441.77 889.064,1442.41 890.193,1443.04 891.321,1443.67 892.45,1444.31 \n",
       "  893.578,1444.93 894.707,1445.56 895.836,1446.19 896.964,1446.81 898.093,1447.43 899.221,1448.06 900.35,1448.68 901.478,1449.29 902.607,1449.91 903.736,1450.53 \n",
       "  904.864,1451.14 905.993,1451.75 907.121,1452.36 908.25,1452.97 909.379,1453.58 910.507,1454.19 911.636,1454.79 912.764,1455.39 913.893,1456 915.021,1456.6 \n",
       "  916.15,1457.19 917.279,1457.79 918.407,1458.39 919.536,1458.98 920.664,1459.57 921.793,1460.17 922.922,1460.76 924.05,1461.34 925.179,1461.93 926.307,1462.52 \n",
       "  927.436,1463.1 928.565,1463.68 929.693,1464.27 930.822,1464.84 931.95,1465.42 933.079,1466 934.207,1466.58 935.336,1467.15 936.465,1467.72 937.593,1468.29 \n",
       "  938.722,1468.86 939.85,1469.43 940.979,1470 942.108,1470.56 943.236,1471.13 944.365,1471.69 945.493,1472.25 946.622,1472.81 947.75,1473.37 948.879,1473.92 \n",
       "  950.008,1474.48 951.136,1475.03 952.265,1475.59 953.393,1476.14 954.522,1476.69 955.651,1477.23 956.779,1477.78 957.908,1478.33 959.036,1478.87 960.165,1479.41 \n",
       "  961.294,1479.95 962.422,1480.49 963.551,1481.03 964.679,1481.57 965.808,1482.1 966.936,1482.64 968.065,1483.17 969.194,1483.7 970.322,1484.23 971.451,1484.76 \n",
       "  972.579,1485.29 973.708,1485.81 974.837,1486.34 975.965,1486.86 977.094,1487.38 978.222,1487.9 979.351,1488.42 980.479,1488.94 981.608,1489.46 982.737,1489.97 \n",
       "  983.865,1490.49 984.994,1491 986.122,1491.51 987.251,1492.02 988.38,1492.53 989.508,1493.03 990.637,1493.54 991.765,1494.04 992.894,1494.54 994.022,1495.04 \n",
       "  995.151,1495.54 996.28,1496.04 997.408,1496.54 998.537,1497.04 999.665,1497.53 1000.79,1498.02 1001.92,1498.52 1003.05,1499.01 1004.18,1499.5 1005.31,1499.98 \n",
       "  1006.44,1500.47 1007.57,1500.95 1008.69,1501.44 1009.82,1501.92 1010.95,1502.4 1012.08,1502.88 1013.21,1503.36 1014.34,1503.84 1015.47,1504.31 1016.59,1504.79 \n",
       "  1017.72,1505.26 1018.85,1505.73 1019.98,1506.2 1021.11,1506.67 1022.24,1507.14 1023.37,1507.61 1024.49,1508.07 1025.62,1508.53 1026.75,1509 1027.88,1509.46 \n",
       "  1029.01,1509.92 1030.14,1510.38 1031.27,1510.83 1032.39,1511.29 1033.52,1511.75 1034.65,1512.2 1035.78,1512.65 1036.91,1513.1 1038.04,1513.55 1039.17,1514 \n",
       "  1040.29,1514.45 1041.42,1514.89 1042.55,1515.34 1043.68,1515.78 1044.81,1516.22 1045.94,1516.66 1047.07,1517.1 1048.19,1517.54 1049.32,1517.97 1050.45,1518.41 \n",
       "  1051.58,1518.84 1052.71,1519.28 1053.84,1519.71 1054.97,1520.14 1056.09,1520.57 1057.22,1520.99 1058.35,1521.42 1059.48,1521.85 1060.61,1522.27 1061.74,1522.69 \n",
       "  1062.87,1523.11 1063.99,1523.53 1065.12,1523.95 1066.25,1524.37 1067.38,1524.78 1068.51,1525.2 1069.64,1525.61 1070.77,1526.02 1071.89,1526.44 1073.02,1526.84 \n",
       "  1074.15,1527.25 1075.28,1527.66 1076.41,1528.07 1077.54,1528.47 1078.67,1528.87 1079.79,1529.28 1080.92,1529.68 1082.05,1530.08 1083.18,1530.47 1084.31,1530.87 \n",
       "  1085.44,1531.27 1086.57,1531.66 1087.7,1532.05 1088.82,1532.45 1089.95,1532.84 1091.08,1533.23 1092.21,1533.61 1093.34,1534 1094.47,1534.39 1095.6,1534.77 \n",
       "  1096.72,1535.15 1097.85,1535.54 1098.98,1535.92 1100.11,1536.3 1101.24,1536.67 1102.37,1537.05 1103.5,1537.43 1104.62,1537.8 1105.75,1538.17 1106.88,1538.55 \n",
       "  1108.01,1538.92 1109.14,1539.29 1110.27,1539.65 1111.4,1540.02 1112.52,1540.39 1113.65,1540.75 1114.78,1541.11 1115.91,1541.48 1117.04,1541.84 1118.17,1542.2 \n",
       "  1119.3,1542.55 1120.42,1542.91 1121.55,1543.27 1122.68,1543.62 1123.81,1543.97 1124.94,1544.33 1126.07,1544.68 1127.2,1545.03 1128.32,1545.37 1129.45,1545.72 \n",
       "  1130.58,1546.07 1131.71,1546.41 1132.84,1546.75 1133.97,1547.1 1135.1,1547.44 1136.22,1547.78 1137.35,1548.12 1138.48,1548.45 1139.61,1548.79 1140.74,1549.12 \n",
       "  1141.87,1549.46 1143,1549.79 1144.12,1550.12 1145.25,1550.45 1146.38,1550.78 1147.51,1551.1 1148.64,1551.43 1149.77,1551.75 1150.9,1552.08 1152.02,1552.4 \n",
       "  1153.15,1552.72 1154.28,1553.04 1155.41,1553.36 1156.54,1553.68 1157.67,1553.99 1158.8,1554.31 1159.92,1554.62 1161.05,1554.93 1162.18,1555.24 1163.31,1555.55 \n",
       "  1164.44,1555.86 1165.57,1556.17 1166.7,1556.48 1167.82,1556.78 1168.95,1557.09 1170.08,1557.39 1171.21,1557.69 1172.34,1557.99 1173.47,1558.29 1174.6,1558.59 \n",
       "  1175.72,1558.88 1176.85,1559.18 1177.98,1559.47 1179.11,1559.76 1180.24,1560.05 1181.37,1560.34 1182.5,1560.63 1183.62,1560.92 1184.75,1561.21 1185.88,1561.49 \n",
       "  1187.01,1561.78 1188.14,1562.06 1189.27,1562.34 1190.4,1562.62 1191.52,1562.9 1192.65,1563.18 1193.78,1563.45 1194.91,1563.73 1196.04,1564 1197.17,1564.28 \n",
       "  1198.3,1564.55 1199.43,1564.82 1200.55,1565.09 1201.68,1565.35 1202.81,1565.62 1203.94,1565.89 1205.07,1566.15 1206.2,1566.41 1207.33,1566.68 1208.45,1566.94 \n",
       "  1209.58,1567.19 1210.71,1567.45 1211.84,1567.71 1212.97,1567.96 1214.1,1568.22 1215.23,1568.47 1216.35,1568.72 1217.48,1568.97 1218.61,1569.22 1219.74,1569.47 \n",
       "  1220.87,1569.72 1222,1569.96 1223.13,1570.21 1224.25,1570.45 1225.38,1570.69 1226.51,1570.93 1227.64,1571.17 1228.77,1571.41 1229.9,1571.64 1231.03,1571.88 \n",
       "  1232.15,1572.11 1233.28,1572.35 1234.41,1572.58 1235.54,1572.81 1236.67,1573.04 1237.8,1573.27 1238.93,1573.49 1240.05,1573.72 1241.18,1573.94 1242.31,1574.16 \n",
       "  1243.44,1574.39 1244.57,1574.61 1245.7,1574.82 1246.83,1575.04 1247.95,1575.26 1249.08,1575.47 1250.21,1575.69 1251.34,1575.9 1252.47,1576.11 1253.6,1576.32 \n",
       "  1254.73,1576.53 1255.85,1576.74 1256.98,1576.94 1258.11,1577.15 1259.24,1577.35 1260.37,1577.55 1261.5,1577.75 1262.63,1577.95 1263.75,1578.15 1264.88,1578.35 \n",
       "  1266.01,1578.54 1267.14,1578.74 1268.27,1578.93 1269.4,1579.12 1270.53,1579.31 1271.65,1579.5 1272.78,1579.69 1273.91,1579.88 1275.04,1580.06 1276.17,1580.24 \n",
       "  1277.3,1580.43 1278.43,1580.61 1279.55,1580.79 1280.68,1580.97 1281.81,1581.14 1282.94,1581.32 1284.07,1581.49 1285.2,1581.67 1286.33,1581.84 1287.45,1582.01 \n",
       "  1288.58,1582.18 1289.71,1582.34 1290.84,1582.51 1291.97,1582.68 1293.1,1582.84 1294.23,1583 1295.35,1583.16 1296.48,1583.32 1297.61,1583.48 1298.74,1583.64 \n",
       "  1299.87,1583.79 1301,1583.94 1302.13,1584.1 1303.25,1584.25 1304.38,1584.4 1305.51,1584.55 1306.64,1584.69 1307.77,1584.84 1308.9,1584.98 1310.03,1585.13 \n",
       "  1311.16,1585.27 1312.28,1585.41 1313.41,1585.54 1314.54,1585.68 1315.67,1585.82 1316.8,1585.95 1317.93,1586.08 1319.06,1586.21 1320.18,1586.34 1321.31,1586.47 \n",
       "  1322.44,1586.6 1323.57,1586.72 1324.7,1586.85 1325.83,1586.97 1326.96,1587.09 1328.08,1587.21 1329.21,1587.32 1330.34,1587.44 1331.47,1587.56 1332.6,1587.67 \n",
       "  1333.73,1587.78 1334.86,1587.89 1335.98,1588 1337.11,1588.1 1338.24,1588.21 1339.37,1588.31 1340.5,1588.41 1341.63,1588.51 1342.76,1588.61 1343.88,1588.71 \n",
       "  1345.01,1588.8 1346.14,1588.9 1347.27,1588.99 1348.4,1589.08 1349.53,1589.17 1350.66,1589.26 1351.78,1589.34 1352.91,1589.42 1354.04,1589.51 1355.17,1589.58 \n",
       "  1356.3,1589.66 1357.43,1589.74 1358.56,1589.81 1359.68,1589.89 1360.81,1589.96 1361.94,1590.02 1363.07,1590.09 1364.2,1590.16 1365.33,1590.22 1366.46,1590.28 \n",
       "  1367.58,1590.34 1368.71,1590.4 1369.84,1590.45 1370.97,1590.5 1372.1,1590.55 1373.23,1590.6 1374.36,1590.65 1375.48,1590.69 1376.61,1590.73 1377.74,1590.77 \n",
       "  1378.87,1590.81 1380,1590.84 1381.13,1590.87 1382.26,1590.9 1383.38,1590.92 1384.51,1590.95 1385.64,1590.97 1386.77,1590.98 1387.9,1590.99 1389.03,1591 \n",
       "  \n",
       "  \"/>\n",
       "<polyline clip-path=\"url(#clip2702)\" style=\"stroke:#c271d2; stroke-width:8; stroke-opacity:1; fill:none\" points=\"\n",
       "  261.57,463.538 262.699,464.667 263.828,465.795 264.956,466.924 266.085,468.053 267.213,469.181 268.342,470.31 269.471,471.438 270.599,472.567 271.728,473.696 \n",
       "  272.856,474.824 273.985,475.953 275.113,477.081 276.242,478.21 277.371,479.338 278.499,480.467 279.628,481.596 280.756,482.724 281.885,483.853 283.014,484.981 \n",
       "  284.142,486.11 285.271,487.239 286.399,488.367 287.528,489.496 288.657,490.624 289.785,491.753 290.914,492.881 292.042,494.01 293.171,495.139 294.299,496.267 \n",
       "  295.428,497.396 296.557,498.524 297.685,499.653 298.814,500.782 299.942,501.91 301.071,503.039 302.2,504.167 303.328,505.296 304.457,506.425 305.585,507.553 \n",
       "  306.714,508.682 307.842,509.81 308.971,510.939 310.1,512.067 311.228,513.196 312.357,514.325 313.485,515.453 314.614,516.582 315.743,517.71 316.871,518.839 \n",
       "  318,519.968 319.128,521.096 320.257,522.225 321.385,523.353 322.514,524.482 323.643,525.61 324.771,526.739 325.9,527.868 327.028,528.996 328.157,530.125 \n",
       "  329.286,531.253 330.414,532.382 331.543,533.511 332.671,534.639 333.8,535.768 334.929,536.896 336.057,538.025 337.186,539.153 338.314,540.282 339.443,541.411 \n",
       "  340.571,542.539 341.7,543.668 342.829,544.796 343.957,545.925 345.086,547.054 346.214,548.182 347.343,549.311 348.472,550.439 349.6,551.568 350.729,552.697 \n",
       "  351.857,553.825 352.986,554.954 354.114,556.082 355.243,557.211 356.372,558.339 357.5,559.468 358.629,560.597 359.757,561.725 360.886,562.854 362.015,563.982 \n",
       "  363.143,565.111 364.272,566.24 365.4,567.368 366.529,568.497 367.658,569.625 368.786,570.754 369.915,571.882 371.043,573.011 372.172,574.14 373.3,575.268 \n",
       "  374.429,576.397 375.558,577.525 376.686,578.654 377.815,579.783 378.943,580.911 380.072,582.04 381.201,583.168 382.329,584.297 383.458,585.426 384.586,586.554 \n",
       "  385.715,587.683 386.843,588.811 387.972,589.94 389.101,591.068 390.229,592.197 391.358,593.326 392.486,594.454 393.615,595.583 394.744,596.711 395.872,597.84 \n",
       "  397.001,598.969 398.129,600.097 399.258,601.226 400.386,602.354 401.515,603.483 402.644,604.611 403.772,605.74 404.901,606.869 406.029,607.997 407.158,609.126 \n",
       "  408.287,610.254 409.415,611.383 410.544,612.512 411.672,613.64 412.801,614.769 413.93,615.897 415.058,617.026 416.187,618.154 417.315,619.283 418.444,620.412 \n",
       "  419.572,621.54 420.701,622.669 421.83,623.797 422.958,624.926 424.087,626.055 425.215,627.183 426.344,628.312 427.473,629.44 428.601,630.569 429.73,631.698 \n",
       "  430.858,632.826 431.987,633.955 433.115,635.083 434.244,636.212 435.373,637.34 436.501,638.469 437.63,639.598 438.758,640.726 439.887,641.855 441.016,642.983 \n",
       "  442.144,644.112 443.273,645.241 444.401,646.369 445.53,647.498 446.658,648.626 447.787,649.755 448.916,650.883 450.044,652.012 451.173,653.141 452.301,654.269 \n",
       "  453.43,655.398 454.559,656.526 455.687,657.655 456.816,658.784 457.944,659.912 459.073,661.041 460.202,662.169 461.33,663.298 462.459,664.426 463.587,665.555 \n",
       "  464.716,666.684 465.844,667.812 466.973,668.941 468.102,670.069 469.23,671.198 470.359,672.327 471.487,673.455 472.616,674.584 473.745,675.712 474.873,676.841 \n",
       "  476.002,677.97 477.13,679.098 478.259,680.227 479.387,681.355 480.516,682.484 481.645,683.612 482.773,684.741 483.902,685.87 485.03,686.998 486.159,688.127 \n",
       "  487.288,689.255 488.416,690.384 489.545,691.513 490.673,692.641 491.802,693.77 492.931,694.898 494.059,696.027 495.188,697.155 496.316,698.284 497.445,699.413 \n",
       "  498.573,700.541 499.702,701.67 500.831,702.798 501.959,703.927 503.088,705.056 504.216,706.184 505.345,707.313 506.474,708.441 507.602,709.57 508.731,710.698 \n",
       "  509.859,711.827 510.988,712.956 512.116,714.084 513.245,715.213 514.374,716.341 515.502,717.47 516.631,718.599 517.759,719.727 518.888,720.856 520.017,721.984 \n",
       "  521.145,723.113 522.274,724.242 523.402,725.37 524.531,726.499 525.659,727.627 526.788,728.756 527.917,729.884 529.045,731.013 530.174,732.142 531.302,733.27 \n",
       "  532.431,734.399 533.56,735.527 534.688,736.656 535.817,737.785 536.945,738.913 538.074,740.042 539.203,741.17 540.331,742.299 541.46,743.427 542.588,744.556 \n",
       "  543.717,745.685 544.845,746.813 545.974,747.942 547.103,749.07 548.231,750.199 549.36,751.328 550.488,752.456 551.617,753.585 552.746,754.713 553.874,755.842 \n",
       "  555.003,756.971 556.131,758.099 557.26,759.228 558.388,760.356 559.517,761.485 560.646,762.613 561.774,763.742 562.903,764.871 564.031,765.999 565.16,767.128 \n",
       "  566.289,768.256 567.417,769.385 568.546,770.514 569.674,771.642 570.803,772.771 571.931,773.899 573.06,775.028 574.189,776.156 575.317,777.285 576.446,778.414 \n",
       "  577.574,779.542 578.703,780.671 579.832,781.799 580.96,782.928 582.089,784.057 583.217,785.185 584.346,786.314 585.475,787.442 586.603,788.571 587.732,789.699 \n",
       "  588.86,790.828 589.989,791.957 591.117,793.085 592.246,794.214 593.375,795.342 594.503,796.471 595.632,797.6 596.76,798.728 597.889,799.857 599.018,800.985 \n",
       "  600.146,802.114 601.275,803.243 602.403,804.371 603.532,805.5 604.66,806.628 605.789,807.757 606.918,808.885 608.046,810.014 609.175,811.143 610.303,812.271 \n",
       "  611.432,813.4 612.561,814.528 613.689,815.657 614.818,816.786 615.946,817.914 617.075,819.043 618.203,820.171 619.332,821.3 620.461,822.428 621.589,823.557 \n",
       "  622.718,824.686 623.846,825.814 624.975,826.943 626.104,828.071 627.232,829.2 628.361,830.329 629.489,831.457 630.618,832.586 631.747,833.714 632.875,834.843 \n",
       "  634.004,835.971 635.132,837.1 636.261,838.229 637.389,839.357 638.518,840.486 639.647,841.614 640.775,842.743 641.904,843.872 643.032,845 644.161,846.129 \n",
       "  645.29,847.257 646.418,848.386 647.547,849.515 648.675,850.643 649.804,851.772 650.932,852.9 652.061,854.029 653.19,855.157 654.318,856.286 655.447,857.415 \n",
       "  656.575,858.543 657.704,859.672 658.833,860.8 659.961,861.929 661.09,863.058 662.218,864.186 663.347,865.315 664.476,866.443 665.604,867.572 666.733,868.7 \n",
       "  667.861,869.829 668.99,870.958 670.118,872.086 671.247,873.215 672.376,874.343 673.504,875.472 674.633,876.601 675.761,877.729 676.89,878.858 678.019,879.986 \n",
       "  679.147,881.115 680.276,882.244 681.404,883.372 682.533,884.501 683.661,885.629 684.79,886.758 685.919,887.886 687.047,889.015 688.176,890.144 689.304,891.272 \n",
       "  690.433,892.401 691.562,893.529 692.69,894.658 693.819,895.787 694.947,896.915 696.076,898.044 697.204,899.172 698.333,900.301 699.462,901.429 700.59,902.558 \n",
       "  701.719,903.687 702.847,904.815 703.976,905.944 705.105,907.072 706.233,908.201 707.362,909.33 708.49,910.458 709.619,911.587 710.748,912.715 711.876,913.844 \n",
       "  713.005,914.972 714.133,916.101 715.262,917.23 716.39,918.358 717.519,919.487 718.648,920.615 719.776,921.744 720.905,922.873 722.033,924.001 723.162,925.13 \n",
       "  724.291,926.258 725.419,927.387 726.548,928.516 727.676,929.644 728.805,930.773 729.933,931.901 731.062,933.03 732.191,934.158 733.319,935.287 734.448,936.416 \n",
       "  735.576,937.544 736.705,938.673 737.834,939.801 738.962,940.93 740.091,942.059 741.219,943.187 742.348,944.316 743.476,945.444 744.605,946.573 745.734,947.701 \n",
       "  746.862,948.83 747.991,949.959 749.119,951.087 750.248,952.216 751.377,953.344 752.505,954.473 753.634,955.602 754.762,956.73 755.891,957.859 757.02,958.987 \n",
       "  758.148,960.116 759.277,961.244 760.405,962.373 761.534,963.502 762.662,964.63 763.791,965.759 764.92,966.887 766.048,968.016 767.177,969.145 768.305,970.273 \n",
       "  769.434,971.402 770.563,972.53 771.691,973.659 772.82,974.788 773.948,975.916 775.077,977.045 776.205,978.173 777.334,979.302 778.463,980.43 779.591,981.559 \n",
       "  780.72,982.688 781.848,983.816 782.977,984.945 784.106,986.073 785.234,987.202 786.363,988.331 787.491,989.459 788.62,990.588 789.748,991.716 790.877,992.845 \n",
       "  792.006,993.973 793.134,995.102 794.263,996.231 795.391,997.359 796.52,998.488 797.649,999.616 798.777,1000.74 799.906,1001.87 801.034,1003 802.163,1004.13 \n",
       "  803.292,1005.26 804.42,1006.39 805.549,1007.52 806.677,1008.65 807.806,1009.77 808.934,1010.9 810.063,1012.03 811.192,1013.16 812.32,1014.29 813.449,1015.42 \n",
       "  814.577,1016.55 815.706,1017.67 816.835,1018.8 817.963,1019.93 819.092,1021.06 820.22,1022.19 821.349,1023.32 822.477,1024.45 823.606,1025.57 824.735,1026.7 \n",
       "  825.863,1027.83 826.992,1028.96 828.12,1030.09 829.249,1031.22 830.378,1032.35 831.506,1033.47 832.635,1034.6 833.763,1035.73 834.892,1036.86 836.021,1037.99 \n",
       "  837.149,1039.12 838.278,1040.25 839.406,1041.37 840.535,1042.5 841.663,1043.63 842.792,1044.76 843.921,1045.89 845.049,1047.02 846.178,1048.15 847.306,1049.27 \n",
       "  848.435,1050.4 849.564,1051.53 850.692,1052.66 851.821,1053.79 852.949,1054.92 854.078,1056.05 855.206,1057.17 856.335,1058.3 857.464,1059.43 858.592,1060.56 \n",
       "  859.721,1061.69 860.849,1062.82 861.978,1063.95 863.107,1065.07 864.235,1066.2 865.364,1067.33 866.492,1068.46 867.621,1069.59 868.749,1070.72 869.878,1071.85 \n",
       "  871.007,1072.97 872.135,1074.1 873.264,1075.23 874.392,1076.36 875.521,1077.49 876.65,1078.62 877.778,1079.75 878.907,1080.87 880.035,1082 881.164,1083.13 \n",
       "  882.293,1084.26 883.421,1085.39 884.55,1086.52 885.678,1087.65 886.807,1088.77 887.935,1089.9 889.064,1091.03 890.193,1092.16 891.321,1093.29 892.45,1094.42 \n",
       "  893.578,1095.55 894.707,1096.67 895.836,1097.8 896.964,1098.93 898.093,1100.06 899.221,1101.19 900.35,1102.32 901.478,1103.45 902.607,1104.57 903.736,1105.7 \n",
       "  904.864,1106.83 905.993,1107.96 907.121,1109.09 908.25,1110.22 909.379,1111.35 910.507,1112.47 911.636,1113.6 912.764,1114.73 913.893,1115.86 915.021,1116.99 \n",
       "  916.15,1118.12 917.279,1119.25 918.407,1120.38 919.536,1121.5 920.664,1122.63 921.793,1123.76 922.922,1124.89 924.05,1126.02 925.179,1127.15 926.307,1128.28 \n",
       "  927.436,1129.4 928.565,1130.53 929.693,1131.66 930.822,1132.79 931.95,1133.92 933.079,1135.05 934.207,1136.18 935.336,1137.3 936.465,1138.43 937.593,1139.56 \n",
       "  938.722,1140.69 939.85,1141.82 940.979,1142.95 942.108,1144.08 943.236,1145.2 944.365,1146.33 945.493,1147.46 946.622,1148.59 947.75,1149.72 948.879,1150.85 \n",
       "  950.008,1151.98 951.136,1153.1 952.265,1154.23 953.393,1155.36 954.522,1156.49 955.651,1157.62 956.779,1158.75 957.908,1159.88 959.036,1161 960.165,1162.13 \n",
       "  961.294,1163.26 962.422,1164.39 963.551,1165.52 964.679,1166.65 965.808,1167.78 966.936,1168.9 968.065,1170.03 969.194,1171.16 970.322,1172.29 971.451,1173.42 \n",
       "  972.579,1174.55 973.708,1175.68 974.837,1176.8 975.965,1177.93 977.094,1179.06 978.222,1180.19 979.351,1181.32 980.479,1182.45 981.608,1183.58 982.737,1184.7 \n",
       "  983.865,1185.83 984.994,1186.96 986.122,1188.09 987.251,1189.22 988.38,1190.35 989.508,1191.48 990.637,1192.6 991.765,1193.73 992.894,1194.86 994.022,1195.99 \n",
       "  995.151,1197.12 996.28,1198.25 997.408,1199.38 998.537,1200.5 999.665,1201.63 1000.79,1202.76 1001.92,1203.89 1003.05,1205.02 1004.18,1206.15 1005.31,1207.28 \n",
       "  1006.44,1208.4 1007.57,1209.53 1008.69,1210.66 1009.82,1211.79 1010.95,1212.92 1012.08,1214.05 1013.21,1215.18 1014.34,1216.3 1015.47,1217.43 1016.59,1218.56 \n",
       "  1017.72,1219.69 1018.85,1220.82 1019.98,1221.95 1021.11,1223.08 1022.24,1224.2 1023.37,1225.33 1024.49,1226.46 1025.62,1227.59 1026.75,1228.72 1027.88,1229.85 \n",
       "  1029.01,1230.98 1030.14,1232.11 1031.27,1233.23 1032.39,1234.36 1033.52,1235.49 1034.65,1236.62 1035.78,1237.75 1036.91,1238.88 1038.04,1240.01 1039.17,1241.13 \n",
       "  1040.29,1242.26 1041.42,1243.39 1042.55,1244.52 1043.68,1245.65 1044.81,1246.78 1045.94,1247.91 1047.07,1249.03 1048.19,1250.16 1049.32,1251.29 1050.45,1252.42 \n",
       "  1051.58,1253.55 1052.71,1254.68 1053.84,1255.81 1054.97,1256.93 1056.09,1258.06 1057.22,1259.19 1058.35,1260.32 1059.48,1261.45 1060.61,1262.58 1061.74,1263.71 \n",
       "  1062.87,1264.83 1063.99,1265.96 1065.12,1267.09 1066.25,1268.22 1067.38,1269.35 1068.51,1270.48 1069.64,1271.61 1070.77,1272.73 1071.89,1273.86 1073.02,1274.99 \n",
       "  1074.15,1276.12 1075.28,1277.25 1076.41,1278.38 1077.54,1279.51 1078.67,1280.63 1079.79,1281.76 1080.92,1282.89 1082.05,1284.02 1083.18,1285.15 1084.31,1286.28 \n",
       "  1085.44,1287.41 1086.57,1288.53 1087.7,1289.66 1088.82,1290.79 1089.95,1291.92 1091.08,1293.05 1092.21,1294.18 1093.34,1295.31 1094.47,1296.43 1095.6,1297.56 \n",
       "  1096.72,1298.69 1097.85,1299.82 1098.98,1300.95 1100.11,1302.08 1101.24,1303.21 1102.37,1304.33 1103.5,1305.46 1104.62,1306.59 1105.75,1307.72 1106.88,1308.85 \n",
       "  1108.01,1309.98 1109.14,1311.11 1110.27,1312.23 1111.4,1313.36 1112.52,1314.49 1113.65,1315.62 1114.78,1316.75 1115.91,1317.88 1117.04,1319.01 1118.17,1320.13 \n",
       "  1119.3,1321.26 1120.42,1322.39 1121.55,1323.52 1122.68,1324.65 1123.81,1325.78 1124.94,1326.91 1126.07,1328.03 1127.2,1329.16 1128.32,1330.29 1129.45,1331.42 \n",
       "  1130.58,1332.55 1131.71,1333.68 1132.84,1334.81 1133.97,1335.93 1135.1,1337.06 1136.22,1338.19 1137.35,1339.32 1138.48,1340.45 1139.61,1341.58 1140.74,1342.71 \n",
       "  1141.87,1343.83 1143,1344.96 1144.12,1346.09 1145.25,1347.22 1146.38,1348.35 1147.51,1349.48 1148.64,1350.61 1149.77,1351.74 1150.9,1352.86 1152.02,1353.99 \n",
       "  1153.15,1355.12 1154.28,1356.25 1155.41,1357.38 1156.54,1358.51 1157.67,1359.64 1158.8,1360.76 1159.92,1361.89 1161.05,1363.02 1162.18,1364.15 1163.31,1365.28 \n",
       "  1164.44,1366.41 1165.57,1367.54 1166.7,1368.66 1167.82,1369.79 1168.95,1370.92 1170.08,1372.05 1171.21,1373.18 1172.34,1374.31 1173.47,1375.44 1174.6,1376.56 \n",
       "  1175.72,1377.69 1176.85,1378.82 1177.98,1379.95 1179.11,1381.08 1180.24,1382.21 1181.37,1383.34 1182.5,1384.46 1183.62,1385.59 1184.75,1386.72 1185.88,1387.85 \n",
       "  1187.01,1388.98 1188.14,1390.11 1189.27,1391.24 1190.4,1392.36 1191.52,1393.49 1192.65,1394.62 1193.78,1395.75 1194.91,1396.88 1196.04,1398.01 1197.17,1399.14 \n",
       "  1198.3,1400.26 1199.43,1401.39 1200.55,1402.52 1201.68,1403.65 1202.81,1404.78 1203.94,1405.91 1205.07,1407.04 1206.2,1408.16 1207.33,1409.29 1208.45,1410.42 \n",
       "  1209.58,1411.55 1210.71,1412.68 1211.84,1413.81 1212.97,1414.94 1214.1,1416.06 1215.23,1417.19 1216.35,1418.32 1217.48,1419.45 1218.61,1420.58 1219.74,1421.71 \n",
       "  1220.87,1422.84 1222,1423.96 1223.13,1425.09 1224.25,1426.22 1225.38,1427.35 1226.51,1428.48 1227.64,1429.61 1228.77,1430.74 1229.9,1431.86 1231.03,1432.99 \n",
       "  1232.15,1434.12 1233.28,1435.25 1234.41,1436.38 1235.54,1437.51 1236.67,1438.64 1237.8,1439.76 1238.93,1440.89 1240.05,1442.02 1241.18,1443.15 1242.31,1444.28 \n",
       "  1243.44,1445.41 1244.57,1446.54 1245.7,1447.66 1246.83,1448.79 1247.95,1449.92 1249.08,1451.05 1250.21,1452.18 1251.34,1453.31 1252.47,1454.44 1253.6,1455.56 \n",
       "  1254.73,1456.69 1255.85,1457.82 1256.98,1458.95 1258.11,1460.08 1259.24,1461.21 1260.37,1462.34 1261.5,1463.47 1262.63,1464.59 1263.75,1465.72 1264.88,1466.85 \n",
       "  1266.01,1467.98 1267.14,1469.11 1268.27,1470.24 1269.4,1471.37 1270.53,1472.49 1271.65,1473.62 1272.78,1474.75 1273.91,1475.88 1275.04,1477.01 1276.17,1478.14 \n",
       "  1277.3,1479.27 1278.43,1480.39 1279.55,1481.52 1280.68,1482.65 1281.81,1483.78 1282.94,1484.91 1284.07,1486.04 1285.2,1487.17 1286.33,1488.29 1287.45,1489.42 \n",
       "  1288.58,1490.55 1289.71,1491.68 1290.84,1492.81 1291.97,1493.94 1293.1,1495.07 1294.23,1496.19 1295.35,1497.32 1296.48,1498.45 1297.61,1499.58 1298.74,1500.71 \n",
       "  1299.87,1501.84 1301,1502.97 1302.13,1504.09 1303.25,1505.22 1304.38,1506.35 1305.51,1507.48 1306.64,1508.61 1307.77,1509.74 1308.9,1510.87 1310.03,1511.99 \n",
       "  1311.16,1513.12 1312.28,1514.25 1313.41,1515.38 1314.54,1516.51 1315.67,1517.64 1316.8,1518.77 1317.93,1519.89 1319.06,1521.02 1320.18,1522.15 1321.31,1523.28 \n",
       "  1322.44,1524.41 1323.57,1525.54 1324.7,1526.67 1325.83,1527.79 1326.96,1528.92 1328.08,1530.05 1329.21,1531.18 1330.34,1532.31 1331.47,1533.44 1332.6,1534.57 \n",
       "  1333.73,1535.69 1334.86,1536.82 1335.98,1537.95 1337.11,1539.08 1338.24,1540.21 1339.37,1541.34 1340.5,1542.47 1341.63,1543.59 1342.76,1544.72 1343.88,1545.85 \n",
       "  1345.01,1546.98 1346.14,1548.11 1347.27,1549.24 1348.4,1550.37 1349.53,1551.49 1350.66,1552.62 1351.78,1553.75 1352.91,1554.88 1354.04,1556.01 1355.17,1557.14 \n",
       "  1356.3,1558.27 1357.43,1559.39 1358.56,1560.52 1359.68,1561.65 1360.81,1562.78 1361.94,1563.91 1363.07,1565.04 1364.2,1566.17 1365.33,1567.29 1366.46,1568.42 \n",
       "  1367.58,1569.55 1368.71,1570.68 1369.84,1571.81 1370.97,1572.94 1372.1,1574.07 1373.23,1575.2 1374.36,1576.32 1375.48,1577.45 1376.61,1578.58 1377.74,1579.71 \n",
       "  1378.87,1580.84 1380,1581.97 1381.13,1583.1 1382.26,1584.22 1383.38,1585.35 1384.51,1586.48 1385.64,1587.61 1386.77,1588.74 1387.9,1589.87 1389.03,1591 \n",
       "  \n",
       "  \"/>\n",
       "<polyline clip-path=\"url(#clip2702)\" style=\"stroke:#ac8d18; stroke-width:8; stroke-opacity:1; fill:none\" points=\"\n",
       "  261.57,463.538 262.699,463.539 263.828,463.541 264.956,463.543 266.085,463.547 267.213,463.552 268.342,463.559 269.471,463.566 270.599,463.574 271.728,463.584 \n",
       "  272.856,463.595 273.985,463.607 275.113,463.62 276.242,463.634 277.371,463.649 278.499,463.665 279.628,463.683 280.756,463.702 281.885,463.721 283.014,463.742 \n",
       "  284.142,463.764 285.271,463.787 286.399,463.812 287.528,463.837 288.657,463.864 289.785,463.891 290.914,463.92 292.042,463.95 293.171,463.981 294.299,464.013 \n",
       "  295.428,464.047 296.557,464.081 297.685,464.117 298.814,464.154 299.942,464.191 301.071,464.23 302.2,464.271 303.328,464.312 304.457,464.354 305.585,464.398 \n",
       "  306.714,464.442 307.842,464.488 308.971,464.535 310.1,464.583 311.228,464.632 312.357,464.683 313.485,464.734 314.614,464.787 315.743,464.84 316.871,464.895 \n",
       "  318,464.951 319.128,465.008 320.257,465.067 321.385,465.126 322.514,465.187 323.643,465.248 324.771,465.311 325.9,465.375 327.028,465.44 328.157,465.506 \n",
       "  329.286,465.574 330.414,465.642 331.543,465.712 332.671,465.782 333.8,465.854 334.929,465.927 336.057,466.001 337.186,466.077 338.314,466.153 339.443,466.231 \n",
       "  340.571,466.309 341.7,466.389 342.829,466.47 343.957,466.552 345.086,466.636 346.214,466.72 347.343,466.806 348.472,466.892 349.6,466.98 350.729,467.069 \n",
       "  351.857,467.159 352.986,467.25 354.114,467.343 355.243,467.436 356.372,467.531 357.5,467.627 358.629,467.724 359.757,467.822 360.886,467.921 362.015,468.021 \n",
       "  363.143,468.123 364.272,468.226 365.4,468.329 366.529,468.434 367.658,468.54 368.786,468.648 369.915,468.756 371.043,468.866 372.172,468.976 373.3,469.088 \n",
       "  374.429,469.201 375.558,469.315 376.686,469.43 377.815,469.547 378.943,469.664 380.072,469.783 381.201,469.903 382.329,470.024 383.458,470.146 384.586,470.269 \n",
       "  385.715,470.394 386.843,470.519 387.972,470.646 389.101,470.774 390.229,470.903 391.358,471.033 392.486,471.165 393.615,471.297 394.744,471.431 395.872,471.566 \n",
       "  397.001,471.702 398.129,471.839 399.258,471.977 400.386,472.117 401.515,472.257 402.644,472.399 403.772,472.542 404.901,472.686 406.029,472.831 407.158,472.978 \n",
       "  408.287,473.125 409.415,473.274 410.544,473.424 411.672,473.575 412.801,473.727 413.93,473.88 415.058,474.035 416.187,474.19 417.315,474.347 418.444,474.505 \n",
       "  419.572,474.664 420.701,474.825 421.83,474.986 422.958,475.149 424.087,475.313 425.215,475.478 426.344,475.644 427.473,475.811 428.601,475.98 429.73,476.149 \n",
       "  430.858,476.32 431.987,476.492 433.115,476.665 434.244,476.839 435.373,477.015 436.501,477.192 437.63,477.369 438.758,477.548 439.887,477.729 441.016,477.91 \n",
       "  442.144,478.093 443.273,478.276 444.401,478.461 445.53,478.647 446.658,478.834 447.787,479.023 448.916,479.212 450.044,479.403 451.173,479.595 452.301,479.788 \n",
       "  453.43,479.983 454.559,480.178 455.687,480.375 456.816,480.573 457.944,480.772 459.073,480.972 460.202,481.173 461.33,481.376 462.459,481.58 463.587,481.785 \n",
       "  464.716,481.991 465.844,482.198 466.973,482.406 468.102,482.616 469.23,482.827 470.359,483.039 471.487,483.252 472.616,483.467 473.745,483.683 474.873,483.899 \n",
       "  476.002,484.117 477.13,484.337 478.259,484.557 479.387,484.779 480.516,485.002 481.645,485.226 482.773,485.451 483.902,485.677 485.03,485.905 486.159,486.134 \n",
       "  487.288,486.364 488.416,486.595 489.545,486.827 490.673,487.061 491.802,487.296 492.931,487.532 494.059,487.769 495.188,488.007 496.316,488.247 497.445,488.488 \n",
       "  498.573,488.73 499.702,488.973 500.831,489.218 501.959,489.463 503.088,489.71 504.216,489.958 505.345,490.208 506.474,490.458 507.602,490.71 508.731,490.963 \n",
       "  509.859,491.217 510.988,491.473 512.116,491.729 513.245,491.987 514.374,492.246 515.502,492.506 516.631,492.768 517.759,493.031 518.888,493.294 520.017,493.56 \n",
       "  521.145,493.826 522.274,494.094 523.402,494.363 524.531,494.633 525.659,494.904 526.788,495.176 527.917,495.45 529.045,495.725 530.174,496.001 531.302,496.279 \n",
       "  532.431,496.558 533.56,496.838 534.688,497.119 535.817,497.401 536.945,497.685 538.074,497.97 539.203,498.256 540.331,498.543 541.46,498.832 542.588,499.122 \n",
       "  543.717,499.413 544.845,499.705 545.974,499.999 547.103,500.293 548.231,500.589 549.36,500.887 550.488,501.185 551.617,501.485 552.746,501.786 553.874,502.089 \n",
       "  555.003,502.392 556.131,502.697 557.26,503.003 558.388,503.31 559.517,503.619 560.646,503.929 561.774,504.24 562.903,504.552 564.031,504.866 565.16,505.181 \n",
       "  566.289,505.497 567.417,505.815 568.546,506.133 569.674,506.453 570.803,506.775 571.931,507.097 573.06,507.421 574.189,507.746 575.317,508.072 576.446,508.4 \n",
       "  577.574,508.729 578.703,509.059 579.832,509.39 580.96,509.723 582.089,510.057 583.217,510.392 584.346,510.729 585.475,511.067 586.603,511.406 587.732,511.746 \n",
       "  588.86,512.088 589.989,512.431 591.117,512.775 592.246,513.121 593.375,513.468 594.503,513.816 595.632,514.166 596.76,514.516 597.889,514.868 599.018,515.222 \n",
       "  600.146,515.576 601.275,515.932 602.403,516.29 603.532,516.648 604.66,517.008 605.789,517.369 606.918,517.732 608.046,518.096 609.175,518.461 610.303,518.827 \n",
       "  611.432,519.195 612.561,519.564 613.689,519.934 614.818,520.306 615.946,520.679 617.075,521.053 618.203,521.429 619.332,521.806 620.461,522.184 621.589,522.564 \n",
       "  622.718,522.945 623.846,523.327 624.975,523.711 626.104,524.096 627.232,524.482 628.361,524.869 629.489,525.258 630.618,525.649 631.747,526.04 632.875,526.433 \n",
       "  634.004,526.828 635.132,527.223 636.261,527.62 637.389,528.019 638.518,528.418 639.647,528.819 640.775,529.222 641.904,529.625 643.032,530.031 644.161,530.437 \n",
       "  645.29,530.845 646.418,531.254 647.547,531.665 648.675,532.076 649.804,532.49 650.932,532.904 652.061,533.32 653.19,533.738 654.318,534.156 655.447,534.576 \n",
       "  656.575,534.998 657.704,535.421 658.833,535.845 659.961,536.271 661.09,536.698 662.218,537.126 663.347,537.556 664.476,537.987 665.604,538.419 666.733,538.853 \n",
       "  667.861,539.289 668.99,539.725 670.118,540.163 671.247,540.603 672.376,541.044 673.504,541.486 674.633,541.93 675.761,542.375 676.89,542.821 678.019,543.269 \n",
       "  679.147,543.718 680.276,544.169 681.404,544.621 682.533,545.075 683.661,545.53 684.79,545.986 685.919,546.444 687.047,546.903 688.176,547.364 689.304,547.826 \n",
       "  690.433,548.289 691.562,548.754 692.69,549.22 693.819,549.688 694.947,550.157 696.076,550.628 697.204,551.1 698.333,551.573 699.462,552.048 700.59,552.525 \n",
       "  701.719,553.003 702.847,553.482 703.976,553.963 705.105,554.445 706.233,554.928 707.362,555.414 708.49,555.9 709.619,556.388 710.748,556.878 711.876,557.369 \n",
       "  713.005,557.861 714.133,558.355 715.262,558.85 716.39,559.347 717.519,559.845 718.648,560.345 719.776,560.846 720.905,561.349 722.033,561.853 723.162,562.359 \n",
       "  724.291,562.866 725.419,563.375 726.548,563.885 727.676,564.397 728.805,564.91 729.933,565.425 731.062,565.941 732.191,566.458 733.319,566.977 734.448,567.498 \n",
       "  735.576,568.02 736.705,568.544 737.834,569.069 738.962,569.596 740.091,570.124 741.219,570.654 742.348,571.185 743.476,571.718 744.605,572.252 745.734,572.788 \n",
       "  746.862,573.326 747.991,573.865 749.119,574.405 750.248,574.947 751.377,575.491 752.505,576.036 753.634,576.583 754.762,577.131 755.891,577.681 757.02,578.232 \n",
       "  758.148,578.785 759.277,579.339 760.405,579.895 761.534,580.453 762.662,581.012 763.791,581.573 764.92,582.135 766.048,582.699 767.177,583.264 768.305,583.831 \n",
       "  769.434,584.4 770.563,584.97 771.691,585.542 772.82,586.115 773.948,586.69 775.077,587.267 776.205,587.845 777.334,588.425 778.463,589.006 779.591,589.589 \n",
       "  780.72,590.174 781.848,590.76 782.977,591.348 784.106,591.938 785.234,592.529 786.363,593.121 787.491,593.716 788.62,594.312 789.748,594.909 790.877,595.509 \n",
       "  792.006,596.109 793.134,596.712 794.263,597.316 795.391,597.922 796.52,598.53 797.649,599.139 798.777,599.749 799.906,600.362 801.034,600.976 802.163,601.592 \n",
       "  803.292,602.209 804.42,602.829 805.549,603.449 806.677,604.072 807.806,604.696 808.934,605.322 810.063,605.949 811.192,606.579 812.32,607.21 813.449,607.842 \n",
       "  814.577,608.477 815.706,609.113 816.835,609.751 817.963,610.39 819.092,611.031 820.22,611.674 821.349,612.319 822.477,612.965 823.606,613.613 824.735,614.263 \n",
       "  825.863,614.915 826.992,615.568 828.12,616.223 829.249,616.88 830.378,617.539 831.506,618.199 832.635,618.861 833.763,619.525 834.892,620.191 836.021,620.858 \n",
       "  837.149,621.527 838.278,622.198 839.406,622.871 840.535,623.545 841.663,624.222 842.792,624.9 843.921,625.58 845.049,626.261 846.178,626.945 847.306,627.63 \n",
       "  848.435,628.317 849.564,629.006 850.692,629.697 851.821,630.389 852.949,631.084 854.078,631.78 855.206,632.478 856.335,633.178 857.464,633.879 858.592,634.583 \n",
       "  859.721,635.288 860.849,635.996 861.978,636.705 863.107,637.416 864.235,638.129 865.364,638.844 866.492,639.56 867.621,640.279 868.749,640.999 869.878,641.721 \n",
       "  871.007,642.445 872.135,643.171 873.264,643.899 874.392,644.629 875.521,645.361 876.65,646.095 877.778,646.83 878.907,647.568 880.035,648.307 881.164,649.049 \n",
       "  882.293,649.792 883.421,650.537 884.55,651.285 885.678,652.034 886.807,652.785 887.935,653.538 889.064,654.293 890.193,655.05 891.321,655.809 892.45,656.57 \n",
       "  893.578,657.333 894.707,658.098 895.836,658.865 896.964,659.634 898.093,660.405 899.221,661.178 900.35,661.953 901.478,662.73 902.607,663.509 903.736,664.29 \n",
       "  904.864,665.073 905.993,665.858 907.121,666.645 908.25,667.434 909.379,668.226 910.507,669.019 911.636,669.814 912.764,670.612 913.893,671.411 915.021,672.213 \n",
       "  916.15,673.017 917.279,673.822 918.407,674.63 919.536,675.44 920.664,676.252 921.793,677.067 922.922,677.883 924.05,678.702 925.179,679.522 926.307,680.345 \n",
       "  927.436,681.17 928.565,681.997 929.693,682.826 930.822,683.657 931.95,684.491 933.079,685.327 934.207,686.164 935.336,687.005 936.465,687.847 937.593,688.691 \n",
       "  938.722,689.538 939.85,690.387 940.979,691.238 942.108,692.091 943.236,692.947 944.365,693.804 945.493,694.665 946.622,695.527 947.75,696.391 948.879,697.258 \n",
       "  950.008,698.127 951.136,698.998 952.265,699.872 953.393,700.748 954.522,701.626 955.651,702.507 956.779,703.389 957.908,704.275 959.036,705.162 960.165,706.052 \n",
       "  961.294,706.944 962.422,707.838 963.551,708.735 964.679,709.634 965.808,710.536 966.936,711.44 968.065,712.346 969.194,713.255 970.322,714.166 971.451,715.079 \n",
       "  972.579,715.995 973.708,716.913 974.837,717.834 975.965,718.757 977.094,719.683 978.222,720.611 979.351,721.541 980.479,722.474 981.608,723.409 982.737,724.347 \n",
       "  983.865,725.288 984.994,726.231 986.122,727.176 987.251,728.124 988.38,729.074 989.508,730.027 990.637,730.983 991.765,731.941 992.894,732.901 994.022,733.864 \n",
       "  995.151,734.83 996.28,735.798 997.408,736.769 998.537,737.743 999.665,738.719 1000.79,739.698 1001.92,740.679 1003.05,741.663 1004.18,742.649 1005.31,743.639 \n",
       "  1006.44,744.631 1007.57,745.625 1008.69,746.622 1009.82,747.622 1010.95,748.625 1012.08,749.63 1013.21,750.638 1014.34,751.649 1015.47,752.663 1016.59,753.679 \n",
       "  1017.72,754.698 1018.85,755.72 1019.98,756.745 1021.11,757.772 1022.24,758.802 1023.37,759.835 1024.49,760.871 1025.62,761.91 1026.75,762.951 1027.88,763.995 \n",
       "  1029.01,765.043 1030.14,766.093 1031.27,767.146 1032.39,768.201 1033.52,769.26 1034.65,770.322 1035.78,771.386 1036.91,772.454 1038.04,773.524 1039.17,774.598 \n",
       "  1040.29,775.674 1041.42,776.754 1042.55,777.836 1043.68,778.922 1044.81,780.01 1045.94,781.102 1047.07,782.196 1048.19,783.294 1049.32,784.394 1050.45,785.498 \n",
       "  1051.58,786.605 1052.71,787.715 1053.84,788.828 1054.97,789.944 1056.09,791.064 1057.22,792.186 1058.35,793.312 1059.48,794.441 1060.61,795.573 1061.74,796.708 \n",
       "  1062.87,797.847 1063.99,798.989 1065.12,800.134 1066.25,801.282 1067.38,802.434 1068.51,803.589 1069.64,804.747 1070.77,805.908 1071.89,807.073 1073.02,808.242 \n",
       "  1074.15,809.413 1075.28,810.588 1076.41,811.767 1077.54,812.949 1078.67,814.134 1079.79,815.323 1080.92,816.515 1082.05,817.711 1083.18,818.91 1084.31,820.113 \n",
       "  1085.44,821.319 1086.57,822.529 1087.7,823.742 1088.82,824.959 1089.95,826.18 1091.08,827.404 1092.21,828.632 1093.34,829.863 1094.47,831.098 1095.6,832.337 \n",
       "  1096.72,833.58 1097.85,834.826 1098.98,836.076 1100.11,837.33 1101.24,838.587 1102.37,839.849 1103.5,841.114 1104.62,842.383 1105.75,843.656 1106.88,844.933 \n",
       "  1108.01,846.213 1109.14,847.498 1110.27,848.787 1111.4,850.079 1112.52,851.376 1113.65,852.676 1114.78,853.98 1115.91,855.289 1117.04,856.602 1118.17,857.918 \n",
       "  1119.3,859.239 1120.42,860.564 1121.55,861.893 1122.68,863.226 1123.81,864.564 1124.94,865.906 1126.07,867.252 1127.2,868.602 1128.32,869.956 1129.45,871.315 \n",
       "  1130.58,872.678 1131.71,874.046 1132.84,875.418 1133.97,876.794 1135.1,878.175 1136.22,879.56 1137.35,880.95 1138.48,882.344 1139.61,883.743 1140.74,885.146 \n",
       "  1141.87,886.554 1143,887.967 1144.12,889.384 1145.25,890.806 1146.38,892.233 1147.51,893.665 1148.64,895.101 1149.77,896.542 1150.9,897.988 1152.02,899.438 \n",
       "  1153.15,900.894 1154.28,902.355 1155.41,903.82 1156.54,905.291 1157.67,906.766 1158.8,908.247 1159.92,909.732 1161.05,911.223 1162.18,912.719 1163.31,914.22 \n",
       "  1164.44,915.727 1165.57,917.238 1166.7,918.755 1167.82,920.277 1168.95,921.805 1170.08,923.338 1171.21,924.876 1172.34,926.42 1173.47,927.97 1174.6,929.525 \n",
       "  1175.72,931.085 1176.85,932.652 1177.98,934.223 1179.11,935.801 1180.24,937.384 1181.37,938.974 1182.5,940.569 1183.62,942.169 1184.75,943.776 1185.88,945.389 \n",
       "  1187.01,947.008 1188.14,948.633 1189.27,950.264 1190.4,951.901 1191.52,953.544 1192.65,955.194 1193.78,956.85 1194.91,958.512 1196.04,960.181 1197.17,961.856 \n",
       "  1198.3,963.537 1199.43,965.225 1200.55,966.92 1201.68,968.621 1202.81,970.33 1203.94,972.045 1205.07,973.766 1206.2,975.495 1207.33,977.23 1208.45,978.973 \n",
       "  1209.58,980.723 1210.71,982.479 1211.84,984.243 1212.97,986.014 1214.1,987.793 1215.23,989.579 1216.35,991.372 1217.48,993.173 1218.61,994.981 1219.74,996.797 \n",
       "  1220.87,998.621 1222,1000.45 1223.13,1002.29 1224.25,1004.14 1225.38,1005.99 1226.51,1007.86 1227.64,1009.73 1228.77,1011.61 1229.9,1013.5 1231.03,1015.39 \n",
       "  1232.15,1017.3 1233.28,1019.21 1234.41,1021.14 1235.54,1023.07 1236.67,1025.01 1237.8,1026.96 1238.93,1028.91 1240.05,1030.88 1241.18,1032.86 1242.31,1034.84 \n",
       "  1243.44,1036.84 1244.57,1038.84 1245.7,1040.86 1246.83,1042.88 1247.95,1044.91 1249.08,1046.96 1250.21,1049.01 1251.34,1051.07 1252.47,1053.15 1253.6,1055.23 \n",
       "  1254.73,1057.33 1255.85,1059.43 1256.98,1061.55 1258.11,1063.68 1259.24,1065.81 1260.37,1067.96 1261.5,1070.13 1262.63,1072.3 1263.75,1074.48 1264.88,1076.68 \n",
       "  1266.01,1078.88 1267.14,1081.1 1268.27,1083.34 1269.4,1085.58 1270.53,1087.84 1271.65,1090.11 1272.78,1092.39 1273.91,1094.68 1275.04,1096.99 1276.17,1099.32 \n",
       "  1277.3,1101.65 1278.43,1104 1279.55,1106.36 1280.68,1108.74 1281.81,1111.13 1282.94,1113.54 1284.07,1115.96 1285.2,1118.4 1286.33,1120.85 1287.45,1123.32 \n",
       "  1288.58,1125.8 1289.71,1128.3 1290.84,1130.82 1291.97,1133.35 1293.1,1135.9 1294.23,1138.47 1295.35,1141.05 1296.48,1143.65 1297.61,1146.27 1298.74,1148.91 \n",
       "  1299.87,1151.57 1301,1154.25 1302.13,1156.94 1303.25,1159.66 1304.38,1162.39 1305.51,1165.15 1306.64,1167.93 1307.77,1170.72 1308.9,1173.55 1310.03,1176.39 \n",
       "  1311.16,1179.25 1312.28,1182.14 1313.41,1185.05 1314.54,1187.99 1315.67,1190.95 1316.8,1193.94 1317.93,1196.95 1319.06,1199.99 1320.18,1203.06 1321.31,1206.15 \n",
       "  1322.44,1209.27 1323.57,1212.42 1324.7,1215.6 1325.83,1218.82 1326.96,1222.06 1328.08,1225.33 1329.21,1228.64 1330.34,1231.98 1331.47,1235.36 1332.6,1238.78 \n",
       "  1333.73,1242.23 1334.86,1245.71 1335.98,1249.24 1337.11,1252.81 1338.24,1256.42 1339.37,1260.08 1340.5,1263.77 1341.63,1267.52 1342.76,1271.31 1343.88,1275.15 \n",
       "  1345.01,1279.05 1346.14,1282.99 1347.27,1286.99 1348.4,1291.05 1349.53,1295.17 1350.66,1299.36 1351.78,1303.6 1352.91,1307.92 1354.04,1312.31 1355.17,1316.77 \n",
       "  1356.3,1321.31 1357.43,1325.93 1358.56,1330.64 1359.68,1335.45 1360.81,1340.35 1361.94,1345.35 1363.07,1350.46 1364.2,1355.69 1365.33,1361.04 1366.46,1366.52 \n",
       "  1367.58,1372.15 1368.71,1377.93 1369.84,1383.89 1370.97,1390.02 1372.1,1396.35 1373.23,1402.9 1374.36,1409.7 1375.48,1416.77 1376.61,1424.14 1377.74,1431.87 \n",
       "  1378.87,1440 1380,1448.6 1381.13,1457.76 1382.26,1467.61 1383.38,1478.33 1384.51,1490.2 1385.64,1503.68 1386.77,1519.69 1387.9,1540.56 1389.03,1591 \n",
       "  \n",
       "  \"/>\n",
       "<polyline clip-path=\"url(#clip2702)\" style=\"stroke:#00a9ad; stroke-width:8; stroke-opacity:1; fill:none\" points=\"\n",
       "  261.57,463.538 262.699,463.538 263.828,463.538 264.956,463.538 266.085,463.538 267.213,463.538 268.342,463.538 269.471,463.538 270.599,463.538 271.728,463.539 \n",
       "  272.856,463.539 273.985,463.539 275.113,463.539 276.242,463.539 277.371,463.539 278.499,463.54 279.628,463.54 280.756,463.54 281.885,463.54 283.014,463.541 \n",
       "  284.142,463.541 285.271,463.542 286.399,463.542 287.528,463.543 288.657,463.543 289.785,463.544 290.914,463.545 292.042,463.546 293.171,463.547 294.299,463.547 \n",
       "  295.428,463.548 296.557,463.549 297.685,463.551 298.814,463.552 299.942,463.553 301.071,463.554 302.2,463.556 303.328,463.557 304.457,463.559 305.585,463.561 \n",
       "  306.714,463.562 307.842,463.564 308.971,463.566 310.1,463.568 311.228,463.57 312.357,463.573 313.485,463.575 314.614,463.577 315.743,463.58 316.871,463.583 \n",
       "  318,463.585 319.128,463.588 320.257,463.591 321.385,463.594 322.514,463.598 323.643,463.601 324.771,463.604 325.9,463.608 327.028,463.612 328.157,463.616 \n",
       "  329.286,463.62 330.414,463.624 331.543,463.628 332.671,463.633 333.8,463.637 334.929,463.642 336.057,463.647 337.186,463.652 338.314,463.657 339.443,463.662 \n",
       "  340.571,463.668 341.7,463.673 342.829,463.679 343.957,463.685 345.086,463.691 346.214,463.697 347.343,463.704 348.472,463.71 349.6,463.717 350.729,463.724 \n",
       "  351.857,463.731 352.986,463.739 354.114,463.746 355.243,463.754 356.372,463.762 357.5,463.77 358.629,463.778 359.757,463.787 360.886,463.795 362.015,463.804 \n",
       "  363.143,463.813 364.272,463.822 365.4,463.832 366.529,463.842 367.658,463.851 368.786,463.862 369.915,463.872 371.043,463.882 372.172,463.893 373.3,463.904 \n",
       "  374.429,463.915 375.558,463.927 376.686,463.938 377.815,463.95 378.943,463.962 380.072,463.975 381.201,463.987 382.329,464 383.458,464.013 384.586,464.027 \n",
       "  385.715,464.04 386.843,464.054 387.972,464.068 389.101,464.082 390.229,464.097 391.358,464.112 392.486,464.127 393.615,464.142 394.744,464.158 395.872,464.174 \n",
       "  397.001,464.19 398.129,464.206 399.258,464.223 400.386,464.24 401.515,464.257 402.644,464.275 403.772,464.293 404.901,464.311 406.029,464.329 407.158,464.348 \n",
       "  408.287,464.367 409.415,464.386 410.544,464.406 411.672,464.426 412.801,464.446 413.93,464.466 415.058,464.487 416.187,464.508 417.315,464.53 418.444,464.552 \n",
       "  419.572,464.574 420.701,464.596 421.83,464.619 422.958,464.642 424.087,464.665 425.215,464.689 426.344,464.713 427.473,464.737 428.601,464.762 429.73,464.787 \n",
       "  430.858,464.812 431.987,464.838 433.115,464.864 434.244,464.89 435.373,464.917 436.501,464.944 437.63,464.971 438.758,464.999 439.887,465.027 441.016,465.056 \n",
       "  442.144,465.084 443.273,465.114 444.401,465.143 445.53,465.173 446.658,465.203 447.787,465.234 448.916,465.265 450.044,465.297 451.173,465.328 452.301,465.361 \n",
       "  453.43,465.393 454.559,465.426 455.687,465.46 456.816,465.493 457.944,465.528 459.073,465.562 460.202,465.597 461.33,465.632 462.459,465.668 463.587,465.704 \n",
       "  464.716,465.741 465.844,465.778 466.973,465.815 468.102,465.853 469.23,465.891 470.359,465.93 471.487,465.969 472.616,466.009 473.745,466.049 474.873,466.089 \n",
       "  476.002,466.13 477.13,466.171 478.259,466.213 479.387,466.255 480.516,466.297 481.645,466.34 482.773,466.384 483.902,466.428 485.03,466.472 486.159,466.517 \n",
       "  487.288,466.562 488.416,466.608 489.545,466.654 490.673,466.7 491.802,466.748 492.931,466.795 494.059,466.843 495.188,466.892 496.316,466.941 497.445,466.99 \n",
       "  498.573,467.04 499.702,467.09 500.831,467.141 501.959,467.193 503.088,467.245 504.216,467.297 505.345,467.35 506.474,467.403 507.602,467.457 508.731,467.512 \n",
       "  509.859,467.566 510.988,467.622 512.116,467.678 513.245,467.734 514.374,467.791 515.502,467.848 516.631,467.906 517.759,467.965 518.888,468.024 520.017,468.083 \n",
       "  521.145,468.143 522.274,468.204 523.402,468.265 524.531,468.327 525.659,468.389 526.788,468.452 527.917,468.515 529.045,468.579 530.174,468.643 531.302,468.708 \n",
       "  532.431,468.773 533.56,468.839 534.688,468.906 535.817,468.973 536.945,469.041 538.074,469.109 539.203,469.178 540.331,469.247 541.46,469.317 542.588,469.388 \n",
       "  543.717,469.459 544.845,469.531 545.974,469.603 547.103,469.676 548.231,469.75 549.36,469.824 550.488,469.898 551.617,469.973 552.746,470.049 553.874,470.126 \n",
       "  555.003,470.203 556.131,470.28 557.26,470.359 558.388,470.438 559.517,470.517 560.646,470.597 561.774,470.678 562.903,470.759 564.031,470.841 565.16,470.924 \n",
       "  566.289,471.007 567.417,471.091 568.546,471.175 569.674,471.261 570.803,471.346 571.931,471.433 573.06,471.52 574.189,471.608 575.317,471.696 576.446,471.785 \n",
       "  577.574,471.875 578.703,471.965 579.832,472.056 580.96,472.147 582.089,472.24 583.217,472.333 584.346,472.426 585.475,472.521 586.603,472.616 587.732,472.711 \n",
       "  588.86,472.808 589.989,472.905 591.117,473.002 592.246,473.101 593.375,473.2 594.503,473.3 595.632,473.4 596.76,473.501 597.889,473.603 599.018,473.706 \n",
       "  600.146,473.809 601.275,473.913 602.403,474.018 603.532,474.123 604.66,474.229 605.789,474.336 606.918,474.444 608.046,474.552 609.175,474.661 610.303,474.771 \n",
       "  611.432,474.882 612.561,474.993 613.689,475.105 614.818,475.218 615.946,475.331 617.075,475.445 618.203,475.56 619.332,475.676 620.461,475.793 621.589,475.91 \n",
       "  622.718,476.028 623.846,476.147 624.975,476.266 626.104,476.387 627.232,476.508 628.361,476.63 629.489,476.752 630.618,476.876 631.747,477 632.875,477.125 \n",
       "  634.004,477.251 635.132,477.377 636.261,477.505 637.389,477.633 638.518,477.762 639.647,477.892 640.775,478.022 641.904,478.154 643.032,478.286 644.161,478.419 \n",
       "  645.29,478.553 646.418,478.688 647.547,478.823 648.675,478.959 649.804,479.097 650.932,479.235 652.061,479.374 653.19,479.513 654.318,479.654 655.447,479.795 \n",
       "  656.575,479.937 657.704,480.08 658.833,480.224 659.961,480.369 661.09,480.515 662.218,480.661 663.347,480.809 664.476,480.957 665.604,481.106 666.733,481.256 \n",
       "  667.861,481.407 668.99,481.559 670.118,481.711 671.247,481.865 672.376,482.019 673.504,482.175 674.633,482.331 675.761,482.488 676.89,482.646 678.019,482.805 \n",
       "  679.147,482.965 680.276,483.125 681.404,483.287 682.533,483.45 683.661,483.613 684.79,483.778 685.919,483.943 687.047,484.109 688.176,484.276 689.304,484.445 \n",
       "  690.433,484.614 691.562,484.784 692.69,484.955 693.819,485.127 694.947,485.3 696.076,485.473 697.204,485.648 698.333,485.824 699.462,486.001 700.59,486.179 \n",
       "  701.719,486.357 702.847,486.537 703.976,486.718 705.105,486.899 706.233,487.082 707.362,487.265 708.49,487.45 709.619,487.636 710.748,487.822 711.876,488.01 \n",
       "  713.005,488.198 714.133,488.388 715.262,488.579 716.39,488.77 717.519,488.963 718.648,489.157 719.776,489.351 720.905,489.547 722.033,489.744 723.162,489.942 \n",
       "  724.291,490.141 725.419,490.341 726.548,490.542 727.676,490.744 728.805,490.947 729.933,491.151 731.062,491.356 732.191,491.562 733.319,491.77 734.448,491.978 \n",
       "  735.576,492.187 736.705,492.398 737.834,492.61 738.962,492.822 740.091,493.036 741.219,493.251 742.348,493.467 743.476,493.684 744.605,493.902 745.734,494.122 \n",
       "  746.862,494.342 747.991,494.564 749.119,494.787 750.248,495.01 751.377,495.235 752.505,495.461 753.634,495.689 754.762,495.917 755.891,496.146 757.02,496.377 \n",
       "  758.148,496.609 759.277,496.842 760.405,497.076 761.534,497.311 762.662,497.548 763.791,497.785 764.92,498.024 766.048,498.264 767.177,498.505 768.305,498.747 \n",
       "  769.434,498.991 770.563,499.236 771.691,499.481 772.82,499.729 773.948,499.977 775.077,500.226 776.205,500.477 777.334,500.729 778.463,500.982 779.591,501.237 \n",
       "  780.72,501.492 781.848,501.749 782.977,502.007 784.106,502.267 785.234,502.527 786.363,502.789 787.491,503.052 788.62,503.316 789.748,503.582 790.877,503.849 \n",
       "  792.006,504.117 793.134,504.387 794.263,504.657 795.391,504.929 796.52,505.203 797.649,505.477 798.777,505.753 799.906,506.03 801.034,506.309 802.163,506.589 \n",
       "  803.292,506.87 804.42,507.152 805.549,507.436 806.677,507.721 807.806,508.008 808.934,508.295 810.063,508.584 811.192,508.875 812.32,509.167 813.449,509.46 \n",
       "  814.577,509.754 815.706,510.05 816.835,510.348 817.963,510.646 819.092,510.946 820.22,511.248 821.349,511.551 822.477,511.855 823.606,512.16 824.735,512.467 \n",
       "  825.863,512.776 826.992,513.086 828.12,513.397 829.249,513.71 830.378,514.024 831.506,514.339 832.635,514.656 833.763,514.975 834.892,515.294 836.021,515.616 \n",
       "  837.149,515.939 838.278,516.263 839.406,516.588 840.535,516.916 841.663,517.244 842.792,517.574 843.921,517.906 845.049,518.239 846.178,518.574 847.306,518.91 \n",
       "  848.435,519.248 849.564,519.587 850.692,519.927 851.821,520.27 852.949,520.613 854.078,520.959 855.206,521.305 856.335,521.654 857.464,522.004 858.592,522.355 \n",
       "  859.721,522.708 860.849,523.063 861.978,523.419 863.107,523.777 864.235,524.136 865.364,524.497 866.492,524.86 867.621,525.224 868.749,525.589 869.878,525.957 \n",
       "  871.007,526.326 872.135,526.696 873.264,527.069 874.392,527.443 875.521,527.818 876.65,528.195 877.778,528.574 878.907,528.955 880.035,529.337 881.164,529.721 \n",
       "  882.293,530.106 883.421,530.493 884.55,530.882 885.678,531.273 886.807,531.665 887.935,532.059 889.064,532.455 890.193,532.852 891.321,533.251 892.45,533.652 \n",
       "  893.578,534.055 894.707,534.459 895.836,534.866 896.964,535.274 898.093,535.683 899.221,536.095 900.35,536.508 901.478,536.923 902.607,537.34 903.736,537.758 \n",
       "  904.864,538.179 905.993,538.601 907.121,539.025 908.25,539.451 909.379,539.879 910.507,540.309 911.636,540.74 912.764,541.173 913.893,541.608 915.021,542.045 \n",
       "  916.15,542.484 917.279,542.925 918.407,543.368 919.536,543.812 920.664,544.259 921.793,544.707 922.922,545.158 924.05,545.61 925.179,546.064 926.307,546.52 \n",
       "  927.436,546.978 928.565,547.439 929.693,547.901 930.822,548.365 931.95,548.831 933.079,549.299 934.207,549.769 935.336,550.241 936.465,550.715 937.593,551.191 \n",
       "  938.722,551.669 939.85,552.149 940.979,552.631 942.108,553.115 943.236,553.601 944.365,554.09 945.493,554.58 946.622,555.073 947.75,555.567 948.879,556.064 \n",
       "  950.008,556.563 951.136,557.064 952.265,557.567 953.393,558.072 954.522,558.579 955.651,559.089 956.779,559.6 957.908,560.114 959.036,560.63 960.165,561.148 \n",
       "  961.294,561.669 962.422,562.192 963.551,562.716 964.679,563.243 965.808,563.773 966.936,564.304 968.065,564.838 969.194,565.374 970.322,565.913 971.451,566.453 \n",
       "  972.579,566.996 973.708,567.542 974.837,568.089 975.965,568.639 977.094,569.191 978.222,569.746 979.351,570.303 980.479,570.862 981.608,571.424 982.737,571.988 \n",
       "  983.865,572.554 984.994,573.123 986.122,573.695 987.251,574.268 988.38,574.844 989.508,575.423 990.637,576.004 991.765,576.588 992.894,577.174 994.022,577.762 \n",
       "  995.151,578.353 996.28,578.947 997.408,579.543 998.537,580.141 999.665,580.742 1000.79,581.346 1001.92,581.952 1003.05,582.561 1004.18,583.173 1005.31,583.787 \n",
       "  1006.44,584.403 1007.57,585.023 1008.69,585.645 1009.82,586.269 1010.95,586.897 1012.08,587.527 1013.21,588.159 1014.34,588.795 1015.47,589.433 1016.59,590.073 \n",
       "  1017.72,590.717 1018.85,591.363 1019.98,592.012 1021.11,592.664 1022.24,593.319 1023.37,593.976 1024.49,594.637 1025.62,595.3 1026.75,595.966 1027.88,596.635 \n",
       "  1029.01,597.306 1030.14,597.981 1031.27,598.658 1032.39,599.339 1033.52,600.022 1034.65,600.709 1035.78,601.398 1036.91,602.09 1038.04,602.785 1039.17,603.484 \n",
       "  1040.29,604.185 1041.42,604.889 1042.55,605.597 1043.68,606.307 1044.81,607.021 1045.94,607.737 1047.07,608.457 1048.19,609.18 1049.32,609.906 1050.45,610.635 \n",
       "  1051.58,611.368 1052.71,612.103 1053.84,612.842 1054.97,613.584 1056.09,614.329 1057.22,615.078 1058.35,615.829 1059.48,616.585 1060.61,617.343 1061.74,618.105 \n",
       "  1062.87,618.87 1063.99,619.638 1065.12,620.41 1066.25,621.185 1067.38,621.964 1068.51,622.746 1069.64,623.532 1070.77,624.321 1071.89,625.114 1073.02,625.91 \n",
       "  1074.15,626.709 1075.28,627.512 1076.41,628.319 1077.54,629.13 1078.67,629.944 1079.79,630.761 1080.92,631.583 1082.05,632.408 1083.18,633.236 1084.31,634.069 \n",
       "  1085.44,634.905 1086.57,635.745 1087.7,636.588 1088.82,637.436 1089.95,638.287 1091.08,639.142 1092.21,640.001 1093.34,640.864 1094.47,641.731 1095.6,642.602 \n",
       "  1096.72,643.477 1097.85,644.356 1098.98,645.238 1100.11,646.125 1101.24,647.016 1102.37,647.911 1103.5,648.81 1104.62,649.713 1105.75,650.621 1106.88,651.532 \n",
       "  1108.01,652.448 1109.14,653.368 1110.27,654.293 1111.4,655.221 1112.52,656.154 1113.65,657.092 1114.78,658.033 1115.91,658.979 1117.04,659.93 1118.17,660.885 \n",
       "  1119.3,661.844 1120.42,662.808 1121.55,663.777 1122.68,664.75 1123.81,665.728 1124.94,666.71 1126.07,667.697 1127.2,668.689 1128.32,669.686 1129.45,670.687 \n",
       "  1130.58,671.693 1131.71,672.704 1132.84,673.72 1133.97,674.74 1135.1,675.766 1136.22,676.796 1137.35,677.832 1138.48,678.873 1139.61,679.918 1140.74,680.969 \n",
       "  1141.87,682.025 1143,683.086 1144.12,684.152 1145.25,685.224 1146.38,686.301 1147.51,687.383 1148.64,688.471 1149.77,689.564 1150.9,690.662 1152.02,691.766 \n",
       "  1153.15,692.875 1154.28,693.99 1155.41,695.111 1156.54,696.237 1157.67,697.369 1158.8,698.507 1159.92,699.65 1161.05,700.8 1162.18,701.955 1163.31,703.116 \n",
       "  1164.44,704.283 1165.57,705.456 1166.7,706.635 1167.82,707.821 1168.95,709.012 1170.08,710.21 1171.21,711.414 1172.34,712.624 1173.47,713.84 1174.6,715.063 \n",
       "  1175.72,716.293 1176.85,717.529 1177.98,718.771 1179.11,720.02 1180.24,721.276 1181.37,722.539 1182.5,723.808 1183.62,725.084 1184.75,726.368 1185.88,727.658 \n",
       "  1187.01,728.955 1188.14,730.259 1189.27,731.571 1190.4,732.889 1191.52,734.215 1192.65,735.548 1193.78,736.889 1194.91,738.237 1196.04,739.593 1197.17,740.956 \n",
       "  1198.3,742.328 1199.43,743.706 1200.55,745.093 1201.68,746.488 1202.81,747.89 1203.94,749.301 1205.07,750.72 1206.2,752.147 1207.33,753.582 1208.45,755.026 \n",
       "  1209.58,756.478 1210.71,757.939 1211.84,759.408 1212.97,760.886 1214.1,762.373 1215.23,763.869 1216.35,765.374 1217.48,766.887 1218.61,768.41 1219.74,769.943 \n",
       "  1220.87,771.485 1222,773.036 1223.13,774.596 1224.25,776.167 1225.38,777.747 1226.51,779.337 1227.64,780.937 1228.77,782.548 1229.9,784.168 1231.03,785.799 \n",
       "  1232.15,787.44 1233.28,789.092 1234.41,790.755 1235.54,792.428 1236.67,794.112 1237.8,795.808 1238.93,797.514 1240.05,799.232 1241.18,800.962 1242.31,802.703 \n",
       "  1243.44,804.455 1244.57,806.22 1245.7,807.997 1246.83,809.786 1247.95,811.587 1249.08,813.401 1250.21,815.228 1251.34,817.067 1252.47,818.919 1253.6,820.785 \n",
       "  1254.73,822.664 1255.85,824.556 1256.98,826.463 1258.11,828.383 1259.24,830.317 1260.37,832.266 1261.5,834.229 1262.63,836.206 1263.75,838.199 1264.88,840.207 \n",
       "  1266.01,842.23 1267.14,844.269 1268.27,846.323 1269.4,848.394 1270.53,850.481 1271.65,852.584 1272.78,854.705 1273.91,856.842 1275.04,858.997 1276.17,861.169 \n",
       "  1277.3,863.359 1278.43,865.567 1279.55,867.794 1280.68,870.04 1281.81,872.304 1282.94,874.588 1284.07,876.892 1285.2,879.216 1286.33,881.561 1287.45,883.926 \n",
       "  1288.58,886.312 1289.71,888.72 1290.84,891.15 1291.97,893.603 1293.1,896.078 1294.23,898.576 1295.35,901.099 1296.48,903.645 1297.61,906.216 1298.74,908.812 \n",
       "  1299.87,911.433 1301,914.081 1302.13,916.756 1303.25,919.457 1304.38,922.187 1305.51,924.945 1306.64,927.732 1307.77,930.549 1308.9,933.396 1310.03,936.275 \n",
       "  1311.16,939.185 1312.28,942.128 1313.41,945.104 1314.54,948.114 1315.67,951.16 1316.8,954.241 1317.93,957.359 1319.06,960.514 1320.18,963.709 1321.31,966.943 \n",
       "  1322.44,970.218 1323.57,973.536 1324.7,976.896 1325.83,980.301 1326.96,983.752 1328.08,987.249 1329.21,990.796 1330.34,994.392 1331.47,998.04 1332.6,1001.74 \n",
       "  1333.73,1005.5 1334.86,1009.31 1335.98,1013.18 1337.11,1017.12 1338.24,1021.11 1339.37,1025.17 1340.5,1029.3 1341.63,1033.5 1342.76,1037.78 1343.88,1042.12 \n",
       "  1345.01,1046.55 1346.14,1051.06 1347.27,1055.66 1348.4,1060.35 1349.53,1065.13 1350.66,1070.01 1351.78,1075 1352.91,1080.09 1354.04,1085.3 1355.17,1090.63 \n",
       "  1356.3,1096.08 1357.43,1101.67 1358.56,1107.41 1359.68,1113.29 1360.81,1119.34 1361.94,1125.56 1363.07,1131.96 1364.2,1138.56 1365.33,1145.37 1366.46,1152.41 \n",
       "  1367.58,1159.7 1368.71,1167.26 1369.84,1175.12 1370.97,1183.3 1372.1,1191.84 1373.23,1200.79 1374.36,1210.18 1375.48,1220.08 1376.61,1230.57 1377.74,1241.72 \n",
       "  1378.87,1253.66 1380,1266.54 1381.13,1280.56 1382.26,1296.01 1383.38,1313.31 1384.51,1333.13 1385.64,1356.63 1386.77,1386.19 1387.9,1428.39 1389.03,1591 \n",
       "  \n",
       "  \"/>\n",
       "<polyline clip-path=\"url(#clip2702)\" style=\"stroke:#ed5d92; stroke-width:8; stroke-opacity:1; fill:none\" points=\"\n",
       "  261.57,463.538 262.699,463.538 263.828,463.538 264.956,463.538 266.085,463.538 267.213,463.538 268.342,463.538 269.471,463.538 270.599,463.538 271.728,463.538 \n",
       "  272.856,463.538 273.985,463.538 275.113,463.538 276.242,463.538 277.371,463.538 278.499,463.538 279.628,463.538 280.756,463.538 281.885,463.538 283.014,463.538 \n",
       "  284.142,463.538 285.271,463.538 286.399,463.538 287.528,463.538 288.657,463.538 289.785,463.538 290.914,463.538 292.042,463.538 293.171,463.538 294.299,463.538 \n",
       "  295.428,463.538 296.557,463.538 297.685,463.538 298.814,463.538 299.942,463.538 301.071,463.538 302.2,463.538 303.328,463.538 304.457,463.538 305.585,463.538 \n",
       "  306.714,463.538 307.842,463.538 308.971,463.538 310.1,463.538 311.228,463.538 312.357,463.538 313.485,463.538 314.614,463.538 315.743,463.538 316.871,463.538 \n",
       "  318,463.538 319.128,463.538 320.257,463.538 321.385,463.538 322.514,463.538 323.643,463.538 324.771,463.538 325.9,463.538 327.028,463.538 328.157,463.538 \n",
       "  329.286,463.538 330.414,463.538 331.543,463.538 332.671,463.538 333.8,463.538 334.929,463.538 336.057,463.538 337.186,463.538 338.314,463.538 339.443,463.538 \n",
       "  340.571,463.538 341.7,463.538 342.829,463.538 343.957,463.538 345.086,463.538 346.214,463.538 347.343,463.538 348.472,463.538 349.6,463.538 350.729,463.538 \n",
       "  351.857,463.538 352.986,463.538 354.114,463.538 355.243,463.538 356.372,463.538 357.5,463.538 358.629,463.538 359.757,463.538 360.886,463.538 362.015,463.538 \n",
       "  363.143,463.538 364.272,463.538 365.4,463.538 366.529,463.538 367.658,463.538 368.786,463.538 369.915,463.538 371.043,463.538 372.172,463.538 373.3,463.538 \n",
       "  374.429,463.538 375.558,463.538 376.686,463.538 377.815,463.538 378.943,463.538 380.072,463.538 381.201,463.538 382.329,463.538 383.458,463.538 384.586,463.538 \n",
       "  385.715,463.538 386.843,463.538 387.972,463.538 389.101,463.538 390.229,463.538 391.358,463.538 392.486,463.538 393.615,463.538 394.744,463.538 395.872,463.538 \n",
       "  397.001,463.538 398.129,463.538 399.258,463.538 400.386,463.538 401.515,463.538 402.644,463.538 403.772,463.538 404.901,463.538 406.029,463.538 407.158,463.538 \n",
       "  408.287,463.538 409.415,463.538 410.544,463.538 411.672,463.538 412.801,463.538 413.93,463.538 415.058,463.538 416.187,463.538 417.315,463.538 418.444,463.538 \n",
       "  419.572,463.538 420.701,463.538 421.83,463.538 422.958,463.538 424.087,463.538 425.215,463.538 426.344,463.538 427.473,463.538 428.601,463.538 429.73,463.538 \n",
       "  430.858,463.538 431.987,463.538 433.115,463.538 434.244,463.538 435.373,463.538 436.501,463.538 437.63,463.538 438.758,463.538 439.887,463.538 441.016,463.538 \n",
       "  442.144,463.538 443.273,463.538 444.401,463.538 445.53,463.538 446.658,463.538 447.787,463.538 448.916,463.538 450.044,463.538 451.173,463.538 452.301,463.538 \n",
       "  453.43,463.538 454.559,463.538 455.687,463.538 456.816,463.538 457.944,463.538 459.073,463.538 460.202,463.538 461.33,463.538 462.459,463.538 463.587,463.538 \n",
       "  464.716,463.538 465.844,463.538 466.973,463.538 468.102,463.538 469.23,463.538 470.359,463.538 471.487,463.538 472.616,463.538 473.745,463.538 474.873,463.538 \n",
       "  476.002,463.538 477.13,463.538 478.259,463.538 479.387,463.538 480.516,463.538 481.645,463.538 482.773,463.538 483.902,463.538 485.03,463.538 486.159,463.538 \n",
       "  487.288,463.538 488.416,463.538 489.545,463.538 490.673,463.538 491.802,463.538 492.931,463.538 494.059,463.538 495.188,463.538 496.316,463.538 497.445,463.538 \n",
       "  498.573,463.538 499.702,463.538 500.831,463.538 501.959,463.538 503.088,463.538 504.216,463.538 505.345,463.538 506.474,463.538 507.602,463.538 508.731,463.538 \n",
       "  509.859,463.538 510.988,463.538 512.116,463.538 513.245,463.538 514.374,463.538 515.502,463.538 516.631,463.538 517.759,463.538 518.888,463.538 520.017,463.538 \n",
       "  521.145,463.538 522.274,463.538 523.402,463.538 524.531,463.538 525.659,463.538 526.788,463.538 527.917,463.538 529.045,463.538 530.174,463.538 531.302,463.538 \n",
       "  532.431,463.538 533.56,463.538 534.688,463.538 535.817,463.538 536.945,463.538 538.074,463.538 539.203,463.538 540.331,463.538 541.46,463.538 542.588,463.538 \n",
       "  543.717,463.538 544.845,463.538 545.974,463.538 547.103,463.538 548.231,463.538 549.36,463.538 550.488,463.538 551.617,463.538 552.746,463.538 553.874,463.538 \n",
       "  555.003,463.538 556.131,463.538 557.26,463.538 558.388,463.538 559.517,463.538 560.646,463.538 561.774,463.538 562.903,463.538 564.031,463.538 565.16,463.538 \n",
       "  566.289,463.538 567.417,463.538 568.546,463.538 569.674,463.538 570.803,463.538 571.931,463.538 573.06,463.538 574.189,463.538 575.317,463.538 576.446,463.538 \n",
       "  577.574,463.538 578.703,463.538 579.832,463.538 580.96,463.538 582.089,463.538 583.217,463.538 584.346,463.538 585.475,463.538 586.603,463.538 587.732,463.538 \n",
       "  588.86,463.538 589.989,463.538 591.117,463.538 592.246,463.538 593.375,463.538 594.503,463.538 595.632,463.538 596.76,463.538 597.889,463.538 599.018,463.538 \n",
       "  600.146,463.538 601.275,463.538 602.403,463.538 603.532,463.538 604.66,463.538 605.789,463.538 606.918,463.538 608.046,463.538 609.175,463.538 610.303,463.538 \n",
       "  611.432,463.538 612.561,463.538 613.689,463.538 614.818,463.538 615.946,463.538 617.075,463.538 618.203,463.538 619.332,463.538 620.461,463.538 621.589,463.538 \n",
       "  622.718,463.538 623.846,463.538 624.975,463.538 626.104,463.538 627.232,463.538 628.361,463.538 629.489,463.538 630.618,463.538 631.747,463.538 632.875,463.538 \n",
       "  634.004,463.538 635.132,463.538 636.261,463.538 637.389,463.538 638.518,463.538 639.647,463.538 640.775,463.538 641.904,463.538 643.032,463.538 644.161,463.538 \n",
       "  645.29,463.538 646.418,463.538 647.547,463.538 648.675,463.538 649.804,463.538 650.932,463.538 652.061,463.538 653.19,463.538 654.318,463.538 655.447,463.538 \n",
       "  656.575,463.538 657.704,463.538 658.833,463.538 659.961,463.538 661.09,463.538 662.218,463.538 663.347,463.538 664.476,463.538 665.604,463.538 666.733,463.538 \n",
       "  667.861,463.538 668.99,463.538 670.118,463.538 671.247,463.538 672.376,463.538 673.504,463.538 674.633,463.538 675.761,463.538 676.89,463.538 678.019,463.538 \n",
       "  679.147,463.538 680.276,463.538 681.404,463.538 682.533,463.538 683.661,463.538 684.79,463.538 685.919,463.538 687.047,463.538 688.176,463.538 689.304,463.538 \n",
       "  690.433,463.538 691.562,463.538 692.69,463.538 693.819,463.538 694.947,463.538 696.076,463.538 697.204,463.538 698.333,463.538 699.462,463.538 700.59,463.538 \n",
       "  701.719,463.538 702.847,463.538 703.976,463.538 705.105,463.538 706.233,463.538 707.362,463.538 708.49,463.538 709.619,463.538 710.748,463.538 711.876,463.538 \n",
       "  713.005,463.538 714.133,463.538 715.262,463.538 716.39,463.538 717.519,463.538 718.648,463.538 719.776,463.538 720.905,463.538 722.033,463.538 723.162,463.538 \n",
       "  724.291,463.538 725.419,463.538 726.548,463.538 727.676,463.538 728.805,463.538 729.933,463.538 731.062,463.538 732.191,463.538 733.319,463.538 734.448,463.538 \n",
       "  735.576,463.538 736.705,463.538 737.834,463.538 738.962,463.538 740.091,463.538 741.219,463.538 742.348,463.538 743.476,463.538 744.605,463.538 745.734,463.538 \n",
       "  746.862,463.538 747.991,463.538 749.119,463.538 750.248,463.538 751.377,463.538 752.505,463.538 753.634,463.538 754.762,463.538 755.891,463.538 757.02,463.538 \n",
       "  758.148,463.538 759.277,463.538 760.405,463.538 761.534,463.538 762.662,463.538 763.791,463.538 764.92,463.538 766.048,463.538 767.177,463.538 768.305,463.538 \n",
       "  769.434,463.538 770.563,463.538 771.691,463.538 772.82,463.538 773.948,463.538 775.077,463.538 776.205,463.538 777.334,463.538 778.463,463.538 779.591,463.538 \n",
       "  780.72,463.538 781.848,463.538 782.977,463.538 784.106,463.538 785.234,463.538 786.363,463.538 787.491,463.538 788.62,463.538 789.748,463.538 790.877,463.538 \n",
       "  792.006,463.538 793.134,463.538 794.263,463.538 795.391,463.538 796.52,463.538 797.649,463.538 798.777,463.538 799.906,463.538 801.034,463.538 802.163,463.538 \n",
       "  803.292,463.538 804.42,463.538 805.549,463.538 806.677,463.538 807.806,463.538 808.934,463.538 810.063,463.538 811.192,463.538 812.32,463.538 813.449,463.538 \n",
       "  814.577,463.538 815.706,463.538 816.835,463.538 817.963,463.538 819.092,463.538 820.22,463.538 821.349,463.538 822.477,463.538 823.606,463.538 824.735,463.538 \n",
       "  825.863,463.538 826.992,463.538 828.12,463.538 829.249,463.538 830.378,463.538 831.506,463.538 832.635,463.538 833.763,463.538 834.892,463.538 836.021,463.538 \n",
       "  837.149,463.538 838.278,463.538 839.406,463.538 840.535,463.538 841.663,463.538 842.792,463.538 843.921,463.538 845.049,463.538 846.178,463.538 847.306,463.538 \n",
       "  848.435,463.538 849.564,463.538 850.692,463.538 851.821,463.538 852.949,463.538 854.078,463.538 855.206,463.538 856.335,463.538 857.464,463.538 858.592,463.538 \n",
       "  859.721,463.538 860.849,463.538 861.978,463.538 863.107,463.538 864.235,463.538 865.364,463.538 866.492,463.538 867.621,463.538 868.749,463.538 869.878,463.538 \n",
       "  871.007,463.538 872.135,463.538 873.264,463.538 874.392,463.538 875.521,463.538 876.65,463.538 877.778,463.538 878.907,463.538 880.035,463.538 881.164,463.538 \n",
       "  882.293,463.538 883.421,463.538 884.55,463.538 885.678,463.538 886.807,463.538 887.935,463.538 889.064,463.538 890.193,463.538 891.321,463.538 892.45,463.538 \n",
       "  893.578,463.538 894.707,463.538 895.836,463.538 896.964,463.538 898.093,463.538 899.221,463.538 900.35,463.538 901.478,463.538 902.607,463.538 903.736,463.538 \n",
       "  904.864,463.538 905.993,463.538 907.121,463.538 908.25,463.538 909.379,463.538 910.507,463.538 911.636,463.538 912.764,463.538 913.893,463.538 915.021,463.538 \n",
       "  916.15,463.538 917.279,463.538 918.407,463.538 919.536,463.538 920.664,463.538 921.793,463.538 922.922,463.538 924.05,463.538 925.179,463.538 926.307,463.538 \n",
       "  927.436,463.538 928.565,463.538 929.693,463.538 930.822,463.538 931.95,463.538 933.079,463.538 934.207,463.538 935.336,463.538 936.465,463.538 937.593,463.538 \n",
       "  938.722,463.538 939.85,463.538 940.979,463.538 942.108,463.538 943.236,463.538 944.365,463.538 945.493,463.538 946.622,463.538 947.75,463.538 948.879,463.538 \n",
       "  950.008,463.538 951.136,463.538 952.265,463.538 953.393,463.538 954.522,463.538 955.651,463.538 956.779,463.538 957.908,463.538 959.036,463.538 960.165,463.538 \n",
       "  961.294,463.538 962.422,463.538 963.551,463.538 964.679,463.538 965.808,463.538 966.936,463.538 968.065,463.538 969.194,463.538 970.322,463.538 971.451,463.538 \n",
       "  972.579,463.538 973.708,463.538 974.837,463.538 975.965,463.538 977.094,463.538 978.222,463.538 979.351,463.538 980.479,463.538 981.608,463.538 982.737,463.538 \n",
       "  983.865,463.538 984.994,463.538 986.122,463.538 987.251,463.538 988.38,463.538 989.508,463.538 990.637,463.538 991.765,463.538 992.894,463.538 994.022,463.538 \n",
       "  995.151,463.538 996.28,463.538 997.408,463.538 998.537,463.538 999.665,463.538 1000.79,463.538 1001.92,463.538 1003.05,463.538 1004.18,463.538 1005.31,463.538 \n",
       "  1006.44,463.538 1007.57,463.538 1008.69,463.538 1009.82,463.538 1010.95,463.538 1012.08,463.538 1013.21,463.538 1014.34,463.538 1015.47,463.538 1016.59,463.538 \n",
       "  1017.72,463.538 1018.85,463.539 1019.98,463.539 1021.11,463.539 1022.24,463.539 1023.37,463.539 1024.49,463.539 1025.62,463.539 1026.75,463.539 1027.88,463.539 \n",
       "  1029.01,463.539 1030.14,463.539 1031.27,463.539 1032.39,463.539 1033.52,463.539 1034.65,463.539 1035.78,463.539 1036.91,463.539 1038.04,463.539 1039.17,463.539 \n",
       "  1040.29,463.539 1041.42,463.539 1042.55,463.539 1043.68,463.539 1044.81,463.539 1045.94,463.539 1047.07,463.539 1048.19,463.539 1049.32,463.539 1050.45,463.539 \n",
       "  1051.58,463.539 1052.71,463.539 1053.84,463.539 1054.97,463.539 1056.09,463.539 1057.22,463.539 1058.35,463.539 1059.48,463.539 1060.61,463.539 1061.74,463.54 \n",
       "  1062.87,463.54 1063.99,463.54 1065.12,463.54 1066.25,463.54 1067.38,463.54 1068.51,463.54 1069.64,463.54 1070.77,463.54 1071.89,463.54 1073.02,463.54 \n",
       "  1074.15,463.54 1075.28,463.54 1076.41,463.54 1077.54,463.541 1078.67,463.541 1079.79,463.541 1080.92,463.541 1082.05,463.541 1083.18,463.541 1084.31,463.541 \n",
       "  1085.44,463.541 1086.57,463.541 1087.7,463.542 1088.82,463.542 1089.95,463.542 1091.08,463.542 1092.21,463.542 1093.34,463.542 1094.47,463.543 1095.6,463.543 \n",
       "  1096.72,463.543 1097.85,463.543 1098.98,463.543 1100.11,463.543 1101.24,463.544 1102.37,463.544 1103.5,463.544 1104.62,463.544 1105.75,463.545 1106.88,463.545 \n",
       "  1108.01,463.545 1109.14,463.545 1110.27,463.546 1111.4,463.546 1112.52,463.546 1113.65,463.547 1114.78,463.547 1115.91,463.547 1117.04,463.548 1118.17,463.548 \n",
       "  1119.3,463.549 1120.42,463.549 1121.55,463.549 1122.68,463.55 1123.81,463.55 1124.94,463.551 1126.07,463.551 1127.2,463.552 1128.32,463.552 1129.45,463.553 \n",
       "  1130.58,463.553 1131.71,463.554 1132.84,463.555 1133.97,463.555 1135.1,463.556 1136.22,463.557 1137.35,463.557 1138.48,463.558 1139.61,463.559 1140.74,463.56 \n",
       "  1141.87,463.561 1143,463.562 1144.12,463.562 1145.25,463.563 1146.38,463.564 1147.51,463.565 1148.64,463.567 1149.77,463.568 1150.9,463.569 1152.02,463.57 \n",
       "  1153.15,463.571 1154.28,463.572 1155.41,463.574 1156.54,463.575 1157.67,463.577 1158.8,463.578 1159.92,463.58 1161.05,463.581 1162.18,463.583 1163.31,463.584 \n",
       "  1164.44,463.586 1165.57,463.588 1166.7,463.59 1167.82,463.592 1168.95,463.594 1170.08,463.596 1171.21,463.598 1172.34,463.601 1173.47,463.603 1174.6,463.605 \n",
       "  1175.72,463.608 1176.85,463.611 1177.98,463.613 1179.11,463.616 1180.24,463.619 1181.37,463.622 1182.5,463.625 1183.62,463.628 1184.75,463.632 1185.88,463.635 \n",
       "  1187.01,463.639 1188.14,463.643 1189.27,463.647 1190.4,463.651 1191.52,463.655 1192.65,463.659 1193.78,463.664 1194.91,463.668 1196.04,463.673 1197.17,463.678 \n",
       "  1198.3,463.683 1199.43,463.689 1200.55,463.694 1201.68,463.7 1202.81,463.706 1203.94,463.712 1205.07,463.718 1206.2,463.725 1207.33,463.732 1208.45,463.739 \n",
       "  1209.58,463.746 1210.71,463.754 1211.84,463.761 1212.97,463.77 1214.1,463.778 1215.23,463.787 1216.35,463.796 1217.48,463.805 1218.61,463.815 1219.74,463.825 \n",
       "  1220.87,463.835 1222,463.846 1223.13,463.857 1224.25,463.868 1225.38,463.88 1226.51,463.892 1227.64,463.905 1228.77,463.918 1229.9,463.932 1231.03,463.946 \n",
       "  1232.15,463.96 1233.28,463.975 1234.41,463.991 1235.54,464.007 1236.67,464.024 1237.8,464.041 1238.93,464.059 1240.05,464.077 1241.18,464.096 1242.31,464.116 \n",
       "  1243.44,464.137 1244.57,464.158 1245.7,464.18 1246.83,464.202 1247.95,464.226 1249.08,464.25 1250.21,464.275 1251.34,464.301 1252.47,464.328 1253.6,464.355 \n",
       "  1254.73,464.384 1255.85,464.414 1256.98,464.444 1258.11,464.476 1259.24,464.509 1260.37,464.543 1261.5,464.578 1262.63,464.614 1263.75,464.652 1264.88,464.69 \n",
       "  1266.01,464.73 1267.14,464.772 1268.27,464.815 1269.4,464.859 1270.53,464.905 1271.65,464.953 1272.78,465.002 1273.91,465.053 1275.04,465.105 1276.17,465.159 \n",
       "  1277.3,465.216 1278.43,465.274 1279.55,465.334 1280.68,465.396 1281.81,465.46 1282.94,465.527 1284.07,465.596 1285.2,465.667 1286.33,465.74 1287.45,465.817 \n",
       "  1288.58,465.895 1289.71,465.977 1290.84,466.061 1291.97,466.148 1293.1,466.239 1294.23,466.332 1295.35,466.429 1296.48,466.528 1297.61,466.632 1298.74,466.739 \n",
       "  1299.87,466.85 1301,466.965 1302.13,467.083 1303.25,467.206 1304.38,467.333 1305.51,467.465 1306.64,467.601 1307.77,467.743 1308.9,467.889 1310.03,468.04 \n",
       "  1311.16,468.197 1312.28,468.36 1313.41,468.528 1314.54,468.703 1315.67,468.884 1316.8,469.071 1317.93,469.265 1319.06,469.467 1320.18,469.676 1321.31,469.892 \n",
       "  1322.44,470.117 1323.57,470.35 1324.7,470.592 1325.83,470.843 1326.96,471.104 1328.08,471.374 1329.21,471.655 1330.34,471.947 1331.47,472.251 1332.6,472.566 \n",
       "  1333.73,472.894 1334.86,473.235 1335.98,473.589 1337.11,473.958 1338.24,474.343 1339.37,474.743 1340.5,475.159 1341.63,475.594 1342.76,476.047 1343.88,476.52 \n",
       "  1345.01,477.013 1346.14,477.528 1347.27,478.066 1348.4,478.629 1349.53,479.218 1350.66,479.834 1351.78,480.48 1352.91,481.156 1354.04,481.867 1355.17,482.613 \n",
       "  1356.3,483.397 1357.43,484.222 1358.56,485.091 1359.68,486.008 1360.81,486.976 1361.94,488 1363.07,489.084 1364.2,490.235 1365.33,491.457 1366.46,492.759 \n",
       "  1367.58,494.149 1368.71,495.636 1369.84,497.232 1370.97,498.949 1372.1,500.803 1373.23,502.813 1374.36,505.003 1375.48,507.4 1376.61,510.041 1377.74,512.972 \n",
       "  1378.87,516.252 1380,519.964 1381.13,524.221 1382.26,529.189 1383.38,535.123 1384.51,542.45 1385.64,551.962 1386.77,565.42 1387.9,588.362 1389.03,1591 \n",
       "  \n",
       "  \"/>\n",
       "<polygon clip-path=\"url(#clip2700)\" points=\"\n",
       "1517.45,781.407 1892.76,781.407 1892.76,297.567 1517.45,297.567 \n",
       "  \" fill=\"#ffffff\" fill-rule=\"evenodd\" fill-opacity=\"1\"/>\n",
       "<polyline clip-path=\"url(#clip2700)\" style=\"stroke:#000000; stroke-width:4; stroke-opacity:1; fill:none\" points=\"\n",
       "  1517.45,781.407 1892.76,781.407 1892.76,297.567 1517.45,297.567 1517.45,781.407 \n",
       "  \"/>\n",
       "<polyline clip-path=\"url(#clip2700)\" style=\"stroke:#009af9; stroke-width:8; stroke-opacity:1; fill:none\" points=\"\n",
       "  1537.45,358.047 1657.45,358.047 \n",
       "  \"/>\n",
       "<g clip-path=\"url(#clip2700)\">\n",
       "<text style=\"fill:#000000; fill-opacity:1; font-family:Arial,Helvetica Neue,Helvetica,sans-serif; font-size:48px; text-anchor:start;\" transform=\"rotate(0, 1677.45, 375.547)\" x=\"1677.45\" y=\"375.547\">p = 0.2</text>\n",
       "</g>\n",
       "<polyline clip-path=\"url(#clip2700)\" style=\"stroke:#e26f46; stroke-width:8; stroke-opacity:1; fill:none\" points=\"\n",
       "  1537.45,418.527 1657.45,418.527 \n",
       "  \"/>\n",
       "<g clip-path=\"url(#clip2700)\">\n",
       "<text style=\"fill:#000000; fill-opacity:1; font-family:Arial,Helvetica Neue,Helvetica,sans-serif; font-size:48px; text-anchor:start;\" transform=\"rotate(0, 1677.45, 436.027)\" x=\"1677.45\" y=\"436.027\">p = 0.4</text>\n",
       "</g>\n",
       "<polyline clip-path=\"url(#clip2700)\" style=\"stroke:#3da44d; stroke-width:8; stroke-opacity:1; fill:none\" points=\"\n",
       "  1537.45,479.007 1657.45,479.007 \n",
       "  \"/>\n",
       "<g clip-path=\"url(#clip2700)\">\n",
       "<text style=\"fill:#000000; fill-opacity:1; font-family:Arial,Helvetica Neue,Helvetica,sans-serif; font-size:48px; text-anchor:start;\" transform=\"rotate(0, 1677.45, 496.507)\" x=\"1677.45\" y=\"496.507\">p = 0.6</text>\n",
       "</g>\n",
       "<polyline clip-path=\"url(#clip2700)\" style=\"stroke:#c271d2; stroke-width:8; stroke-opacity:1; fill:none\" points=\"\n",
       "  1537.45,539.487 1657.45,539.487 \n",
       "  \"/>\n",
       "<g clip-path=\"url(#clip2700)\">\n",
       "<text style=\"fill:#000000; fill-opacity:1; font-family:Arial,Helvetica Neue,Helvetica,sans-serif; font-size:48px; text-anchor:start;\" transform=\"rotate(0, 1677.45, 556.987)\" x=\"1677.45\" y=\"556.987\">p = 1.0</text>\n",
       "</g>\n",
       "<polyline clip-path=\"url(#clip2700)\" style=\"stroke:#ac8d18; stroke-width:8; stroke-opacity:1; fill:none\" points=\"\n",
       "  1537.45,599.967 1657.45,599.967 \n",
       "  \"/>\n",
       "<g clip-path=\"url(#clip2700)\">\n",
       "<text style=\"fill:#000000; fill-opacity:1; font-family:Arial,Helvetica Neue,Helvetica,sans-serif; font-size:48px; text-anchor:start;\" transform=\"rotate(0, 1677.45, 617.467)\" x=\"1677.45\" y=\"617.467\">p = 2.0</text>\n",
       "</g>\n",
       "<polyline clip-path=\"url(#clip2700)\" style=\"stroke:#00a9ad; stroke-width:8; stroke-opacity:1; fill:none\" points=\"\n",
       "  1537.45,660.447 1657.45,660.447 \n",
       "  \"/>\n",
       "<g clip-path=\"url(#clip2700)\">\n",
       "<text style=\"fill:#000000; fill-opacity:1; font-family:Arial,Helvetica Neue,Helvetica,sans-serif; font-size:48px; text-anchor:start;\" transform=\"rotate(0, 1677.45, 677.947)\" x=\"1677.45\" y=\"677.947\">p = 3.0</text>\n",
       "</g>\n",
       "<polyline clip-path=\"url(#clip2700)\" style=\"stroke:#ed5d92; stroke-width:8; stroke-opacity:1; fill:none\" points=\"\n",
       "  1537.45,720.927 1657.45,720.927 \n",
       "  \"/>\n",
       "<g clip-path=\"url(#clip2700)\">\n",
       "<text style=\"fill:#000000; fill-opacity:1; font-family:Arial,Helvetica Neue,Helvetica,sans-serif; font-size:48px; text-anchor:start;\" transform=\"rotate(0, 1677.45, 738.427)\" x=\"1677.45\" y=\"738.427\">p = 30.0</text>\n",
       "</g>\n",
       "</svg>\n"
      ]
     },
     "execution_count": 121,
     "metadata": {},
     "output_type": "execute_result"
    }
   ],
   "source": [
    "x = [i for i in LinRange(0,1,1000)];\n",
    "p3 = plot()\n",
    "\n",
    "for p = [0.2, 0.4, 0.6, 1, 2, 3, 30]\n",
    "    \n",
    "    y= (-(x.^p) .+ 1).^(1/p)\n",
    "    \n",
    "    plot!(p3, x, y, label = \"p = $p\")\n",
    "    \n",
    "end\n",
    "\n",
    "plot(p3, xlim=(0,1.5), ylim=(0,1.2), aspect_ratio=:equal, \n",
    "    size=(500,500),linewidth=2, xlabel=\"x\", ylabel=\"y\")"
   ]
  },
  {
   "cell_type": "markdown",
   "metadata": {},
   "source": [
    "In this problem you investigate how geometric concepts such as\n",
    "distance and angle can be applied to quantify similarity between text\n",
    "documents. You should have the files $\\texttt{wordVecArticles.txt}$,\n",
    "$\\texttt{wordVecTitles.txt}$, $\\texttt{wordVecWords.txt}$ and\n",
    "$\\texttt{wordVecV.txt}$ from the course website. The first two files\n",
    "each have ten lines. Each line in the first file consists of the text\n",
    "of one Wikipedia article.  The corresponding line of the second file\n",
    "is the title of the article. The last two files are described in detail below.\n",
    "\n",
    "Denote by $D$ the set of documents where the number of documents\n",
    "is $|D|$.  (In our dataset $|D| = 10$).  Let $W$\n",
    "denote the union of words in all articles, i.e., the lexicon of the\n",
    "set of documents.  We denote the cardinality of $W$ by $|W|$.\n",
    "Assume the lexicon is ordered \"lexiographically\" (e.g.,\n",
    "alphabetically) so that there is a one-to-one mapping from each word\n",
    "$w \\in W$ to an element of the index set $t \\in [|W|]$.\n",
    "Let $f_{\\rm term}(t, d)$ denote the number of times the word\n",
    "$w \\in W$ that is indexed as $t\\in[|W|]$ appears in the\n",
    "$d$th article where $d \\in [|D|]$.  Note that\n",
    "$\\sum_{t=1}^{|W|} f_{\\rm term}(t,d)$ is the number of words\n",
    "(the length) of the $d$th article.  We refer to $f_{\\rm term} (t, d)$\n",
    "as the \"term frequency\" (really \"term count\").\n",
    "\n",
    "A pre-computed $W$ set and pre-computed $f_{\\rm term}(t,d)$\n",
    "have been provided.\n",
    "The pre-processed data appears in the files\n",
    "$\\texttt{wordVecWords.txt}$ and $\\texttt{wordVecV.txt}$. The first\n",
    "file represents the set $W$ where elements of $W$ are listed\n",
    "line by line, for $1651$ lines, i.e., $|W| = 1651$. The file\n",
    "$\\texttt{wordVecV.txt}$ contains a matrix \n",
    "$\\texttt{V}$ of dimensions $1651 \\times 10$. The value in the $t$th\n",
    "row and $d$th column of this matrix is $f_{\\rm term}(t, d)$. Use the\n",
    "provided data in $\\texttt{V}$ to answer parts (a) to (d) of this\n",
    "problem."
   ]
  },
  {
   "cell_type": "markdown",
   "metadata": {},
   "source": [
    "(a)  Let the \n",
    "$|W|$-dimensional vectors $v_d$, $d \\in [|D|]$ be defined\n",
    "as $v_d = (f_{\\rm term}(1, d), f_{\\rm term}(2, d), \\dots, f_{\\rm\n",
    "term}(|W|, d))$.  Using $v_d$ to represent the $d$th document,\n",
    "which two articles are closest in Euclidean distance (smallest\n",
    "distance)?  Which two are closest in angle distance (smallest angle)?\n",
    "Are they the same pair, if not, what could be a reason for them being\n",
    "different? The functions ```norm``` and ```findmin```, could be useful.\n",
    "Recall that you can read the documentation for a function using ```?function```.\n",
    "You'll also need to compute pairwise distances. The Distances.jl package could be \n",
    "used (Google it). But you can also just do it by yourself, your code doesn't\n",
    "need to be efficient. "
   ]
  },
  {
   "cell_type": "markdown",
   "metadata": {},
   "source": [
    "Some code for loading the files has been written to start you off. "
   ]
  },
  {
   "cell_type": "code",
   "execution_count": 122,
   "metadata": {},
   "outputs": [
    {
     "data": {
      "text/plain": [
       "IOStream(<file wordVecTitles.txt>)"
      ]
     },
     "execution_count": 122,
     "metadata": {},
     "output_type": "execute_result"
    }
   ],
   "source": [
    "file = open(\"wordVecTitles.txt\")"
   ]
  },
  {
   "cell_type": "code",
   "execution_count": 123,
   "metadata": {},
   "outputs": [
    {
     "data": {
      "text/plain": [
       "10-element Array{String,1}:\n",
       " \"B. J. Cole\"                    \n",
       " \"Mary J. Blige\"                 \n",
       " \"Jessica Feshbach\"              \n",
       " \"Susie Au\"                      \n",
       " \"Geoff Brown (baseball)\"        \n",
       " \"John Holland (composer)\"       \n",
       " \"James Forder\"                  \n",
       " \"Public image of George W. Bush\"\n",
       " \"Barack Obama\"                  \n",
       " \"George W. Bush\"                "
      ]
     },
     "execution_count": 123,
     "metadata": {},
     "output_type": "execute_result"
    }
   ],
   "source": [
    "titles = readlines(file)"
   ]
  },
  {
   "cell_type": "code",
   "execution_count": 124,
   "metadata": {},
   "outputs": [],
   "source": [
    "close(file)"
   ]
  },
  {
   "cell_type": "code",
   "execution_count": 125,
   "metadata": {},
   "outputs": [],
   "source": [
    "file = open(\"wordVecWords.txt\")\n",
    "words = readlines(file)\n",
    "close(file)"
   ]
  },
  {
   "cell_type": "code",
   "execution_count": 126,
   "metadata": {},
   "outputs": [],
   "source": [
    "using DelimitedFiles"
   ]
  },
  {
   "cell_type": "code",
   "execution_count": 127,
   "metadata": {},
   "outputs": [
    {
     "data": {
      "text/plain": [
       "1651×10 Array{Float64,2}:\n",
       " 0.0  0.0  0.0  0.0  1.0  0.0  0.0  0.0  0.0  0.0\n",
       " 0.0  0.0  0.0  1.0  0.0  1.0  0.0  0.0  0.0  0.0\n",
       " 1.0  0.0  0.0  0.0  0.0  0.0  0.0  0.0  0.0  0.0\n",
       " 0.0  4.0  0.0  0.0  1.0  0.0  0.0  0.0  0.0  0.0\n",
       " 0.0  2.0  0.0  0.0  0.0  0.0  0.0  1.0  0.0  2.0\n",
       " 0.0  0.0  0.0  0.0  1.0  0.0  0.0  0.0  0.0  0.0\n",
       " 0.0  0.0  0.0  0.0  1.0  0.0  0.0  0.0  0.0  0.0\n",
       " 0.0  0.0  0.0  0.0  0.0  0.0  0.0  0.0  1.0  0.0\n",
       " 1.0  0.0  0.0  0.0  0.0  0.0  0.0  0.0  0.0  0.0\n",
       " 0.0  2.0  0.0  0.0  0.0  0.0  0.0  0.0  0.0  0.0\n",
       " 0.0  1.0  0.0  0.0  0.0  0.0  0.0  0.0  0.0  0.0\n",
       " 1.0  0.0  0.0  0.0  0.0  0.0  0.0  0.0  0.0  0.0\n",
       " 1.0  0.0  0.0  0.0  0.0  0.0  0.0  0.0  0.0  0.0\n",
       " ⋮                        ⋮                      \n",
       " 0.0  1.0  0.0  0.0  0.0  1.0  0.0  0.0  1.0  0.0\n",
       " 0.0  0.0  0.0  0.0  0.0  0.0  0.0  1.0  0.0  0.0\n",
       " 0.0  0.0  0.0  1.0  0.0  0.0  0.0  0.0  0.0  0.0\n",
       " 0.0  0.0  0.0  0.0  0.0  0.0  0.0  1.0  0.0  0.0\n",
       " 0.0  0.0  0.0  1.0  0.0  0.0  0.0  0.0  0.0  0.0\n",
       " 0.0  0.0  0.0  1.0  0.0  0.0  0.0  0.0  0.0  0.0\n",
       " 0.0  0.0  0.0  0.0  0.0  2.0  0.0  0.0  0.0  0.0\n",
       " 0.0  1.0  0.0  0.0  0.0  0.0  0.0  0.0  0.0  0.0\n",
       " 1.0  0.0  0.0  0.0  0.0  0.0  0.0  0.0  0.0  0.0\n",
       " 0.0  0.0  0.0  1.0  0.0  0.0  0.0  0.0  0.0  0.0\n",
       " 0.0  0.0  0.0  1.0  0.0  0.0  0.0  0.0  0.0  0.0\n",
       " 1.0  0.0  0.0  0.0  0.0  0.0  0.0  0.0  0.0  0.0"
      ]
     },
     "execution_count": 127,
     "metadata": {},
     "output_type": "execute_result"
    }
   ],
   "source": [
    "V = readdlm(\"wordVecV.txt\", ',', Float64, '\\n') # The entries of this are f_term(t,d)"
   ]
  },
  {
   "cell_type": "code",
   "execution_count": 143,
   "metadata": {},
   "outputs": [
    {
     "data": {
      "text/plain": [
       "ED_min (generic function with 1 method)"
      ]
     },
     "execution_count": 143,
     "metadata": {},
     "output_type": "execute_result"
    }
   ],
   "source": [
    "function ED_min(V)\n",
    "    lowest = Inf\n",
    "    a=0\n",
    "    b=0\n",
    "    for i in 1:10\n",
    "        for j in i+1:10\n",
    "            if i != j\n",
    "                ED = norm(V[:,i] - V[:,j])\n",
    "                if ED < lowest\n",
    "                    lowest = ED\n",
    "                    a = i\n",
    "                    b = j\n",
    "                end\n",
    "            end\n",
    "        end\n",
    "    end\n",
    "    return (a,b)\n",
    "end"
   ]
  },
  {
   "cell_type": "code",
   "execution_count": 144,
   "metadata": {},
   "outputs": [
    {
     "data": {
      "text/plain": [
       "(7, 8)"
      ]
     },
     "execution_count": 144,
     "metadata": {},
     "output_type": "execute_result"
    }
   ],
   "source": [
    "ED_min(V)"
   ]
  },
  {
   "cell_type": "code",
   "execution_count": 155,
   "metadata": {},
   "outputs": [
    {
     "data": {
      "text/plain": [
       "ang_min (generic function with 1 method)"
      ]
     },
     "execution_count": 155,
     "metadata": {},
     "output_type": "execute_result"
    }
   ],
   "source": [
    "function ang_min(V)\n",
    "    lowest = Inf\n",
    "    a=0\n",
    "    b=0\n",
    "    for i in 1:10\n",
    "        for j in i+1:10\n",
    "            if i != j\n",
    "                ang = 1-(transpose(V[:,i])V[:,j])/(norm(V[:,i])*norm(V[:,j]))\n",
    "                if  ang < lowest\n",
    "                    lowest = ang\n",
    "                    a = i\n",
    "                    b = j\n",
    "                end\n",
    "            end\n",
    "        end\n",
    "    end\n",
    "    return (a,b)\n",
    "end"
   ]
  },
  {
   "cell_type": "code",
   "execution_count": 156,
   "metadata": {},
   "outputs": [
    {
     "data": {
      "text/plain": [
       "(9, 10)"
      ]
     },
     "execution_count": 156,
     "metadata": {},
     "output_type": "execute_result"
    }
   ],
   "source": [
    "ang_min(V)"
   ]
  },
  {
   "cell_type": "markdown",
   "metadata": {},
   "source": [
    "Type your answers to (a) in the Markdown cell below this one:"
   ]
  },
  {
   "cell_type": "markdown",
   "metadata": {},
   "source": [
    "Answer: EuD min 7,8\n",
    "        cos min 9,10\n",
    "        \n",
    "They mightbe different becaues the euclidean distance is affected by article length"
   ]
  },
  {
   "cell_type": "markdown",
   "metadata": {},
   "source": [
    "(b) In this part let the \n",
    "$|W|$-dimensional normalized vectors $\\tilde{v}_d$, $d \\in\n",
    "[|D|]$ be defined as $\\tilde{v}_d = v_d / \\sum_{t=1}^{|\n",
    "W|} f_{\\rm term}(t,d)$, where the $v_d$ are defined as in the\n",
    "previous part.  Using $\\tilde{v}_d$ to represent the $d$th document,\n",
    "which two articles are closest in Euclidean distance (smallest\n",
    "distance)?  Which two are closest in angle distance (smallest angle)?\n",
    "Are your answers the same as in the previous part?  What would be a\n",
    "reason for using this normalization?"
   ]
  },
  {
   "cell_type": "code",
   "execution_count": 186,
   "metadata": {},
   "outputs": [],
   "source": [
    "V_t = zeros(size(V))\n",
    "\n",
    "for i in 1:10\n",
    "    V_t[:,i] = V[:,i]./sum(V[:,i])\n",
    "end\n"
   ]
  },
  {
   "cell_type": "code",
   "execution_count": 187,
   "metadata": {},
   "outputs": [
    {
     "data": {
      "text/plain": [
       "(9, 10)"
      ]
     },
     "execution_count": 187,
     "metadata": {},
     "output_type": "execute_result"
    }
   ],
   "source": [
    "ED_min(V_t)"
   ]
  },
  {
   "cell_type": "code",
   "execution_count": 188,
   "metadata": {},
   "outputs": [
    {
     "data": {
      "text/plain": [
       "(9, 10)"
      ]
     },
     "execution_count": 188,
     "metadata": {},
     "output_type": "execute_result"
    }
   ],
   "source": [
    "ang_min(V_t)"
   ]
  },
  {
   "cell_type": "markdown",
   "metadata": {},
   "source": [
    "Type your answers to (b) in the Markdown cell below this one:"
   ]
  },
  {
   "cell_type": "markdown",
   "metadata": {},
   "source": [
    "Answer: EuD min 9,10\n",
    "\n",
    "        cos min 9,10\n",
    "        \n",
    "answers are different than before.\n",
    "Normalization might be used so that distance is less affected by article length"
   ]
  },
  {
   "cell_type": "markdown",
   "metadata": {},
   "source": [
    "Now, let $f_{\\rm doc}(t) = \\sum_{d=1}^{|D|} \\mathbb{I}[f_{\\rm\n",
    "term} (t, d) > 0]$ where $\\mathbb{I}(\\cdot)$ is the indicator function\n",
    "taking value one if the clause is true and zero else. The function\n",
    "$f_{\\rm doc}(t)$ counts in how many documents the $t$th word appears.\n",
    "We refer to $f_{\\rm doc}(t)$ as the document frequency.\n",
    "\n",
    "We combine the term and document frequency definitions into what is\n",
    "called the term frequency-inverse document frequency score\n",
    "(TF-IDF), defined as \n",
    "\\begin{equation*}\n",
    "w(t, d) = \\frac{f_{\\rm term}(t, d)}{\\sum_{t=1}^{|W|} f_{\\rm\n",
    "term}(t, d)}\\sqrt{\\log\\left(\\frac{|D| }{f_{\\rm doc}(t)}\\right)}.\n",
    "\\end{equation*}\n",
    "Note, the denominator of the $\\log$ is never zero since, by\n",
    "definition, each term appears in at least one document.\n",
    "\n",
    "(c) Now let the $|W|$-dimensional vectors $w_d$, $d \\in [|D|]$ be defined as $w_d = (w(1,d), w(2, d), \\ldots, w(|W|, d))$. Using $w_d$ to represent the $d$th document, which two articles are closest in Euclidean distance (smallest\n",
    "distance)? Which two are closest in angle distance (smallest angle)?\n",
    "\n",
    "(d) What might be a reason for using the \"inverse document frequency\" adjustment?  What is the adjustment doing geometrically?"
   ]
  },
  {
   "cell_type": "code",
   "execution_count": 238,
   "metadata": {},
   "outputs": [
    {
     "data": {
      "text/plain": [
       "(1651, 10)"
      ]
     },
     "execution_count": 238,
     "metadata": {},
     "output_type": "execute_result"
    }
   ],
   "source": [
    "#indicator = V .> 0\n",
    "#size(indicator)\n",
    "f_doc = zeros(size(V[:,1]))\n",
    "for i in 1:1651\n",
    "    f_doc[i] = sum(V[i,:].>0)\n",
    "end\n",
    "\n",
    "W = zeros(size(V))\n",
    "for i in 1:1651\n",
    "    for j in 1:10\n",
    "        denom = sum(V[:,j])\n",
    "        W[i,j] = V[i,j]/denom * (log(10 / f_doc[j])^0.5)\n",
    "    end\n",
    "end\n",
    "size(W)"
   ]
  },
  {
   "cell_type": "code",
   "execution_count": 239,
   "metadata": {},
   "outputs": [
    {
     "data": {
      "text/plain": [
       "(9, 10)"
      ]
     },
     "execution_count": 239,
     "metadata": {},
     "output_type": "execute_result"
    }
   ],
   "source": [
    "ED_min(W)"
   ]
  },
  {
   "cell_type": "code",
   "execution_count": 240,
   "metadata": {},
   "outputs": [
    {
     "data": {
      "text/plain": [
       "(9, 10)"
      ]
     },
     "execution_count": 240,
     "metadata": {},
     "output_type": "execute_result"
    }
   ],
   "source": [
    "ang_min(W)"
   ]
  },
  {
   "cell_type": "markdown",
   "metadata": {},
   "source": [
    "Type your answers to (c) and (d) in the Markdown cell below this one:"
   ]
  },
  {
   "cell_type": "markdown",
   "metadata": {},
   "source": [
    "(c) Answer: EuD min 9,10\n",
    "\n",
    "            cos min 9,10\n",
    "        \n",
    "(d) to show how much information a word gives, geometrically it is scaling the vector so that words unique to few documents are weighted more heavily"
   ]
  },
  {
   "cell_type": "markdown",
   "metadata": {},
   "source": [
    "OPTIONAL EXERCISE: (e) Write code to obtain $W$ and $f_{\\rm term}(t,d)$ (which we named ```V```) from the raw data files (articles and titles). Store the results in variables named ```myW``` and ```myV```"
   ]
  },
  {
   "cell_type": "code",
   "execution_count": null,
   "metadata": {},
   "outputs": [],
   "source": [
    "# Start here"
   ]
  },
  {
   "cell_type": "code",
   "execution_count": null,
   "metadata": {},
   "outputs": [],
   "source": [
    "@assert myV == V"
   ]
  },
  {
   "cell_type": "code",
   "execution_count": null,
   "metadata": {},
   "outputs": [],
   "source": [
    "@assert myW == words"
   ]
  }
 ],
 "metadata": {
  "kernelspec": {
   "display_name": "Julia 1.2.0",
   "language": "julia",
   "name": "julia-1.2"
  },
  "language_info": {
   "file_extension": ".jl",
   "mimetype": "application/julia",
   "name": "julia",
   "version": "1.2.0"
  }
 },
 "nbformat": 4,
 "nbformat_minor": 2
}
